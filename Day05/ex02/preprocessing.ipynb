{
  "nbformat": 4,
  "nbformat_minor": 0,
  "metadata": {
    "colab": {
      "name": "preprocessing.ipynb",
      "provenance": [],
      "collapsed_sections": []
    },
    "kernelspec": {
      "name": "python3",
      "display_name": "Python 3"
    },
    "accelerator": "GPU"
  },
  "cells": [
    {
      "cell_type": "code",
      "metadata": {
        "id": "SyiR5V_q00Nh",
        "colab_type": "code",
        "colab": {}
      },
      "source": [
        "!pip install -U -q PyDrive"
      ],
      "execution_count": 0,
      "outputs": []
    },
    {
      "cell_type": "code",
      "metadata": {
        "id": "8lgOC5a_1BAq",
        "colab_type": "code",
        "colab": {}
      },
      "source": [
        "import pandas as pd\n",
        "import numpy as np\n",
        "from pydrive.auth import GoogleAuth\n",
        "from pydrive.drive import GoogleDrive\n",
        "from google.colab import auth\n",
        "from oauth2client.client import GoogleCredentials"
      ],
      "execution_count": 0,
      "outputs": []
    },
    {
      "cell_type": "code",
      "metadata": {
        "id": "JfVoTTwL1DLC",
        "colab_type": "code",
        "colab": {}
      },
      "source": [
        "auth.authenticate_user()\n",
        "gauth = GoogleAuth()\n",
        "gauth.credentials = GoogleCredentials.get_application_default()\n",
        "drive = GoogleDrive(gauth)"
      ],
      "execution_count": 0,
      "outputs": []
    },
    {
      "cell_type": "code",
      "metadata": {
        "id": "544XsOfi1K9I",
        "colab_type": "code",
        "colab": {}
      },
      "source": [
        "!mkdir data"
      ],
      "execution_count": 0,
      "outputs": []
    },
    {
      "cell_type": "code",
      "metadata": {
        "id": "UGvXNXS51Mdm",
        "colab_type": "code",
        "colab": {}
      },
      "source": [
        "file_id = '1kFMUiXtrlw5B6WTjJ-mUm4-STV28Zsvn'\n",
        "downloaded = drive.CreateFile({'id': file_id})\n",
        "downloaded.GetContentFile('data/auto.csv')"
      ],
      "execution_count": 0,
      "outputs": []
    },
    {
      "cell_type": "code",
      "metadata": {
        "id": "u9IVv35H1X0b",
        "colab_type": "code",
        "colab": {}
      },
      "source": [
        "df = pd.read_csv('data/auto.csv', index_col='ID')"
      ],
      "execution_count": 0,
      "outputs": []
    },
    {
      "cell_type": "code",
      "metadata": {
        "id": "WmQHgmSr1l80",
        "colab_type": "code",
        "outputId": "5d1313e8-e8e1-40b3-8695-ba9600e06c3f",
        "colab": {
          "base_uri": "https://localhost:8080/",
          "height": 235
        }
      },
      "source": [
        "df.head()"
      ],
      "execution_count": 7,
      "outputs": [
        {
          "output_type": "execute_result",
          "data": {
            "text/html": [
              "<div>\n",
              "<style scoped>\n",
              "    .dataframe tbody tr th:only-of-type {\n",
              "        vertical-align: middle;\n",
              "    }\n",
              "\n",
              "    .dataframe tbody tr th {\n",
              "        vertical-align: top;\n",
              "    }\n",
              "\n",
              "    .dataframe thead th {\n",
              "        text-align: right;\n",
              "    }\n",
              "</style>\n",
              "<table border=\"1\" class=\"dataframe\">\n",
              "  <thead>\n",
              "    <tr style=\"text-align: right;\">\n",
              "      <th></th>\n",
              "      <th>CarNumber</th>\n",
              "      <th>Make_n_model</th>\n",
              "      <th>Refund</th>\n",
              "      <th>Fines</th>\n",
              "      <th>History</th>\n",
              "    </tr>\n",
              "    <tr>\n",
              "      <th>ID</th>\n",
              "      <th></th>\n",
              "      <th></th>\n",
              "      <th></th>\n",
              "      <th></th>\n",
              "      <th></th>\n",
              "    </tr>\n",
              "  </thead>\n",
              "  <tbody>\n",
              "    <tr>\n",
              "      <th>0</th>\n",
              "      <td>Y163O8161RUS</td>\n",
              "      <td>Ford Focus</td>\n",
              "      <td>2.0</td>\n",
              "      <td>3200.0</td>\n",
              "      <td>NaN</td>\n",
              "    </tr>\n",
              "    <tr>\n",
              "      <th>1</th>\n",
              "      <td>E432XX77RUS</td>\n",
              "      <td>Toyota Camry</td>\n",
              "      <td>1.0</td>\n",
              "      <td>6500.0</td>\n",
              "      <td>NaN</td>\n",
              "    </tr>\n",
              "    <tr>\n",
              "      <th>2</th>\n",
              "      <td>7184TT36RUS</td>\n",
              "      <td>Ford Focus</td>\n",
              "      <td>1.0</td>\n",
              "      <td>2100.0</td>\n",
              "      <td>NaN</td>\n",
              "    </tr>\n",
              "    <tr>\n",
              "      <th>3</th>\n",
              "      <td>X582HE161RUS</td>\n",
              "      <td>Ford Focus</td>\n",
              "      <td>2.0</td>\n",
              "      <td>2000.0</td>\n",
              "      <td>NaN</td>\n",
              "    </tr>\n",
              "    <tr>\n",
              "      <th>4</th>\n",
              "      <td>E34877152RUS</td>\n",
              "      <td>Ford Focus</td>\n",
              "      <td>2.0</td>\n",
              "      <td>6100.0</td>\n",
              "      <td>NaN</td>\n",
              "    </tr>\n",
              "  </tbody>\n",
              "</table>\n",
              "</div>"
            ],
            "text/plain": [
              "       CarNumber  Make_n_model  Refund   Fines  History\n",
              "ID                                                     \n",
              "0   Y163O8161RUS    Ford Focus     2.0  3200.0      NaN\n",
              "1    E432XX77RUS  Toyota Camry     1.0  6500.0      NaN\n",
              "2    7184TT36RUS    Ford Focus     1.0  2100.0      NaN\n",
              "3   X582HE161RUS    Ford Focus     2.0  2000.0      NaN\n",
              "4   E34877152RUS    Ford Focus     2.0  6100.0      NaN"
            ]
          },
          "metadata": {
            "tags": []
          },
          "execution_count": 7
        }
      ]
    },
    {
      "cell_type": "code",
      "metadata": {
        "id": "AEnUiLQE1p75",
        "colab_type": "code",
        "outputId": "38653a0a-2d49-418b-d610-e5315d8ff782",
        "colab": {
          "base_uri": "https://localhost:8080/",
          "height": 119
        }
      },
      "source": [
        "df.count()"
      ],
      "execution_count": 8,
      "outputs": [
        {
          "output_type": "execute_result",
          "data": {
            "text/plain": [
              "CarNumber       931\n",
              "Make_n_model    931\n",
              "Refund          914\n",
              "Fines           869\n",
              "History          82\n",
              "dtype: int64"
            ]
          },
          "metadata": {
            "tags": []
          },
          "execution_count": 8
        }
      ]
    },
    {
      "cell_type": "code",
      "metadata": {
        "id": "V08IEx7Z1E5V",
        "colab_type": "code",
        "colab": {}
      },
      "source": [
        "df = df.drop_duplicates(keep='last')"
      ],
      "execution_count": 0,
      "outputs": []
    },
    {
      "cell_type": "code",
      "metadata": {
        "id": "_sc-fRxU2ADB",
        "colab_type": "code",
        "outputId": "4006b184-a92a-4ea1-d3d4-c2b96142b399",
        "colab": {
          "base_uri": "https://localhost:8080/",
          "height": 119
        }
      },
      "source": [
        "df.count()"
      ],
      "execution_count": 10,
      "outputs": [
        {
          "output_type": "execute_result",
          "data": {
            "text/plain": [
              "CarNumber       825\n",
              "Make_n_model    825\n",
              "Refund          808\n",
              "Fines           764\n",
              "History          82\n",
              "dtype: int64"
            ]
          },
          "metadata": {
            "tags": []
          },
          "execution_count": 10
        }
      ]
    },
    {
      "cell_type": "code",
      "metadata": {
        "id": "-m0U64ee2rPE",
        "colab_type": "code",
        "outputId": "739d9d93-73a5-4a19-aa7f-972f0da31635",
        "colab": {
          "base_uri": "https://localhost:8080/",
          "height": 119
        }
      },
      "source": [
        "df.isnull().sum()"
      ],
      "execution_count": 11,
      "outputs": [
        {
          "output_type": "execute_result",
          "data": {
            "text/plain": [
              "CarNumber         0\n",
              "Make_n_model      0\n",
              "Refund           17\n",
              "Fines            61\n",
              "History         743\n",
              "dtype: int64"
            ]
          },
          "metadata": {
            "tags": []
          },
          "execution_count": 11
        }
      ]
    },
    {
      "cell_type": "code",
      "metadata": {
        "id": "UwpQvQBk2waa",
        "colab_type": "code",
        "colab": {}
      },
      "source": [
        "df = df.dropna(axis=1, thresh=500)"
      ],
      "execution_count": 0,
      "outputs": []
    },
    {
      "cell_type": "code",
      "metadata": {
        "id": "hU_qD5tc27KU",
        "colab_type": "code",
        "outputId": "bc7e1134-61d0-4287-840f-7903fda641ce",
        "colab": {
          "base_uri": "https://localhost:8080/",
          "height": 102
        }
      },
      "source": [
        "df.isnull().sum()"
      ],
      "execution_count": 13,
      "outputs": [
        {
          "output_type": "execute_result",
          "data": {
            "text/plain": [
              "CarNumber        0\n",
              "Make_n_model     0\n",
              "Refund          17\n",
              "Fines           61\n",
              "dtype: int64"
            ]
          },
          "metadata": {
            "tags": []
          },
          "execution_count": 13
        }
      ]
    },
    {
      "cell_type": "code",
      "metadata": {
        "id": "kR1T8V0-29kq",
        "colab_type": "code",
        "colab": {}
      },
      "source": [
        "df['Refund'] = df['Refund'].fillna(method='pad')"
      ],
      "execution_count": 0,
      "outputs": []
    },
    {
      "cell_type": "code",
      "metadata": {
        "id": "CLBNppf_3eeL",
        "colab_type": "code",
        "outputId": "f78dcfd9-f178-4836-fb34-3d9b8bcc43ab",
        "colab": {
          "base_uri": "https://localhost:8080/",
          "height": 102
        }
      },
      "source": [
        "df.isnull().sum()"
      ],
      "execution_count": 15,
      "outputs": [
        {
          "output_type": "execute_result",
          "data": {
            "text/plain": [
              "CarNumber        0\n",
              "Make_n_model     0\n",
              "Refund           0\n",
              "Fines           61\n",
              "dtype: int64"
            ]
          },
          "metadata": {
            "tags": []
          },
          "execution_count": 15
        }
      ]
    },
    {
      "cell_type": "code",
      "metadata": {
        "id": "dRmr4D7v3gMw",
        "colab_type": "code",
        "colab": {}
      },
      "source": [
        "mean_fine = df['Fines'].mean()\n",
        "df['Fines'] = df['Fines'].fillna(mean_fine)"
      ],
      "execution_count": 0,
      "outputs": []
    },
    {
      "cell_type": "code",
      "metadata": {
        "id": "BRU0f2HT3wzg",
        "colab_type": "code",
        "outputId": "4d52a5a7-ce2f-400e-cfb7-8ac79ace14c3",
        "colab": {
          "base_uri": "https://localhost:8080/",
          "height": 102
        }
      },
      "source": [
        "df.isnull().sum()"
      ],
      "execution_count": 17,
      "outputs": [
        {
          "output_type": "execute_result",
          "data": {
            "text/plain": [
              "CarNumber       0\n",
              "Make_n_model    0\n",
              "Refund          0\n",
              "Fines           0\n",
              "dtype: int64"
            ]
          },
          "metadata": {
            "tags": []
          },
          "execution_count": 17
        }
      ]
    },
    {
      "cell_type": "code",
      "metadata": {
        "id": "_6v1bMp037ex",
        "colab_type": "code",
        "colab": {}
      },
      "source": [
        "df['Make'] = df.apply(lambda row: row['Make_n_model'].split()[0], axis=1)\n",
        "df['Model'] = df.apply(lambda row: row['Make_n_model'].split()[1]\n",
        "                       if len(row['Make_n_model'].split()) > 1 else np.nan,\n",
        "                       axis=1)\n",
        "df = df.drop(labels=['Make_n_model'], axis=1)"
      ],
      "execution_count": 0,
      "outputs": []
    },
    {
      "cell_type": "code",
      "metadata": {
        "id": "Qot4oyva5l8g",
        "colab_type": "code",
        "outputId": "d388565b-11a1-4011-8dc9-3520c4d76a13",
        "colab": {
          "base_uri": "https://localhost:8080/",
          "height": 235
        }
      },
      "source": [
        "df.head()"
      ],
      "execution_count": 19,
      "outputs": [
        {
          "output_type": "execute_result",
          "data": {
            "text/html": [
              "<div>\n",
              "<style scoped>\n",
              "    .dataframe tbody tr th:only-of-type {\n",
              "        vertical-align: middle;\n",
              "    }\n",
              "\n",
              "    .dataframe tbody tr th {\n",
              "        vertical-align: top;\n",
              "    }\n",
              "\n",
              "    .dataframe thead th {\n",
              "        text-align: right;\n",
              "    }\n",
              "</style>\n",
              "<table border=\"1\" class=\"dataframe\">\n",
              "  <thead>\n",
              "    <tr style=\"text-align: right;\">\n",
              "      <th></th>\n",
              "      <th>CarNumber</th>\n",
              "      <th>Refund</th>\n",
              "      <th>Fines</th>\n",
              "      <th>Make</th>\n",
              "      <th>Model</th>\n",
              "    </tr>\n",
              "    <tr>\n",
              "      <th>ID</th>\n",
              "      <th></th>\n",
              "      <th></th>\n",
              "      <th></th>\n",
              "      <th></th>\n",
              "      <th></th>\n",
              "    </tr>\n",
              "  </thead>\n",
              "  <tbody>\n",
              "    <tr>\n",
              "      <th>0</th>\n",
              "      <td>Y163O8161RUS</td>\n",
              "      <td>2.0</td>\n",
              "      <td>3200.0</td>\n",
              "      <td>Ford</td>\n",
              "      <td>Focus</td>\n",
              "    </tr>\n",
              "    <tr>\n",
              "      <th>1</th>\n",
              "      <td>E432XX77RUS</td>\n",
              "      <td>1.0</td>\n",
              "      <td>6500.0</td>\n",
              "      <td>Toyota</td>\n",
              "      <td>Camry</td>\n",
              "    </tr>\n",
              "    <tr>\n",
              "      <th>2</th>\n",
              "      <td>7184TT36RUS</td>\n",
              "      <td>1.0</td>\n",
              "      <td>2100.0</td>\n",
              "      <td>Ford</td>\n",
              "      <td>Focus</td>\n",
              "    </tr>\n",
              "    <tr>\n",
              "      <th>3</th>\n",
              "      <td>X582HE161RUS</td>\n",
              "      <td>2.0</td>\n",
              "      <td>2000.0</td>\n",
              "      <td>Ford</td>\n",
              "      <td>Focus</td>\n",
              "    </tr>\n",
              "    <tr>\n",
              "      <th>5</th>\n",
              "      <td>92918M178RUS</td>\n",
              "      <td>1.0</td>\n",
              "      <td>5700.0</td>\n",
              "      <td>Ford</td>\n",
              "      <td>Focus</td>\n",
              "    </tr>\n",
              "  </tbody>\n",
              "</table>\n",
              "</div>"
            ],
            "text/plain": [
              "       CarNumber  Refund   Fines    Make  Model\n",
              "ID                                             \n",
              "0   Y163O8161RUS     2.0  3200.0    Ford  Focus\n",
              "1    E432XX77RUS     1.0  6500.0  Toyota  Camry\n",
              "2    7184TT36RUS     1.0  2100.0    Ford  Focus\n",
              "3   X582HE161RUS     2.0  2000.0    Ford  Focus\n",
              "5   92918M178RUS     1.0  5700.0    Ford  Focus"
            ]
          },
          "metadata": {
            "tags": []
          },
          "execution_count": 19
        }
      ]
    },
    {
      "cell_type": "code",
      "metadata": {
        "id": "pJQtGo-b5rsh",
        "colab_type": "code",
        "outputId": "e7ca7c52-f80d-4a8f-bb18-6cc79b97cad7",
        "colab": {
          "base_uri": "https://localhost:8080/",
          "height": 119
        }
      },
      "source": [
        "df.count()"
      ],
      "execution_count": 20,
      "outputs": [
        {
          "output_type": "execute_result",
          "data": {
            "text/plain": [
              "CarNumber    825\n",
              "Refund       825\n",
              "Fines        825\n",
              "Make         825\n",
              "Model        813\n",
              "dtype: int64"
            ]
          },
          "metadata": {
            "tags": []
          },
          "execution_count": 20
        }
      ]
    },
    {
      "cell_type": "code",
      "metadata": {
        "id": "uSwVmmGj6xwi",
        "colab_type": "code",
        "colab": {}
      },
      "source": [
        "df.to_json('data/auto.json', orient='records')"
      ],
      "execution_count": 0,
      "outputs": []
    },
    {
      "cell_type": "code",
      "metadata": {
        "id": "-DmKzPcZ3oNg",
        "colab_type": "code",
        "colab": {}
      },
      "source": [
        "uploaded = drive.CreateFile({'title': 'auto.json'})\n",
        "uploaded.SetContentFile('data/auto.json')\n",
        "uploaded.Upload()"
      ],
      "execution_count": 0,
      "outputs": []
    },
    {
      "cell_type": "code",
      "metadata": {
        "id": "uxRMEiPTNTX1",
        "colab_type": "code",
        "colab": {}
      },
      "source": [
        ""
      ],
      "execution_count": 0,
      "outputs": []
    }
  ]
}