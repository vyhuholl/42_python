{
  "nbformat": 4,
  "nbformat_minor": 0,
  "metadata": {
    "colab": {
      "name": "basic_operations.ipynb",
      "provenance": [],
      "collapsed_sections": []
    },
    "kernelspec": {
      "name": "python3",
      "display_name": "Python 3"
    },
    "accelerator": "GPU"
  },
  "cells": [
    {
      "cell_type": "code",
      "metadata": {
        "id": "uI0uh9Xtwi6e",
        "colab_type": "code",
        "colab": {}
      },
      "source": [
        "!pip install -U -q PyDrive"
      ],
      "execution_count": 0,
      "outputs": []
    },
    {
      "cell_type": "code",
      "metadata": {
        "id": "WMnuceUovzfH",
        "colab_type": "code",
        "colab": {}
      },
      "source": [
        "import pandas as pd\n",
        "from pydrive.auth import GoogleAuth\n",
        "from pydrive.drive import GoogleDrive\n",
        "from google.colab import auth\n",
        "from oauth2client.client import GoogleCredentials"
      ],
      "execution_count": 0,
      "outputs": []
    },
    {
      "cell_type": "code",
      "metadata": {
        "id": "WlxGO-cOxVhZ",
        "colab_type": "code",
        "colab": {}
      },
      "source": [
        "auth.authenticate_user()\n",
        "gauth = GoogleAuth()\n",
        "gauth.credentials = GoogleCredentials.get_application_default()\n",
        "drive = GoogleDrive(gauth)"
      ],
      "execution_count": 0,
      "outputs": []
    },
    {
      "cell_type": "code",
      "metadata": {
        "id": "PuBqjkROxoeg",
        "colab_type": "code",
        "colab": {}
      },
      "source": [
        "!mkdir data"
      ],
      "execution_count": 0,
      "outputs": []
    },
    {
      "cell_type": "code",
      "metadata": {
        "id": "NYwkak8jxjAW",
        "colab_type": "code",
        "colab": {}
      },
      "source": [
        "file_id = '1kgByP3EZHL8xAm-oGaBpf0-fPdVIYRaY'\n",
        "downloaded = drive.CreateFile({'id': file_id})\n",
        "downloaded.GetContentFile('data/feed-views.log')"
      ],
      "execution_count": 0,
      "outputs": []
    },
    {
      "cell_type": "code",
      "metadata": {
        "id": "5xMHREVzVhqd",
        "colab_type": "code",
        "colab": {}
      },
      "source": [
        "views = pd.read_csv('data/feed-views.log', sep='\\t', header=None,\n",
        "                    names=['datetime', 'user'], index_col='user')"
      ],
      "execution_count": 0,
      "outputs": []
    },
    {
      "cell_type": "code",
      "metadata": {
        "id": "qcbpfwlvWWd8",
        "colab_type": "code",
        "colab": {}
      },
      "source": [
        "views['datetime'] = pd.to_datetime(views['datetime'])"
      ],
      "execution_count": 0,
      "outputs": []
    },
    {
      "cell_type": "code",
      "metadata": {
        "id": "eT-uEDYqXXk5",
        "colab_type": "code",
        "colab": {}
      },
      "source": [
        "cols = ['year', 'month', 'day', 'hour', 'min', 'sec']\n",
        "\n",
        "for i in range(len(cols)):\n",
        "    views[cols[i]] = views.apply(lambda row: row['datetime'].timetuple()[i],\n",
        "                                 axis=1)"
      ],
      "execution_count": 0,
      "outputs": []
    },
    {
      "cell_type": "code",
      "metadata": {
        "id": "7eVP3kqlzd3L",
        "colab_type": "code",
        "colab": {}
      },
      "source": [
        "labels = ['night', 'early morning', 'morning',\n",
        "          'afternoon', 'early evening', 'evening']\n",
        "\n",
        "views['daytime'] = pd.cut(views.hour, [0, 4, 7, 11, 17, 20, 24], labels=labels,\n",
        "                          right=False, include_lowest=True)"
      ],
      "execution_count": 0,
      "outputs": []
    },
    {
      "cell_type": "code",
      "metadata": {
        "id": "JsrdvIq0V_EX",
        "colab_type": "code",
        "outputId": "36a9a895-ca86-44e1-9cbe-bc68b92bcb01",
        "colab": {
          "base_uri": "https://localhost:8080/",
          "height": 235
        }
      },
      "source": [
        "views.head()"
      ],
      "execution_count": 10,
      "outputs": [
        {
          "output_type": "execute_result",
          "data": {
            "text/html": [
              "<div>\n",
              "<style scoped>\n",
              "    .dataframe tbody tr th:only-of-type {\n",
              "        vertical-align: middle;\n",
              "    }\n",
              "\n",
              "    .dataframe tbody tr th {\n",
              "        vertical-align: top;\n",
              "    }\n",
              "\n",
              "    .dataframe thead th {\n",
              "        text-align: right;\n",
              "    }\n",
              "</style>\n",
              "<table border=\"1\" class=\"dataframe\">\n",
              "  <thead>\n",
              "    <tr style=\"text-align: right;\">\n",
              "      <th></th>\n",
              "      <th>datetime</th>\n",
              "      <th>year</th>\n",
              "      <th>month</th>\n",
              "      <th>day</th>\n",
              "      <th>hour</th>\n",
              "      <th>min</th>\n",
              "      <th>sec</th>\n",
              "      <th>daytime</th>\n",
              "    </tr>\n",
              "    <tr>\n",
              "      <th>user</th>\n",
              "      <th></th>\n",
              "      <th></th>\n",
              "      <th></th>\n",
              "      <th></th>\n",
              "      <th></th>\n",
              "      <th></th>\n",
              "      <th></th>\n",
              "      <th></th>\n",
              "    </tr>\n",
              "  </thead>\n",
              "  <tbody>\n",
              "    <tr>\n",
              "      <th>artem</th>\n",
              "      <td>2020-04-17 12:01:08.463179</td>\n",
              "      <td>2020</td>\n",
              "      <td>4</td>\n",
              "      <td>17</td>\n",
              "      <td>12</td>\n",
              "      <td>1</td>\n",
              "      <td>8</td>\n",
              "      <td>afternoon</td>\n",
              "    </tr>\n",
              "    <tr>\n",
              "      <th>artem</th>\n",
              "      <td>2020-04-17 12:01:23.743946</td>\n",
              "      <td>2020</td>\n",
              "      <td>4</td>\n",
              "      <td>17</td>\n",
              "      <td>12</td>\n",
              "      <td>1</td>\n",
              "      <td>23</td>\n",
              "      <td>afternoon</td>\n",
              "    </tr>\n",
              "    <tr>\n",
              "      <th>artem</th>\n",
              "      <td>2020-04-17 12:27:30.646665</td>\n",
              "      <td>2020</td>\n",
              "      <td>4</td>\n",
              "      <td>17</td>\n",
              "      <td>12</td>\n",
              "      <td>27</td>\n",
              "      <td>30</td>\n",
              "      <td>afternoon</td>\n",
              "    </tr>\n",
              "    <tr>\n",
              "      <th>artem</th>\n",
              "      <td>2020-04-17 12:35:44.884757</td>\n",
              "      <td>2020</td>\n",
              "      <td>4</td>\n",
              "      <td>17</td>\n",
              "      <td>12</td>\n",
              "      <td>35</td>\n",
              "      <td>44</td>\n",
              "      <td>afternoon</td>\n",
              "    </tr>\n",
              "    <tr>\n",
              "      <th>artem</th>\n",
              "      <td>2020-04-17 12:35:52.735016</td>\n",
              "      <td>2020</td>\n",
              "      <td>4</td>\n",
              "      <td>17</td>\n",
              "      <td>12</td>\n",
              "      <td>35</td>\n",
              "      <td>52</td>\n",
              "      <td>afternoon</td>\n",
              "    </tr>\n",
              "  </tbody>\n",
              "</table>\n",
              "</div>"
            ],
            "text/plain": [
              "                        datetime  year  month  day  hour  min  sec    daytime\n",
              "user                                                                         \n",
              "artem 2020-04-17 12:01:08.463179  2020      4   17    12    1    8  afternoon\n",
              "artem 2020-04-17 12:01:23.743946  2020      4   17    12    1   23  afternoon\n",
              "artem 2020-04-17 12:27:30.646665  2020      4   17    12   27   30  afternoon\n",
              "artem 2020-04-17 12:35:44.884757  2020      4   17    12   35   44  afternoon\n",
              "artem 2020-04-17 12:35:52.735016  2020      4   17    12   35   52  afternoon"
            ]
          },
          "metadata": {
            "tags": []
          },
          "execution_count": 10
        }
      ]
    },
    {
      "cell_type": "code",
      "metadata": {
        "id": "kD3yx4O89KvO",
        "colab_type": "code",
        "outputId": "a72c3919-623a-45fb-87f2-78154b5e4ee4",
        "colab": {
          "base_uri": "https://localhost:8080/",
          "height": 272
        }
      },
      "source": [
        "views.info()"
      ],
      "execution_count": 11,
      "outputs": [
        {
          "output_type": "stream",
          "text": [
            "<class 'pandas.core.frame.DataFrame'>\n",
            "Index: 1076 entries, artem to artem\n",
            "Data columns (total 8 columns):\n",
            " #   Column    Non-Null Count  Dtype         \n",
            "---  ------    --------------  -----         \n",
            " 0   datetime  1076 non-null   datetime64[ns]\n",
            " 1   year      1076 non-null   int64         \n",
            " 2   month     1076 non-null   int64         \n",
            " 3   day       1076 non-null   int64         \n",
            " 4   hour      1076 non-null   int64         \n",
            " 5   min       1076 non-null   int64         \n",
            " 6   sec       1076 non-null   int64         \n",
            " 7   daytime   1076 non-null   category      \n",
            "dtypes: category(1), datetime64[ns](1), int64(6)\n",
            "memory usage: 68.5+ KB\n"
          ],
          "name": "stdout"
        }
      ]
    },
    {
      "cell_type": "code",
      "metadata": {
        "id": "hKTBDbt3CLwt",
        "colab_type": "code",
        "outputId": "313973c9-1010-42f2-da3f-31fc6f3cad66",
        "colab": {
          "base_uri": "https://localhost:8080/",
          "height": 170
        }
      },
      "source": [
        "views.count()"
      ],
      "execution_count": 12,
      "outputs": [
        {
          "output_type": "execute_result",
          "data": {
            "text/plain": [
              "datetime    1076\n",
              "year        1076\n",
              "month       1076\n",
              "day         1076\n",
              "hour        1076\n",
              "min         1076\n",
              "sec         1076\n",
              "daytime     1076\n",
              "dtype: int64"
            ]
          },
          "metadata": {
            "tags": []
          },
          "execution_count": 12
        }
      ]
    },
    {
      "cell_type": "code",
      "metadata": {
        "id": "lxIB8K4oCRjU",
        "colab_type": "code",
        "outputId": "5276844b-ec2a-470d-a667-510d4ce689da",
        "colab": {
          "base_uri": "https://localhost:8080/",
          "height": 136
        }
      },
      "source": [
        "views.daytime.value_counts()"
      ],
      "execution_count": 13,
      "outputs": [
        {
          "output_type": "execute_result",
          "data": {
            "text/plain": [
              "evening          509\n",
              "afternoon        252\n",
              "early evening    145\n",
              "night            129\n",
              "morning           36\n",
              "early morning      5\n",
              "Name: daytime, dtype: int64"
            ]
          },
          "metadata": {
            "tags": []
          },
          "execution_count": 13
        }
      ]
    },
    {
      "cell_type": "code",
      "metadata": {
        "id": "8vMaC2lnCqB1",
        "colab_type": "code",
        "outputId": "a11bb72c-bc5e-4fb9-96fd-80ed598dfe8d",
        "colab": {
          "base_uri": "https://localhost:8080/",
          "height": 450
        }
      },
      "source": [
        "views.sort_values(by=['hour', 'min', 'sec'])"
      ],
      "execution_count": 14,
      "outputs": [
        {
          "output_type": "execute_result",
          "data": {
            "text/html": [
              "<div>\n",
              "<style scoped>\n",
              "    .dataframe tbody tr th:only-of-type {\n",
              "        vertical-align: middle;\n",
              "    }\n",
              "\n",
              "    .dataframe tbody tr th {\n",
              "        vertical-align: top;\n",
              "    }\n",
              "\n",
              "    .dataframe thead th {\n",
              "        text-align: right;\n",
              "    }\n",
              "</style>\n",
              "<table border=\"1\" class=\"dataframe\">\n",
              "  <thead>\n",
              "    <tr style=\"text-align: right;\">\n",
              "      <th></th>\n",
              "      <th>datetime</th>\n",
              "      <th>year</th>\n",
              "      <th>month</th>\n",
              "      <th>day</th>\n",
              "      <th>hour</th>\n",
              "      <th>min</th>\n",
              "      <th>sec</th>\n",
              "      <th>daytime</th>\n",
              "    </tr>\n",
              "    <tr>\n",
              "      <th>user</th>\n",
              "      <th></th>\n",
              "      <th></th>\n",
              "      <th></th>\n",
              "      <th></th>\n",
              "      <th></th>\n",
              "      <th></th>\n",
              "      <th></th>\n",
              "      <th></th>\n",
              "    </tr>\n",
              "  </thead>\n",
              "  <tbody>\n",
              "    <tr>\n",
              "      <th>valentina</th>\n",
              "      <td>2020-05-15 00:00:13.222265</td>\n",
              "      <td>2020</td>\n",
              "      <td>5</td>\n",
              "      <td>15</td>\n",
              "      <td>0</td>\n",
              "      <td>0</td>\n",
              "      <td>13</td>\n",
              "      <td>night</td>\n",
              "    </tr>\n",
              "    <tr>\n",
              "      <th>valentina</th>\n",
              "      <td>2020-05-15 00:01:05.153738</td>\n",
              "      <td>2020</td>\n",
              "      <td>5</td>\n",
              "      <td>15</td>\n",
              "      <td>0</td>\n",
              "      <td>1</td>\n",
              "      <td>5</td>\n",
              "      <td>night</td>\n",
              "    </tr>\n",
              "    <tr>\n",
              "      <th>pavel</th>\n",
              "      <td>2020-05-12 00:01:27.764025</td>\n",
              "      <td>2020</td>\n",
              "      <td>5</td>\n",
              "      <td>12</td>\n",
              "      <td>0</td>\n",
              "      <td>1</td>\n",
              "      <td>27</td>\n",
              "      <td>night</td>\n",
              "    </tr>\n",
              "    <tr>\n",
              "      <th>pavel</th>\n",
              "      <td>2020-05-12 00:01:38.444917</td>\n",
              "      <td>2020</td>\n",
              "      <td>5</td>\n",
              "      <td>12</td>\n",
              "      <td>0</td>\n",
              "      <td>1</td>\n",
              "      <td>38</td>\n",
              "      <td>night</td>\n",
              "    </tr>\n",
              "    <tr>\n",
              "      <th>pavel</th>\n",
              "      <td>2020-05-12 00:01:55.395042</td>\n",
              "      <td>2020</td>\n",
              "      <td>5</td>\n",
              "      <td>12</td>\n",
              "      <td>0</td>\n",
              "      <td>1</td>\n",
              "      <td>55</td>\n",
              "      <td>night</td>\n",
              "    </tr>\n",
              "    <tr>\n",
              "      <th>...</th>\n",
              "      <td>...</td>\n",
              "      <td>...</td>\n",
              "      <td>...</td>\n",
              "      <td>...</td>\n",
              "      <td>...</td>\n",
              "      <td>...</td>\n",
              "      <td>...</td>\n",
              "      <td>...</td>\n",
              "    </tr>\n",
              "    <tr>\n",
              "      <th>artem</th>\n",
              "      <td>2020-05-21 23:49:22.386789</td>\n",
              "      <td>2020</td>\n",
              "      <td>5</td>\n",
              "      <td>21</td>\n",
              "      <td>23</td>\n",
              "      <td>49</td>\n",
              "      <td>22</td>\n",
              "      <td>evening</td>\n",
              "    </tr>\n",
              "    <tr>\n",
              "      <th>anatoliy</th>\n",
              "      <td>2020-05-09 23:53:55.599821</td>\n",
              "      <td>2020</td>\n",
              "      <td>5</td>\n",
              "      <td>9</td>\n",
              "      <td>23</td>\n",
              "      <td>53</td>\n",
              "      <td>55</td>\n",
              "      <td>evening</td>\n",
              "    </tr>\n",
              "    <tr>\n",
              "      <th>pavel</th>\n",
              "      <td>2020-05-09 23:54:54.260791</td>\n",
              "      <td>2020</td>\n",
              "      <td>5</td>\n",
              "      <td>9</td>\n",
              "      <td>23</td>\n",
              "      <td>54</td>\n",
              "      <td>54</td>\n",
              "      <td>evening</td>\n",
              "    </tr>\n",
              "    <tr>\n",
              "      <th>valentina</th>\n",
              "      <td>2020-05-14 23:58:56.754866</td>\n",
              "      <td>2020</td>\n",
              "      <td>5</td>\n",
              "      <td>14</td>\n",
              "      <td>23</td>\n",
              "      <td>58</td>\n",
              "      <td>56</td>\n",
              "      <td>evening</td>\n",
              "    </tr>\n",
              "    <tr>\n",
              "      <th>alexander</th>\n",
              "      <td>2020-05-14 23:59:38.758438</td>\n",
              "      <td>2020</td>\n",
              "      <td>5</td>\n",
              "      <td>14</td>\n",
              "      <td>23</td>\n",
              "      <td>59</td>\n",
              "      <td>38</td>\n",
              "      <td>evening</td>\n",
              "    </tr>\n",
              "  </tbody>\n",
              "</table>\n",
              "<p>1076 rows × 8 columns</p>\n",
              "</div>"
            ],
            "text/plain": [
              "                            datetime  year  month  day  hour  min  sec  daytime\n",
              "user                                                                           \n",
              "valentina 2020-05-15 00:00:13.222265  2020      5   15     0    0   13    night\n",
              "valentina 2020-05-15 00:01:05.153738  2020      5   15     0    1    5    night\n",
              "pavel     2020-05-12 00:01:27.764025  2020      5   12     0    1   27    night\n",
              "pavel     2020-05-12 00:01:38.444917  2020      5   12     0    1   38    night\n",
              "pavel     2020-05-12 00:01:55.395042  2020      5   12     0    1   55    night\n",
              "...                              ...   ...    ...  ...   ...  ...  ...      ...\n",
              "artem     2020-05-21 23:49:22.386789  2020      5   21    23   49   22  evening\n",
              "anatoliy  2020-05-09 23:53:55.599821  2020      5    9    23   53   55  evening\n",
              "pavel     2020-05-09 23:54:54.260791  2020      5    9    23   54   54  evening\n",
              "valentina 2020-05-14 23:58:56.754866  2020      5   14    23   58   56  evening\n",
              "alexander 2020-05-14 23:59:38.758438  2020      5   14    23   59   38  evening\n",
              "\n",
              "[1076 rows x 8 columns]"
            ]
          },
          "metadata": {
            "tags": []
          },
          "execution_count": 14
        }
      ]
    },
    {
      "cell_type": "code",
      "metadata": {
        "id": "vW95OApsdaBv",
        "colab_type": "code",
        "outputId": "4203c3f4-c2e7-4d7b-861e-32f0ad1d3da8",
        "colab": {
          "base_uri": "https://localhost:8080/",
          "height": 34
        }
      },
      "source": [
        "max(views.loc[views.daytime == 'night'].hour)"
      ],
      "execution_count": 15,
      "outputs": [
        {
          "output_type": "execute_result",
          "data": {
            "text/plain": [
              "3"
            ]
          },
          "metadata": {
            "tags": []
          },
          "execution_count": 15
        }
      ]
    },
    {
      "cell_type": "code",
      "metadata": {
        "id": "qL4Wq-rcdjBC",
        "colab_type": "code",
        "outputId": "c589c862-ba7f-4035-e99e-7f1acb92d069",
        "colab": {
          "base_uri": "https://localhost:8080/",
          "height": 34
        }
      },
      "source": [
        "views.loc[views.daytime == 'night'].hour.idxmax()"
      ],
      "execution_count": 16,
      "outputs": [
        {
          "output_type": "execute_result",
          "data": {
            "text/plain": [
              "'konstantin'"
            ]
          },
          "metadata": {
            "tags": []
          },
          "execution_count": 16
        }
      ]
    },
    {
      "cell_type": "code",
      "metadata": {
        "id": "p4B4vXJEdgtW",
        "colab_type": "code",
        "outputId": "4d458f44-8ec0-4527-9323-d5589d466c25",
        "colab": {
          "base_uri": "https://localhost:8080/",
          "height": 34
        }
      },
      "source": [
        "min(views.loc[views.daytime == 'morning'].hour)"
      ],
      "execution_count": 17,
      "outputs": [
        {
          "output_type": "execute_result",
          "data": {
            "text/plain": [
              "8"
            ]
          },
          "metadata": {
            "tags": []
          },
          "execution_count": 17
        }
      ]
    },
    {
      "cell_type": "code",
      "metadata": {
        "id": "jIZb_KCLdp6q",
        "colab_type": "code",
        "outputId": "57bad225-1b1a-4a6e-96e6-0bb98500621c",
        "colab": {
          "base_uri": "https://localhost:8080/",
          "height": 34
        }
      },
      "source": [
        "views.loc[views.daytime == 'morning'].hour.idxmin()"
      ],
      "execution_count": 18,
      "outputs": [
        {
          "output_type": "execute_result",
          "data": {
            "text/plain": [
              "'alexander'"
            ]
          },
          "metadata": {
            "tags": []
          },
          "execution_count": 18
        }
      ]
    },
    {
      "cell_type": "code",
      "metadata": {
        "id": "S0AR_z5RdwaF",
        "colab_type": "code",
        "outputId": "89b152ee-8d9a-4f07-acb4-bac403e28ea8",
        "colab": {
          "base_uri": "https://localhost:8080/",
          "height": 51
        }
      },
      "source": [
        "views.hour.mode()"
      ],
      "execution_count": 19,
      "outputs": [
        {
          "output_type": "execute_result",
          "data": {
            "text/plain": [
              "0    22\n",
              "dtype: int64"
            ]
          },
          "metadata": {
            "tags": []
          },
          "execution_count": 19
        }
      ]
    },
    {
      "cell_type": "code",
      "metadata": {
        "id": "BVPMIS2zdpRl",
        "colab_type": "code",
        "outputId": "5e6039f2-5737-4255-87fe-cf0ff99b0c3c",
        "colab": {
          "base_uri": "https://localhost:8080/",
          "height": 68
        }
      },
      "source": [
        "views.daytime.mode()"
      ],
      "execution_count": 20,
      "outputs": [
        {
          "output_type": "execute_result",
          "data": {
            "text/plain": [
              "0    evening\n",
              "Name: daytime, dtype: category\n",
              "Categories (6, object): [night < early morning < morning < afternoon < early evening < evening]"
            ]
          },
          "metadata": {
            "tags": []
          },
          "execution_count": 20
        }
      ]
    },
    {
      "cell_type": "code",
      "metadata": {
        "id": "-OkbVsuhdxga",
        "colab_type": "code",
        "colab": {
          "base_uri": "https://localhost:8080/",
          "height": 173
        },
        "outputId": "141a1c9f-9163-4095-eea4-e929b1c42315"
      },
      "source": [
        "views.loc[views.daytime == 'morning'].nsmallest(3, 'hour')"
      ],
      "execution_count": 21,
      "outputs": [
        {
          "output_type": "execute_result",
          "data": {
            "text/html": [
              "<div>\n",
              "<style scoped>\n",
              "    .dataframe tbody tr th:only-of-type {\n",
              "        vertical-align: middle;\n",
              "    }\n",
              "\n",
              "    .dataframe tbody tr th {\n",
              "        vertical-align: top;\n",
              "    }\n",
              "\n",
              "    .dataframe thead th {\n",
              "        text-align: right;\n",
              "    }\n",
              "</style>\n",
              "<table border=\"1\" class=\"dataframe\">\n",
              "  <thead>\n",
              "    <tr style=\"text-align: right;\">\n",
              "      <th></th>\n",
              "      <th>datetime</th>\n",
              "      <th>year</th>\n",
              "      <th>month</th>\n",
              "      <th>day</th>\n",
              "      <th>hour</th>\n",
              "      <th>min</th>\n",
              "      <th>sec</th>\n",
              "      <th>daytime</th>\n",
              "    </tr>\n",
              "    <tr>\n",
              "      <th>user</th>\n",
              "      <th></th>\n",
              "      <th></th>\n",
              "      <th></th>\n",
              "      <th></th>\n",
              "      <th></th>\n",
              "      <th></th>\n",
              "      <th></th>\n",
              "      <th></th>\n",
              "    </tr>\n",
              "  </thead>\n",
              "  <tbody>\n",
              "    <tr>\n",
              "      <th>alexander</th>\n",
              "      <td>2020-05-15 08:16:03.918402</td>\n",
              "      <td>2020</td>\n",
              "      <td>5</td>\n",
              "      <td>15</td>\n",
              "      <td>8</td>\n",
              "      <td>16</td>\n",
              "      <td>3</td>\n",
              "      <td>morning</td>\n",
              "    </tr>\n",
              "    <tr>\n",
              "      <th>alexander</th>\n",
              "      <td>2020-05-15 08:35:01.471463</td>\n",
              "      <td>2020</td>\n",
              "      <td>5</td>\n",
              "      <td>15</td>\n",
              "      <td>8</td>\n",
              "      <td>35</td>\n",
              "      <td>1</td>\n",
              "      <td>morning</td>\n",
              "    </tr>\n",
              "    <tr>\n",
              "      <th>artem</th>\n",
              "      <td>2020-04-24 09:42:47.598208</td>\n",
              "      <td>2020</td>\n",
              "      <td>4</td>\n",
              "      <td>24</td>\n",
              "      <td>9</td>\n",
              "      <td>42</td>\n",
              "      <td>47</td>\n",
              "      <td>morning</td>\n",
              "    </tr>\n",
              "  </tbody>\n",
              "</table>\n",
              "</div>"
            ],
            "text/plain": [
              "                            datetime  year  month  day  hour  min  sec  daytime\n",
              "user                                                                           \n",
              "alexander 2020-05-15 08:16:03.918402  2020      5   15     8   16    3  morning\n",
              "alexander 2020-05-15 08:35:01.471463  2020      5   15     8   35    1  morning\n",
              "artem     2020-04-24 09:42:47.598208  2020      4   24     9   42   47  morning"
            ]
          },
          "metadata": {
            "tags": []
          },
          "execution_count": 21
        }
      ]
    },
    {
      "cell_type": "code",
      "metadata": {
        "id": "DWtNsaD4fAYb",
        "colab_type": "code",
        "colab": {
          "base_uri": "https://localhost:8080/",
          "height": 173
        },
        "outputId": "8c957f77-d8e0-4afe-c224-f7db4b0b2ee9"
      },
      "source": [
        "views.loc[views.daytime == 'morning'].nlargest(3, 'hour')"
      ],
      "execution_count": 22,
      "outputs": [
        {
          "output_type": "execute_result",
          "data": {
            "text/html": [
              "<div>\n",
              "<style scoped>\n",
              "    .dataframe tbody tr th:only-of-type {\n",
              "        vertical-align: middle;\n",
              "    }\n",
              "\n",
              "    .dataframe tbody tr th {\n",
              "        vertical-align: top;\n",
              "    }\n",
              "\n",
              "    .dataframe thead th {\n",
              "        text-align: right;\n",
              "    }\n",
              "</style>\n",
              "<table border=\"1\" class=\"dataframe\">\n",
              "  <thead>\n",
              "    <tr style=\"text-align: right;\">\n",
              "      <th></th>\n",
              "      <th>datetime</th>\n",
              "      <th>year</th>\n",
              "      <th>month</th>\n",
              "      <th>day</th>\n",
              "      <th>hour</th>\n",
              "      <th>min</th>\n",
              "      <th>sec</th>\n",
              "      <th>daytime</th>\n",
              "    </tr>\n",
              "    <tr>\n",
              "      <th>user</th>\n",
              "      <th></th>\n",
              "      <th></th>\n",
              "      <th></th>\n",
              "      <th></th>\n",
              "      <th></th>\n",
              "      <th></th>\n",
              "      <th></th>\n",
              "      <th></th>\n",
              "    </tr>\n",
              "  </thead>\n",
              "  <tbody>\n",
              "    <tr>\n",
              "      <th>konstantin</th>\n",
              "      <td>2020-04-18 10:53:52.623447</td>\n",
              "      <td>2020</td>\n",
              "      <td>4</td>\n",
              "      <td>18</td>\n",
              "      <td>10</td>\n",
              "      <td>53</td>\n",
              "      <td>52</td>\n",
              "      <td>morning</td>\n",
              "    </tr>\n",
              "    <tr>\n",
              "      <th>maxim</th>\n",
              "      <td>2020-04-18 10:56:55.833899</td>\n",
              "      <td>2020</td>\n",
              "      <td>4</td>\n",
              "      <td>18</td>\n",
              "      <td>10</td>\n",
              "      <td>56</td>\n",
              "      <td>55</td>\n",
              "      <td>morning</td>\n",
              "    </tr>\n",
              "    <tr>\n",
              "      <th>konstantin</th>\n",
              "      <td>2020-04-18 10:57:37.331258</td>\n",
              "      <td>2020</td>\n",
              "      <td>4</td>\n",
              "      <td>18</td>\n",
              "      <td>10</td>\n",
              "      <td>57</td>\n",
              "      <td>37</td>\n",
              "      <td>morning</td>\n",
              "    </tr>\n",
              "  </tbody>\n",
              "</table>\n",
              "</div>"
            ],
            "text/plain": [
              "                             datetime  year  month  ...  min  sec  daytime\n",
              "user                                                ...                   \n",
              "konstantin 2020-04-18 10:53:52.623447  2020      4  ...   53   52  morning\n",
              "maxim      2020-04-18 10:56:55.833899  2020      4  ...   56   55  morning\n",
              "konstantin 2020-04-18 10:57:37.331258  2020      4  ...   57   37  morning\n",
              "\n",
              "[3 rows x 8 columns]"
            ]
          },
          "metadata": {
            "tags": []
          },
          "execution_count": 22
        }
      ]
    },
    {
      "cell_type": "code",
      "metadata": {
        "id": "t_lFU_mHfEC_",
        "colab_type": "code",
        "colab": {
          "base_uri": "https://localhost:8080/",
          "height": 297
        },
        "outputId": "fbe72c92-fd6c-4769-cfb4-3b4dbbfba451"
      },
      "source": [
        "views.describe()"
      ],
      "execution_count": 23,
      "outputs": [
        {
          "output_type": "execute_result",
          "data": {
            "text/html": [
              "<div>\n",
              "<style scoped>\n",
              "    .dataframe tbody tr th:only-of-type {\n",
              "        vertical-align: middle;\n",
              "    }\n",
              "\n",
              "    .dataframe tbody tr th {\n",
              "        vertical-align: top;\n",
              "    }\n",
              "\n",
              "    .dataframe thead th {\n",
              "        text-align: right;\n",
              "    }\n",
              "</style>\n",
              "<table border=\"1\" class=\"dataframe\">\n",
              "  <thead>\n",
              "    <tr style=\"text-align: right;\">\n",
              "      <th></th>\n",
              "      <th>year</th>\n",
              "      <th>month</th>\n",
              "      <th>day</th>\n",
              "      <th>hour</th>\n",
              "      <th>min</th>\n",
              "      <th>sec</th>\n",
              "    </tr>\n",
              "  </thead>\n",
              "  <tbody>\n",
              "    <tr>\n",
              "      <th>count</th>\n",
              "      <td>1076.0</td>\n",
              "      <td>1076.000000</td>\n",
              "      <td>1076.000000</td>\n",
              "      <td>1076.000000</td>\n",
              "      <td>1076.000000</td>\n",
              "      <td>1076.000000</td>\n",
              "    </tr>\n",
              "    <tr>\n",
              "      <th>mean</th>\n",
              "      <td>2020.0</td>\n",
              "      <td>4.870818</td>\n",
              "      <td>13.552974</td>\n",
              "      <td>16.249071</td>\n",
              "      <td>29.629182</td>\n",
              "      <td>29.500929</td>\n",
              "    </tr>\n",
              "    <tr>\n",
              "      <th>std</th>\n",
              "      <td>0.0</td>\n",
              "      <td>0.335557</td>\n",
              "      <td>4.906567</td>\n",
              "      <td>6.955490</td>\n",
              "      <td>17.689388</td>\n",
              "      <td>17.405506</td>\n",
              "    </tr>\n",
              "    <tr>\n",
              "      <th>min</th>\n",
              "      <td>2020.0</td>\n",
              "      <td>4.000000</td>\n",
              "      <td>1.000000</td>\n",
              "      <td>0.000000</td>\n",
              "      <td>0.000000</td>\n",
              "      <td>0.000000</td>\n",
              "    </tr>\n",
              "    <tr>\n",
              "      <th>25%</th>\n",
              "      <td>2020.0</td>\n",
              "      <td>5.000000</td>\n",
              "      <td>11.000000</td>\n",
              "      <td>13.000000</td>\n",
              "      <td>14.000000</td>\n",
              "      <td>14.000000</td>\n",
              "    </tr>\n",
              "    <tr>\n",
              "      <th>50%</th>\n",
              "      <td>2020.0</td>\n",
              "      <td>5.000000</td>\n",
              "      <td>13.000000</td>\n",
              "      <td>19.000000</td>\n",
              "      <td>29.000000</td>\n",
              "      <td>30.000000</td>\n",
              "    </tr>\n",
              "    <tr>\n",
              "      <th>75%</th>\n",
              "      <td>2020.0</td>\n",
              "      <td>5.000000</td>\n",
              "      <td>15.000000</td>\n",
              "      <td>22.000000</td>\n",
              "      <td>46.000000</td>\n",
              "      <td>45.000000</td>\n",
              "    </tr>\n",
              "    <tr>\n",
              "      <th>max</th>\n",
              "      <td>2020.0</td>\n",
              "      <td>5.000000</td>\n",
              "      <td>30.000000</td>\n",
              "      <td>23.000000</td>\n",
              "      <td>59.000000</td>\n",
              "      <td>59.000000</td>\n",
              "    </tr>\n",
              "  </tbody>\n",
              "</table>\n",
              "</div>"
            ],
            "text/plain": [
              "         year        month          day         hour          min          sec\n",
              "count  1076.0  1076.000000  1076.000000  1076.000000  1076.000000  1076.000000\n",
              "mean   2020.0     4.870818    13.552974    16.249071    29.629182    29.500929\n",
              "std       0.0     0.335557     4.906567     6.955490    17.689388    17.405506\n",
              "min    2020.0     4.000000     1.000000     0.000000     0.000000     0.000000\n",
              "25%    2020.0     5.000000    11.000000    13.000000    14.000000    14.000000\n",
              "50%    2020.0     5.000000    13.000000    19.000000    29.000000    30.000000\n",
              "75%    2020.0     5.000000    15.000000    22.000000    46.000000    45.000000\n",
              "max    2020.0     5.000000    30.000000    23.000000    59.000000    59.000000"
            ]
          },
          "metadata": {
            "tags": []
          },
          "execution_count": 23
        }
      ]
    },
    {
      "cell_type": "code",
      "metadata": {
        "id": "qNWXfzHBe_Fq",
        "colab_type": "code",
        "colab": {
          "base_uri": "https://localhost:8080/",
          "height": 34
        },
        "outputId": "36af8eba-a85d-4471-c4fa-a24dedb764bf"
      },
      "source": [
        "iqr = views.describe()['hour']['75%'] - views.describe()['hour']['25%']\n",
        "iqr"
      ],
      "execution_count": 24,
      "outputs": [
        {
          "output_type": "execute_result",
          "data": {
            "text/plain": [
              "9.0"
            ]
          },
          "metadata": {
            "tags": []
          },
          "execution_count": 24
        }
      ]
    },
    {
      "cell_type": "code",
      "metadata": {
        "id": "cEhFwHuxfibJ",
        "colab_type": "code",
        "colab": {}
      },
      "source": [
        ""
      ],
      "execution_count": 0,
      "outputs": []
    }
  ]
}