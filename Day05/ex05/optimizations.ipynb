{
  "nbformat": 4,
  "nbformat_minor": 0,
  "metadata": {
    "colab": {
      "name": "optimizations.ipynb",
      "provenance": [],
      "collapsed_sections": []
    },
    "kernelspec": {
      "name": "python3",
      "display_name": "Python 3"
    },
    "accelerator": "GPU"
  },
  "cells": [
    {
      "cell_type": "code",
      "metadata": {
        "id": "SyiR5V_q00Nh",
        "colab_type": "code",
        "colab": {}
      },
      "source": [
        "!pip install -U -q PyDrive"
      ],
      "execution_count": 0,
      "outputs": []
    },
    {
      "cell_type": "code",
      "metadata": {
        "id": "8lgOC5a_1BAq",
        "colab_type": "code",
        "colab": {}
      },
      "source": [
        "import pandas as pd\n",
        "from pydrive.auth import GoogleAuth\n",
        "from pydrive.drive import GoogleDrive\n",
        "from google.colab import auth\n",
        "from oauth2client.client import GoogleCredentials"
      ],
      "execution_count": 0,
      "outputs": []
    },
    {
      "cell_type": "code",
      "metadata": {
        "id": "JfVoTTwL1DLC",
        "colab_type": "code",
        "colab": {}
      },
      "source": [
        "auth.authenticate_user()\n",
        "gauth = GoogleAuth()\n",
        "gauth.credentials = GoogleCredentials.get_application_default()\n",
        "drive = GoogleDrive(gauth)"
      ],
      "execution_count": 0,
      "outputs": []
    },
    {
      "cell_type": "code",
      "metadata": {
        "id": "544XsOfi1K9I",
        "colab_type": "code",
        "colab": {}
      },
      "source": [
        "!mkdir data"
      ],
      "execution_count": 0,
      "outputs": []
    },
    {
      "cell_type": "code",
      "metadata": {
        "id": "UGvXNXS51Mdm",
        "colab_type": "code",
        "colab": {}
      },
      "source": [
        "file_id = '1wWke5RAFoPXxoFYYzoWQBgqx_K8M_5RZ'\n",
        "downloaded = drive.CreateFile({'id': file_id})\n",
        "downloaded.GetContentFile('data/fines.csv')"
      ],
      "execution_count": 0,
      "outputs": []
    },
    {
      "cell_type": "code",
      "metadata": {
        "id": "0MXqGQTmUo6Z",
        "colab_type": "code",
        "colab": {}
      },
      "source": [
        "df = pd.read_csv('data/fines.csv')"
      ],
      "execution_count": 0,
      "outputs": []
    },
    {
      "cell_type": "code",
      "metadata": {
        "id": "jTeCyFR8UeJI",
        "colab_type": "code",
        "colab": {
          "base_uri": "https://localhost:8080/",
          "height": 204
        },
        "outputId": "b65b8825-add9-48e4-c04e-4a40e5218010"
      },
      "source": [
        "df.head()"
      ],
      "execution_count": 7,
      "outputs": [
        {
          "output_type": "execute_result",
          "data": {
            "text/html": [
              "<div>\n",
              "<style scoped>\n",
              "    .dataframe tbody tr th:only-of-type {\n",
              "        vertical-align: middle;\n",
              "    }\n",
              "\n",
              "    .dataframe tbody tr th {\n",
              "        vertical-align: top;\n",
              "    }\n",
              "\n",
              "    .dataframe thead th {\n",
              "        text-align: right;\n",
              "    }\n",
              "</style>\n",
              "<table border=\"1\" class=\"dataframe\">\n",
              "  <thead>\n",
              "    <tr style=\"text-align: right;\">\n",
              "      <th></th>\n",
              "      <th>CarNumber</th>\n",
              "      <th>Refund</th>\n",
              "      <th>Fines</th>\n",
              "      <th>Make</th>\n",
              "      <th>Model</th>\n",
              "      <th>Year</th>\n",
              "    </tr>\n",
              "  </thead>\n",
              "  <tbody>\n",
              "    <tr>\n",
              "      <th>0</th>\n",
              "      <td>Y163O8161RUS</td>\n",
              "      <td>2</td>\n",
              "      <td>3200.0</td>\n",
              "      <td>Ford</td>\n",
              "      <td>Focus</td>\n",
              "      <td>1983</td>\n",
              "    </tr>\n",
              "    <tr>\n",
              "      <th>1</th>\n",
              "      <td>E432XX77RUS</td>\n",
              "      <td>1</td>\n",
              "      <td>6500.0</td>\n",
              "      <td>Toyota</td>\n",
              "      <td>Camry</td>\n",
              "      <td>1996</td>\n",
              "    </tr>\n",
              "    <tr>\n",
              "      <th>2</th>\n",
              "      <td>7184TT36RUS</td>\n",
              "      <td>1</td>\n",
              "      <td>2100.0</td>\n",
              "      <td>Ford</td>\n",
              "      <td>Focus</td>\n",
              "      <td>1983</td>\n",
              "    </tr>\n",
              "    <tr>\n",
              "      <th>3</th>\n",
              "      <td>X582HE161RUS</td>\n",
              "      <td>2</td>\n",
              "      <td>2000.0</td>\n",
              "      <td>Ford</td>\n",
              "      <td>Focus</td>\n",
              "      <td>1997</td>\n",
              "    </tr>\n",
              "    <tr>\n",
              "      <th>4</th>\n",
              "      <td>92918M178RUS</td>\n",
              "      <td>1</td>\n",
              "      <td>5700.0</td>\n",
              "      <td>Ford</td>\n",
              "      <td>Focus</td>\n",
              "      <td>2007</td>\n",
              "    </tr>\n",
              "  </tbody>\n",
              "</table>\n",
              "</div>"
            ],
            "text/plain": [
              "      CarNumber  Refund   Fines    Make  Model  Year\n",
              "0  Y163O8161RUS       2  3200.0    Ford  Focus  1983\n",
              "1   E432XX77RUS       1  6500.0  Toyota  Camry  1996\n",
              "2   7184TT36RUS       1  2100.0    Ford  Focus  1983\n",
              "3  X582HE161RUS       2  2000.0    Ford  Focus  1997\n",
              "4  92918M178RUS       1  5700.0    Ford  Focus  2007"
            ]
          },
          "metadata": {
            "tags": []
          },
          "execution_count": 7
        }
      ]
    },
    {
      "cell_type": "code",
      "metadata": {
        "id": "m-2sFQ2aUs3j",
        "colab_type": "code",
        "colab": {
          "base_uri": "https://localhost:8080/",
          "height": 51
        },
        "outputId": "53eee7f1-4e49-44c2-a356-5456d1a64cc0"
      },
      "source": [
        "%%time\n",
        "new_col = []\n",
        "\n",
        "for i in range(0, len(df)):\n",
        "    new_col.append(\n",
        "        df.iloc[i]['Fines'] / (df.iloc[i]['Refund'] * df.iloc[i]['Year'])\n",
        "        )\n",
        "\n",
        "df['Fines / Refund * Year'] = new_col"
      ],
      "execution_count": 10,
      "outputs": [
        {
          "output_type": "stream",
          "text": [
            "CPU times: user 708 ms, sys: 883 µs, total: 709 ms\n",
            "Wall time: 709 ms\n"
          ],
          "name": "stdout"
        }
      ]
    },
    {
      "cell_type": "code",
      "metadata": {
        "id": "SewZiIOoWDIi",
        "colab_type": "code",
        "colab": {}
      },
      "source": [
        "del df['Fines / Refund * Year']"
      ],
      "execution_count": 0,
      "outputs": []
    },
    {
      "cell_type": "code",
      "metadata": {
        "id": "ggk2E2rdWHTL",
        "colab_type": "code",
        "colab": {
          "base_uri": "https://localhost:8080/",
          "height": 51
        },
        "outputId": "878bc987-c38b-4a6e-f487-9ca5515b223a"
      },
      "source": [
        "%%time\n",
        "new_col = []\n",
        "\n",
        "for index, row in df.iterrows():\n",
        "    new_col.append(row['Fines'] / (row['Refund'] * row['Year']))\n",
        "\n",
        "df['Fines / Refund * Year'] = new_col"
      ],
      "execution_count": 12,
      "outputs": [
        {
          "output_type": "stream",
          "text": [
            "CPU times: user 200 ms, sys: 0 ns, total: 200 ms\n",
            "Wall time: 201 ms\n"
          ],
          "name": "stdout"
        }
      ]
    },
    {
      "cell_type": "code",
      "metadata": {
        "id": "ylZQu0JmW2j7",
        "colab_type": "code",
        "colab": {}
      },
      "source": [
        "del df['Fines / Refund * Year']"
      ],
      "execution_count": 0,
      "outputs": []
    },
    {
      "cell_type": "code",
      "metadata": {
        "id": "aZTjFVQWW4S8",
        "colab_type": "code",
        "colab": {
          "base_uri": "https://localhost:8080/",
          "height": 51
        },
        "outputId": "4dffc4fd-432b-4b27-a2d6-6319b600b78c"
      },
      "source": [
        "%%time\n",
        "df['Fines / Refund * Year'] = df.apply(\n",
        "    lambda row: row['Fines'] / (row['Refund'] * row['Year']), axis=1\n",
        "    )"
      ],
      "execution_count": 14,
      "outputs": [
        {
          "output_type": "stream",
          "text": [
            "CPU times: user 52.9 ms, sys: 935 µs, total: 53.8 ms\n",
            "Wall time: 58.3 ms\n"
          ],
          "name": "stdout"
        }
      ]
    },
    {
      "cell_type": "code",
      "metadata": {
        "id": "TmbGUBKRXXc1",
        "colab_type": "code",
        "colab": {}
      },
      "source": [
        "del df['Fines / Refund * Year']"
      ],
      "execution_count": 0,
      "outputs": []
    },
    {
      "cell_type": "code",
      "metadata": {
        "id": "X7uIFkb3XLxL",
        "colab_type": "code",
        "colab": {
          "base_uri": "https://localhost:8080/",
          "height": 51
        },
        "outputId": "7fe3d0dd-963d-4e5b-c258-3a6d55f215e4"
      },
      "source": [
        "%%time\n",
        "df['Fines / Refund * Year'] = df['Fines'] / (df['Refund'] * df['Year'])"
      ],
      "execution_count": 16,
      "outputs": [
        {
          "output_type": "stream",
          "text": [
            "CPU times: user 8.64 ms, sys: 854 µs, total: 9.49 ms\n",
            "Wall time: 28.3 ms\n"
          ],
          "name": "stdout"
        }
      ]
    },
    {
      "cell_type": "code",
      "metadata": {
        "id": "RUkMfUY4XdmF",
        "colab_type": "code",
        "colab": {}
      },
      "source": [
        "del df['Fines / Refund * Year']"
      ],
      "execution_count": 0,
      "outputs": []
    },
    {
      "cell_type": "code",
      "metadata": {
        "id": "DbxTzALaXfRk",
        "colab_type": "code",
        "colab": {
          "base_uri": "https://localhost:8080/",
          "height": 51
        },
        "outputId": "9bea6763-db17-498e-d21b-f4854902ac1b"
      },
      "source": [
        "%%time\n",
        "df['Fines / Refund * Year'] = df['Fines'].values / (\n",
        "    df['Refund'].values * df['Year'].values\n",
        "    )"
      ],
      "execution_count": 18,
      "outputs": [
        {
          "output_type": "stream",
          "text": [
            "CPU times: user 2.34 ms, sys: 0 ns, total: 2.34 ms\n",
            "Wall time: 2.06 ms\n"
          ],
          "name": "stdout"
        }
      ]
    },
    {
      "cell_type": "code",
      "metadata": {
        "id": "FljhsJb2XsVv",
        "colab_type": "code",
        "colab": {}
      },
      "source": [
        "del df['Fines / Refund * Year']"
      ],
      "execution_count": 0,
      "outputs": []
    },
    {
      "cell_type": "code",
      "metadata": {
        "id": "2tJjFwf1X2GO",
        "colab_type": "code",
        "colab": {
          "base_uri": "https://localhost:8080/",
          "height": 176
        },
        "outputId": "fdada663-aada-4a96-a1ca-142b9d919165"
      },
      "source": [
        "%%time\n",
        "df.loc[df['CarNumber'] == '92918M178RUS']"
      ],
      "execution_count": 22,
      "outputs": [
        {
          "output_type": "stream",
          "text": [
            "CPU times: user 1.75 ms, sys: 0 ns, total: 1.75 ms\n",
            "Wall time: 1.76 ms\n"
          ],
          "name": "stdout"
        },
        {
          "output_type": "execute_result",
          "data": {
            "text/html": [
              "<div>\n",
              "<style scoped>\n",
              "    .dataframe tbody tr th:only-of-type {\n",
              "        vertical-align: middle;\n",
              "    }\n",
              "\n",
              "    .dataframe tbody tr th {\n",
              "        vertical-align: top;\n",
              "    }\n",
              "\n",
              "    .dataframe thead th {\n",
              "        text-align: right;\n",
              "    }\n",
              "</style>\n",
              "<table border=\"1\" class=\"dataframe\">\n",
              "  <thead>\n",
              "    <tr style=\"text-align: right;\">\n",
              "      <th></th>\n",
              "      <th>CarNumber</th>\n",
              "      <th>Refund</th>\n",
              "      <th>Fines</th>\n",
              "      <th>Make</th>\n",
              "      <th>Model</th>\n",
              "      <th>Year</th>\n",
              "    </tr>\n",
              "  </thead>\n",
              "  <tbody>\n",
              "    <tr>\n",
              "      <th>4</th>\n",
              "      <td>92918M178RUS</td>\n",
              "      <td>1</td>\n",
              "      <td>5700.0</td>\n",
              "      <td>Ford</td>\n",
              "      <td>Focus</td>\n",
              "      <td>2007</td>\n",
              "    </tr>\n",
              "    <tr>\n",
              "      <th>538</th>\n",
              "      <td>92918M178RUS</td>\n",
              "      <td>2</td>\n",
              "      <td>7600.0</td>\n",
              "      <td>Ford</td>\n",
              "      <td>Focus</td>\n",
              "      <td>1982</td>\n",
              "    </tr>\n",
              "    <tr>\n",
              "      <th>553</th>\n",
              "      <td>92918M178RUS</td>\n",
              "      <td>1</td>\n",
              "      <td>1900.0</td>\n",
              "      <td>Ford</td>\n",
              "      <td>Focus</td>\n",
              "      <td>1982</td>\n",
              "    </tr>\n",
              "  </tbody>\n",
              "</table>\n",
              "</div>"
            ],
            "text/plain": [
              "        CarNumber  Refund   Fines  Make  Model  Year\n",
              "4    92918M178RUS       1  5700.0  Ford  Focus  2007\n",
              "538  92918M178RUS       2  7600.0  Ford  Focus  1982\n",
              "553  92918M178RUS       1  1900.0  Ford  Focus  1982"
            ]
          },
          "metadata": {
            "tags": []
          },
          "execution_count": 22
        }
      ]
    },
    {
      "cell_type": "code",
      "metadata": {
        "id": "4ZfLCyp3YIJi",
        "colab_type": "code",
        "colab": {}
      },
      "source": [
        "df = df.set_index('CarNumber')"
      ],
      "execution_count": 0,
      "outputs": []
    },
    {
      "cell_type": "code",
      "metadata": {
        "id": "I0FWtlzxYej4",
        "colab_type": "code",
        "colab": {
          "base_uri": "https://localhost:8080/",
          "height": 235
        },
        "outputId": "582ce8b4-d94b-4e95-9836-d3e7ff6f4046"
      },
      "source": [
        "df.head()"
      ],
      "execution_count": 24,
      "outputs": [
        {
          "output_type": "execute_result",
          "data": {
            "text/html": [
              "<div>\n",
              "<style scoped>\n",
              "    .dataframe tbody tr th:only-of-type {\n",
              "        vertical-align: middle;\n",
              "    }\n",
              "\n",
              "    .dataframe tbody tr th {\n",
              "        vertical-align: top;\n",
              "    }\n",
              "\n",
              "    .dataframe thead th {\n",
              "        text-align: right;\n",
              "    }\n",
              "</style>\n",
              "<table border=\"1\" class=\"dataframe\">\n",
              "  <thead>\n",
              "    <tr style=\"text-align: right;\">\n",
              "      <th></th>\n",
              "      <th>Refund</th>\n",
              "      <th>Fines</th>\n",
              "      <th>Make</th>\n",
              "      <th>Model</th>\n",
              "      <th>Year</th>\n",
              "    </tr>\n",
              "    <tr>\n",
              "      <th>CarNumber</th>\n",
              "      <th></th>\n",
              "      <th></th>\n",
              "      <th></th>\n",
              "      <th></th>\n",
              "      <th></th>\n",
              "    </tr>\n",
              "  </thead>\n",
              "  <tbody>\n",
              "    <tr>\n",
              "      <th>Y163O8161RUS</th>\n",
              "      <td>2</td>\n",
              "      <td>3200.0</td>\n",
              "      <td>Ford</td>\n",
              "      <td>Focus</td>\n",
              "      <td>1983</td>\n",
              "    </tr>\n",
              "    <tr>\n",
              "      <th>E432XX77RUS</th>\n",
              "      <td>1</td>\n",
              "      <td>6500.0</td>\n",
              "      <td>Toyota</td>\n",
              "      <td>Camry</td>\n",
              "      <td>1996</td>\n",
              "    </tr>\n",
              "    <tr>\n",
              "      <th>7184TT36RUS</th>\n",
              "      <td>1</td>\n",
              "      <td>2100.0</td>\n",
              "      <td>Ford</td>\n",
              "      <td>Focus</td>\n",
              "      <td>1983</td>\n",
              "    </tr>\n",
              "    <tr>\n",
              "      <th>X582HE161RUS</th>\n",
              "      <td>2</td>\n",
              "      <td>2000.0</td>\n",
              "      <td>Ford</td>\n",
              "      <td>Focus</td>\n",
              "      <td>1997</td>\n",
              "    </tr>\n",
              "    <tr>\n",
              "      <th>92918M178RUS</th>\n",
              "      <td>1</td>\n",
              "      <td>5700.0</td>\n",
              "      <td>Ford</td>\n",
              "      <td>Focus</td>\n",
              "      <td>2007</td>\n",
              "    </tr>\n",
              "  </tbody>\n",
              "</table>\n",
              "</div>"
            ],
            "text/plain": [
              "              Refund   Fines    Make  Model  Year\n",
              "CarNumber                                        \n",
              "Y163O8161RUS       2  3200.0    Ford  Focus  1983\n",
              "E432XX77RUS        1  6500.0  Toyota  Camry  1996\n",
              "7184TT36RUS        1  2100.0    Ford  Focus  1983\n",
              "X582HE161RUS       2  2000.0    Ford  Focus  1997\n",
              "92918M178RUS       1  5700.0    Ford  Focus  2007"
            ]
          },
          "metadata": {
            "tags": []
          },
          "execution_count": 24
        }
      ]
    },
    {
      "cell_type": "code",
      "metadata": {
        "id": "GcjQgmp9YfwM",
        "colab_type": "code",
        "colab": {
          "base_uri": "https://localhost:8080/",
          "height": 207
        },
        "outputId": "9ce5ea3b-eb2c-466d-8ef7-cb957e3157dc"
      },
      "source": [
        "%%time\n",
        "df.loc['92918M178RUS']"
      ],
      "execution_count": 28,
      "outputs": [
        {
          "output_type": "stream",
          "text": [
            "CPU times: user 1.79 ms, sys: 50 µs, total: 1.84 ms\n",
            "Wall time: 6.74 ms\n"
          ],
          "name": "stdout"
        },
        {
          "output_type": "execute_result",
          "data": {
            "text/html": [
              "<div>\n",
              "<style scoped>\n",
              "    .dataframe tbody tr th:only-of-type {\n",
              "        vertical-align: middle;\n",
              "    }\n",
              "\n",
              "    .dataframe tbody tr th {\n",
              "        vertical-align: top;\n",
              "    }\n",
              "\n",
              "    .dataframe thead th {\n",
              "        text-align: right;\n",
              "    }\n",
              "</style>\n",
              "<table border=\"1\" class=\"dataframe\">\n",
              "  <thead>\n",
              "    <tr style=\"text-align: right;\">\n",
              "      <th></th>\n",
              "      <th>Refund</th>\n",
              "      <th>Fines</th>\n",
              "      <th>Make</th>\n",
              "      <th>Model</th>\n",
              "      <th>Year</th>\n",
              "    </tr>\n",
              "    <tr>\n",
              "      <th>CarNumber</th>\n",
              "      <th></th>\n",
              "      <th></th>\n",
              "      <th></th>\n",
              "      <th></th>\n",
              "      <th></th>\n",
              "    </tr>\n",
              "  </thead>\n",
              "  <tbody>\n",
              "    <tr>\n",
              "      <th>92918M178RUS</th>\n",
              "      <td>1</td>\n",
              "      <td>5700.0</td>\n",
              "      <td>Ford</td>\n",
              "      <td>Focus</td>\n",
              "      <td>2007</td>\n",
              "    </tr>\n",
              "    <tr>\n",
              "      <th>92918M178RUS</th>\n",
              "      <td>2</td>\n",
              "      <td>7600.0</td>\n",
              "      <td>Ford</td>\n",
              "      <td>Focus</td>\n",
              "      <td>1982</td>\n",
              "    </tr>\n",
              "    <tr>\n",
              "      <th>92918M178RUS</th>\n",
              "      <td>1</td>\n",
              "      <td>1900.0</td>\n",
              "      <td>Ford</td>\n",
              "      <td>Focus</td>\n",
              "      <td>1982</td>\n",
              "    </tr>\n",
              "  </tbody>\n",
              "</table>\n",
              "</div>"
            ],
            "text/plain": [
              "              Refund   Fines  Make  Model  Year\n",
              "CarNumber                                      \n",
              "92918M178RUS       1  5700.0  Ford  Focus  2007\n",
              "92918M178RUS       2  7600.0  Ford  Focus  1982\n",
              "92918M178RUS       1  1900.0  Ford  Focus  1982"
            ]
          },
          "metadata": {
            "tags": []
          },
          "execution_count": 28
        }
      ]
    },
    {
      "cell_type": "code",
      "metadata": {
        "id": "Z4I7GNpxYlD3",
        "colab_type": "code",
        "colab": {
          "base_uri": "https://localhost:8080/",
          "height": 221
        },
        "outputId": "e2437d61-c06f-4c57-df4f-787ecf08a196"
      },
      "source": [
        "df.info(memory_usage='deep')"
      ],
      "execution_count": 29,
      "outputs": [
        {
          "output_type": "stream",
          "text": [
            "<class 'pandas.core.frame.DataFrame'>\n",
            "Index: 1030 entries, Y163O8161RUS to 1478D3960RUS\n",
            "Data columns (total 5 columns):\n",
            " #   Column  Non-Null Count  Dtype  \n",
            "---  ------  --------------  -----  \n",
            " 0   Refund  1030 non-null   int64  \n",
            " 1   Fines   1030 non-null   float64\n",
            " 2   Make    1030 non-null   object \n",
            " 3   Model   1010 non-null   object \n",
            " 4   Year    1030 non-null   int64  \n",
            "dtypes: float64(1), int64(2), object(2)\n",
            "memory usage: 257.3 KB\n"
          ],
          "name": "stdout"
        }
      ]
    },
    {
      "cell_type": "code",
      "metadata": {
        "id": "G8CQyHe_ZbdJ",
        "colab_type": "code",
        "colab": {}
      },
      "source": [
        "optimized = df.copy()"
      ],
      "execution_count": 0,
      "outputs": []
    },
    {
      "cell_type": "code",
      "metadata": {
        "id": "2ixRjBO7aHB1",
        "colab_type": "code",
        "colab": {}
      },
      "source": [
        "optimized['Fines'] = pd.to_numeric(optimized['Fines'], downcast='float')\n",
        "optimized['Refund'] = pd.to_numeric(optimized['Refund'], downcast='integer')\n",
        "optimized['Year'] = pd.to_numeric(optimized['Year'], downcast='integer')"
      ],
      "execution_count": 0,
      "outputs": []
    },
    {
      "cell_type": "code",
      "metadata": {
        "id": "I097eKCbaskU",
        "colab_type": "code",
        "colab": {
          "base_uri": "https://localhost:8080/",
          "height": 221
        },
        "outputId": "2ea40ad0-0676-4602-ee93-c2c3c6fdd7b3"
      },
      "source": [
        "optimized.info(memory_usage='deep')"
      ],
      "execution_count": 32,
      "outputs": [
        {
          "output_type": "stream",
          "text": [
            "<class 'pandas.core.frame.DataFrame'>\n",
            "Index: 1030 entries, Y163O8161RUS to 1478D3960RUS\n",
            "Data columns (total 5 columns):\n",
            " #   Column  Non-Null Count  Dtype  \n",
            "---  ------  --------------  -----  \n",
            " 0   Refund  1030 non-null   int8   \n",
            " 1   Fines   1030 non-null   float32\n",
            " 2   Make    1030 non-null   object \n",
            " 3   Model   1010 non-null   object \n",
            " 4   Year    1030 non-null   int16  \n",
            "dtypes: float32(1), int16(1), int8(1), object(2)\n",
            "memory usage: 200.2 KB\n"
          ],
          "name": "stdout"
        }
      ]
    },
    {
      "cell_type": "code",
      "metadata": {
        "id": "wj5or1TSav_5",
        "colab_type": "code",
        "colab": {}
      },
      "source": [
        "optimized['Make'] = optimized['Make'].astype('category')\n",
        "optimized['Model'] = optimized['Model'].astype('category')"
      ],
      "execution_count": 0,
      "outputs": []
    },
    {
      "cell_type": "code",
      "metadata": {
        "id": "NNtlo53ObWd0",
        "colab_type": "code",
        "colab": {
          "base_uri": "https://localhost:8080/",
          "height": 221
        },
        "outputId": "51ecc25e-a469-45a5-9c28-f8b1e998c919"
      },
      "source": [
        "optimized.info(memory_usage='deep')"
      ],
      "execution_count": 34,
      "outputs": [
        {
          "output_type": "stream",
          "text": [
            "<class 'pandas.core.frame.DataFrame'>\n",
            "Index: 1030 entries, Y163O8161RUS to 1478D3960RUS\n",
            "Data columns (total 5 columns):\n",
            " #   Column  Non-Null Count  Dtype   \n",
            "---  ------  --------------  -----   \n",
            " 0   Refund  1030 non-null   int8    \n",
            " 1   Fines   1030 non-null   float32 \n",
            " 2   Make    1030 non-null   category\n",
            " 3   Model   1010 non-null   category\n",
            " 4   Year    1030 non-null   int16   \n",
            "dtypes: category(2), float32(1), int16(1), int8(1)\n",
            "memory usage: 79.9 KB\n"
          ],
          "name": "stdout"
        }
      ]
    },
    {
      "cell_type": "code",
      "metadata": {
        "id": "5cYj7to7bYd3",
        "colab_type": "code",
        "colab": {}
      },
      "source": [
        "%reset_selective -f df"
      ],
      "execution_count": 0,
      "outputs": []
    },
    {
      "cell_type": "code",
      "metadata": {
        "id": "m4XjA02BcLo4",
        "colab_type": "code",
        "colab": {
          "base_uri": "https://localhost:8080/",
          "height": 164
        },
        "outputId": "af6ed5cd-55cb-495c-95aa-c8e4c6350e0e"
      },
      "source": [
        "df"
      ],
      "execution_count": 36,
      "outputs": [
        {
          "output_type": "error",
          "ename": "NameError",
          "evalue": "ignored",
          "traceback": [
            "\u001b[0;31m---------------------------------------------------------------------------\u001b[0m",
            "\u001b[0;31mNameError\u001b[0m                                 Traceback (most recent call last)",
            "\u001b[0;32m<ipython-input-36-00cf07b74dcd>\u001b[0m in \u001b[0;36m<module>\u001b[0;34m()\u001b[0m\n\u001b[0;32m----> 1\u001b[0;31m \u001b[0mdf\u001b[0m\u001b[0;34m\u001b[0m\u001b[0;34m\u001b[0m\u001b[0m\n\u001b[0m",
            "\u001b[0;31mNameError\u001b[0m: name 'df' is not defined"
          ]
        }
      ]
    },
    {
      "cell_type": "code",
      "metadata": {
        "id": "JcYnwLK3cMSJ",
        "colab_type": "code",
        "colab": {}
      },
      "source": [
        ""
      ],
      "execution_count": 0,
      "outputs": []
    }
  ]
}