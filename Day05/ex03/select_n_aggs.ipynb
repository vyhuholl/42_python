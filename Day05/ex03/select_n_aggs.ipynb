{
  "nbformat": 4,
  "nbformat_minor": 0,
  "metadata": {
    "colab": {
      "name": "select_n_aggs.ipynb",
      "provenance": [],
      "collapsed_sections": []
    },
    "kernelspec": {
      "name": "python3",
      "display_name": "Python 3"
    },
    "accelerator": "GPU"
  },
  "cells": [
    {
      "cell_type": "code",
      "metadata": {
        "id": "SyiR5V_q00Nh",
        "colab_type": "code",
        "colab": {}
      },
      "source": [
        "!pip install -U -q PyDrive"
      ],
      "execution_count": 0,
      "outputs": []
    },
    {
      "cell_type": "code",
      "metadata": {
        "id": "8lgOC5a_1BAq",
        "colab_type": "code",
        "colab": {}
      },
      "source": [
        "import pandas as pd\n",
        "import numpy as np\n",
        "from pydrive.auth import GoogleAuth\n",
        "from pydrive.drive import GoogleDrive\n",
        "from google.colab import auth\n",
        "from oauth2client.client import GoogleCredentials"
      ],
      "execution_count": 0,
      "outputs": []
    },
    {
      "cell_type": "code",
      "metadata": {
        "id": "JfVoTTwL1DLC",
        "colab_type": "code",
        "colab": {}
      },
      "source": [
        "auth.authenticate_user()\n",
        "gauth = GoogleAuth()\n",
        "gauth.credentials = GoogleCredentials.get_application_default()\n",
        "drive = GoogleDrive(gauth)"
      ],
      "execution_count": 0,
      "outputs": []
    },
    {
      "cell_type": "code",
      "metadata": {
        "id": "544XsOfi1K9I",
        "colab_type": "code",
        "colab": {}
      },
      "source": [
        "!mkdir data"
      ],
      "execution_count": 0,
      "outputs": []
    },
    {
      "cell_type": "code",
      "metadata": {
        "id": "UGvXNXS51Mdm",
        "colab_type": "code",
        "colab": {}
      },
      "source": [
        "file_id = '1XTHFtpUhkjC45L9Zg8Z5NN_SC46gWXf8'\n",
        "downloaded = drive.CreateFile({'id': file_id})\n",
        "downloaded.GetContentFile('data/auto.json')"
      ],
      "execution_count": 0,
      "outputs": []
    },
    {
      "cell_type": "code",
      "metadata": {
        "id": "ryFuhzKwOllb",
        "colab_type": "code",
        "colab": {}
      },
      "source": [
        "df = pd.read_json('data/auto.json', orient='records')"
      ],
      "execution_count": 0,
      "outputs": []
    },
    {
      "cell_type": "code",
      "metadata": {
        "id": "kzoCWxbkO9ly",
        "colab_type": "code",
        "colab": {
          "base_uri": "https://localhost:8080/",
          "height": 204
        },
        "outputId": "317d9416-d65d-4226-e7c7-812c1fbf4e95"
      },
      "source": [
        "df.head()"
      ],
      "execution_count": 7,
      "outputs": [
        {
          "output_type": "execute_result",
          "data": {
            "text/html": [
              "<div>\n",
              "<style scoped>\n",
              "    .dataframe tbody tr th:only-of-type {\n",
              "        vertical-align: middle;\n",
              "    }\n",
              "\n",
              "    .dataframe tbody tr th {\n",
              "        vertical-align: top;\n",
              "    }\n",
              "\n",
              "    .dataframe thead th {\n",
              "        text-align: right;\n",
              "    }\n",
              "</style>\n",
              "<table border=\"1\" class=\"dataframe\">\n",
              "  <thead>\n",
              "    <tr style=\"text-align: right;\">\n",
              "      <th></th>\n",
              "      <th>CarNumber</th>\n",
              "      <th>Refund</th>\n",
              "      <th>Fines</th>\n",
              "      <th>Make</th>\n",
              "      <th>Model</th>\n",
              "    </tr>\n",
              "  </thead>\n",
              "  <tbody>\n",
              "    <tr>\n",
              "      <th>0</th>\n",
              "      <td>Y163O8161RUS</td>\n",
              "      <td>2</td>\n",
              "      <td>3200.0</td>\n",
              "      <td>Ford</td>\n",
              "      <td>Focus</td>\n",
              "    </tr>\n",
              "    <tr>\n",
              "      <th>1</th>\n",
              "      <td>E432XX77RUS</td>\n",
              "      <td>1</td>\n",
              "      <td>6500.0</td>\n",
              "      <td>Toyota</td>\n",
              "      <td>Camry</td>\n",
              "    </tr>\n",
              "    <tr>\n",
              "      <th>2</th>\n",
              "      <td>7184TT36RUS</td>\n",
              "      <td>1</td>\n",
              "      <td>2100.0</td>\n",
              "      <td>Ford</td>\n",
              "      <td>Focus</td>\n",
              "    </tr>\n",
              "    <tr>\n",
              "      <th>3</th>\n",
              "      <td>X582HE161RUS</td>\n",
              "      <td>2</td>\n",
              "      <td>2000.0</td>\n",
              "      <td>Ford</td>\n",
              "      <td>Focus</td>\n",
              "    </tr>\n",
              "    <tr>\n",
              "      <th>4</th>\n",
              "      <td>92918M178RUS</td>\n",
              "      <td>1</td>\n",
              "      <td>5700.0</td>\n",
              "      <td>Ford</td>\n",
              "      <td>Focus</td>\n",
              "    </tr>\n",
              "  </tbody>\n",
              "</table>\n",
              "</div>"
            ],
            "text/plain": [
              "      CarNumber  Refund   Fines    Make  Model\n",
              "0  Y163O8161RUS       2  3200.0    Ford  Focus\n",
              "1   E432XX77RUS       1  6500.0  Toyota  Camry\n",
              "2   7184TT36RUS       1  2100.0    Ford  Focus\n",
              "3  X582HE161RUS       2  2000.0    Ford  Focus\n",
              "4  92918M178RUS       1  5700.0    Ford  Focus"
            ]
          },
          "metadata": {
            "tags": []
          },
          "execution_count": 7
        }
      ]
    },
    {
      "cell_type": "code",
      "metadata": {
        "id": "ChlaLIYTQQ4k",
        "colab_type": "code",
        "colab": {
          "base_uri": "https://localhost:8080/",
          "height": 419
        },
        "outputId": "23c4be9b-2e4c-48fc-d3b1-d3d68a73d070"
      },
      "source": [
        "df.loc[df['Fines'] > 2100]"
      ],
      "execution_count": 8,
      "outputs": [
        {
          "output_type": "execute_result",
          "data": {
            "text/html": [
              "<div>\n",
              "<style scoped>\n",
              "    .dataframe tbody tr th:only-of-type {\n",
              "        vertical-align: middle;\n",
              "    }\n",
              "\n",
              "    .dataframe tbody tr th {\n",
              "        vertical-align: top;\n",
              "    }\n",
              "\n",
              "    .dataframe thead th {\n",
              "        text-align: right;\n",
              "    }\n",
              "</style>\n",
              "<table border=\"1\" class=\"dataframe\">\n",
              "  <thead>\n",
              "    <tr style=\"text-align: right;\">\n",
              "      <th></th>\n",
              "      <th>CarNumber</th>\n",
              "      <th>Refund</th>\n",
              "      <th>Fines</th>\n",
              "      <th>Make</th>\n",
              "      <th>Model</th>\n",
              "    </tr>\n",
              "  </thead>\n",
              "  <tbody>\n",
              "    <tr>\n",
              "      <th>0</th>\n",
              "      <td>Y163O8161RUS</td>\n",
              "      <td>2</td>\n",
              "      <td>3200.000000</td>\n",
              "      <td>Ford</td>\n",
              "      <td>Focus</td>\n",
              "    </tr>\n",
              "    <tr>\n",
              "      <th>1</th>\n",
              "      <td>E432XX77RUS</td>\n",
              "      <td>1</td>\n",
              "      <td>6500.000000</td>\n",
              "      <td>Toyota</td>\n",
              "      <td>Camry</td>\n",
              "    </tr>\n",
              "    <tr>\n",
              "      <th>4</th>\n",
              "      <td>92918M178RUS</td>\n",
              "      <td>1</td>\n",
              "      <td>5700.000000</td>\n",
              "      <td>Ford</td>\n",
              "      <td>Focus</td>\n",
              "    </tr>\n",
              "    <tr>\n",
              "      <th>6</th>\n",
              "      <td>X4128H125RUS</td>\n",
              "      <td>1</td>\n",
              "      <td>8238.219895</td>\n",
              "      <td>Ford</td>\n",
              "      <td>Focus</td>\n",
              "    </tr>\n",
              "    <tr>\n",
              "      <th>7</th>\n",
              "      <td>H234YH197RUS</td>\n",
              "      <td>2</td>\n",
              "      <td>6000.000000</td>\n",
              "      <td>Ford</td>\n",
              "      <td>Focus</td>\n",
              "    </tr>\n",
              "    <tr>\n",
              "      <th>...</th>\n",
              "      <td>...</td>\n",
              "      <td>...</td>\n",
              "      <td>...</td>\n",
              "      <td>...</td>\n",
              "      <td>...</td>\n",
              "    </tr>\n",
              "    <tr>\n",
              "      <th>817</th>\n",
              "      <td>O718MM163RUS</td>\n",
              "      <td>2</td>\n",
              "      <td>8238.219895</td>\n",
              "      <td>Ford</td>\n",
              "      <td>Focus</td>\n",
              "    </tr>\n",
              "    <tr>\n",
              "      <th>818</th>\n",
              "      <td>7065C8197RUS</td>\n",
              "      <td>2</td>\n",
              "      <td>11400.000000</td>\n",
              "      <td>Volkswagen</td>\n",
              "      <td>Passat</td>\n",
              "    </tr>\n",
              "    <tr>\n",
              "      <th>819</th>\n",
              "      <td>O22097197RUS</td>\n",
              "      <td>1</td>\n",
              "      <td>24300.000000</td>\n",
              "      <td>Ford</td>\n",
              "      <td>Focus</td>\n",
              "    </tr>\n",
              "    <tr>\n",
              "      <th>821</th>\n",
              "      <td>M0309X197RUS</td>\n",
              "      <td>1</td>\n",
              "      <td>22300.000000</td>\n",
              "      <td>Ford</td>\n",
              "      <td>Focus</td>\n",
              "    </tr>\n",
              "    <tr>\n",
              "      <th>824</th>\n",
              "      <td>H419XE197RUS</td>\n",
              "      <td>2</td>\n",
              "      <td>8238.219895</td>\n",
              "      <td>Toyota</td>\n",
              "      <td>Corolla</td>\n",
              "    </tr>\n",
              "  </tbody>\n",
              "</table>\n",
              "<p>513 rows × 5 columns</p>\n",
              "</div>"
            ],
            "text/plain": [
              "        CarNumber  Refund         Fines        Make    Model\n",
              "0    Y163O8161RUS       2   3200.000000        Ford    Focus\n",
              "1     E432XX77RUS       1   6500.000000      Toyota    Camry\n",
              "4    92918M178RUS       1   5700.000000        Ford    Focus\n",
              "6    X4128H125RUS       1   8238.219895        Ford    Focus\n",
              "7    H234YH197RUS       2   6000.000000        Ford    Focus\n",
              "..            ...     ...           ...         ...      ...\n",
              "817  O718MM163RUS       2   8238.219895        Ford    Focus\n",
              "818  7065C8197RUS       2  11400.000000  Volkswagen   Passat\n",
              "819  O22097197RUS       1  24300.000000        Ford    Focus\n",
              "821  M0309X197RUS       1  22300.000000        Ford    Focus\n",
              "824  H419XE197RUS       2   8238.219895      Toyota  Corolla\n",
              "\n",
              "[513 rows x 5 columns]"
            ]
          },
          "metadata": {
            "tags": []
          },
          "execution_count": 8
        }
      ]
    },
    {
      "cell_type": "code",
      "metadata": {
        "id": "GLwKlzNfQanQ",
        "colab_type": "code",
        "colab": {
          "base_uri": "https://localhost:8080/",
          "height": 419
        },
        "outputId": "0b902c6f-18e8-4520-f472-124b2a89b3a8"
      },
      "source": [
        "df.loc[(df['Fines'] > 2100) & (df['Refund'] == 2)]"
      ],
      "execution_count": 11,
      "outputs": [
        {
          "output_type": "execute_result",
          "data": {
            "text/html": [
              "<div>\n",
              "<style scoped>\n",
              "    .dataframe tbody tr th:only-of-type {\n",
              "        vertical-align: middle;\n",
              "    }\n",
              "\n",
              "    .dataframe tbody tr th {\n",
              "        vertical-align: top;\n",
              "    }\n",
              "\n",
              "    .dataframe thead th {\n",
              "        text-align: right;\n",
              "    }\n",
              "</style>\n",
              "<table border=\"1\" class=\"dataframe\">\n",
              "  <thead>\n",
              "    <tr style=\"text-align: right;\">\n",
              "      <th></th>\n",
              "      <th>CarNumber</th>\n",
              "      <th>Refund</th>\n",
              "      <th>Fines</th>\n",
              "      <th>Make</th>\n",
              "      <th>Model</th>\n",
              "    </tr>\n",
              "  </thead>\n",
              "  <tbody>\n",
              "    <tr>\n",
              "      <th>0</th>\n",
              "      <td>Y163O8161RUS</td>\n",
              "      <td>2</td>\n",
              "      <td>3200.000000</td>\n",
              "      <td>Ford</td>\n",
              "      <td>Focus</td>\n",
              "    </tr>\n",
              "    <tr>\n",
              "      <th>7</th>\n",
              "      <td>H234YH197RUS</td>\n",
              "      <td>2</td>\n",
              "      <td>6000.000000</td>\n",
              "      <td>Ford</td>\n",
              "      <td>Focus</td>\n",
              "    </tr>\n",
              "    <tr>\n",
              "      <th>9</th>\n",
              "      <td>707987163RUS</td>\n",
              "      <td>2</td>\n",
              "      <td>2200.000000</td>\n",
              "      <td>Ford</td>\n",
              "      <td>Focus</td>\n",
              "    </tr>\n",
              "    <tr>\n",
              "      <th>10</th>\n",
              "      <td>K330T8197RUS</td>\n",
              "      <td>2</td>\n",
              "      <td>8200.000000</td>\n",
              "      <td>Skoda</td>\n",
              "      <td>Octavia</td>\n",
              "    </tr>\n",
              "    <tr>\n",
              "      <th>14</th>\n",
              "      <td>M592CH197RUS</td>\n",
              "      <td>2</td>\n",
              "      <td>8238.219895</td>\n",
              "      <td>Skoda</td>\n",
              "      <td>Octavia</td>\n",
              "    </tr>\n",
              "    <tr>\n",
              "      <th>...</th>\n",
              "      <td>...</td>\n",
              "      <td>...</td>\n",
              "      <td>...</td>\n",
              "      <td>...</td>\n",
              "      <td>...</td>\n",
              "    </tr>\n",
              "    <tr>\n",
              "      <th>815</th>\n",
              "      <td>O136HO197RUS</td>\n",
              "      <td>2</td>\n",
              "      <td>7800.000000</td>\n",
              "      <td>Toyota</td>\n",
              "      <td>Corolla</td>\n",
              "    </tr>\n",
              "    <tr>\n",
              "      <th>816</th>\n",
              "      <td>O68897197RUS</td>\n",
              "      <td>2</td>\n",
              "      <td>12300.000000</td>\n",
              "      <td>Ford</td>\n",
              "      <td>Focus</td>\n",
              "    </tr>\n",
              "    <tr>\n",
              "      <th>817</th>\n",
              "      <td>O718MM163RUS</td>\n",
              "      <td>2</td>\n",
              "      <td>8238.219895</td>\n",
              "      <td>Ford</td>\n",
              "      <td>Focus</td>\n",
              "    </tr>\n",
              "    <tr>\n",
              "      <th>818</th>\n",
              "      <td>7065C8197RUS</td>\n",
              "      <td>2</td>\n",
              "      <td>11400.000000</td>\n",
              "      <td>Volkswagen</td>\n",
              "      <td>Passat</td>\n",
              "    </tr>\n",
              "    <tr>\n",
              "      <th>824</th>\n",
              "      <td>H419XE197RUS</td>\n",
              "      <td>2</td>\n",
              "      <td>8238.219895</td>\n",
              "      <td>Toyota</td>\n",
              "      <td>Corolla</td>\n",
              "    </tr>\n",
              "  </tbody>\n",
              "</table>\n",
              "<p>341 rows × 5 columns</p>\n",
              "</div>"
            ],
            "text/plain": [
              "        CarNumber  Refund         Fines        Make    Model\n",
              "0    Y163O8161RUS       2   3200.000000        Ford    Focus\n",
              "7    H234YH197RUS       2   6000.000000        Ford    Focus\n",
              "9    707987163RUS       2   2200.000000        Ford    Focus\n",
              "10   K330T8197RUS       2   8200.000000       Skoda  Octavia\n",
              "14   M592CH197RUS       2   8238.219895       Skoda  Octavia\n",
              "..            ...     ...           ...         ...      ...\n",
              "815  O136HO197RUS       2   7800.000000      Toyota  Corolla\n",
              "816  O68897197RUS       2  12300.000000        Ford    Focus\n",
              "817  O718MM163RUS       2   8238.219895        Ford    Focus\n",
              "818  7065C8197RUS       2  11400.000000  Volkswagen   Passat\n",
              "824  H419XE197RUS       2   8238.219895      Toyota  Corolla\n",
              "\n",
              "[341 rows x 5 columns]"
            ]
          },
          "metadata": {
            "tags": []
          },
          "execution_count": 11
        }
      ]
    },
    {
      "cell_type": "code",
      "metadata": {
        "id": "VdpRDouAQxYh",
        "colab_type": "code",
        "colab": {
          "base_uri": "https://localhost:8080/",
          "height": 419
        },
        "outputId": "733ad416-b50e-4db9-a879-ae1527657bd6"
      },
      "source": [
        "df.loc[df['Model'].isin(['Focus', 'Corolla'])]"
      ],
      "execution_count": 13,
      "outputs": [
        {
          "output_type": "execute_result",
          "data": {
            "text/html": [
              "<div>\n",
              "<style scoped>\n",
              "    .dataframe tbody tr th:only-of-type {\n",
              "        vertical-align: middle;\n",
              "    }\n",
              "\n",
              "    .dataframe tbody tr th {\n",
              "        vertical-align: top;\n",
              "    }\n",
              "\n",
              "    .dataframe thead th {\n",
              "        text-align: right;\n",
              "    }\n",
              "</style>\n",
              "<table border=\"1\" class=\"dataframe\">\n",
              "  <thead>\n",
              "    <tr style=\"text-align: right;\">\n",
              "      <th></th>\n",
              "      <th>CarNumber</th>\n",
              "      <th>Refund</th>\n",
              "      <th>Fines</th>\n",
              "      <th>Make</th>\n",
              "      <th>Model</th>\n",
              "    </tr>\n",
              "  </thead>\n",
              "  <tbody>\n",
              "    <tr>\n",
              "      <th>0</th>\n",
              "      <td>Y163O8161RUS</td>\n",
              "      <td>2</td>\n",
              "      <td>3200.000000</td>\n",
              "      <td>Ford</td>\n",
              "      <td>Focus</td>\n",
              "    </tr>\n",
              "    <tr>\n",
              "      <th>2</th>\n",
              "      <td>7184TT36RUS</td>\n",
              "      <td>1</td>\n",
              "      <td>2100.000000</td>\n",
              "      <td>Ford</td>\n",
              "      <td>Focus</td>\n",
              "    </tr>\n",
              "    <tr>\n",
              "      <th>3</th>\n",
              "      <td>X582HE161RUS</td>\n",
              "      <td>2</td>\n",
              "      <td>2000.000000</td>\n",
              "      <td>Ford</td>\n",
              "      <td>Focus</td>\n",
              "    </tr>\n",
              "    <tr>\n",
              "      <th>4</th>\n",
              "      <td>92918M178RUS</td>\n",
              "      <td>1</td>\n",
              "      <td>5700.000000</td>\n",
              "      <td>Ford</td>\n",
              "      <td>Focus</td>\n",
              "    </tr>\n",
              "    <tr>\n",
              "      <th>5</th>\n",
              "      <td>E53488152RUS</td>\n",
              "      <td>2</td>\n",
              "      <td>1800.000000</td>\n",
              "      <td>Ford</td>\n",
              "      <td>Focus</td>\n",
              "    </tr>\n",
              "    <tr>\n",
              "      <th>...</th>\n",
              "      <td>...</td>\n",
              "      <td>...</td>\n",
              "      <td>...</td>\n",
              "      <td>...</td>\n",
              "      <td>...</td>\n",
              "    </tr>\n",
              "    <tr>\n",
              "      <th>820</th>\n",
              "      <td>Y163O8161RUS</td>\n",
              "      <td>2</td>\n",
              "      <td>1600.000000</td>\n",
              "      <td>Ford</td>\n",
              "      <td>Focus</td>\n",
              "    </tr>\n",
              "    <tr>\n",
              "      <th>821</th>\n",
              "      <td>M0309X197RUS</td>\n",
              "      <td>1</td>\n",
              "      <td>22300.000000</td>\n",
              "      <td>Ford</td>\n",
              "      <td>Focus</td>\n",
              "    </tr>\n",
              "    <tr>\n",
              "      <th>822</th>\n",
              "      <td>O673E8197RUS</td>\n",
              "      <td>2</td>\n",
              "      <td>600.000000</td>\n",
              "      <td>Ford</td>\n",
              "      <td>Focus</td>\n",
              "    </tr>\n",
              "    <tr>\n",
              "      <th>823</th>\n",
              "      <td>8610T8154RUS</td>\n",
              "      <td>1</td>\n",
              "      <td>2000.000000</td>\n",
              "      <td>Ford</td>\n",
              "      <td>Focus</td>\n",
              "    </tr>\n",
              "    <tr>\n",
              "      <th>824</th>\n",
              "      <td>H419XE197RUS</td>\n",
              "      <td>2</td>\n",
              "      <td>8238.219895</td>\n",
              "      <td>Toyota</td>\n",
              "      <td>Corolla</td>\n",
              "    </tr>\n",
              "  </tbody>\n",
              "</table>\n",
              "<p>671 rows × 5 columns</p>\n",
              "</div>"
            ],
            "text/plain": [
              "        CarNumber  Refund         Fines    Make    Model\n",
              "0    Y163O8161RUS       2   3200.000000    Ford    Focus\n",
              "2     7184TT36RUS       1   2100.000000    Ford    Focus\n",
              "3    X582HE161RUS       2   2000.000000    Ford    Focus\n",
              "4    92918M178RUS       1   5700.000000    Ford    Focus\n",
              "5    E53488152RUS       2   1800.000000    Ford    Focus\n",
              "..            ...     ...           ...     ...      ...\n",
              "820  Y163O8161RUS       2   1600.000000    Ford    Focus\n",
              "821  M0309X197RUS       1  22300.000000    Ford    Focus\n",
              "822  O673E8197RUS       2    600.000000    Ford    Focus\n",
              "823  8610T8154RUS       1   2000.000000    Ford    Focus\n",
              "824  H419XE197RUS       2   8238.219895  Toyota  Corolla\n",
              "\n",
              "[671 rows x 5 columns]"
            ]
          },
          "metadata": {
            "tags": []
          },
          "execution_count": 13
        }
      ]
    },
    {
      "cell_type": "code",
      "metadata": {
        "id": "ePDUHOXWRA4x",
        "colab_type": "code",
        "colab": {
          "base_uri": "https://localhost:8080/",
          "height": 638
        },
        "outputId": "e4700985-8194-42e1-928a-04ba39cbc099"
      },
      "source": [
        "df.loc[df['CarNumber'].isin(['Y7689C197RUS', '92928M178RUS', '7788KT197RUS',\n",
        "                             'H115YO163RUS', 'X758HY197RUS'])]"
      ],
      "execution_count": 14,
      "outputs": [
        {
          "output_type": "execute_result",
          "data": {
            "text/html": [
              "<div>\n",
              "<style scoped>\n",
              "    .dataframe tbody tr th:only-of-type {\n",
              "        vertical-align: middle;\n",
              "    }\n",
              "\n",
              "    .dataframe tbody tr th {\n",
              "        vertical-align: top;\n",
              "    }\n",
              "\n",
              "    .dataframe thead th {\n",
              "        text-align: right;\n",
              "    }\n",
              "</style>\n",
              "<table border=\"1\" class=\"dataframe\">\n",
              "  <thead>\n",
              "    <tr style=\"text-align: right;\">\n",
              "      <th></th>\n",
              "      <th>CarNumber</th>\n",
              "      <th>Refund</th>\n",
              "      <th>Fines</th>\n",
              "      <th>Make</th>\n",
              "      <th>Model</th>\n",
              "    </tr>\n",
              "  </thead>\n",
              "  <tbody>\n",
              "    <tr>\n",
              "      <th>31</th>\n",
              "      <td>92928M178RUS</td>\n",
              "      <td>1</td>\n",
              "      <td>8238.219895</td>\n",
              "      <td>Ford</td>\n",
              "      <td>Focus</td>\n",
              "    </tr>\n",
              "    <tr>\n",
              "      <th>40</th>\n",
              "      <td>H115YO163RUS</td>\n",
              "      <td>1</td>\n",
              "      <td>2200.000000</td>\n",
              "      <td>Ford</td>\n",
              "      <td>Focus</td>\n",
              "    </tr>\n",
              "    <tr>\n",
              "      <th>58</th>\n",
              "      <td>92928M178RUS</td>\n",
              "      <td>2</td>\n",
              "      <td>1200.000000</td>\n",
              "      <td>Ford</td>\n",
              "      <td>Focus</td>\n",
              "    </tr>\n",
              "    <tr>\n",
              "      <th>84</th>\n",
              "      <td>7788KT197RUS</td>\n",
              "      <td>2</td>\n",
              "      <td>12000.000000</td>\n",
              "      <td>Ford</td>\n",
              "      <td>Focus</td>\n",
              "    </tr>\n",
              "    <tr>\n",
              "      <th>118</th>\n",
              "      <td>X758HY197RUS</td>\n",
              "      <td>2</td>\n",
              "      <td>24200.000000</td>\n",
              "      <td>Ford</td>\n",
              "      <td>Focus</td>\n",
              "    </tr>\n",
              "    <tr>\n",
              "      <th>191</th>\n",
              "      <td>X758HY197RUS</td>\n",
              "      <td>2</td>\n",
              "      <td>72600.000000</td>\n",
              "      <td>Ford</td>\n",
              "      <td>Focus</td>\n",
              "    </tr>\n",
              "    <tr>\n",
              "      <th>221</th>\n",
              "      <td>Y7689C197RUS</td>\n",
              "      <td>1</td>\n",
              "      <td>27000.000000</td>\n",
              "      <td>Ford</td>\n",
              "      <td>Focus</td>\n",
              "    </tr>\n",
              "    <tr>\n",
              "      <th>230</th>\n",
              "      <td>92928M178RUS</td>\n",
              "      <td>1</td>\n",
              "      <td>600.000000</td>\n",
              "      <td>Ford</td>\n",
              "      <td>Focus</td>\n",
              "    </tr>\n",
              "    <tr>\n",
              "      <th>263</th>\n",
              "      <td>H115YO163RUS</td>\n",
              "      <td>1</td>\n",
              "      <td>8238.219895</td>\n",
              "      <td>Ford</td>\n",
              "      <td>Focus</td>\n",
              "    </tr>\n",
              "    <tr>\n",
              "      <th>338</th>\n",
              "      <td>H115YO163RUS</td>\n",
              "      <td>2</td>\n",
              "      <td>1100.000000</td>\n",
              "      <td>Ford</td>\n",
              "      <td>Focus</td>\n",
              "    </tr>\n",
              "    <tr>\n",
              "      <th>350</th>\n",
              "      <td>7788KT197RUS</td>\n",
              "      <td>2</td>\n",
              "      <td>8238.219895</td>\n",
              "      <td>Ford</td>\n",
              "      <td>Focus</td>\n",
              "    </tr>\n",
              "    <tr>\n",
              "      <th>454</th>\n",
              "      <td>7788KT197RUS</td>\n",
              "      <td>1</td>\n",
              "      <td>20000.000000</td>\n",
              "      <td>Ford</td>\n",
              "      <td>Focus</td>\n",
              "    </tr>\n",
              "    <tr>\n",
              "      <th>482</th>\n",
              "      <td>X758HY197RUS</td>\n",
              "      <td>2</td>\n",
              "      <td>145200.000000</td>\n",
              "      <td>Ford</td>\n",
              "      <td>Focus</td>\n",
              "    </tr>\n",
              "    <tr>\n",
              "      <th>554</th>\n",
              "      <td>92928M178RUS</td>\n",
              "      <td>1</td>\n",
              "      <td>1200.000000</td>\n",
              "      <td>Ford</td>\n",
              "      <td>Focus</td>\n",
              "    </tr>\n",
              "    <tr>\n",
              "      <th>625</th>\n",
              "      <td>Y7689C197RUS</td>\n",
              "      <td>2</td>\n",
              "      <td>9000.000000</td>\n",
              "      <td>Ford</td>\n",
              "      <td>Focus</td>\n",
              "    </tr>\n",
              "    <tr>\n",
              "      <th>648</th>\n",
              "      <td>Y7689C197RUS</td>\n",
              "      <td>2</td>\n",
              "      <td>45000.000000</td>\n",
              "      <td>Ford</td>\n",
              "      <td>Focus</td>\n",
              "    </tr>\n",
              "    <tr>\n",
              "      <th>650</th>\n",
              "      <td>7788KT197RUS</td>\n",
              "      <td>2</td>\n",
              "      <td>4000.000000</td>\n",
              "      <td>Ford</td>\n",
              "      <td>Focus</td>\n",
              "    </tr>\n",
              "    <tr>\n",
              "      <th>764</th>\n",
              "      <td>Y7689C197RUS</td>\n",
              "      <td>1</td>\n",
              "      <td>36000.000000</td>\n",
              "      <td>Ford</td>\n",
              "      <td>Focus</td>\n",
              "    </tr>\n",
              "    <tr>\n",
              "      <th>773</th>\n",
              "      <td>92928M178RUS</td>\n",
              "      <td>2</td>\n",
              "      <td>3000.000000</td>\n",
              "      <td>Ford</td>\n",
              "      <td>Focus</td>\n",
              "    </tr>\n",
              "  </tbody>\n",
              "</table>\n",
              "</div>"
            ],
            "text/plain": [
              "        CarNumber  Refund          Fines  Make  Model\n",
              "31   92928M178RUS       1    8238.219895  Ford  Focus\n",
              "40   H115YO163RUS       1    2200.000000  Ford  Focus\n",
              "58   92928M178RUS       2    1200.000000  Ford  Focus\n",
              "84   7788KT197RUS       2   12000.000000  Ford  Focus\n",
              "118  X758HY197RUS       2   24200.000000  Ford  Focus\n",
              "191  X758HY197RUS       2   72600.000000  Ford  Focus\n",
              "221  Y7689C197RUS       1   27000.000000  Ford  Focus\n",
              "230  92928M178RUS       1     600.000000  Ford  Focus\n",
              "263  H115YO163RUS       1    8238.219895  Ford  Focus\n",
              "338  H115YO163RUS       2    1100.000000  Ford  Focus\n",
              "350  7788KT197RUS       2    8238.219895  Ford  Focus\n",
              "454  7788KT197RUS       1   20000.000000  Ford  Focus\n",
              "482  X758HY197RUS       2  145200.000000  Ford  Focus\n",
              "554  92928M178RUS       1    1200.000000  Ford  Focus\n",
              "625  Y7689C197RUS       2    9000.000000  Ford  Focus\n",
              "648  Y7689C197RUS       2   45000.000000  Ford  Focus\n",
              "650  7788KT197RUS       2    4000.000000  Ford  Focus\n",
              "764  Y7689C197RUS       1   36000.000000  Ford  Focus\n",
              "773  92928M178RUS       2    3000.000000  Ford  Focus"
            ]
          },
          "metadata": {
            "tags": []
          },
          "execution_count": 14
        }
      ]
    },
    {
      "cell_type": "code",
      "metadata": {
        "id": "ulc_z41iO83R",
        "colab_type": "code",
        "colab": {
          "base_uri": "https://localhost:8080/",
          "height": 170
        },
        "outputId": "0f78a25b-f693-4bf0-aded-f5d4b58d8a68"
      },
      "source": [
        "df.groupby(['Make']).median()['Fines']"
      ],
      "execution_count": 17,
      "outputs": [
        {
          "output_type": "execute_result",
          "data": {
            "text/plain": [
              "Make\n",
              "Audi          4200.0\n",
              "BMW           3000.0\n",
              "Ford          3300.0\n",
              "Skoda         3250.0\n",
              "Toyota        7500.0\n",
              "Volkswagen    4300.0\n",
              "Volvo         6800.0\n",
              "Name: Fines, dtype: float64"
            ]
          },
          "metadata": {
            "tags": []
          },
          "execution_count": 17
        }
      ]
    },
    {
      "cell_type": "code",
      "metadata": {
        "id": "j9A6UfbISNTU",
        "colab_type": "code",
        "colab": {
          "base_uri": "https://localhost:8080/",
          "height": 204
        },
        "outputId": "205b68ae-4535-4898-b43e-772376f41161"
      },
      "source": [
        "df.groupby(['Make', 'Model']).median()['Fines']"
      ],
      "execution_count": 18,
      "outputs": [
        {
          "output_type": "execute_result",
          "data": {
            "text/plain": [
              "Make        Model  \n",
              "Ford        Focus      3200.0\n",
              "            Mondeo     7650.0\n",
              "Skoda       Octavia    3250.0\n",
              "Toyota      Camry      7200.0\n",
              "            Corolla    7700.0\n",
              "Volkswagen  Golf       4800.0\n",
              "            Jetta      2800.0\n",
              "            Passat     3200.0\n",
              "            Touareg    5800.0\n",
              "Name: Fines, dtype: float64"
            ]
          },
          "metadata": {
            "tags": []
          },
          "execution_count": 18
        }
      ]
    },
    {
      "cell_type": "code",
      "metadata": {
        "id": "Ukkm-IB7SbkI",
        "colab_type": "code",
        "colab": {
          "base_uri": "https://localhost:8080/",
          "height": 204
        },
        "outputId": "f35d933d-0fee-4763-e778-2677a91fcd15"
      },
      "source": [
        "df.groupby(['Make', 'Model']).min()['Fines']"
      ],
      "execution_count": 20,
      "outputs": [
        {
          "output_type": "execute_result",
          "data": {
            "text/plain": [
              "Make        Model  \n",
              "Ford        Focus       100.0\n",
              "            Mondeo     1100.0\n",
              "Skoda       Octavia     300.0\n",
              "Toyota      Camry       500.0\n",
              "            Corolla     900.0\n",
              "Volkswagen  Golf        200.0\n",
              "            Jetta       500.0\n",
              "            Passat      100.0\n",
              "            Touareg     500.0\n",
              "Name: Fines, dtype: float64"
            ]
          },
          "metadata": {
            "tags": []
          },
          "execution_count": 20
        }
      ]
    },
    {
      "cell_type": "code",
      "metadata": {
        "id": "1VTZwLjGSudm",
        "colab_type": "code",
        "colab": {
          "base_uri": "https://localhost:8080/",
          "height": 204
        },
        "outputId": "aebcf9cf-c5d5-4f13-e01d-67c1b56e4dd2"
      },
      "source": [
        "df.groupby(['Make', 'Model']).max()['Fines']"
      ],
      "execution_count": 21,
      "outputs": [
        {
          "output_type": "execute_result",
          "data": {
            "text/plain": [
              "Make        Model  \n",
              "Ford        Focus      180000.000000\n",
              "            Mondeo      46200.000000\n",
              "Skoda       Octavia    145000.000000\n",
              "Toyota      Camry       22400.000000\n",
              "            Corolla     34300.000000\n",
              "Volkswagen  Golf       168000.000000\n",
              "            Jetta       46000.000000\n",
              "            Passat      29700.000000\n",
              "            Touareg      8238.219895\n",
              "Name: Fines, dtype: float64"
            ]
          },
          "metadata": {
            "tags": []
          },
          "execution_count": 21
        }
      ]
    },
    {
      "cell_type": "code",
      "metadata": {
        "id": "c0E64qrJS9iT",
        "colab_type": "code",
        "colab": {
          "base_uri": "https://localhost:8080/",
          "height": 204
        },
        "outputId": "6fe82156-5fe9-42c0-b7d0-9a647cd74d7d"
      },
      "source": [
        "df.groupby(['Make', 'Model']).std()['Fines']"
      ],
      "execution_count": 22,
      "outputs": [
        {
          "output_type": "execute_result",
          "data": {
            "text/plain": [
              "Make        Model  \n",
              "Ford        Focus      14357.165589\n",
              "            Mondeo     16653.728311\n",
              "Skoda       Octavia    23065.157122\n",
              "Toyota      Camry       6320.442381\n",
              "            Corolla     9634.019607\n",
              "Volkswagen  Golf       35316.403695\n",
              "            Jetta      17743.026799\n",
              "            Passat      6735.528365\n",
              "            Touareg     3055.734889\n",
              "Name: Fines, dtype: float64"
            ]
          },
          "metadata": {
            "tags": []
          },
          "execution_count": 22
        }
      ]
    },
    {
      "cell_type": "code",
      "metadata": {
        "id": "pZiJgTCDTGiJ",
        "colab_type": "code",
        "colab": {
          "base_uri": "https://localhost:8080/",
          "height": 238
        },
        "outputId": "74e667bf-1943-40fa-d223-adc31c12f669"
      },
      "source": [
        "df.groupby(['CarNumber']).sum()['Fines'][::-1]"
      ],
      "execution_count": 28,
      "outputs": [
        {
          "output_type": "execute_result",
          "data": {
            "text/plain": [
              "CarNumber\n",
              "Y973O8197RUS    112638.219895\n",
              "Y969O8197RUS     31200.000000\n",
              "Y967O8197RUS      4000.000000\n",
              "Y966O8197RUS     31200.000000\n",
              "Y965O8197RUS      3200.000000\n",
              "                    ...      \n",
              "705387163RUS       700.000000\n",
              "705287163RUS      2000.000000\n",
              "704987163RUS      8238.219895\n",
              "704787163RUS      2800.000000\n",
              "704687163RUS      1400.000000\n",
              "Name: Fines, Length: 531, dtype: float64"
            ]
          },
          "metadata": {
            "tags": []
          },
          "execution_count": 28
        }
      ]
    },
    {
      "cell_type": "code",
      "metadata": {
        "id": "4ISVu4llUCig",
        "colab_type": "code",
        "colab": {
          "base_uri": "https://localhost:8080/",
          "height": 142
        },
        "outputId": "50102ea4-19be-4e36-8c27-68415b4e5c80"
      },
      "source": [
        "df.loc[df['CarNumber'] == 'Y973O8197RUS']"
      ],
      "execution_count": 29,
      "outputs": [
        {
          "output_type": "execute_result",
          "data": {
            "text/html": [
              "<div>\n",
              "<style scoped>\n",
              "    .dataframe tbody tr th:only-of-type {\n",
              "        vertical-align: middle;\n",
              "    }\n",
              "\n",
              "    .dataframe tbody tr th {\n",
              "        vertical-align: top;\n",
              "    }\n",
              "\n",
              "    .dataframe thead th {\n",
              "        text-align: right;\n",
              "    }\n",
              "</style>\n",
              "<table border=\"1\" class=\"dataframe\">\n",
              "  <thead>\n",
              "    <tr style=\"text-align: right;\">\n",
              "      <th></th>\n",
              "      <th>CarNumber</th>\n",
              "      <th>Refund</th>\n",
              "      <th>Fines</th>\n",
              "      <th>Make</th>\n",
              "      <th>Model</th>\n",
              "    </tr>\n",
              "  </thead>\n",
              "  <tbody>\n",
              "    <tr>\n",
              "      <th>53</th>\n",
              "      <td>Y973O8197RUS</td>\n",
              "      <td>2</td>\n",
              "      <td>8238.219895</td>\n",
              "      <td>Ford</td>\n",
              "      <td>Focus</td>\n",
              "    </tr>\n",
              "    <tr>\n",
              "      <th>216</th>\n",
              "      <td>Y973O8197RUS</td>\n",
              "      <td>1</td>\n",
              "      <td>34800.000000</td>\n",
              "      <td>Ford</td>\n",
              "      <td>Focus</td>\n",
              "    </tr>\n",
              "    <tr>\n",
              "      <th>462</th>\n",
              "      <td>Y973O8197RUS</td>\n",
              "      <td>1</td>\n",
              "      <td>69600.000000</td>\n",
              "      <td>Ford</td>\n",
              "      <td>Focus</td>\n",
              "    </tr>\n",
              "  </tbody>\n",
              "</table>\n",
              "</div>"
            ],
            "text/plain": [
              "        CarNumber  Refund         Fines  Make  Model\n",
              "53   Y973O8197RUS       2   8238.219895  Ford  Focus\n",
              "216  Y973O8197RUS       1  34800.000000  Ford  Focus\n",
              "462  Y973O8197RUS       1  69600.000000  Ford  Focus"
            ]
          },
          "metadata": {
            "tags": []
          },
          "execution_count": 29
        }
      ]
    },
    {
      "cell_type": "code",
      "metadata": {
        "id": "fYipJU6yTChu",
        "colab_type": "code",
        "colab": {}
      },
      "source": [
        ""
      ],
      "execution_count": 0,
      "outputs": []
    }
  ]
}