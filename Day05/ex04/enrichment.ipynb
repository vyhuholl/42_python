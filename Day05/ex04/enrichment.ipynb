{
  "nbformat": 4,
  "nbformat_minor": 0,
  "metadata": {
    "colab": {
      "name": "enrichment.ipynb",
      "provenance": [],
      "collapsed_sections": []
    },
    "kernelspec": {
      "name": "python3",
      "display_name": "Python 3"
    },
    "accelerator": "GPU"
  },
  "cells": [
    {
      "cell_type": "code",
      "metadata": {
        "id": "SyiR5V_q00Nh",
        "colab_type": "code",
        "colab": {}
      },
      "source": [
        "!pip install -U -q PyDrive"
      ],
      "execution_count": 0,
      "outputs": []
    },
    {
      "cell_type": "code",
      "metadata": {
        "id": "8lgOC5a_1BAq",
        "colab_type": "code",
        "colab": {}
      },
      "source": [
        "import requests\n",
        "import pandas as pd\n",
        "import numpy as np\n",
        "from pydrive.auth import GoogleAuth\n",
        "from pydrive.drive import GoogleDrive\n",
        "from google.colab import auth\n",
        "from oauth2client.client import GoogleCredentials"
      ],
      "execution_count": 0,
      "outputs": []
    },
    {
      "cell_type": "code",
      "metadata": {
        "id": "JfVoTTwL1DLC",
        "colab_type": "code",
        "colab": {}
      },
      "source": [
        "auth.authenticate_user()\n",
        "gauth = GoogleAuth()\n",
        "gauth.credentials = GoogleCredentials.get_application_default()\n",
        "drive = GoogleDrive(gauth)"
      ],
      "execution_count": 0,
      "outputs": []
    },
    {
      "cell_type": "code",
      "metadata": {
        "id": "544XsOfi1K9I",
        "colab_type": "code",
        "colab": {}
      },
      "source": [
        "!mkdir data"
      ],
      "execution_count": 0,
      "outputs": []
    },
    {
      "cell_type": "code",
      "metadata": {
        "id": "UGvXNXS51Mdm",
        "colab_type": "code",
        "colab": {}
      },
      "source": [
        "file_id = '1XTHFtpUhkjC45L9Zg8Z5NN_SC46gWXf8'\n",
        "downloaded = drive.CreateFile({'id': file_id})\n",
        "downloaded.GetContentFile('data/auto.json')"
      ],
      "execution_count": 0,
      "outputs": []
    },
    {
      "cell_type": "code",
      "metadata": {
        "id": "ryFuhzKwOllb",
        "colab_type": "code",
        "colab": {}
      },
      "source": [
        "df = pd.read_json('data/auto.json', orient='records')"
      ],
      "execution_count": 0,
      "outputs": []
    },
    {
      "cell_type": "code",
      "metadata": {
        "id": "W5vPjTlvqfns",
        "colab_type": "code",
        "colab": {}
      },
      "source": [
        "pd.options.display.float_format = '{:,.2f}'.format"
      ],
      "execution_count": 0,
      "outputs": []
    },
    {
      "cell_type": "code",
      "metadata": {
        "id": "jhTB9xSi--4R",
        "colab_type": "code",
        "colab": {
          "base_uri": "https://localhost:8080/",
          "height": 204
        },
        "outputId": "83302b99-bd77-40b1-d626-26bd1b8e12a5"
      },
      "source": [
        "df.head()"
      ],
      "execution_count": 8,
      "outputs": [
        {
          "output_type": "execute_result",
          "data": {
            "text/html": [
              "<div>\n",
              "<style scoped>\n",
              "    .dataframe tbody tr th:only-of-type {\n",
              "        vertical-align: middle;\n",
              "    }\n",
              "\n",
              "    .dataframe tbody tr th {\n",
              "        vertical-align: top;\n",
              "    }\n",
              "\n",
              "    .dataframe thead th {\n",
              "        text-align: right;\n",
              "    }\n",
              "</style>\n",
              "<table border=\"1\" class=\"dataframe\">\n",
              "  <thead>\n",
              "    <tr style=\"text-align: right;\">\n",
              "      <th></th>\n",
              "      <th>CarNumber</th>\n",
              "      <th>Refund</th>\n",
              "      <th>Fines</th>\n",
              "      <th>Make</th>\n",
              "      <th>Model</th>\n",
              "    </tr>\n",
              "  </thead>\n",
              "  <tbody>\n",
              "    <tr>\n",
              "      <th>0</th>\n",
              "      <td>Y163O8161RUS</td>\n",
              "      <td>2</td>\n",
              "      <td>3,200.00</td>\n",
              "      <td>Ford</td>\n",
              "      <td>Focus</td>\n",
              "    </tr>\n",
              "    <tr>\n",
              "      <th>1</th>\n",
              "      <td>E432XX77RUS</td>\n",
              "      <td>1</td>\n",
              "      <td>6,500.00</td>\n",
              "      <td>Toyota</td>\n",
              "      <td>Camry</td>\n",
              "    </tr>\n",
              "    <tr>\n",
              "      <th>2</th>\n",
              "      <td>7184TT36RUS</td>\n",
              "      <td>1</td>\n",
              "      <td>2,100.00</td>\n",
              "      <td>Ford</td>\n",
              "      <td>Focus</td>\n",
              "    </tr>\n",
              "    <tr>\n",
              "      <th>3</th>\n",
              "      <td>X582HE161RUS</td>\n",
              "      <td>2</td>\n",
              "      <td>2,000.00</td>\n",
              "      <td>Ford</td>\n",
              "      <td>Focus</td>\n",
              "    </tr>\n",
              "    <tr>\n",
              "      <th>4</th>\n",
              "      <td>92918M178RUS</td>\n",
              "      <td>1</td>\n",
              "      <td>5,700.00</td>\n",
              "      <td>Ford</td>\n",
              "      <td>Focus</td>\n",
              "    </tr>\n",
              "  </tbody>\n",
              "</table>\n",
              "</div>"
            ],
            "text/plain": [
              "      CarNumber  Refund    Fines    Make  Model\n",
              "0  Y163O8161RUS       2 3,200.00    Ford  Focus\n",
              "1   E432XX77RUS       1 6,500.00  Toyota  Camry\n",
              "2   7184TT36RUS       1 2,100.00    Ford  Focus\n",
              "3  X582HE161RUS       2 2,000.00    Ford  Focus\n",
              "4  92918M178RUS       1 5,700.00    Ford  Focus"
            ]
          },
          "metadata": {
            "tags": []
          },
          "execution_count": 8
        }
      ]
    },
    {
      "cell_type": "code",
      "metadata": {
        "id": "5t6uP08H6ZfZ",
        "colab_type": "code",
        "colab": {
          "base_uri": "https://localhost:8080/",
          "height": 34
        },
        "outputId": "0ab12886-93d8-4275-8da6-125478461dc2"
      },
      "source": [
        "len(df)"
      ],
      "execution_count": 9,
      "outputs": [
        {
          "output_type": "execute_result",
          "data": {
            "text/plain": [
              "825"
            ]
          },
          "metadata": {
            "tags": []
          },
          "execution_count": 9
        }
      ]
    },
    {
      "cell_type": "code",
      "metadata": {
        "id": "zcVDxhod_DNW",
        "colab_type": "code",
        "colab": {}
      },
      "source": [
        "np.random.seed(21)"
      ],
      "execution_count": 0,
      "outputs": []
    },
    {
      "cell_type": "code",
      "metadata": {
        "id": "fpJyl2Gkv2up",
        "colab_type": "code",
        "colab": {}
      },
      "source": [
        "indices = [np.random.randint(825) for i in range(200)]\n",
        "data = {'CarNumber': [df['CarNumber'][i] for i in indices]}\n",
        "data.update({col: [np.random.choice(df[col]) for i in range(200)]\n",
        "             for col in ['Refund', 'Fines']})\n",
        "data.update({col: [df[col][i] for i in indices] for col in ['Make', 'Model']})\n",
        "\n",
        "df2 = pd.DataFrame(data)"
      ],
      "execution_count": 0,
      "outputs": []
    },
    {
      "cell_type": "code",
      "metadata": {
        "id": "ieljt0lsxsts",
        "colab_type": "code",
        "colab": {
          "base_uri": "https://localhost:8080/",
          "height": 204
        },
        "outputId": "e2730248-76c3-43ff-8ee1-2319b16b45af"
      },
      "source": [
        "df2.head()"
      ],
      "execution_count": 18,
      "outputs": [
        {
          "output_type": "execute_result",
          "data": {
            "text/html": [
              "<div>\n",
              "<style scoped>\n",
              "    .dataframe tbody tr th:only-of-type {\n",
              "        vertical-align: middle;\n",
              "    }\n",
              "\n",
              "    .dataframe tbody tr th {\n",
              "        vertical-align: top;\n",
              "    }\n",
              "\n",
              "    .dataframe thead th {\n",
              "        text-align: right;\n",
              "    }\n",
              "</style>\n",
              "<table border=\"1\" class=\"dataframe\">\n",
              "  <thead>\n",
              "    <tr style=\"text-align: right;\">\n",
              "      <th></th>\n",
              "      <th>CarNumber</th>\n",
              "      <th>Refund</th>\n",
              "      <th>Fines</th>\n",
              "      <th>Make</th>\n",
              "      <th>Model</th>\n",
              "    </tr>\n",
              "  </thead>\n",
              "  <tbody>\n",
              "    <tr>\n",
              "      <th>0</th>\n",
              "      <td>T020MM116RUS</td>\n",
              "      <td>2</td>\n",
              "      <td>10,200.00</td>\n",
              "      <td>Skoda</td>\n",
              "      <td>Octavia</td>\n",
              "    </tr>\n",
              "    <tr>\n",
              "      <th>1</th>\n",
              "      <td>7361C8197RUS</td>\n",
              "      <td>2</td>\n",
              "      <td>4,000.00</td>\n",
              "      <td>Ford</td>\n",
              "      <td>Focus</td>\n",
              "    </tr>\n",
              "    <tr>\n",
              "      <th>2</th>\n",
              "      <td>M580CH197RUS</td>\n",
              "      <td>2</td>\n",
              "      <td>18,900.00</td>\n",
              "      <td>Ford</td>\n",
              "      <td>Focus</td>\n",
              "    </tr>\n",
              "    <tr>\n",
              "      <th>3</th>\n",
              "      <td>T940CC96RUS</td>\n",
              "      <td>2</td>\n",
              "      <td>8,238.22</td>\n",
              "      <td>Ford</td>\n",
              "      <td>Focus</td>\n",
              "    </tr>\n",
              "    <tr>\n",
              "      <th>4</th>\n",
              "      <td>T6418M116RUS</td>\n",
              "      <td>1</td>\n",
              "      <td>12,000.00</td>\n",
              "      <td>Ford</td>\n",
              "      <td>Focus</td>\n",
              "    </tr>\n",
              "  </tbody>\n",
              "</table>\n",
              "</div>"
            ],
            "text/plain": [
              "      CarNumber  Refund     Fines   Make    Model\n",
              "0  T020MM116RUS       2 10,200.00  Skoda  Octavia\n",
              "1  7361C8197RUS       2  4,000.00   Ford    Focus\n",
              "2  M580CH197RUS       2 18,900.00   Ford    Focus\n",
              "3   T940CC96RUS       2  8,238.22   Ford    Focus\n",
              "4  T6418M116RUS       1 12,000.00   Ford    Focus"
            ]
          },
          "metadata": {
            "tags": []
          },
          "execution_count": 18
        }
      ]
    },
    {
      "cell_type": "code",
      "metadata": {
        "id": "nAKeerfOx0y7",
        "colab_type": "code",
        "colab": {}
      },
      "source": [
        "concat_rows = pd.concat([df, df2])"
      ],
      "execution_count": 0,
      "outputs": []
    },
    {
      "cell_type": "code",
      "metadata": {
        "id": "KjVEnRursp0e",
        "colab_type": "code",
        "colab": {
          "base_uri": "https://localhost:8080/",
          "height": 204
        },
        "outputId": "a14861d4-1e70-464b-d66c-d44f6556b322"
      },
      "source": [
        "concat_rows.head()"
      ],
      "execution_count": 20,
      "outputs": [
        {
          "output_type": "execute_result",
          "data": {
            "text/html": [
              "<div>\n",
              "<style scoped>\n",
              "    .dataframe tbody tr th:only-of-type {\n",
              "        vertical-align: middle;\n",
              "    }\n",
              "\n",
              "    .dataframe tbody tr th {\n",
              "        vertical-align: top;\n",
              "    }\n",
              "\n",
              "    .dataframe thead th {\n",
              "        text-align: right;\n",
              "    }\n",
              "</style>\n",
              "<table border=\"1\" class=\"dataframe\">\n",
              "  <thead>\n",
              "    <tr style=\"text-align: right;\">\n",
              "      <th></th>\n",
              "      <th>CarNumber</th>\n",
              "      <th>Refund</th>\n",
              "      <th>Fines</th>\n",
              "      <th>Make</th>\n",
              "      <th>Model</th>\n",
              "    </tr>\n",
              "  </thead>\n",
              "  <tbody>\n",
              "    <tr>\n",
              "      <th>0</th>\n",
              "      <td>Y163O8161RUS</td>\n",
              "      <td>2</td>\n",
              "      <td>3,200.00</td>\n",
              "      <td>Ford</td>\n",
              "      <td>Focus</td>\n",
              "    </tr>\n",
              "    <tr>\n",
              "      <th>1</th>\n",
              "      <td>E432XX77RUS</td>\n",
              "      <td>1</td>\n",
              "      <td>6,500.00</td>\n",
              "      <td>Toyota</td>\n",
              "      <td>Camry</td>\n",
              "    </tr>\n",
              "    <tr>\n",
              "      <th>2</th>\n",
              "      <td>7184TT36RUS</td>\n",
              "      <td>1</td>\n",
              "      <td>2,100.00</td>\n",
              "      <td>Ford</td>\n",
              "      <td>Focus</td>\n",
              "    </tr>\n",
              "    <tr>\n",
              "      <th>3</th>\n",
              "      <td>X582HE161RUS</td>\n",
              "      <td>2</td>\n",
              "      <td>2,000.00</td>\n",
              "      <td>Ford</td>\n",
              "      <td>Focus</td>\n",
              "    </tr>\n",
              "    <tr>\n",
              "      <th>4</th>\n",
              "      <td>92918M178RUS</td>\n",
              "      <td>1</td>\n",
              "      <td>5,700.00</td>\n",
              "      <td>Ford</td>\n",
              "      <td>Focus</td>\n",
              "    </tr>\n",
              "  </tbody>\n",
              "</table>\n",
              "</div>"
            ],
            "text/plain": [
              "      CarNumber  Refund    Fines    Make  Model\n",
              "0  Y163O8161RUS       2 3,200.00    Ford  Focus\n",
              "1   E432XX77RUS       1 6,500.00  Toyota  Camry\n",
              "2   7184TT36RUS       1 2,100.00    Ford  Focus\n",
              "3  X582HE161RUS       2 2,000.00    Ford  Focus\n",
              "4  92918M178RUS       1 5,700.00    Ford  Focus"
            ]
          },
          "metadata": {
            "tags": []
          },
          "execution_count": 20
        }
      ]
    },
    {
      "cell_type": "code",
      "metadata": {
        "id": "IwK60I2Yst7u",
        "colab_type": "code",
        "colab": {
          "base_uri": "https://localhost:8080/",
          "height": 119
        },
        "outputId": "1cf6bd13-3b0a-4b79-d2ea-f0effd375b56"
      },
      "source": [
        "concat_rows.count()"
      ],
      "execution_count": 21,
      "outputs": [
        {
          "output_type": "execute_result",
          "data": {
            "text/plain": [
              "CarNumber    1025\n",
              "Refund       1025\n",
              "Fines        1025\n",
              "Make         1025\n",
              "Model        1006\n",
              "dtype: int64"
            ]
          },
          "metadata": {
            "tags": []
          },
          "execution_count": 21
        }
      ]
    },
    {
      "cell_type": "code",
      "metadata": {
        "id": "bXAz6oqOzvi0",
        "colab_type": "code",
        "colab": {}
      },
      "source": [
        "fines = concat_rows"
      ],
      "execution_count": 0,
      "outputs": []
    },
    {
      "cell_type": "code",
      "metadata": {
        "id": "KwpQdkgjx9_M",
        "colab_type": "code",
        "colab": {}
      },
      "source": [
        "fines['Year'] = pd.Series([np.random.randint(1980, 2020) for i in range(1025)])"
      ],
      "execution_count": 0,
      "outputs": []
    },
    {
      "cell_type": "code",
      "metadata": {
        "id": "_2MRWHplyb5Q",
        "colab_type": "code",
        "colab": {
          "base_uri": "https://localhost:8080/",
          "height": 204
        },
        "outputId": "742bef1b-9607-4933-9d58-68a0f4797799"
      },
      "source": [
        "fines.head()"
      ],
      "execution_count": 24,
      "outputs": [
        {
          "output_type": "execute_result",
          "data": {
            "text/html": [
              "<div>\n",
              "<style scoped>\n",
              "    .dataframe tbody tr th:only-of-type {\n",
              "        vertical-align: middle;\n",
              "    }\n",
              "\n",
              "    .dataframe tbody tr th {\n",
              "        vertical-align: top;\n",
              "    }\n",
              "\n",
              "    .dataframe thead th {\n",
              "        text-align: right;\n",
              "    }\n",
              "</style>\n",
              "<table border=\"1\" class=\"dataframe\">\n",
              "  <thead>\n",
              "    <tr style=\"text-align: right;\">\n",
              "      <th></th>\n",
              "      <th>CarNumber</th>\n",
              "      <th>Refund</th>\n",
              "      <th>Fines</th>\n",
              "      <th>Make</th>\n",
              "      <th>Model</th>\n",
              "      <th>Year</th>\n",
              "    </tr>\n",
              "  </thead>\n",
              "  <tbody>\n",
              "    <tr>\n",
              "      <th>0</th>\n",
              "      <td>Y163O8161RUS</td>\n",
              "      <td>2</td>\n",
              "      <td>3,200.00</td>\n",
              "      <td>Ford</td>\n",
              "      <td>Focus</td>\n",
              "      <td>1983</td>\n",
              "    </tr>\n",
              "    <tr>\n",
              "      <th>1</th>\n",
              "      <td>E432XX77RUS</td>\n",
              "      <td>1</td>\n",
              "      <td>6,500.00</td>\n",
              "      <td>Toyota</td>\n",
              "      <td>Camry</td>\n",
              "      <td>1996</td>\n",
              "    </tr>\n",
              "    <tr>\n",
              "      <th>2</th>\n",
              "      <td>7184TT36RUS</td>\n",
              "      <td>1</td>\n",
              "      <td>2,100.00</td>\n",
              "      <td>Ford</td>\n",
              "      <td>Focus</td>\n",
              "      <td>1983</td>\n",
              "    </tr>\n",
              "    <tr>\n",
              "      <th>3</th>\n",
              "      <td>X582HE161RUS</td>\n",
              "      <td>2</td>\n",
              "      <td>2,000.00</td>\n",
              "      <td>Ford</td>\n",
              "      <td>Focus</td>\n",
              "      <td>1997</td>\n",
              "    </tr>\n",
              "    <tr>\n",
              "      <th>4</th>\n",
              "      <td>92918M178RUS</td>\n",
              "      <td>1</td>\n",
              "      <td>5,700.00</td>\n",
              "      <td>Ford</td>\n",
              "      <td>Focus</td>\n",
              "      <td>2007</td>\n",
              "    </tr>\n",
              "  </tbody>\n",
              "</table>\n",
              "</div>"
            ],
            "text/plain": [
              "      CarNumber  Refund    Fines    Make  Model  Year\n",
              "0  Y163O8161RUS       2 3,200.00    Ford  Focus  1983\n",
              "1   E432XX77RUS       1 6,500.00  Toyota  Camry  1996\n",
              "2   7184TT36RUS       1 2,100.00    Ford  Focus  1983\n",
              "3  X582HE161RUS       2 2,000.00    Ford  Focus  1997\n",
              "4  92918M178RUS       1 5,700.00    Ford  Focus  2007"
            ]
          },
          "metadata": {
            "tags": []
          },
          "execution_count": 24
        }
      ]
    },
    {
      "cell_type": "code",
      "metadata": {
        "id": "cTLKh4WSyg-_",
        "colab_type": "code",
        "colab": {
          "base_uri": "https://localhost:8080/",
          "height": 136
        },
        "outputId": "b50524f1-a885-4caf-fae1-9929208dc9de"
      },
      "source": [
        "fines.count()"
      ],
      "execution_count": 25,
      "outputs": [
        {
          "output_type": "execute_result",
          "data": {
            "text/plain": [
              "CarNumber    1025\n",
              "Refund       1025\n",
              "Fines        1025\n",
              "Make         1025\n",
              "Model        1006\n",
              "Year         1025\n",
              "dtype: int64"
            ]
          },
          "metadata": {
            "tags": []
          },
          "execution_count": 25
        }
      ]
    },
    {
      "cell_type": "code",
      "metadata": {
        "id": "3KBKRAvf01xf",
        "colab_type": "code",
        "colab": {}
      },
      "source": [
        "url = 'https://api.census.gov/data/2010/surname?get=NAME,COUNT&RANK=1:100'\n",
        "chars = '\"\"[],0123456789'\n",
        "page = requests.get(url).text\n",
        "surnames = [line.strip(chars).capitalize() for line in page.split('\\n')]"
      ],
      "execution_count": 0,
      "outputs": []
    },
    {
      "cell_type": "code",
      "metadata": {
        "id": "Y9iYI7NQ2bE1",
        "colab_type": "code",
        "colab": {}
      },
      "source": [
        "owners = pd.DataFrame(\n",
        "    {'CarNumber': fines['CarNumber'][:825],\n",
        "     'NAME': [np.random.choice(surnames) for i in range(825)]}\n",
        "     )"
      ],
      "execution_count": 0,
      "outputs": []
    },
    {
      "cell_type": "code",
      "metadata": {
        "id": "E_3Dc2Xv3cpR",
        "colab_type": "code",
        "colab": {
          "base_uri": "https://localhost:8080/",
          "height": 204
        },
        "outputId": "2c339054-de94-4e25-c337-4f32abf63c73"
      },
      "source": [
        "owners.head()"
      ],
      "execution_count": 28,
      "outputs": [
        {
          "output_type": "execute_result",
          "data": {
            "text/html": [
              "<div>\n",
              "<style scoped>\n",
              "    .dataframe tbody tr th:only-of-type {\n",
              "        vertical-align: middle;\n",
              "    }\n",
              "\n",
              "    .dataframe tbody tr th {\n",
              "        vertical-align: top;\n",
              "    }\n",
              "\n",
              "    .dataframe thead th {\n",
              "        text-align: right;\n",
              "    }\n",
              "</style>\n",
              "<table border=\"1\" class=\"dataframe\">\n",
              "  <thead>\n",
              "    <tr style=\"text-align: right;\">\n",
              "      <th></th>\n",
              "      <th>CarNumber</th>\n",
              "      <th>NAME</th>\n",
              "    </tr>\n",
              "  </thead>\n",
              "  <tbody>\n",
              "    <tr>\n",
              "      <th>0</th>\n",
              "      <td>Y163O8161RUS</td>\n",
              "      <td>Patel</td>\n",
              "    </tr>\n",
              "    <tr>\n",
              "      <th>1</th>\n",
              "      <td>E432XX77RUS</td>\n",
              "      <td>Wright</td>\n",
              "    </tr>\n",
              "    <tr>\n",
              "      <th>2</th>\n",
              "      <td>7184TT36RUS</td>\n",
              "      <td>Rodriguez</td>\n",
              "    </tr>\n",
              "    <tr>\n",
              "      <th>3</th>\n",
              "      <td>X582HE161RUS</td>\n",
              "      <td>Young</td>\n",
              "    </tr>\n",
              "    <tr>\n",
              "      <th>4</th>\n",
              "      <td>92918M178RUS</td>\n",
              "      <td>Cox</td>\n",
              "    </tr>\n",
              "  </tbody>\n",
              "</table>\n",
              "</div>"
            ],
            "text/plain": [
              "      CarNumber       NAME\n",
              "0  Y163O8161RUS      Patel\n",
              "1   E432XX77RUS     Wright\n",
              "2   7184TT36RUS  Rodriguez\n",
              "3  X582HE161RUS      Young\n",
              "4  92918M178RUS        Cox"
            ]
          },
          "metadata": {
            "tags": []
          },
          "execution_count": 28
        }
      ]
    },
    {
      "cell_type": "code",
      "metadata": {
        "id": "kVQEfpFhuDka",
        "colab_type": "code",
        "colab": {}
      },
      "source": [
        "digits = list('0123456789')\n",
        "letters = list('ABCDEFGHIJKLMNOPQRSTUVWXYZ')"
      ],
      "execution_count": 0,
      "outputs": []
    },
    {
      "cell_type": "code",
      "metadata": {
        "id": "cTRJWQP2t7iL",
        "colab_type": "code",
        "colab": {}
      },
      "source": [
        "def generate_car_number():\n",
        "    res = np.random.choice(digits + letters)\n",
        "    for i in range(3):\n",
        "        res += np.random.choice(digits)\n",
        "    for i in range(2):\n",
        "        res += np.random.choice(digits + letters)\n",
        "    for i in range(3):\n",
        "        res += np.random.choice(digits)\n",
        "    res += 'RUS'\n",
        "    return res"
      ],
      "execution_count": 0,
      "outputs": []
    },
    {
      "cell_type": "code",
      "metadata": {
        "id": "Idk_xL4i30Bn",
        "colab_type": "code",
        "colab": {}
      },
      "source": [
        "data = {'CarNumber': [generate_car_number() for i in range(5)]}\n",
        "data.update({col: [np.random.choice(fines[col]) for i in range(5)]\n",
        "             for col in ['Refund', 'Fines', 'Make', 'Model', 'Year']})\n",
        "\n",
        "fines = pd.concat([fines, pd.DataFrame(data)])"
      ],
      "execution_count": 0,
      "outputs": []
    },
    {
      "cell_type": "code",
      "metadata": {
        "id": "Rv021Y804RWt",
        "colab_type": "code",
        "colab": {
          "base_uri": "https://localhost:8080/",
          "height": 34
        },
        "outputId": "c7c42933-acb7-46ba-fd55-420bd2ad7d50"
      },
      "source": [
        "len(fines)"
      ],
      "execution_count": 32,
      "outputs": [
        {
          "output_type": "execute_result",
          "data": {
            "text/plain": [
              "1030"
            ]
          },
          "metadata": {
            "tags": []
          },
          "execution_count": 32
        }
      ]
    },
    {
      "cell_type": "code",
      "metadata": {
        "id": "_2hXrQwr4UOz",
        "colab_type": "code",
        "colab": {}
      },
      "source": [
        "owners = owners.drop(owners.tail(20).index)"
      ],
      "execution_count": 0,
      "outputs": []
    },
    {
      "cell_type": "code",
      "metadata": {
        "id": "BwPHNLFu4rBX",
        "colab_type": "code",
        "colab": {}
      },
      "source": [
        "data = {'CarNumber': [generate_car_number() for i in range(5)],\n",
        "        'NAME': [np.random.choice(surnames) for i in range(5)]}\n",
        "\n",
        "owners = pd.concat([owners, pd.DataFrame(data)])"
      ],
      "execution_count": 0,
      "outputs": []
    },
    {
      "cell_type": "code",
      "metadata": {
        "id": "DhNbL7vu44qX",
        "colab_type": "code",
        "colab": {
          "base_uri": "https://localhost:8080/",
          "height": 34
        },
        "outputId": "82ebf592-34ef-4bff-c9bb-51e35caf19f6"
      },
      "source": [
        "len(owners)"
      ],
      "execution_count": 35,
      "outputs": [
        {
          "output_type": "execute_result",
          "data": {
            "text/plain": [
              "810"
            ]
          },
          "metadata": {
            "tags": []
          },
          "execution_count": 35
        }
      ]
    },
    {
      "cell_type": "code",
      "metadata": {
        "id": "pQzplOgo9njG",
        "colab_type": "code",
        "colab": {
          "base_uri": "https://localhost:8080/",
          "height": 441
        },
        "outputId": "804d30ed-54eb-499d-b3e2-97eb7e6b4023"
      },
      "source": [
        "pd.pivot_table(fines, values='Fines', index=['Make', 'Model'], columns=['Year'],\n",
        "               aggfunc=np.sum)"
      ],
      "execution_count": 36,
      "outputs": [
        {
          "output_type": "execute_result",
          "data": {
            "text/html": [
              "<div>\n",
              "<style scoped>\n",
              "    .dataframe tbody tr th:only-of-type {\n",
              "        vertical-align: middle;\n",
              "    }\n",
              "\n",
              "    .dataframe tbody tr th {\n",
              "        vertical-align: top;\n",
              "    }\n",
              "\n",
              "    .dataframe thead th {\n",
              "        text-align: right;\n",
              "    }\n",
              "</style>\n",
              "<table border=\"1\" class=\"dataframe\">\n",
              "  <thead>\n",
              "    <tr style=\"text-align: right;\">\n",
              "      <th></th>\n",
              "      <th>Year</th>\n",
              "      <th>1980</th>\n",
              "      <th>1981</th>\n",
              "      <th>1982</th>\n",
              "      <th>1983</th>\n",
              "      <th>1984</th>\n",
              "      <th>1985</th>\n",
              "      <th>1986</th>\n",
              "      <th>1987</th>\n",
              "      <th>1988</th>\n",
              "      <th>1989</th>\n",
              "      <th>1990</th>\n",
              "      <th>1991</th>\n",
              "      <th>1992</th>\n",
              "      <th>1993</th>\n",
              "      <th>1994</th>\n",
              "      <th>1995</th>\n",
              "      <th>1996</th>\n",
              "      <th>1997</th>\n",
              "      <th>1998</th>\n",
              "      <th>1999</th>\n",
              "      <th>2000</th>\n",
              "      <th>2001</th>\n",
              "      <th>2002</th>\n",
              "      <th>2003</th>\n",
              "      <th>2004</th>\n",
              "      <th>2005</th>\n",
              "      <th>2006</th>\n",
              "      <th>2007</th>\n",
              "      <th>2008</th>\n",
              "      <th>2009</th>\n",
              "      <th>2010</th>\n",
              "      <th>2011</th>\n",
              "      <th>2012</th>\n",
              "      <th>2013</th>\n",
              "      <th>2014</th>\n",
              "      <th>2015</th>\n",
              "      <th>2016</th>\n",
              "      <th>2017</th>\n",
              "      <th>2018</th>\n",
              "      <th>2019</th>\n",
              "    </tr>\n",
              "    <tr>\n",
              "      <th>Make</th>\n",
              "      <th>Model</th>\n",
              "      <th></th>\n",
              "      <th></th>\n",
              "      <th></th>\n",
              "      <th></th>\n",
              "      <th></th>\n",
              "      <th></th>\n",
              "      <th></th>\n",
              "      <th></th>\n",
              "      <th></th>\n",
              "      <th></th>\n",
              "      <th></th>\n",
              "      <th></th>\n",
              "      <th></th>\n",
              "      <th></th>\n",
              "      <th></th>\n",
              "      <th></th>\n",
              "      <th></th>\n",
              "      <th></th>\n",
              "      <th></th>\n",
              "      <th></th>\n",
              "      <th></th>\n",
              "      <th></th>\n",
              "      <th></th>\n",
              "      <th></th>\n",
              "      <th></th>\n",
              "      <th></th>\n",
              "      <th></th>\n",
              "      <th></th>\n",
              "      <th></th>\n",
              "      <th></th>\n",
              "      <th></th>\n",
              "      <th></th>\n",
              "      <th></th>\n",
              "      <th></th>\n",
              "      <th></th>\n",
              "      <th></th>\n",
              "      <th></th>\n",
              "      <th></th>\n",
              "      <th></th>\n",
              "      <th></th>\n",
              "    </tr>\n",
              "  </thead>\n",
              "  <tbody>\n",
              "    <tr>\n",
              "      <th rowspan=\"2\" valign=\"top\">Ford</th>\n",
              "      <th>Focus</th>\n",
              "      <td>125,552.88</td>\n",
              "      <td>227,338.22</td>\n",
              "      <td>128,352.88</td>\n",
              "      <td>181,676.44</td>\n",
              "      <td>133,300.00</td>\n",
              "      <td>202,500.00</td>\n",
              "      <td>229,738.22</td>\n",
              "      <td>251,276.44</td>\n",
              "      <td>220,214.66</td>\n",
              "      <td>145,838.22</td>\n",
              "      <td>91,314.66</td>\n",
              "      <td>361,138.22</td>\n",
              "      <td>91,076.44</td>\n",
              "      <td>164,100.00</td>\n",
              "      <td>78,914.66</td>\n",
              "      <td>97,938.22</td>\n",
              "      <td>176,438.22</td>\n",
              "      <td>119,614.66</td>\n",
              "      <td>141,400.00</td>\n",
              "      <td>75,700.00</td>\n",
              "      <td>148,838.22</td>\n",
              "      <td>114,914.66</td>\n",
              "      <td>151,614.66</td>\n",
              "      <td>145,100.00</td>\n",
              "      <td>94,638.22</td>\n",
              "      <td>113,538.22</td>\n",
              "      <td>206,200.00</td>\n",
              "      <td>105,800.00</td>\n",
              "      <td>88,738.22</td>\n",
              "      <td>359,214.66</td>\n",
              "      <td>187,038.22</td>\n",
              "      <td>217,538.22</td>\n",
              "      <td>63,538.22</td>\n",
              "      <td>125,738.22</td>\n",
              "      <td>162,538.22</td>\n",
              "      <td>188,538.22</td>\n",
              "      <td>347,114.66</td>\n",
              "      <td>137,876.44</td>\n",
              "      <td>79,700.00</td>\n",
              "      <td>171,076.44</td>\n",
              "    </tr>\n",
              "    <tr>\n",
              "      <th>Mondeo</th>\n",
              "      <td>nan</td>\n",
              "      <td>19,800.00</td>\n",
              "      <td>46,200.00</td>\n",
              "      <td>1,100.00</td>\n",
              "      <td>6,700.00</td>\n",
              "      <td>nan</td>\n",
              "      <td>nan</td>\n",
              "      <td>nan</td>\n",
              "      <td>nan</td>\n",
              "      <td>1,100.00</td>\n",
              "      <td>nan</td>\n",
              "      <td>nan</td>\n",
              "      <td>nan</td>\n",
              "      <td>nan</td>\n",
              "      <td>8,600.00</td>\n",
              "      <td>6,700.00</td>\n",
              "      <td>34,400.00</td>\n",
              "      <td>nan</td>\n",
              "      <td>nan</td>\n",
              "      <td>nan</td>\n",
              "      <td>nan</td>\n",
              "      <td>nan</td>\n",
              "      <td>nan</td>\n",
              "      <td>34,400.00</td>\n",
              "      <td>nan</td>\n",
              "      <td>nan</td>\n",
              "      <td>nan</td>\n",
              "      <td>nan</td>\n",
              "      <td>nan</td>\n",
              "      <td>10,600.00</td>\n",
              "      <td>nan</td>\n",
              "      <td>nan</td>\n",
              "      <td>nan</td>\n",
              "      <td>2,200.00</td>\n",
              "      <td>nan</td>\n",
              "      <td>nan</td>\n",
              "      <td>26,000.00</td>\n",
              "      <td>8,600.00</td>\n",
              "      <td>nan</td>\n",
              "      <td>nan</td>\n",
              "    </tr>\n",
              "    <tr>\n",
              "      <th>Skoda</th>\n",
              "      <th>Octavia</th>\n",
              "      <td>10,238.22</td>\n",
              "      <td>nan</td>\n",
              "      <td>500.00</td>\n",
              "      <td>14,200.00</td>\n",
              "      <td>nan</td>\n",
              "      <td>nan</td>\n",
              "      <td>nan</td>\n",
              "      <td>110,438.22</td>\n",
              "      <td>2,000.00</td>\n",
              "      <td>12,000.00</td>\n",
              "      <td>13,100.00</td>\n",
              "      <td>nan</td>\n",
              "      <td>63,300.00</td>\n",
              "      <td>100.00</td>\n",
              "      <td>28,200.00</td>\n",
              "      <td>21,238.22</td>\n",
              "      <td>nan</td>\n",
              "      <td>3,000.00</td>\n",
              "      <td>3,800.00</td>\n",
              "      <td>2,000.00</td>\n",
              "      <td>2,000.00</td>\n",
              "      <td>145,000.00</td>\n",
              "      <td>47,576.44</td>\n",
              "      <td>300.00</td>\n",
              "      <td>nan</td>\n",
              "      <td>5,100.00</td>\n",
              "      <td>nan</td>\n",
              "      <td>27,138.22</td>\n",
              "      <td>nan</td>\n",
              "      <td>6,300.00</td>\n",
              "      <td>3,900.00</td>\n",
              "      <td>nan</td>\n",
              "      <td>500.00</td>\n",
              "      <td>11,000.00</td>\n",
              "      <td>8,538.22</td>\n",
              "      <td>37,800.00</td>\n",
              "      <td>4,000.00</td>\n",
              "      <td>25,400.00</td>\n",
              "      <td>11,600.00</td>\n",
              "      <td>19,600.00</td>\n",
              "    </tr>\n",
              "    <tr>\n",
              "      <th rowspan=\"2\" valign=\"top\">Toyota</th>\n",
              "      <th>Camry</th>\n",
              "      <td>nan</td>\n",
              "      <td>19,800.00</td>\n",
              "      <td>nan</td>\n",
              "      <td>8,238.22</td>\n",
              "      <td>nan</td>\n",
              "      <td>5,200.00</td>\n",
              "      <td>nan</td>\n",
              "      <td>600.00</td>\n",
              "      <td>26,800.00</td>\n",
              "      <td>nan</td>\n",
              "      <td>nan</td>\n",
              "      <td>nan</td>\n",
              "      <td>nan</td>\n",
              "      <td>nan</td>\n",
              "      <td>nan</td>\n",
              "      <td>nan</td>\n",
              "      <td>6,500.00</td>\n",
              "      <td>nan</td>\n",
              "      <td>2,400.00</td>\n",
              "      <td>nan</td>\n",
              "      <td>8,000.00</td>\n",
              "      <td>13,000.00</td>\n",
              "      <td>nan</td>\n",
              "      <td>15,400.00</td>\n",
              "      <td>1,000.00</td>\n",
              "      <td>nan</td>\n",
              "      <td>nan</td>\n",
              "      <td>nan</td>\n",
              "      <td>nan</td>\n",
              "      <td>nan</td>\n",
              "      <td>1,500.00</td>\n",
              "      <td>nan</td>\n",
              "      <td>nan</td>\n",
              "      <td>12,000.00</td>\n",
              "      <td>1,000.00</td>\n",
              "      <td>10,600.00</td>\n",
              "      <td>nan</td>\n",
              "      <td>nan</td>\n",
              "      <td>nan</td>\n",
              "      <td>8,238.22</td>\n",
              "    </tr>\n",
              "    <tr>\n",
              "      <th>Corolla</th>\n",
              "      <td>8,000.00</td>\n",
              "      <td>34,300.00</td>\n",
              "      <td>nan</td>\n",
              "      <td>300.00</td>\n",
              "      <td>nan</td>\n",
              "      <td>nan</td>\n",
              "      <td>nan</td>\n",
              "      <td>7,800.00</td>\n",
              "      <td>8,900.00</td>\n",
              "      <td>nan</td>\n",
              "      <td>7,600.00</td>\n",
              "      <td>nan</td>\n",
              "      <td>nan</td>\n",
              "      <td>3,200.00</td>\n",
              "      <td>12,238.22</td>\n",
              "      <td>nan</td>\n",
              "      <td>nan</td>\n",
              "      <td>nan</td>\n",
              "      <td>12,700.00</td>\n",
              "      <td>9,600.00</td>\n",
              "      <td>nan</td>\n",
              "      <td>nan</td>\n",
              "      <td>nan</td>\n",
              "      <td>2,000.00</td>\n",
              "      <td>24,000.00</td>\n",
              "      <td>6,800.00</td>\n",
              "      <td>nan</td>\n",
              "      <td>nan</td>\n",
              "      <td>3,400.00</td>\n",
              "      <td>30,300.00</td>\n",
              "      <td>16,000.00</td>\n",
              "      <td>nan</td>\n",
              "      <td>nan</td>\n",
              "      <td>2,000.00</td>\n",
              "      <td>nan</td>\n",
              "      <td>nan</td>\n",
              "      <td>4,400.00</td>\n",
              "      <td>900.00</td>\n",
              "      <td>nan</td>\n",
              "      <td>nan</td>\n",
              "    </tr>\n",
              "    <tr>\n",
              "      <th rowspan=\"5\" valign=\"top\">Volkswagen</th>\n",
              "      <th>Focus</th>\n",
              "      <td>nan</td>\n",
              "      <td>nan</td>\n",
              "      <td>nan</td>\n",
              "      <td>43,600.00</td>\n",
              "      <td>nan</td>\n",
              "      <td>nan</td>\n",
              "      <td>nan</td>\n",
              "      <td>nan</td>\n",
              "      <td>nan</td>\n",
              "      <td>nan</td>\n",
              "      <td>nan</td>\n",
              "      <td>nan</td>\n",
              "      <td>nan</td>\n",
              "      <td>nan</td>\n",
              "      <td>nan</td>\n",
              "      <td>nan</td>\n",
              "      <td>nan</td>\n",
              "      <td>nan</td>\n",
              "      <td>nan</td>\n",
              "      <td>nan</td>\n",
              "      <td>nan</td>\n",
              "      <td>nan</td>\n",
              "      <td>nan</td>\n",
              "      <td>nan</td>\n",
              "      <td>nan</td>\n",
              "      <td>nan</td>\n",
              "      <td>nan</td>\n",
              "      <td>nan</td>\n",
              "      <td>nan</td>\n",
              "      <td>nan</td>\n",
              "      <td>nan</td>\n",
              "      <td>nan</td>\n",
              "      <td>nan</td>\n",
              "      <td>nan</td>\n",
              "      <td>nan</td>\n",
              "      <td>nan</td>\n",
              "      <td>nan</td>\n",
              "      <td>nan</td>\n",
              "      <td>nan</td>\n",
              "      <td>nan</td>\n",
              "    </tr>\n",
              "    <tr>\n",
              "      <th>Golf</th>\n",
              "      <td>nan</td>\n",
              "      <td>10,600.00</td>\n",
              "      <td>10,100.00</td>\n",
              "      <td>nan</td>\n",
              "      <td>nan</td>\n",
              "      <td>10,600.00</td>\n",
              "      <td>9,000.00</td>\n",
              "      <td>4,600.00</td>\n",
              "      <td>nan</td>\n",
              "      <td>30,900.00</td>\n",
              "      <td>nan</td>\n",
              "      <td>nan</td>\n",
              "      <td>nan</td>\n",
              "      <td>9,300.00</td>\n",
              "      <td>nan</td>\n",
              "      <td>200.00</td>\n",
              "      <td>24,000.00</td>\n",
              "      <td>nan</td>\n",
              "      <td>nan</td>\n",
              "      <td>300.00</td>\n",
              "      <td>nan</td>\n",
              "      <td>nan</td>\n",
              "      <td>nan</td>\n",
              "      <td>nan</td>\n",
              "      <td>nan</td>\n",
              "      <td>188,800.00</td>\n",
              "      <td>5,000.00</td>\n",
              "      <td>nan</td>\n",
              "      <td>2,300.00</td>\n",
              "      <td>32,000.00</td>\n",
              "      <td>nan</td>\n",
              "      <td>5,300.00</td>\n",
              "      <td>8,538.22</td>\n",
              "      <td>nan</td>\n",
              "      <td>300.00</td>\n",
              "      <td>24,300.00</td>\n",
              "      <td>nan</td>\n",
              "      <td>nan</td>\n",
              "      <td>200.00</td>\n",
              "      <td>18,400.00</td>\n",
              "    </tr>\n",
              "    <tr>\n",
              "      <th>Jetta</th>\n",
              "      <td>nan</td>\n",
              "      <td>nan</td>\n",
              "      <td>nan</td>\n",
              "      <td>nan</td>\n",
              "      <td>nan</td>\n",
              "      <td>nan</td>\n",
              "      <td>nan</td>\n",
              "      <td>nan</td>\n",
              "      <td>nan</td>\n",
              "      <td>1,000.00</td>\n",
              "      <td>6,900.00</td>\n",
              "      <td>nan</td>\n",
              "      <td>nan</td>\n",
              "      <td>nan</td>\n",
              "      <td>nan</td>\n",
              "      <td>nan</td>\n",
              "      <td>1,200.00</td>\n",
              "      <td>46,000.00</td>\n",
              "      <td>nan</td>\n",
              "      <td>nan</td>\n",
              "      <td>nan</td>\n",
              "      <td>nan</td>\n",
              "      <td>nan</td>\n",
              "      <td>nan</td>\n",
              "      <td>nan</td>\n",
              "      <td>nan</td>\n",
              "      <td>nan</td>\n",
              "      <td>nan</td>\n",
              "      <td>nan</td>\n",
              "      <td>nan</td>\n",
              "      <td>40,600.00</td>\n",
              "      <td>500.00</td>\n",
              "      <td>nan</td>\n",
              "      <td>nan</td>\n",
              "      <td>nan</td>\n",
              "      <td>4,000.00</td>\n",
              "      <td>nan</td>\n",
              "      <td>1,600.00</td>\n",
              "      <td>9,000.00</td>\n",
              "      <td>nan</td>\n",
              "    </tr>\n",
              "    <tr>\n",
              "      <th>Passat</th>\n",
              "      <td>nan</td>\n",
              "      <td>nan</td>\n",
              "      <td>8,600.00</td>\n",
              "      <td>nan</td>\n",
              "      <td>300.00</td>\n",
              "      <td>600.00</td>\n",
              "      <td>9,900.00</td>\n",
              "      <td>nan</td>\n",
              "      <td>nan</td>\n",
              "      <td>nan</td>\n",
              "      <td>23,800.00</td>\n",
              "      <td>nan</td>\n",
              "      <td>500.00</td>\n",
              "      <td>3,000.00</td>\n",
              "      <td>10,238.22</td>\n",
              "      <td>nan</td>\n",
              "      <td>nan</td>\n",
              "      <td>4,400.00</td>\n",
              "      <td>16,138.22</td>\n",
              "      <td>nan</td>\n",
              "      <td>nan</td>\n",
              "      <td>nan</td>\n",
              "      <td>nan</td>\n",
              "      <td>9,500.00</td>\n",
              "      <td>11,400.00</td>\n",
              "      <td>3,600.00</td>\n",
              "      <td>nan</td>\n",
              "      <td>nan</td>\n",
              "      <td>nan</td>\n",
              "      <td>22,400.00</td>\n",
              "      <td>3,900.00</td>\n",
              "      <td>3,200.00</td>\n",
              "      <td>29,700.00</td>\n",
              "      <td>nan</td>\n",
              "      <td>nan</td>\n",
              "      <td>17,500.00</td>\n",
              "      <td>nan</td>\n",
              "      <td>13,238.22</td>\n",
              "      <td>8,100.00</td>\n",
              "      <td>9,000.00</td>\n",
              "    </tr>\n",
              "    <tr>\n",
              "      <th>Touareg</th>\n",
              "      <td>nan</td>\n",
              "      <td>nan</td>\n",
              "      <td>nan</td>\n",
              "      <td>6,300.00</td>\n",
              "      <td>nan</td>\n",
              "      <td>nan</td>\n",
              "      <td>nan</td>\n",
              "      <td>nan</td>\n",
              "      <td>nan</td>\n",
              "      <td>nan</td>\n",
              "      <td>nan</td>\n",
              "      <td>nan</td>\n",
              "      <td>nan</td>\n",
              "      <td>nan</td>\n",
              "      <td>nan</td>\n",
              "      <td>nan</td>\n",
              "      <td>nan</td>\n",
              "      <td>8,238.22</td>\n",
              "      <td>nan</td>\n",
              "      <td>nan</td>\n",
              "      <td>nan</td>\n",
              "      <td>nan</td>\n",
              "      <td>nan</td>\n",
              "      <td>nan</td>\n",
              "      <td>nan</td>\n",
              "      <td>nan</td>\n",
              "      <td>nan</td>\n",
              "      <td>5,800.00</td>\n",
              "      <td>nan</td>\n",
              "      <td>nan</td>\n",
              "      <td>5,800.00</td>\n",
              "      <td>nan</td>\n",
              "      <td>1,300.00</td>\n",
              "      <td>500.00</td>\n",
              "      <td>nan</td>\n",
              "      <td>nan</td>\n",
              "      <td>nan</td>\n",
              "      <td>nan</td>\n",
              "      <td>nan</td>\n",
              "      <td>nan</td>\n",
              "    </tr>\n",
              "    <tr>\n",
              "      <th>Volvo</th>\n",
              "      <th>Focus</th>\n",
              "      <td>nan</td>\n",
              "      <td>nan</td>\n",
              "      <td>nan</td>\n",
              "      <td>nan</td>\n",
              "      <td>nan</td>\n",
              "      <td>nan</td>\n",
              "      <td>nan</td>\n",
              "      <td>nan</td>\n",
              "      <td>nan</td>\n",
              "      <td>nan</td>\n",
              "      <td>nan</td>\n",
              "      <td>nan</td>\n",
              "      <td>nan</td>\n",
              "      <td>nan</td>\n",
              "      <td>nan</td>\n",
              "      <td>nan</td>\n",
              "      <td>nan</td>\n",
              "      <td>nan</td>\n",
              "      <td>nan</td>\n",
              "      <td>nan</td>\n",
              "      <td>nan</td>\n",
              "      <td>nan</td>\n",
              "      <td>nan</td>\n",
              "      <td>nan</td>\n",
              "      <td>nan</td>\n",
              "      <td>nan</td>\n",
              "      <td>nan</td>\n",
              "      <td>nan</td>\n",
              "      <td>nan</td>\n",
              "      <td>nan</td>\n",
              "      <td>nan</td>\n",
              "      <td>nan</td>\n",
              "      <td>nan</td>\n",
              "      <td>nan</td>\n",
              "      <td>nan</td>\n",
              "      <td>nan</td>\n",
              "      <td>nan</td>\n",
              "      <td>2,500.00</td>\n",
              "      <td>nan</td>\n",
              "      <td>nan</td>\n",
              "    </tr>\n",
              "  </tbody>\n",
              "</table>\n",
              "</div>"
            ],
            "text/plain": [
              "Year                     1980       1981  ...      2018       2019\n",
              "Make       Model                          ...                     \n",
              "Ford       Focus   125,552.88 227,338.22  ... 79,700.00 171,076.44\n",
              "           Mondeo         nan  19,800.00  ...       nan        nan\n",
              "Skoda      Octavia  10,238.22        nan  ... 11,600.00  19,600.00\n",
              "Toyota     Camry          nan  19,800.00  ...       nan   8,238.22\n",
              "           Corolla   8,000.00  34,300.00  ...       nan        nan\n",
              "Volkswagen Focus          nan        nan  ...       nan        nan\n",
              "           Golf           nan  10,600.00  ...    200.00  18,400.00\n",
              "           Jetta          nan        nan  ...  9,000.00        nan\n",
              "           Passat         nan        nan  ...  8,100.00   9,000.00\n",
              "           Touareg        nan        nan  ...       nan        nan\n",
              "Volvo      Focus          nan        nan  ...       nan        nan\n",
              "\n",
              "[11 rows x 40 columns]"
            ]
          },
          "metadata": {
            "tags": []
          },
          "execution_count": 36
        }
      ]
    },
    {
      "cell_type": "code",
      "metadata": {
        "id": "ZGA3CqsP96vE",
        "colab_type": "code",
        "colab": {}
      },
      "source": [
        "fines.to_csv('data/fines.csv', index=False)\n",
        "owners.to_csv('data/owners.csv', index=False)"
      ],
      "execution_count": 0,
      "outputs": []
    },
    {
      "cell_type": "code",
      "metadata": {
        "id": "CWwxWqr9CUma",
        "colab_type": "code",
        "colab": {}
      },
      "source": [
        "uploaded = drive.CreateFile({'title': 'fines.csv'})\n",
        "uploaded.SetContentFile('data/fines.csv')\n",
        "uploaded.Upload()"
      ],
      "execution_count": 0,
      "outputs": []
    },
    {
      "cell_type": "code",
      "metadata": {
        "id": "zKTRix0HCgT5",
        "colab_type": "code",
        "colab": {}
      },
      "source": [
        ""
      ],
      "execution_count": 0,
      "outputs": []
    }
  ]
}