{
  "nbformat": 4,
  "nbformat_minor": 0,
  "metadata": {
    "colab": {
      "name": "load_and_save.ipynb",
      "provenance": [],
      "collapsed_sections": []
    },
    "kernelspec": {
      "name": "python3",
      "display_name": "Python 3"
    },
    "accelerator": "GPU"
  },
  "cells": [
    {
      "cell_type": "code",
      "metadata": {
        "id": "uI0uh9Xtwi6e",
        "colab_type": "code",
        "colab": {}
      },
      "source": [
        "!pip install -U -q PyDrive"
      ],
      "execution_count": 0,
      "outputs": []
    },
    {
      "cell_type": "code",
      "metadata": {
        "id": "WMnuceUovzfH",
        "colab_type": "code",
        "colab": {}
      },
      "source": [
        "import pandas as pd\n",
        "from pydrive.auth import GoogleAuth\n",
        "from pydrive.drive import GoogleDrive\n",
        "from google.colab import auth\n",
        "from oauth2client.client import GoogleCredentials"
      ],
      "execution_count": 0,
      "outputs": []
    },
    {
      "cell_type": "code",
      "metadata": {
        "id": "WlxGO-cOxVhZ",
        "colab_type": "code",
        "colab": {}
      },
      "source": [
        "auth.authenticate_user()\n",
        "gauth = GoogleAuth()\n",
        "gauth.credentials = GoogleCredentials.get_application_default()\n",
        "drive = GoogleDrive(gauth)"
      ],
      "execution_count": 0,
      "outputs": []
    },
    {
      "cell_type": "code",
      "metadata": {
        "id": "PuBqjkROxoeg",
        "colab_type": "code",
        "colab": {}
      },
      "source": [
        "!mkdir data"
      ],
      "execution_count": 0,
      "outputs": []
    },
    {
      "cell_type": "code",
      "metadata": {
        "id": "NYwkak8jxjAW",
        "colab_type": "code",
        "colab": {}
      },
      "source": [
        "file_id = '1kgByP3EZHL8xAm-oGaBpf0-fPdVIYRaY'\n",
        "downloaded = drive.CreateFile({'id': file_id})\n",
        "downloaded.GetContentFile('data/feed-views.log')"
      ],
      "execution_count": 0,
      "outputs": []
    },
    {
      "cell_type": "code",
      "metadata": {
        "id": "_cJkAjR5yWx5",
        "colab_type": "code",
        "colab": {}
      },
      "source": [
        "df = pd.read_csv('data/feed-views.log', sep='\\t', skiprows=[2, 3], skipfooter=2,\n",
        "                 header=None, names=['date_time', 'user'], index_col='date_time'\n",
        "                 )"
      ],
      "execution_count": 0,
      "outputs": []
    },
    {
      "cell_type": "code",
      "metadata": {
        "id": "xkrudIYe7zev",
        "colab_type": "code",
        "colab": {
          "base_uri": "https://localhost:8080/",
          "height": 235
        },
        "outputId": "cd41475e-189a-4b97-c51d-f2a3ad8eafc8"
      },
      "source": [
        "df.head()"
      ],
      "execution_count": 10,
      "outputs": [
        {
          "output_type": "execute_result",
          "data": {
            "text/html": [
              "<div>\n",
              "<style scoped>\n",
              "    .dataframe tbody tr th:only-of-type {\n",
              "        vertical-align: middle;\n",
              "    }\n",
              "\n",
              "    .dataframe tbody tr th {\n",
              "        vertical-align: top;\n",
              "    }\n",
              "\n",
              "    .dataframe thead th {\n",
              "        text-align: right;\n",
              "    }\n",
              "</style>\n",
              "<table border=\"1\" class=\"dataframe\">\n",
              "  <thead>\n",
              "    <tr style=\"text-align: right;\">\n",
              "      <th></th>\n",
              "      <th>user</th>\n",
              "    </tr>\n",
              "    <tr>\n",
              "      <th>date_time</th>\n",
              "      <th></th>\n",
              "    </tr>\n",
              "  </thead>\n",
              "  <tbody>\n",
              "    <tr>\n",
              "      <th>2020-04-17 12:01:08.463179</th>\n",
              "      <td>artem</td>\n",
              "    </tr>\n",
              "    <tr>\n",
              "      <th>2020-04-17 12:01:23.743946</th>\n",
              "      <td>artem</td>\n",
              "    </tr>\n",
              "    <tr>\n",
              "      <th>2020-04-17 12:35:52.735016</th>\n",
              "      <td>artem</td>\n",
              "    </tr>\n",
              "    <tr>\n",
              "      <th>2020-04-17 12:36:21.401412</th>\n",
              "      <td>oksana</td>\n",
              "    </tr>\n",
              "    <tr>\n",
              "      <th>2020-04-17 12:36:22.023355</th>\n",
              "      <td>oksana</td>\n",
              "    </tr>\n",
              "  </tbody>\n",
              "</table>\n",
              "</div>"
            ],
            "text/plain": [
              "                              user\n",
              "date_time                         \n",
              "2020-04-17 12:01:08.463179   artem\n",
              "2020-04-17 12:01:23.743946   artem\n",
              "2020-04-17 12:35:52.735016   artem\n",
              "2020-04-17 12:36:21.401412  oksana\n",
              "2020-04-17 12:36:22.023355  oksana"
            ]
          },
          "metadata": {
            "tags": []
          },
          "execution_count": 10
        }
      ]
    },
    {
      "cell_type": "code",
      "metadata": {
        "id": "m3HFBqL68inn",
        "colab_type": "code",
        "colab": {
          "base_uri": "https://localhost:8080/",
          "height": 235
        },
        "outputId": "b0757945-22f1-4f20-ced7-362762021a09"
      },
      "source": [
        "df.tail()"
      ],
      "execution_count": 11,
      "outputs": [
        {
          "output_type": "execute_result",
          "data": {
            "text/html": [
              "<div>\n",
              "<style scoped>\n",
              "    .dataframe tbody tr th:only-of-type {\n",
              "        vertical-align: middle;\n",
              "    }\n",
              "\n",
              "    .dataframe tbody tr th {\n",
              "        vertical-align: top;\n",
              "    }\n",
              "\n",
              "    .dataframe thead th {\n",
              "        text-align: right;\n",
              "    }\n",
              "</style>\n",
              "<table border=\"1\" class=\"dataframe\">\n",
              "  <thead>\n",
              "    <tr style=\"text-align: right;\">\n",
              "      <th></th>\n",
              "      <th>user</th>\n",
              "    </tr>\n",
              "    <tr>\n",
              "      <th>date_time</th>\n",
              "      <th></th>\n",
              "    </tr>\n",
              "  </thead>\n",
              "  <tbody>\n",
              "    <tr>\n",
              "      <th>2020-05-21 16:36:40.915488</th>\n",
              "      <td>ekaterina</td>\n",
              "    </tr>\n",
              "    <tr>\n",
              "      <th>2020-05-21 17:49:36.429237</th>\n",
              "      <td>maxim</td>\n",
              "    </tr>\n",
              "    <tr>\n",
              "      <th>2020-05-21 18:45:20.441142</th>\n",
              "      <td>valentina</td>\n",
              "    </tr>\n",
              "    <tr>\n",
              "      <th>2020-05-21 23:03:06.457819</th>\n",
              "      <td>maxim</td>\n",
              "    </tr>\n",
              "    <tr>\n",
              "      <th>2020-05-21 23:23:49.995349</th>\n",
              "      <td>pavel</td>\n",
              "    </tr>\n",
              "  </tbody>\n",
              "</table>\n",
              "</div>"
            ],
            "text/plain": [
              "                                 user\n",
              "date_time                            \n",
              "2020-05-21 16:36:40.915488  ekaterina\n",
              "2020-05-21 17:49:36.429237      maxim\n",
              "2020-05-21 18:45:20.441142  valentina\n",
              "2020-05-21 23:03:06.457819      maxim\n",
              "2020-05-21 23:23:49.995349      pavel"
            ]
          },
          "metadata": {
            "tags": []
          },
          "execution_count": 11
        }
      ]
    },
    {
      "cell_type": "code",
      "metadata": {
        "id": "kO6Zx2vK8rMt",
        "colab_type": "code",
        "colab": {
          "base_uri": "https://localhost:8080/",
          "height": 51
        },
        "outputId": "3a8cd500-c672-4543-fb95-df259b102346"
      },
      "source": [
        "df.count()"
      ],
      "execution_count": 12,
      "outputs": [
        {
          "output_type": "execute_result",
          "data": {
            "text/plain": [
              "user    1072\n",
              "dtype: int64"
            ]
          },
          "metadata": {
            "tags": []
          },
          "execution_count": 12
        }
      ]
    },
    {
      "cell_type": "code",
      "metadata": {
        "id": "Bs_vWSgW8wBd",
        "colab_type": "code",
        "colab": {}
      },
      "source": [
        "df.to_csv('data/feed-views-semicolon.log', sep=';')"
      ],
      "execution_count": 0,
      "outputs": []
    },
    {
      "cell_type": "code",
      "metadata": {
        "id": "DqlwFXj7v6v6",
        "colab_type": "code",
        "colab": {}
      },
      "source": [
        ""
      ],
      "execution_count": 0,
      "outputs": []
    }
  ]
}