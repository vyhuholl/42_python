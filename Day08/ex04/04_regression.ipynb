{
  "nbformat": 4,
  "nbformat_minor": 0,
  "metadata": {
    "colab": {
      "name": "04_regression.ipynb",
      "provenance": [],
      "collapsed_sections": []
    },
    "kernelspec": {
      "name": "python3",
      "display_name": "Python 3"
    },
    "accelerator": "GPU"
  },
  "cells": [
    {
      "cell_type": "code",
      "metadata": {
        "id": "SyiR5V_q00Nh",
        "colab_type": "code",
        "colab": {}
      },
      "source": [
        "!pip install -U -q PyDrive"
      ],
      "execution_count": 2,
      "outputs": []
    },
    {
      "cell_type": "code",
      "metadata": {
        "id": "paGiU-CVtEdC",
        "colab_type": "code",
        "colab": {}
      },
      "source": [
        "from pydrive.auth import GoogleAuth\n",
        "from pydrive.drive import GoogleDrive\n",
        "from google.colab import auth\n",
        "from oauth2client.client import GoogleCredentials"
      ],
      "execution_count": 3,
      "outputs": []
    },
    {
      "cell_type": "code",
      "metadata": {
        "id": "hH6FvZoztJeJ",
        "colab_type": "code",
        "colab": {}
      },
      "source": [
        "auth.authenticate_user()\n",
        "gauth = GoogleAuth()\n",
        "gauth.credentials = GoogleCredentials.get_application_default()\n",
        "drive = GoogleDrive(gauth)"
      ],
      "execution_count": 4,
      "outputs": []
    },
    {
      "cell_type": "code",
      "metadata": {
        "id": "8lgOC5a_1BAq",
        "colab_type": "code",
        "colab": {}
      },
      "source": [
        "import sqlite3\n",
        "import pandas as pd\n",
        "import numpy as np\n",
        "import matplotlib.pyplot as plt\n",
        "from sklearn.tree import DecisionTreeRegressor\n",
        "from sklearn.linear_model import LinearRegression\n",
        "from sklearn.ensemble import RandomForestRegressor\n",
        "from sklearn.model_selection import cross_validate, GridSearchCV\n",
        "from sklearn.model_selection import train_test_split, ShuffleSplit"
      ],
      "execution_count": 6,
      "outputs": []
    },
    {
      "cell_type": "code",
      "metadata": {
        "id": "2bF-3WrQtSus",
        "colab_type": "code",
        "colab": {}
      },
      "source": [
        "!mkdir data"
      ],
      "execution_count": 7,
      "outputs": []
    },
    {
      "cell_type": "code",
      "metadata": {
        "id": "Ne-EWqbhaBMH",
        "colab_type": "code",
        "colab": {}
      },
      "source": [
        "file_id = '1KiOvhsdjJqaUCLJa5adZXEtQ_72s8Eb6'\n",
        "downloaded = drive.CreateFile({'id': file_id})\n",
        "downloaded.GetContentFile('data/checking-logs.sqlite')"
      ],
      "execution_count": 8,
      "outputs": []
    },
    {
      "cell_type": "code",
      "metadata": {
        "id": "oIgnuKTVaH2W",
        "colab_type": "code",
        "colab": {}
      },
      "source": [
        "conn = sqlite3.connect('data/checking-logs.sqlite')"
      ],
      "execution_count": 9,
      "outputs": []
    },
    {
      "cell_type": "code",
      "metadata": {
        "id": "oku9GQGeOrjk",
        "colab_type": "code",
        "colab": {}
      },
      "source": [
        "df = pd.io.sql.read_sql(\n",
        "    \"\"\"\n",
        "    select commits.num_commits, views.pageviews, diff.*\n",
        "    from\n",
        "    (\n",
        "        select uid, avg(diff)\n",
        "        from\n",
        "        (\n",
        "            select uid, cast((julianday(test_control.checker_ts) - julianday(datetime(deadlines.deadlines, 'unixepoch'))) * 24 as integer) as diff\n",
        "            from\n",
        "            (\n",
        "                select uid, checker_ts, labname from test\n",
        "                union\n",
        "                select uid, checker_ts, labname from control\n",
        "            ) as test_control left join deadlines on test_control.labname = deadlines.labs\n",
        "            where not test_control.labname = 'project1'\n",
        "        )\n",
        "        group by uid\n",
        "    ) as diff left join\n",
        "    (\n",
        "        select uid, count(*) as num_commits\n",
        "        from checker\n",
        "        where uid like 'user_%' and not labname = 'project1'\n",
        "        group by uid\n",
        "    ) as commits on diff.uid = commits.uid left join \n",
        "    (\n",
        "        select uid, count(*) as pageviews\n",
        "        from pageviews\n",
        "        group by uid\n",
        "    ) as views on diff.uid = views.uid\n",
        "    order by uid\n",
        "    \"\"\", conn, index_col='uid'\n",
        ")"
      ],
      "execution_count": 10,
      "outputs": []
    },
    {
      "cell_type": "code",
      "metadata": {
        "id": "Vtjja5GVSt9v",
        "colab_type": "code",
        "colab": {}
      },
      "source": [
        "conn.close()"
      ],
      "execution_count": 11,
      "outputs": []
    },
    {
      "cell_type": "code",
      "metadata": {
        "id": "xT-V10CIQjHT",
        "colab_type": "code",
        "colab": {}
      },
      "source": [
        "df = df.fillna(0)"
      ],
      "execution_count": 12,
      "outputs": []
    },
    {
      "cell_type": "code",
      "metadata": {
        "id": "aHwyKyKpQvVn",
        "colab_type": "code",
        "colab": {}
      },
      "source": [
        "df = df.reindex(sorted(df.index, key=len))"
      ],
      "execution_count": 13,
      "outputs": []
    },
    {
      "cell_type": "code",
      "metadata": {
        "id": "cYYWpxW6PZOq",
        "colab_type": "code",
        "colab": {
          "base_uri": "https://localhost:8080/",
          "height": 235
        },
        "outputId": "18b09eac-956e-4e3f-dd42-04986d1343a5"
      },
      "source": [
        "df.head()"
      ],
      "execution_count": 14,
      "outputs": [
        {
          "output_type": "execute_result",
          "data": {
            "text/html": [
              "<div>\n",
              "<style scoped>\n",
              "    .dataframe tbody tr th:only-of-type {\n",
              "        vertical-align: middle;\n",
              "    }\n",
              "\n",
              "    .dataframe tbody tr th {\n",
              "        vertical-align: top;\n",
              "    }\n",
              "\n",
              "    .dataframe thead th {\n",
              "        text-align: right;\n",
              "    }\n",
              "</style>\n",
              "<table border=\"1\" class=\"dataframe\">\n",
              "  <thead>\n",
              "    <tr style=\"text-align: right;\">\n",
              "      <th></th>\n",
              "      <th>num_commits</th>\n",
              "      <th>pageviews</th>\n",
              "      <th>avg(diff)</th>\n",
              "    </tr>\n",
              "    <tr>\n",
              "      <th>uid</th>\n",
              "      <th></th>\n",
              "      <th></th>\n",
              "      <th></th>\n",
              "    </tr>\n",
              "  </thead>\n",
              "  <tbody>\n",
              "    <tr>\n",
              "      <th>user_1</th>\n",
              "      <td>62</td>\n",
              "      <td>28.0</td>\n",
              "      <td>-64.4</td>\n",
              "    </tr>\n",
              "    <tr>\n",
              "      <th>user_2</th>\n",
              "      <td>46</td>\n",
              "      <td>0.0</td>\n",
              "      <td>-137.2</td>\n",
              "    </tr>\n",
              "    <tr>\n",
              "      <th>user_3</th>\n",
              "      <td>18</td>\n",
              "      <td>317.0</td>\n",
              "      <td>-105.4</td>\n",
              "    </tr>\n",
              "    <tr>\n",
              "      <th>user_4</th>\n",
              "      <td>40</td>\n",
              "      <td>0.0</td>\n",
              "      <td>-175.6</td>\n",
              "    </tr>\n",
              "    <tr>\n",
              "      <th>user_6</th>\n",
              "      <td>15</td>\n",
              "      <td>0.0</td>\n",
              "      <td>-62.6</td>\n",
              "    </tr>\n",
              "  </tbody>\n",
              "</table>\n",
              "</div>"
            ],
            "text/plain": [
              "        num_commits  pageviews  avg(diff)\n",
              "uid                                      \n",
              "user_1           62       28.0      -64.4\n",
              "user_2           46        0.0     -137.2\n",
              "user_3           18      317.0     -105.4\n",
              "user_4           40        0.0     -175.6\n",
              "user_6           15        0.0      -62.6"
            ]
          },
          "metadata": {
            "tags": []
          },
          "execution_count": 14
        }
      ]
    },
    {
      "cell_type": "code",
      "metadata": {
        "id": "MJjrK2xqSrM2",
        "colab_type": "code",
        "colab": {
          "base_uri": "https://localhost:8080/",
          "height": 187
        },
        "outputId": "ae9ed08f-1c57-40ac-cf5d-25b18b69defb"
      },
      "source": [
        "df.info()"
      ],
      "execution_count": 15,
      "outputs": [
        {
          "output_type": "stream",
          "text": [
            "<class 'pandas.core.frame.DataFrame'>\n",
            "Index: 29 entries, user_1 to user_31\n",
            "Data columns (total 3 columns):\n",
            " #   Column       Non-Null Count  Dtype  \n",
            "---  ------       --------------  -----  \n",
            " 0   num_commits  29 non-null     int64  \n",
            " 1   pageviews    29 non-null     float64\n",
            " 2   avg(diff)    29 non-null     float64\n",
            "dtypes: float64(2), int64(1)\n",
            "memory usage: 928.0+ bytes\n"
          ],
          "name": "stdout"
        }
      ]
    },
    {
      "cell_type": "code",
      "metadata": {
        "id": "XoObfC00zxcx",
        "colab_type": "code",
        "colab": {}
      },
      "source": [
        "df.to_csv('data/regression.csv')"
      ],
      "execution_count": 16,
      "outputs": []
    },
    {
      "cell_type": "code",
      "metadata": {
        "id": "cSgFG_4d0iph",
        "colab_type": "code",
        "colab": {}
      },
      "source": [
        "uploaded = drive.CreateFile({'title': 'regression.csv'})\n",
        "uploaded.SetContentFile('data/regression.csv')\n",
        "uploaded.Upload()"
      ],
      "execution_count": 21,
      "outputs": []
    },
    {
      "cell_type": "code",
      "metadata": {
        "id": "ksZ7wfU-bEpo",
        "colab_type": "code",
        "colab": {}
      },
      "source": [
        "X = df.drop('avg(diff)', axis=1)\n",
        "y = df['avg(diff)']"
      ],
      "execution_count": 17,
      "outputs": []
    },
    {
      "cell_type": "code",
      "metadata": {
        "id": "e1j9aa6hanOb",
        "colab_type": "code",
        "colab": {}
      },
      "source": [
        "X_train, X_test, y_train, y_test = train_test_split(X, y, test_size=0.2,\n",
        "                                                    random_state=21)"
      ],
      "execution_count": 18,
      "outputs": []
    },
    {
      "cell_type": "code",
      "metadata": {
        "id": "l6s6Z11Z0nao",
        "colab_type": "code",
        "colab": {}
      },
      "source": [
        "y_test = y_test.sort_values()"
      ],
      "execution_count": 20,
      "outputs": []
    },
    {
      "cell_type": "code",
      "metadata": {
        "id": "KEz3EAST0wIs",
        "colab_type": "code",
        "colab": {}
      },
      "source": [
        "X_test = X_test.reindex(y_test.index)"
      ],
      "execution_count": 21,
      "outputs": []
    },
    {
      "cell_type": "code",
      "metadata": {
        "id": "qK_yALsbmBTL",
        "colab_type": "code",
        "colab": {}
      },
      "source": [
        "def crossval(estimator, X, y, n_splits=10):\n",
        "    cv = ShuffleSplit(n_splits=n_splits, test_size=0.2, random_state=21)\n",
        "    scores = cross_validate(estimator, X, y,\n",
        "                            scoring='neg_root_mean_squared_error', cv=cv,\n",
        "                            n_jobs=-1, return_train_score=True)\n",
        "    train_scores = np.negative(scores['train_score'])\n",
        "    test_scores = np.negative(scores['test_score'])\n",
        "    for train, test in zip(train_scores, test_scores):\n",
        "        print(f'   train  -{train:-20.12f}   {\"|\"}   test  -{test:-20.12f}')\n",
        "    print(f'\\nAverage RMSE on crossval is {np.mean(test_scores)}')"
      ],
      "execution_count": 22,
      "outputs": []
    },
    {
      "cell_type": "code",
      "metadata": {
        "id": "W8vh1wCZmH_l",
        "colab_type": "code",
        "colab": {}
      },
      "source": [
        "linear_reg = LinearRegression()"
      ],
      "execution_count": 24,
      "outputs": []
    },
    {
      "cell_type": "code",
      "metadata": {
        "id": "iO5pzA5zaFoq",
        "colab_type": "code",
        "colab": {}
      },
      "source": [
        "param_grid = [{'fit_intercept': [True], 'normalize': [True, False]},\n",
        "              {'fit_intercept': [False]}]\n",
        "\n",
        "cv_linear_reg = GridSearchCV(linear_reg, param_grid,\n",
        "                             scoring='neg_root_mean_squared_error', n_jobs=-1)"
      ],
      "execution_count": 25,
      "outputs": []
    },
    {
      "cell_type": "code",
      "metadata": {
        "id": "n_iylvzdaSh4",
        "colab_type": "code",
        "colab": {
          "base_uri": "https://localhost:8080/",
          "height": 153
        },
        "outputId": "c2b12efc-ac95-4230-dea5-4922296a3cfe"
      },
      "source": [
        "cv_linear_reg.fit(X_train, y_train)"
      ],
      "execution_count": 26,
      "outputs": [
        {
          "output_type": "execute_result",
          "data": {
            "text/plain": [
              "GridSearchCV(cv=None, error_score=nan,\n",
              "             estimator=LinearRegression(copy_X=True, fit_intercept=True,\n",
              "                                        n_jobs=None, normalize=False),\n",
              "             iid='deprecated', n_jobs=-1,\n",
              "             param_grid=[{'fit_intercept': [True], 'normalize': [True, False]},\n",
              "                         {'fit_intercept': [False]}],\n",
              "             pre_dispatch='2*n_jobs', refit=True, return_train_score=False,\n",
              "             scoring='neg_root_mean_squared_error', verbose=0)"
            ]
          },
          "metadata": {
            "tags": []
          },
          "execution_count": 26
        }
      ]
    },
    {
      "cell_type": "code",
      "metadata": {
        "id": "vYq93FjBq6aB",
        "colab_type": "code",
        "colab": {
          "base_uri": "https://localhost:8080/",
          "height": 34
        },
        "outputId": "a444f7be-118c-44e0-f4ba-7af1c2b582d3"
      },
      "source": [
        "cv_linear_reg.best_params_"
      ],
      "execution_count": 27,
      "outputs": [
        {
          "output_type": "execute_result",
          "data": {
            "text/plain": [
              "{'fit_intercept': False}"
            ]
          },
          "metadata": {
            "tags": []
          },
          "execution_count": 27
        }
      ]
    },
    {
      "cell_type": "code",
      "metadata": {
        "id": "pnfJ6YWWo2Y5",
        "colab_type": "code",
        "colab": {}
      },
      "source": [
        "linear_reg = LinearRegression(fit_intercept=False)"
      ],
      "execution_count": 28,
      "outputs": []
    },
    {
      "cell_type": "code",
      "metadata": {
        "id": "rKXIXG7apGK1",
        "colab_type": "code",
        "colab": {
          "base_uri": "https://localhost:8080/",
          "height": 221
        },
        "outputId": "b0c35bba-9b43-40a6-ca99-3d886153b347"
      },
      "source": [
        "crossval(linear_reg, X, y)"
      ],
      "execution_count": 29,
      "outputs": [
        {
          "output_type": "stream",
          "text": [
            "   train  -     58.305883711275   |   test  -     96.126438423546\n",
            "   train  -     73.011590096795   |   test  -     37.712593709187\n",
            "   train  -     61.343289274516   |   test  -     85.534676163114\n",
            "   train  -     68.336959957576   |   test  -     63.066915867456\n",
            "   train  -     51.042213393859   |   test  -    108.456790309554\n",
            "   train  -     72.558409850004   |   test  -     39.295317103229\n",
            "   train  -     74.886414661589   |   test  -     15.998857711610\n",
            "   train  -     59.428098640321   |   test  -     91.976565993788\n",
            "   train  -     66.571245983368   |   test  -     73.286659725923\n",
            "   train  -     65.293794155579   |   test  -     73.750169680302\n",
            "\n",
            "Average RMSE on crossval is 68.52049846877095\n"
          ],
          "name": "stdout"
        }
      ]
    },
    {
      "cell_type": "code",
      "metadata": {
        "colab_type": "code",
        "id": "-sJ3mC5qtu-P",
        "colab": {}
      },
      "source": [
        "tree_reg = DecisionTreeRegressor(random_state=21)"
      ],
      "execution_count": 31,
      "outputs": []
    },
    {
      "cell_type": "code",
      "metadata": {
        "colab_type": "code",
        "id": "ysAzet3Ptu-V",
        "colab": {}
      },
      "source": [
        "param_grid = {'max_depth': np.arange(3, 21)}\n",
        "\n",
        "cv_tree_reg = GridSearchCV(tree_reg, param_grid,\n",
        "                           scoring='neg_root_mean_squared_error', n_jobs=-1)"
      ],
      "execution_count": 32,
      "outputs": []
    },
    {
      "cell_type": "code",
      "metadata": {
        "colab_type": "code",
        "id": "VAfuSZI0tu-X",
        "colab": {
          "base_uri": "https://localhost:8080/",
          "height": 289
        },
        "outputId": "dd529e68-235d-4039-8302-76af23cee375"
      },
      "source": [
        "cv_tree_reg.fit(X_train, y_train)"
      ],
      "execution_count": 33,
      "outputs": [
        {
          "output_type": "execute_result",
          "data": {
            "text/plain": [
              "GridSearchCV(cv=None, error_score=nan,\n",
              "             estimator=DecisionTreeRegressor(ccp_alpha=0.0, criterion='mse',\n",
              "                                             max_depth=None, max_features=None,\n",
              "                                             max_leaf_nodes=None,\n",
              "                                             min_impurity_decrease=0.0,\n",
              "                                             min_impurity_split=None,\n",
              "                                             min_samples_leaf=1,\n",
              "                                             min_samples_split=2,\n",
              "                                             min_weight_fraction_leaf=0.0,\n",
              "                                             presort='deprecated',\n",
              "                                             random_state=21, splitter='best'),\n",
              "             iid='deprecated', n_jobs=-1,\n",
              "             param_grid={'max_depth': array([ 3,  4,  5,  6,  7,  8,  9, 10, 11, 12, 13, 14, 15, 16, 17, 18, 19,\n",
              "       20])},\n",
              "             pre_dispatch='2*n_jobs', refit=True, return_train_score=False,\n",
              "             scoring='neg_root_mean_squared_error', verbose=0)"
            ]
          },
          "metadata": {
            "tags": []
          },
          "execution_count": 33
        }
      ]
    },
    {
      "cell_type": "code",
      "metadata": {
        "colab_type": "code",
        "id": "OoAdhI2Xtu-a",
        "colab": {
          "base_uri": "https://localhost:8080/",
          "height": 34
        },
        "outputId": "cef68631-259d-4de0-9961-dd419e867a9c"
      },
      "source": [
        "cv_tree_reg.best_params_"
      ],
      "execution_count": 34,
      "outputs": [
        {
          "output_type": "execute_result",
          "data": {
            "text/plain": [
              "{'max_depth': 3}"
            ]
          },
          "metadata": {
            "tags": []
          },
          "execution_count": 34
        }
      ]
    },
    {
      "cell_type": "code",
      "metadata": {
        "colab_type": "code",
        "id": "f61DZcGYtu-d",
        "colab": {}
      },
      "source": [
        "tree_reg = DecisionTreeRegressor(max_depth=3, random_state=21)"
      ],
      "execution_count": 35,
      "outputs": []
    },
    {
      "cell_type": "code",
      "metadata": {
        "colab_type": "code",
        "id": "Ybn9DDZztu-h",
        "colab": {
          "base_uri": "https://localhost:8080/",
          "height": 221
        },
        "outputId": "19adecfd-2697-4958-ed15-958078a880f8"
      },
      "source": [
        "crossval(tree_reg, X, y)"
      ],
      "execution_count": 36,
      "outputs": [
        {
          "output_type": "stream",
          "text": [
            "   train  -     37.607263421808   |   test  -     74.227287413452\n",
            "   train  -     33.784120025139   |   test  -     92.549631089770\n",
            "   train  -     38.953627050462   |   test  -     64.616547373289\n",
            "   train  -     29.517480189897   |   test  -     78.059832055161\n",
            "   train  -     38.419148367645   |   test  -    105.962939328118\n",
            "   train  -     29.753087706006   |   test  -     78.770506467857\n",
            "   train  -     31.294259092906   |   test  -    103.032315534712\n",
            "   train  -     34.493770653234   |   test  -     93.496584237911\n",
            "   train  -     38.226271622930   |   test  -     83.100671445243\n",
            "   train  -     33.693413150697   |   test  -     94.159409027263\n",
            "\n",
            "Average RMSE on crossval is 86.79757239727756\n"
          ],
          "name": "stdout"
        }
      ]
    },
    {
      "cell_type": "code",
      "metadata": {
        "id": "yD1FCzNxv3sc",
        "colab_type": "code",
        "colab": {}
      },
      "source": [
        "forest_reg = RandomForestRegressor(random_state=21)"
      ],
      "execution_count": 37,
      "outputs": []
    },
    {
      "cell_type": "code",
      "metadata": {
        "colab_type": "code",
        "id": "3pWSpROPuvTu",
        "colab": {}
      },
      "source": [
        "param_grid = {'n_estimators': np.arange(10, 200, 10),\n",
        "              'max_depth': np.arange(3, 21)}\n",
        "\n",
        "cv_forest_reg = GridSearchCV(forest_reg, param_grid,\n",
        "                             scoring='neg_root_mean_squared_error', n_jobs=-1)"
      ],
      "execution_count": 38,
      "outputs": []
    },
    {
      "cell_type": "code",
      "metadata": {
        "colab_type": "code",
        "id": "FASQRJA2uvTx",
        "colab": {
          "base_uri": "https://localhost:8080/",
          "height": 374
        },
        "outputId": "b7d433dd-2489-467e-964e-8adf2ec79131"
      },
      "source": [
        "cv_forest_reg.fit(X_train, y_train)"
      ],
      "execution_count": 39,
      "outputs": [
        {
          "output_type": "execute_result",
          "data": {
            "text/plain": [
              "GridSearchCV(cv=None, error_score=nan,\n",
              "             estimator=RandomForestRegressor(bootstrap=True, ccp_alpha=0.0,\n",
              "                                             criterion='mse', max_depth=None,\n",
              "                                             max_features='auto',\n",
              "                                             max_leaf_nodes=None,\n",
              "                                             max_samples=None,\n",
              "                                             min_impurity_decrease=0.0,\n",
              "                                             min_impurity_split=None,\n",
              "                                             min_samples_leaf=1,\n",
              "                                             min_samples_split=2,\n",
              "                                             min_weight_fraction_leaf=0.0,\n",
              "                                             n_estimators=100, n_jobs=None,\n",
              "                                             oob_score=False, random_state=21,\n",
              "                                             verbose=0, warm_start=False),\n",
              "             iid='deprecated', n_jobs=-1,\n",
              "             param_grid={'max_depth': array([ 3,  4,  5,  6,  7,  8,  9, 10, 11, 12, 13, 14, 15, 16, 17, 18, 19,\n",
              "       20]),\n",
              "                         'n_estimators': array([ 10,  20,  30,  40,  50,  60,  70,  80,  90, 100, 110, 120, 130,\n",
              "       140, 150, 160, 170, 180, 190])},\n",
              "             pre_dispatch='2*n_jobs', refit=True, return_train_score=False,\n",
              "             scoring='neg_root_mean_squared_error', verbose=0)"
            ]
          },
          "metadata": {
            "tags": []
          },
          "execution_count": 39
        }
      ]
    },
    {
      "cell_type": "code",
      "metadata": {
        "colab_type": "code",
        "id": "4STvBdq7uvT0",
        "colab": {
          "base_uri": "https://localhost:8080/",
          "height": 34
        },
        "outputId": "5d649e51-efe3-4146-81c8-f8169f5f525a"
      },
      "source": [
        "cv_forest_reg.best_params_"
      ],
      "execution_count": 40,
      "outputs": [
        {
          "output_type": "execute_result",
          "data": {
            "text/plain": [
              "{'max_depth': 3, 'n_estimators': 30}"
            ]
          },
          "metadata": {
            "tags": []
          },
          "execution_count": 40
        }
      ]
    },
    {
      "cell_type": "code",
      "metadata": {
        "colab_type": "code",
        "id": "U2ua3yg2uvT4",
        "colab": {}
      },
      "source": [
        "forest_reg = RandomForestRegressor(max_depth=3, n_estimators=30,\n",
        "                                   random_state=21)"
      ],
      "execution_count": 41,
      "outputs": []
    },
    {
      "cell_type": "code",
      "metadata": {
        "colab_type": "code",
        "id": "d6aBwIXBuvT8",
        "colab": {
          "base_uri": "https://localhost:8080/",
          "height": 221
        },
        "outputId": "b6faa717-ac89-46e2-c147-fcb1d42bd6ba"
      },
      "source": [
        "crossval(forest_reg, X, y)"
      ],
      "execution_count": 42,
      "outputs": [
        {
          "output_type": "stream",
          "text": [
            "   train  -     36.930287264691   |   test  -     76.368647817168\n",
            "   train  -     31.675633741339   |   test  -     80.430053324342\n",
            "   train  -     39.981735569005   |   test  -     65.049796175113\n",
            "   train  -     35.765537691478   |   test  -     62.792030898270\n",
            "   train  -     34.839842502024   |   test  -     84.225553138454\n",
            "   train  -     35.976500417291   |   test  -     75.209786077638\n",
            "   train  -     28.056967173316   |   test  -     95.276383767215\n",
            "   train  -     34.297843666364   |   test  -     89.703889950244\n",
            "   train  -     41.266526316652   |   test  -     57.880452433973\n",
            "   train  -     32.414159524220   |   test  -     86.884297496998\n",
            "\n",
            "Average RMSE on crossval is 77.38208910794143\n"
          ],
          "name": "stdout"
        }
      ]
    },
    {
      "cell_type": "code",
      "metadata": {
        "id": "LI6CR47ZxdG7",
        "colab_type": "code",
        "colab": {
          "base_uri": "https://localhost:8080/",
          "height": 34
        },
        "outputId": "d69ea3cf-44af-4998-f3cb-cc4ed0a229e8"
      },
      "source": [
        "linear_reg.fit(X_train, y_train)"
      ],
      "execution_count": 43,
      "outputs": [
        {
          "output_type": "execute_result",
          "data": {
            "text/plain": [
              "LinearRegression(copy_X=True, fit_intercept=False, n_jobs=None, normalize=False)"
            ]
          },
          "metadata": {
            "tags": []
          },
          "execution_count": 43
        }
      ]
    },
    {
      "cell_type": "code",
      "metadata": {
        "id": "CGMJeq9exT0a",
        "colab_type": "code",
        "colab": {}
      },
      "source": [
        "y_pred = linear_reg.predict(X_test)"
      ],
      "execution_count": 44,
      "outputs": []
    },
    {
      "cell_type": "code",
      "metadata": {
        "id": "4zu8mII2w8cZ",
        "colab_type": "code",
        "colab": {
          "base_uri": "https://localhost:8080/",
          "height": 521
        },
        "outputId": "24f2739f-67d3-49ec-b77e-04a98648bbe8"
      },
      "source": [
        "fig, ax = plt.subplots(figsize=(15, 8))\n",
        "ax.plot(y_test, y_pred)\n",
        "ax.set_xlabel('y_true', fontsize='x-large')\n",
        "ax.set_ylabel('y_pred', fontsize='x-large')\n",
        "ax.set_title('Linear Regression', fontsize='xx-large')\n",
        "plt.show()"
      ],
      "execution_count": 45,
      "outputs": [
        {
          "output_type": "display_data",
          "data": {
            "image/png": "[encoded data removed]",
            "text/plain": [
              "<Figure size 1080x576 with 1 Axes>"
            ]
          },
          "metadata": {
            "tags": [],
            "needs_background": "light"
          }
        }
      ]
    },
    {
      "cell_type": "code",
      "metadata": {
        "colab_type": "code",
        "id": "A1HHYyAq1NsB",
        "colab": {
          "base_uri": "https://localhost:8080/",
          "height": 119
        },
        "outputId": "5e6aec13-56a6-4143-9be4-2013818e6f08"
      },
      "source": [
        "tree_reg.fit(X_train, y_train)"
      ],
      "execution_count": 46,
      "outputs": [
        {
          "output_type": "execute_result",
          "data": {
            "text/plain": [
              "DecisionTreeRegressor(ccp_alpha=0.0, criterion='mse', max_depth=3,\n",
              "                      max_features=None, max_leaf_nodes=None,\n",
              "                      min_impurity_decrease=0.0, min_impurity_split=None,\n",
              "                      min_samples_leaf=1, min_samples_split=2,\n",
              "                      min_weight_fraction_leaf=0.0, presort='deprecated',\n",
              "                      random_state=21, splitter='best')"
            ]
          },
          "metadata": {
            "tags": []
          },
          "execution_count": 46
        }
      ]
    },
    {
      "cell_type": "code",
      "metadata": {
        "colab_type": "code",
        "id": "khybfyq11NsN",
        "colab": {}
      },
      "source": [
        "y_pred = tree_reg.predict(X_test)"
      ],
      "execution_count": 47,
      "outputs": []
    },
    {
      "cell_type": "code",
      "metadata": {
        "colab_type": "code",
        "id": "UgTynsMF1NsT",
        "colab": {
          "base_uri": "https://localhost:8080/",
          "height": 521
        },
        "outputId": "d1256505-1835-433c-ac8e-d5d238080d60"
      },
      "source": [
        "fig, ax = plt.subplots(figsize=(15, 8))\n",
        "ax.plot(y_test, y_pred)\n",
        "ax.set_xlabel('y_true', fontsize='x-large')\n",
        "ax.set_ylabel('y_pred', fontsize='x-large')\n",
        "ax.set_title('Decision Tree Regressor', fontsize='xx-large')\n",
        "plt.show()"
      ],
      "execution_count": 48,
      "outputs": [
        {
          "output_type": "display_data",
          "data": {
            "image/png": "[encoded data removed]",
            "text/plain": [
              "<Figure size 1080x576 with 1 Axes>"
            ]
          },
          "metadata": {
            "tags": [],
            "needs_background": "light"
          }
        }
      ]
    },
    {
      "cell_type": "code",
      "metadata": {
        "colab_type": "code",
        "id": "2nlgqsZ21PaV",
        "colab": {
          "base_uri": "https://localhost:8080/",
          "height": 136
        },
        "outputId": "22909c9b-b5cb-491d-da29-fec86f109c80"
      },
      "source": [
        "forest_reg.fit(X_train, y_train)"
      ],
      "execution_count": 49,
      "outputs": [
        {
          "output_type": "execute_result",
          "data": {
            "text/plain": [
              "RandomForestRegressor(bootstrap=True, ccp_alpha=0.0, criterion='mse',\n",
              "                      max_depth=3, max_features='auto', max_leaf_nodes=None,\n",
              "                      max_samples=None, min_impurity_decrease=0.0,\n",
              "                      min_impurity_split=None, min_samples_leaf=1,\n",
              "                      min_samples_split=2, min_weight_fraction_leaf=0.0,\n",
              "                      n_estimators=30, n_jobs=None, oob_score=False,\n",
              "                      random_state=21, verbose=0, warm_start=False)"
            ]
          },
          "metadata": {
            "tags": []
          },
          "execution_count": 49
        }
      ]
    },
    {
      "cell_type": "code",
      "metadata": {
        "colab_type": "code",
        "id": "7xC4VSg_1Paf",
        "colab": {}
      },
      "source": [
        "y_pred = forest_reg.predict(X_test)"
      ],
      "execution_count": 50,
      "outputs": []
    },
    {
      "cell_type": "code",
      "metadata": {
        "colab_type": "code",
        "id": "8tDja_HA1Pam",
        "colab": {
          "base_uri": "https://localhost:8080/",
          "height": 521
        },
        "outputId": "a647c2da-c510-477c-b563-b7b31279004f"
      },
      "source": [
        "fig, ax = plt.subplots(figsize=(15, 8))\n",
        "ax.plot(y_test, y_pred)\n",
        "ax.set_xlabel('y_true', fontsize='x-large')\n",
        "ax.set_ylabel('y_pred', fontsize='x-large')\n",
        "ax.set_title('Random Forest Regressor', fontsize='xx-large')\n",
        "plt.show()"
      ],
      "execution_count": 51,
      "outputs": [
        {
          "output_type": "display_data",
          "data": {
            "image/png": "[encoded data removed]",
            "text/plain": [
              "<Figure size 1080x576 with 1 Axes>"
            ]
          },
          "metadata": {
            "tags": [],
            "needs_background": "light"
          }
        }
      ]
    }
  ]
}