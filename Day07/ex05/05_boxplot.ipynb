{
  "nbformat": 4,
  "nbformat_minor": 0,
  "metadata": {
    "colab": {
      "name": "05_boxplot.ipynb",
      "provenance": [],
      "collapsed_sections": []
    },
    "kernelspec": {
      "name": "python3",
      "display_name": "Python 3"
    },
    "accelerator": "GPU"
  },
  "cells": [
    {
      "cell_type": "code",
      "metadata": {
        "id": "SyiR5V_q00Nh",
        "colab_type": "code",
        "colab": {}
      },
      "source": [
        "!pip install -U -q PyDrive"
      ],
      "execution_count": 1,
      "outputs": []
    },
    {
      "cell_type": "code",
      "metadata": {
        "id": "8lgOC5a_1BAq",
        "colab_type": "code",
        "colab": {}
      },
      "source": [
        "import sqlite3\n",
        "import pandas as pd\n",
        "import matplotlib.pyplot as plt\n",
        "from pydrive.auth import GoogleAuth\n",
        "from pydrive.drive import GoogleDrive\n",
        "from google.colab import auth\n",
        "from oauth2client.client import GoogleCredentials"
      ],
      "execution_count": 2,
      "outputs": []
    },
    {
      "cell_type": "code",
      "metadata": {
        "id": "3sQ8GUSiTPp0",
        "colab_type": "code",
        "colab": {}
      },
      "source": [
        "auth.authenticate_user()\n",
        "gauth = GoogleAuth()\n",
        "gauth.credentials = GoogleCredentials.get_application_default()\n",
        "drive = GoogleDrive(gauth)"
      ],
      "execution_count": 3,
      "outputs": []
    },
    {
      "cell_type": "code",
      "metadata": {
        "id": "544XsOfi1K9I",
        "colab_type": "code",
        "colab": {}
      },
      "source": [
        "!mkdir data"
      ],
      "execution_count": 4,
      "outputs": []
    },
    {
      "cell_type": "code",
      "metadata": {
        "id": "UGvXNXS51Mdm",
        "colab_type": "code",
        "colab": {}
      },
      "source": [
        "file_id = '1KiOvhsdjJqaUCLJa5adZXEtQ_72s8Eb6'\n",
        "downloaded = drive.CreateFile({'id': file_id})\n",
        "downloaded.GetContentFile('data/checking-logs.sqlite')"
      ],
      "execution_count": 5,
      "outputs": []
    },
    {
      "cell_type": "code",
      "metadata": {
        "id": "iPKqaUsq61SL",
        "colab_type": "code",
        "colab": {}
      },
      "source": [
        "conn = sqlite3.connect('data/checking-logs.sqlite')"
      ],
      "execution_count": 6,
      "outputs": []
    },
    {
      "cell_type": "code",
      "metadata": {
        "id": "X1_DUVQP_ZK_",
        "colab_type": "code",
        "colab": {}
      },
      "source": [
        "test = pd.io.sql.read_sql(\n",
        "    \"\"\"\n",
        "    select time, diff\n",
        "    from\n",
        "        (\n",
        "            select\n",
        "                uid,\n",
        "                cast((julianday(test.checker_ts) - julianday(datetime(deadlines.deadlines, 'unixepoch'))) * 24 as integer) as diff,\n",
        "                case\n",
        "                    when test.checker_ts < test.first_view_ts then 'before'\n",
        "                    else 'after'\n",
        "                end as time\n",
        "            from test left join deadlines on test.labname = deadlines.labs\n",
        "            where not test.labname = 'project1'\n",
        "        )\n",
        "    where uid in\n",
        "        (\n",
        "            select uid\n",
        "            from\n",
        "                (\n",
        "                    select\n",
        "                        uid,\n",
        "                        case\n",
        "                            when test.checker_ts < test.first_view_ts then 'before'\n",
        "                            else 'after'\n",
        "                        end as time\n",
        "                    from test left join deadlines on test.labname = deadlines.labs\n",
        "                    where not test.labname = 'project1'\n",
        "                )\n",
        "            group by uid\n",
        "            having count(distinct time) = 2\n",
        "        )\n",
        "    \"\"\",\n",
        "    conn\n",
        ")"
      ],
      "execution_count": 7,
      "outputs": []
    },
    {
      "cell_type": "code",
      "metadata": {
        "id": "N_jhvbneBzTq",
        "colab_type": "code",
        "colab": {}
      },
      "source": [
        "test['group'] = ['test'] * len(test)"
      ],
      "execution_count": 8,
      "outputs": []
    },
    {
      "cell_type": "code",
      "metadata": {
        "id": "ugrYcCch_7UM",
        "colab_type": "code",
        "colab": {
          "base_uri": "https://localhost:8080/",
          "height": 204
        },
        "outputId": "8bc6821a-cf28-4f8e-fe29-5355321263e9"
      },
      "source": [
        "test.head()"
      ],
      "execution_count": 9,
      "outputs": [
        {
          "output_type": "execute_result",
          "data": {
            "text/html": [
              "<div>\n",
              "<style scoped>\n",
              "    .dataframe tbody tr th:only-of-type {\n",
              "        vertical-align: middle;\n",
              "    }\n",
              "\n",
              "    .dataframe tbody tr th {\n",
              "        vertical-align: top;\n",
              "    }\n",
              "\n",
              "    .dataframe thead th {\n",
              "        text-align: right;\n",
              "    }\n",
              "</style>\n",
              "<table border=\"1\" class=\"dataframe\">\n",
              "  <thead>\n",
              "    <tr style=\"text-align: right;\">\n",
              "      <th></th>\n",
              "      <th>time</th>\n",
              "      <th>diff</th>\n",
              "      <th>group</th>\n",
              "    </tr>\n",
              "  </thead>\n",
              "  <tbody>\n",
              "    <tr>\n",
              "      <th>0</th>\n",
              "      <td>before</td>\n",
              "      <td>-148</td>\n",
              "      <td>test</td>\n",
              "    </tr>\n",
              "    <tr>\n",
              "      <th>1</th>\n",
              "      <td>before</td>\n",
              "      <td>-148</td>\n",
              "      <td>test</td>\n",
              "    </tr>\n",
              "    <tr>\n",
              "      <th>2</th>\n",
              "      <td>before</td>\n",
              "      <td>-126</td>\n",
              "      <td>test</td>\n",
              "    </tr>\n",
              "    <tr>\n",
              "      <th>3</th>\n",
              "      <td>before</td>\n",
              "      <td>-99</td>\n",
              "      <td>test</td>\n",
              "    </tr>\n",
              "    <tr>\n",
              "      <th>4</th>\n",
              "      <td>before</td>\n",
              "      <td>-98</td>\n",
              "      <td>test</td>\n",
              "    </tr>\n",
              "  </tbody>\n",
              "</table>\n",
              "</div>"
            ],
            "text/plain": [
              "     time  diff group\n",
              "0  before  -148  test\n",
              "1  before  -148  test\n",
              "2  before  -126  test\n",
              "3  before   -99  test\n",
              "4  before   -98  test"
            ]
          },
          "metadata": {
            "tags": []
          },
          "execution_count": 9
        }
      ]
    },
    {
      "cell_type": "code",
      "metadata": {
        "id": "k_DI4KKP_9fR",
        "colab_type": "code",
        "colab": {}
      },
      "source": [
        "control = pd.io.sql.read_sql(\n",
        "    \"\"\"\n",
        "    select time, diff\n",
        "    from\n",
        "        (\n",
        "            select\n",
        "                uid,\n",
        "                cast((julianday(control.checker_ts) - julianday(datetime(deadlines.deadlines, 'unixepoch'))) * 24 as integer) as diff,\n",
        "                case\n",
        "                    when control.checker_ts < control.first_view_ts then 'before'\n",
        "                    else 'after'\n",
        "                end as time\n",
        "            from control left join deadlines on control.labname = deadlines.labs\n",
        "            where not control.labname = 'project1'\n",
        "        )\n",
        "    where uid in\n",
        "        (\n",
        "            select uid\n",
        "            from\n",
        "                (\n",
        "                    select\n",
        "                        uid,\n",
        "                        case\n",
        "                            when control.checker_ts < control.first_view_ts then 'before'\n",
        "                            else 'after'\n",
        "                        end as time\n",
        "                    from control left join deadlines on control.labname = deadlines.labs\n",
        "                    where not control.labname = 'project1'\n",
        "                )\n",
        "            group by uid\n",
        "            having count(distinct time) = 2\n",
        "        )\n",
        "    \"\"\",\n",
        "    conn\n",
        ")"
      ],
      "execution_count": 10,
      "outputs": []
    },
    {
      "cell_type": "code",
      "metadata": {
        "id": "7UWIXzqnC0Pz",
        "colab_type": "code",
        "colab": {}
      },
      "source": [
        "control['group'] = ['control'] * len(control)"
      ],
      "execution_count": 11,
      "outputs": []
    },
    {
      "cell_type": "code",
      "metadata": {
        "id": "1zFwfZ-5C463",
        "colab_type": "code",
        "colab": {
          "base_uri": "https://localhost:8080/",
          "height": 204
        },
        "outputId": "a8f7758d-f0fc-40f7-a5de-c74dc9423041"
      },
      "source": [
        "control.head()"
      ],
      "execution_count": 12,
      "outputs": [
        {
          "output_type": "execute_result",
          "data": {
            "text/html": [
              "<div>\n",
              "<style scoped>\n",
              "    .dataframe tbody tr th:only-of-type {\n",
              "        vertical-align: middle;\n",
              "    }\n",
              "\n",
              "    .dataframe tbody tr th {\n",
              "        vertical-align: top;\n",
              "    }\n",
              "\n",
              "    .dataframe thead th {\n",
              "        text-align: right;\n",
              "    }\n",
              "</style>\n",
              "<table border=\"1\" class=\"dataframe\">\n",
              "  <thead>\n",
              "    <tr style=\"text-align: right;\">\n",
              "      <th></th>\n",
              "      <th>time</th>\n",
              "      <th>diff</th>\n",
              "      <th>group</th>\n",
              "    </tr>\n",
              "  </thead>\n",
              "  <tbody>\n",
              "    <tr>\n",
              "      <th>0</th>\n",
              "      <td>before</td>\n",
              "      <td>-228</td>\n",
              "      <td>control</td>\n",
              "    </tr>\n",
              "    <tr>\n",
              "      <th>1</th>\n",
              "      <td>before</td>\n",
              "      <td>-228</td>\n",
              "      <td>control</td>\n",
              "    </tr>\n",
              "    <tr>\n",
              "      <th>2</th>\n",
              "      <td>before</td>\n",
              "      <td>-202</td>\n",
              "      <td>control</td>\n",
              "    </tr>\n",
              "    <tr>\n",
              "      <th>3</th>\n",
              "      <td>before</td>\n",
              "      <td>-202</td>\n",
              "      <td>control</td>\n",
              "    </tr>\n",
              "    <tr>\n",
              "      <th>4</th>\n",
              "      <td>before</td>\n",
              "      <td>-198</td>\n",
              "      <td>control</td>\n",
              "    </tr>\n",
              "  </tbody>\n",
              "</table>\n",
              "</div>"
            ],
            "text/plain": [
              "     time  diff    group\n",
              "0  before  -228  control\n",
              "1  before  -228  control\n",
              "2  before  -202  control\n",
              "3  before  -202  control\n",
              "4  before  -198  control"
            ]
          },
          "metadata": {
            "tags": []
          },
          "execution_count": 12
        }
      ]
    },
    {
      "cell_type": "code",
      "metadata": {
        "id": "lEiEgBEDC7P1",
        "colab_type": "code",
        "colab": {}
      },
      "source": [
        "after = pd.concat([test.loc[test['time'] == 'after'],\n",
        "                   control.loc[control['time'] == 'after']],\n",
        "                  ignore_index=True)"
      ],
      "execution_count": 13,
      "outputs": []
    },
    {
      "cell_type": "code",
      "metadata": {
        "id": "ohK_bsOWDPCS",
        "colab_type": "code",
        "colab": {
          "base_uri": "https://localhost:8080/",
          "height": 204
        },
        "outputId": "759189cf-9ac4-4322-bb80-c00528f36a8d"
      },
      "source": [
        "after.head()"
      ],
      "execution_count": 14,
      "outputs": [
        {
          "output_type": "execute_result",
          "data": {
            "text/html": [
              "<div>\n",
              "<style scoped>\n",
              "    .dataframe tbody tr th:only-of-type {\n",
              "        vertical-align: middle;\n",
              "    }\n",
              "\n",
              "    .dataframe tbody tr th {\n",
              "        vertical-align: top;\n",
              "    }\n",
              "\n",
              "    .dataframe thead th {\n",
              "        text-align: right;\n",
              "    }\n",
              "</style>\n",
              "<table border=\"1\" class=\"dataframe\">\n",
              "  <thead>\n",
              "    <tr style=\"text-align: right;\">\n",
              "      <th></th>\n",
              "      <th>time</th>\n",
              "      <th>diff</th>\n",
              "      <th>group</th>\n",
              "    </tr>\n",
              "  </thead>\n",
              "  <tbody>\n",
              "    <tr>\n",
              "      <th>0</th>\n",
              "      <td>after</td>\n",
              "      <td>-33</td>\n",
              "      <td>test</td>\n",
              "    </tr>\n",
              "    <tr>\n",
              "      <th>1</th>\n",
              "      <td>after</td>\n",
              "      <td>-32</td>\n",
              "      <td>test</td>\n",
              "    </tr>\n",
              "    <tr>\n",
              "      <th>2</th>\n",
              "      <td>after</td>\n",
              "      <td>-28</td>\n",
              "      <td>test</td>\n",
              "    </tr>\n",
              "    <tr>\n",
              "      <th>3</th>\n",
              "      <td>after</td>\n",
              "      <td>-10</td>\n",
              "      <td>test</td>\n",
              "    </tr>\n",
              "    <tr>\n",
              "      <th>4</th>\n",
              "      <td>after</td>\n",
              "      <td>-182</td>\n",
              "      <td>test</td>\n",
              "    </tr>\n",
              "  </tbody>\n",
              "</table>\n",
              "</div>"
            ],
            "text/plain": [
              "    time  diff group\n",
              "0  after   -33  test\n",
              "1  after   -32  test\n",
              "2  after   -28  test\n",
              "3  after   -10  test\n",
              "4  after  -182  test"
            ]
          },
          "metadata": {
            "tags": []
          },
          "execution_count": 14
        }
      ]
    },
    {
      "cell_type": "code",
      "metadata": {
        "id": "D9rbRRQKDimA",
        "colab_type": "code",
        "colab": {}
      },
      "source": [
        "before = pd.concat([test.loc[test['time'] == 'before'],\n",
        "                    control.loc[control['time'] == 'before']],\n",
        "                   ignore_index=True)"
      ],
      "execution_count": 15,
      "outputs": []
    },
    {
      "cell_type": "code",
      "metadata": {
        "id": "N4w00QsSDrSj",
        "colab_type": "code",
        "colab": {
          "base_uri": "https://localhost:8080/",
          "height": 204
        },
        "outputId": "5a0eac77-b841-44be-c777-05600768a2ea"
      },
      "source": [
        "before.head()"
      ],
      "execution_count": 16,
      "outputs": [
        {
          "output_type": "execute_result",
          "data": {
            "text/html": [
              "<div>\n",
              "<style scoped>\n",
              "    .dataframe tbody tr th:only-of-type {\n",
              "        vertical-align: middle;\n",
              "    }\n",
              "\n",
              "    .dataframe tbody tr th {\n",
              "        vertical-align: top;\n",
              "    }\n",
              "\n",
              "    .dataframe thead th {\n",
              "        text-align: right;\n",
              "    }\n",
              "</style>\n",
              "<table border=\"1\" class=\"dataframe\">\n",
              "  <thead>\n",
              "    <tr style=\"text-align: right;\">\n",
              "      <th></th>\n",
              "      <th>time</th>\n",
              "      <th>diff</th>\n",
              "      <th>group</th>\n",
              "    </tr>\n",
              "  </thead>\n",
              "  <tbody>\n",
              "    <tr>\n",
              "      <th>0</th>\n",
              "      <td>before</td>\n",
              "      <td>-148</td>\n",
              "      <td>test</td>\n",
              "    </tr>\n",
              "    <tr>\n",
              "      <th>1</th>\n",
              "      <td>before</td>\n",
              "      <td>-148</td>\n",
              "      <td>test</td>\n",
              "    </tr>\n",
              "    <tr>\n",
              "      <th>2</th>\n",
              "      <td>before</td>\n",
              "      <td>-126</td>\n",
              "      <td>test</td>\n",
              "    </tr>\n",
              "    <tr>\n",
              "      <th>3</th>\n",
              "      <td>before</td>\n",
              "      <td>-99</td>\n",
              "      <td>test</td>\n",
              "    </tr>\n",
              "    <tr>\n",
              "      <th>4</th>\n",
              "      <td>before</td>\n",
              "      <td>-98</td>\n",
              "      <td>test</td>\n",
              "    </tr>\n",
              "  </tbody>\n",
              "</table>\n",
              "</div>"
            ],
            "text/plain": [
              "     time  diff group\n",
              "0  before  -148  test\n",
              "1  before  -148  test\n",
              "2  before  -126  test\n",
              "3  before   -99  test\n",
              "4  before   -98  test"
            ]
          },
          "metadata": {
            "tags": []
          },
          "execution_count": 16
        }
      ]
    },
    {
      "cell_type": "code",
      "metadata": {
        "id": "FcqX63CDD4tw",
        "colab_type": "code",
        "colab": {
          "base_uri": "https://localhost:8080/",
          "height": 540
        },
        "outputId": "2365dbe5-f8a1-49e2-8436-98f6212eecf9"
      },
      "source": [
        "fig, ax = plt.subplots(1, 2, sharey=True, figsize=(15, 8))\n",
        "after.boxplot(column='diff', by='group', ax=ax[0],\n",
        "              color=dict(boxes='g', whiskers='r', medians='r', caps='r'),\n",
        "              boxprops=dict(linestyle='-', linewidth=3),\n",
        "              medianprops=dict(linestyle='-', linewidth=2),\n",
        "              whiskerprops=dict(linestyle='-', linewidth=2),\n",
        "              capprops=dict(linestyle='-', linewidth=2))\n",
        "before.boxplot(column='diff', by='group', ax=ax[1],\n",
        "               color=dict(boxes='g', whiskers='r', medians='r', caps='r'),\n",
        "               boxprops=dict(linestyle='-', linewidth=3),\n",
        "               medianprops=dict(linestyle='-', linewidth=2),\n",
        "               whiskerprops=dict(linestyle='-', linewidth=2),\n",
        "               capprops=dict(linestyle='-', linewidth=2))\n",
        "fig.suptitle('Lag before lab deadline. After and before the Newsfeed.',\n",
        "             fontdict={'fontsize': 15})\n",
        "ax[0].set_title('after')\n",
        "ax[1].set_title('before')\n",
        "plt.show()"
      ],
      "execution_count": 22,
      "outputs": [
        {
          "output_type": "display_data",
          "data": {
            "image/png": "[encoded data removed]",
            "text/plain": [
              "<Figure size 1080x576 with 2 Axes>"
            ]
          },
          "metadata": {
            "tags": [],
            "needs_background": "light"
          }
        }
      ]
    },
    {
      "cell_type": "code",
      "metadata": {
        "id": "PzEEywwX9R9x",
        "colab_type": "code",
        "colab": {}
      },
      "source": [
        "conn.close()"
      ],
      "execution_count": null,
      "outputs": []
    }
  ]
}