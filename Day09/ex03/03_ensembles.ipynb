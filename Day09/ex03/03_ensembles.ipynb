{
  "nbformat": 4,
  "nbformat_minor": 0,
  "metadata": {
    "colab": {
      "name": "03_ensembles.ipynb",
      "provenance": [],
      "collapsed_sections": []
    },
    "kernelspec": {
      "name": "python3",
      "display_name": "Python 3"
    },
    "accelerator": "GPU",
    "widgets": {
      "application/vnd.jupyter.widget-state+json": {
        "f052b0810ce54592a0899a3d64177427": {
          "model_module": "@jupyter-widgets/controls",
          "model_name": "HBoxModel",
          "state": {
            "_view_name": "HBoxView",
            "_dom_classes": [],
            "_model_name": "HBoxModel",
            "_view_module": "@jupyter-widgets/controls",
            "_model_module_version": "1.5.0",
            "_view_count": null,
            "_view_module_version": "1.5.0",
            "box_style": "",
            "layout": "IPY_MODEL_5c88a1971a4c4ccca775ae70eea1a68e",
            "_model_module": "@jupyter-widgets/controls",
            "children": [
              "IPY_MODEL_e288c2dca90e412ba757b96bc0debf3f",
              "IPY_MODEL_3c1fbc57783848ce99e7de3053247b11"
            ]
          }
        },
        "5c88a1971a4c4ccca775ae70eea1a68e": {
          "model_module": "@jupyter-widgets/base",
          "model_name": "LayoutModel",
          "state": {
            "_view_name": "LayoutView",
            "grid_template_rows": null,
            "right": null,
            "justify_content": null,
            "_view_module": "@jupyter-widgets/base",
            "overflow": null,
            "_model_module_version": "1.2.0",
            "_view_count": null,
            "flex_flow": null,
            "width": null,
            "min_width": null,
            "border": null,
            "align_items": null,
            "bottom": null,
            "_model_module": "@jupyter-widgets/base",
            "top": null,
            "grid_column": null,
            "overflow_y": null,
            "overflow_x": null,
            "grid_auto_flow": null,
            "grid_area": null,
            "grid_template_columns": null,
            "flex": null,
            "_model_name": "LayoutModel",
            "justify_items": null,
            "grid_row": null,
            "max_height": null,
            "align_content": null,
            "visibility": null,
            "align_self": null,
            "height": null,
            "min_height": null,
            "padding": null,
            "grid_auto_rows": null,
            "grid_gap": null,
            "max_width": null,
            "order": null,
            "_view_module_version": "1.2.0",
            "grid_template_areas": null,
            "object_position": null,
            "object_fit": null,
            "grid_auto_columns": null,
            "margin": null,
            "display": null,
            "left": null
          }
        },
        "e288c2dca90e412ba757b96bc0debf3f": {
          "model_module": "@jupyter-widgets/controls",
          "model_name": "FloatProgressModel",
          "state": {
            "_view_name": "ProgressView",
            "style": "IPY_MODEL_3013237712e142bc800990cacb44e460",
            "_dom_classes": [],
            "description": "100%",
            "_model_name": "FloatProgressModel",
            "bar_style": "success",
            "max": 125,
            "_view_module": "@jupyter-widgets/controls",
            "_model_module_version": "1.5.0",
            "value": 125,
            "_view_count": null,
            "_view_module_version": "1.5.0",
            "orientation": "horizontal",
            "min": 0,
            "description_tooltip": null,
            "_model_module": "@jupyter-widgets/controls",
            "layout": "IPY_MODEL_1dd481eed0d24e689e6c5e9fd9c638f6"
          }
        },
        "3c1fbc57783848ce99e7de3053247b11": {
          "model_module": "@jupyter-widgets/controls",
          "model_name": "HTMLModel",
          "state": {
            "_view_name": "HTMLView",
            "style": "IPY_MODEL_755b7d5e46104948ae2b7fec3ba8a637",
            "_dom_classes": [],
            "description": "",
            "_model_name": "HTMLModel",
            "placeholder": "​",
            "_view_module": "@jupyter-widgets/controls",
            "_model_module_version": "1.5.0",
            "value": " 125/125 [02:47&lt;00:00,  1.34s/it]",
            "_view_count": null,
            "_view_module_version": "1.5.0",
            "description_tooltip": null,
            "_model_module": "@jupyter-widgets/controls",
            "layout": "IPY_MODEL_b6d0cf994d9f4bc9ad08776053775dc4"
          }
        },
        "3013237712e142bc800990cacb44e460": {
          "model_module": "@jupyter-widgets/controls",
          "model_name": "ProgressStyleModel",
          "state": {
            "_view_name": "StyleView",
            "_model_name": "ProgressStyleModel",
            "description_width": "initial",
            "_view_module": "@jupyter-widgets/base",
            "_model_module_version": "1.5.0",
            "_view_count": null,
            "_view_module_version": "1.2.0",
            "bar_color": null,
            "_model_module": "@jupyter-widgets/controls"
          }
        },
        "1dd481eed0d24e689e6c5e9fd9c638f6": {
          "model_module": "@jupyter-widgets/base",
          "model_name": "LayoutModel",
          "state": {
            "_view_name": "LayoutView",
            "grid_template_rows": null,
            "right": null,
            "justify_content": null,
            "_view_module": "@jupyter-widgets/base",
            "overflow": null,
            "_model_module_version": "1.2.0",
            "_view_count": null,
            "flex_flow": null,
            "width": null,
            "min_width": null,
            "border": null,
            "align_items": null,
            "bottom": null,
            "_model_module": "@jupyter-widgets/base",
            "top": null,
            "grid_column": null,
            "overflow_y": null,
            "overflow_x": null,
            "grid_auto_flow": null,
            "grid_area": null,
            "grid_template_columns": null,
            "flex": null,
            "_model_name": "LayoutModel",
            "justify_items": null,
            "grid_row": null,
            "max_height": null,
            "align_content": null,
            "visibility": null,
            "align_self": null,
            "height": null,
            "min_height": null,
            "padding": null,
            "grid_auto_rows": null,
            "grid_gap": null,
            "max_width": null,
            "order": null,
            "_view_module_version": "1.2.0",
            "grid_template_areas": null,
            "object_position": null,
            "object_fit": null,
            "grid_auto_columns": null,
            "margin": null,
            "display": null,
            "left": null
          }
        },
        "755b7d5e46104948ae2b7fec3ba8a637": {
          "model_module": "@jupyter-widgets/controls",
          "model_name": "DescriptionStyleModel",
          "state": {
            "_view_name": "StyleView",
            "_model_name": "DescriptionStyleModel",
            "description_width": "",
            "_view_module": "@jupyter-widgets/base",
            "_model_module_version": "1.5.0",
            "_view_count": null,
            "_view_module_version": "1.2.0",
            "_model_module": "@jupyter-widgets/controls"
          }
        },
        "b6d0cf994d9f4bc9ad08776053775dc4": {
          "model_module": "@jupyter-widgets/base",
          "model_name": "LayoutModel",
          "state": {
            "_view_name": "LayoutView",
            "grid_template_rows": null,
            "right": null,
            "justify_content": null,
            "_view_module": "@jupyter-widgets/base",
            "overflow": null,
            "_model_module_version": "1.2.0",
            "_view_count": null,
            "flex_flow": null,
            "width": null,
            "min_width": null,
            "border": null,
            "align_items": null,
            "bottom": null,
            "_model_module": "@jupyter-widgets/base",
            "top": null,
            "grid_column": null,
            "overflow_y": null,
            "overflow_x": null,
            "grid_auto_flow": null,
            "grid_area": null,
            "grid_template_columns": null,
            "flex": null,
            "_model_name": "LayoutModel",
            "justify_items": null,
            "grid_row": null,
            "max_height": null,
            "align_content": null,
            "visibility": null,
            "align_self": null,
            "height": null,
            "min_height": null,
            "padding": null,
            "grid_auto_rows": null,
            "grid_gap": null,
            "max_width": null,
            "order": null,
            "_view_module_version": "1.2.0",
            "grid_template_areas": null,
            "object_position": null,
            "object_fit": null,
            "grid_auto_columns": null,
            "margin": null,
            "display": null,
            "left": null
          }
        },
        "20c219d008094a8399aa7bf4d0911d8e": {
          "model_module": "@jupyter-widgets/controls",
          "model_name": "HBoxModel",
          "state": {
            "_view_name": "HBoxView",
            "_dom_classes": [],
            "_model_name": "HBoxModel",
            "_view_module": "@jupyter-widgets/controls",
            "_model_module_version": "1.5.0",
            "_view_count": null,
            "_view_module_version": "1.5.0",
            "box_style": "",
            "layout": "IPY_MODEL_696eb795357d4939805d40f6d5927d37",
            "_model_module": "@jupyter-widgets/controls",
            "children": [
              "IPY_MODEL_a493bb5c9b3d47a291ebf1cc5abfc719",
              "IPY_MODEL_43d581e7b6c3496fa7cef5534ac3d631"
            ]
          }
        },
        "696eb795357d4939805d40f6d5927d37": {
          "model_module": "@jupyter-widgets/base",
          "model_name": "LayoutModel",
          "state": {
            "_view_name": "LayoutView",
            "grid_template_rows": null,
            "right": null,
            "justify_content": null,
            "_view_module": "@jupyter-widgets/base",
            "overflow": null,
            "_model_module_version": "1.2.0",
            "_view_count": null,
            "flex_flow": null,
            "width": null,
            "min_width": null,
            "border": null,
            "align_items": null,
            "bottom": null,
            "_model_module": "@jupyter-widgets/base",
            "top": null,
            "grid_column": null,
            "overflow_y": null,
            "overflow_x": null,
            "grid_auto_flow": null,
            "grid_area": null,
            "grid_template_columns": null,
            "flex": null,
            "_model_name": "LayoutModel",
            "justify_items": null,
            "grid_row": null,
            "max_height": null,
            "align_content": null,
            "visibility": null,
            "align_self": null,
            "height": null,
            "min_height": null,
            "padding": null,
            "grid_auto_rows": null,
            "grid_gap": null,
            "max_width": null,
            "order": null,
            "_view_module_version": "1.2.0",
            "grid_template_areas": null,
            "object_position": null,
            "object_fit": null,
            "grid_auto_columns": null,
            "margin": null,
            "display": null,
            "left": null
          }
        },
        "a493bb5c9b3d47a291ebf1cc5abfc719": {
          "model_module": "@jupyter-widgets/controls",
          "model_name": "FloatProgressModel",
          "state": {
            "_view_name": "ProgressView",
            "style": "IPY_MODEL_2c8a79a983e04f8fac70e8f358bbf670",
            "_dom_classes": [],
            "description": "100%",
            "_model_name": "FloatProgressModel",
            "bar_style": "success",
            "max": 4,
            "_view_module": "@jupyter-widgets/controls",
            "_model_module_version": "1.5.0",
            "value": 4,
            "_view_count": null,
            "_view_module_version": "1.5.0",
            "orientation": "horizontal",
            "min": 0,
            "description_tooltip": null,
            "_model_module": "@jupyter-widgets/controls",
            "layout": "IPY_MODEL_4970aca36375487b95ed3d19f8eeb57b"
          }
        },
        "43d581e7b6c3496fa7cef5534ac3d631": {
          "model_module": "@jupyter-widgets/controls",
          "model_name": "HTMLModel",
          "state": {
            "_view_name": "HTMLView",
            "style": "IPY_MODEL_dfd14282de124f1596a8ba60e426cbb9",
            "_dom_classes": [],
            "description": "",
            "_model_name": "HTMLModel",
            "placeholder": "​",
            "_view_module": "@jupyter-widgets/controls",
            "_model_module_version": "1.5.0",
            "value": " 4/4 [17:30&lt;00:00, 262.59s/it]",
            "_view_count": null,
            "_view_module_version": "1.5.0",
            "description_tooltip": null,
            "_model_module": "@jupyter-widgets/controls",
            "layout": "IPY_MODEL_ee6c4abb261e4a74933f901cdc92263b"
          }
        },
        "2c8a79a983e04f8fac70e8f358bbf670": {
          "model_module": "@jupyter-widgets/controls",
          "model_name": "ProgressStyleModel",
          "state": {
            "_view_name": "StyleView",
            "_model_name": "ProgressStyleModel",
            "description_width": "initial",
            "_view_module": "@jupyter-widgets/base",
            "_model_module_version": "1.5.0",
            "_view_count": null,
            "_view_module_version": "1.2.0",
            "bar_color": null,
            "_model_module": "@jupyter-widgets/controls"
          }
        },
        "4970aca36375487b95ed3d19f8eeb57b": {
          "model_module": "@jupyter-widgets/base",
          "model_name": "LayoutModel",
          "state": {
            "_view_name": "LayoutView",
            "grid_template_rows": null,
            "right": null,
            "justify_content": null,
            "_view_module": "@jupyter-widgets/base",
            "overflow": null,
            "_model_module_version": "1.2.0",
            "_view_count": null,
            "flex_flow": null,
            "width": null,
            "min_width": null,
            "border": null,
            "align_items": null,
            "bottom": null,
            "_model_module": "@jupyter-widgets/base",
            "top": null,
            "grid_column": null,
            "overflow_y": null,
            "overflow_x": null,
            "grid_auto_flow": null,
            "grid_area": null,
            "grid_template_columns": null,
            "flex": null,
            "_model_name": "LayoutModel",
            "justify_items": null,
            "grid_row": null,
            "max_height": null,
            "align_content": null,
            "visibility": null,
            "align_self": null,
            "height": null,
            "min_height": null,
            "padding": null,
            "grid_auto_rows": null,
            "grid_gap": null,
            "max_width": null,
            "order": null,
            "_view_module_version": "1.2.0",
            "grid_template_areas": null,
            "object_position": null,
            "object_fit": null,
            "grid_auto_columns": null,
            "margin": null,
            "display": null,
            "left": null
          }
        },
        "dfd14282de124f1596a8ba60e426cbb9": {
          "model_module": "@jupyter-widgets/controls",
          "model_name": "DescriptionStyleModel",
          "state": {
            "_view_name": "StyleView",
            "_model_name": "DescriptionStyleModel",
            "description_width": "",
            "_view_module": "@jupyter-widgets/base",
            "_model_module_version": "1.5.0",
            "_view_count": null,
            "_view_module_version": "1.2.0",
            "_model_module": "@jupyter-widgets/controls"
          }
        },
        "ee6c4abb261e4a74933f901cdc92263b": {
          "model_module": "@jupyter-widgets/base",
          "model_name": "LayoutModel",
          "state": {
            "_view_name": "LayoutView",
            "grid_template_rows": null,
            "right": null,
            "justify_content": null,
            "_view_module": "@jupyter-widgets/base",
            "overflow": null,
            "_model_module_version": "1.2.0",
            "_view_count": null,
            "flex_flow": null,
            "width": null,
            "min_width": null,
            "border": null,
            "align_items": null,
            "bottom": null,
            "_model_module": "@jupyter-widgets/base",
            "top": null,
            "grid_column": null,
            "overflow_y": null,
            "overflow_x": null,
            "grid_auto_flow": null,
            "grid_area": null,
            "grid_template_columns": null,
            "flex": null,
            "_model_name": "LayoutModel",
            "justify_items": null,
            "grid_row": null,
            "max_height": null,
            "align_content": null,
            "visibility": null,
            "align_self": null,
            "height": null,
            "min_height": null,
            "padding": null,
            "grid_auto_rows": null,
            "grid_gap": null,
            "max_width": null,
            "order": null,
            "_view_module_version": "1.2.0",
            "grid_template_areas": null,
            "object_position": null,
            "object_fit": null,
            "grid_auto_columns": null,
            "margin": null,
            "display": null,
            "left": null
          }
        }
      }
    }
  },
  "cells": [
    {
      "cell_type": "code",
      "metadata": {
        "id": "SyiR5V_q00Nh",
        "colab_type": "code",
        "colab": {}
      },
      "source": [
        "!pip install -U -q PyDrive"
      ],
      "execution_count": 1,
      "outputs": []
    },
    {
      "cell_type": "code",
      "metadata": {
        "id": "paGiU-CVtEdC",
        "colab_type": "code",
        "colab": {}
      },
      "source": [
        "from pydrive.auth import GoogleAuth\n",
        "from pydrive.drive import GoogleDrive\n",
        "from google.colab import auth\n",
        "from oauth2client.client import GoogleCredentials"
      ],
      "execution_count": 2,
      "outputs": []
    },
    {
      "cell_type": "code",
      "metadata": {
        "id": "wM2KyRNRBJ04",
        "colab_type": "code",
        "colab": {}
      },
      "source": [
        "auth.authenticate_user()\n",
        "gauth = GoogleAuth()\n",
        "gauth.credentials = GoogleCredentials.get_application_default()\n",
        "drive = GoogleDrive(gauth)"
      ],
      "execution_count": 3,
      "outputs": []
    },
    {
      "cell_type": "code",
      "metadata": {
        "id": "Yc3e-RUxlSLY",
        "colab_type": "code",
        "colab": {}
      },
      "source": [
        "import joblib\n",
        "import sqlite3\n",
        "import pandas as pd\n",
        "import numpy as np\n",
        "import matplotlib.pyplot as plt\n",
        "from tqdm.notebook import tqdm\n",
        "from itertools import product\n",
        "from sklearn.svm import SVC\n",
        "from sklearn.tree import DecisionTreeClassifier\n",
        "from sklearn.model_selection import train_test_split, GridSearchCV\n",
        "from sklearn.ensemble import StackingClassifier, BaggingClassifier\n",
        "from sklearn.ensemble import VotingClassifier, RandomForestClassifier\n",
        "from sklearn.metrics import plot_confusion_matrix\n",
        "from sklearn.metrics import accuracy_score, precision_score, recall_score"
      ],
      "execution_count": 49,
      "outputs": []
    },
    {
      "cell_type": "code",
      "metadata": {
        "id": "Gv1kI6kA2jfk",
        "colab_type": "code",
        "colab": {}
      },
      "source": [
        "!mkdir data"
      ],
      "execution_count": 5,
      "outputs": []
    },
    {
      "cell_type": "code",
      "metadata": {
        "id": "UGvXNXS51Mdm",
        "colab_type": "code",
        "colab": {}
      },
      "source": [
        "file_id = '1KiOvhsdjJqaUCLJa5adZXEtQ_72s8Eb6'\n",
        "downloaded = drive.CreateFile({'id': file_id})\n",
        "downloaded.GetContentFile('data/checking-logs.sqlite')"
      ],
      "execution_count": 6,
      "outputs": []
    },
    {
      "cell_type": "code",
      "metadata": {
        "id": "iPKqaUsq61SL",
        "colab_type": "code",
        "colab": {}
      },
      "source": [
        "conn = sqlite3.connect('data/checking-logs.sqlite')"
      ],
      "execution_count": 7,
      "outputs": []
    },
    {
      "cell_type": "code",
      "metadata": {
        "id": "dCadzxBnhwpG",
        "colab_type": "code",
        "colab": {}
      },
      "source": [
        "df = pd.io.sql.read_sql(\n",
        "    \"\"\"\n",
        "    select uid, labname, numTrials, timestamp\n",
        "    from checker\n",
        "    where uid like 'user_%' and status = 'ready'\n",
        "    \"\"\",\n",
        "    conn, parse_dates=['timestamp']\n",
        "    )"
      ],
      "execution_count": 8,
      "outputs": []
    },
    {
      "cell_type": "code",
      "metadata": {
        "id": "MmRKLOSTeVNf",
        "colab_type": "code",
        "colab": {}
      },
      "source": [
        "conn.close()"
      ],
      "execution_count": 9,
      "outputs": []
    },
    {
      "cell_type": "code",
      "metadata": {
        "id": "Lr0wgyc2iTzs",
        "colab_type": "code",
        "colab": {}
      },
      "source": [
        "df['hour'] = df['timestamp'].dt.hour\n",
        "dayofweek = df['timestamp'].dt.dayofweek\n",
        "df = df.drop('timestamp', axis=1)"
      ],
      "execution_count": 10,
      "outputs": []
    },
    {
      "cell_type": "code",
      "metadata": {
        "id": "6XJ1AN0Qungy",
        "colab_type": "code",
        "colab": {}
      },
      "source": [
        "df = pd.get_dummies(df, prefix=['uid', 'labname'], columns=['uid', 'labname'])"
      ],
      "execution_count": 11,
      "outputs": []
    },
    {
      "cell_type": "code",
      "metadata": {
        "id": "HioPoX_VwJJX",
        "colab_type": "code",
        "colab": {}
      },
      "source": [
        "df['dayofweek'] = dayofweek"
      ],
      "execution_count": 12,
      "outputs": []
    },
    {
      "cell_type": "code",
      "metadata": {
        "id": "k7ZslbMrvMer",
        "colab_type": "code",
        "colab": {
          "base_uri": "https://localhost:8080/",
          "height": 224
        },
        "outputId": "695c9eb3-61be-4f6c-f268-89cfea7ae6b9"
      },
      "source": [
        "df.head()"
      ],
      "execution_count": 13,
      "outputs": [
        {
          "output_type": "execute_result",
          "data": {
            "text/html": [
              "<div>\n",
              "<style scoped>\n",
              "    .dataframe tbody tr th:only-of-type {\n",
              "        vertical-align: middle;\n",
              "    }\n",
              "\n",
              "    .dataframe tbody tr th {\n",
              "        vertical-align: top;\n",
              "    }\n",
              "\n",
              "    .dataframe thead th {\n",
              "        text-align: right;\n",
              "    }\n",
              "</style>\n",
              "<table border=\"1\" class=\"dataframe\">\n",
              "  <thead>\n",
              "    <tr style=\"text-align: right;\">\n",
              "      <th></th>\n",
              "      <th>numTrials</th>\n",
              "      <th>hour</th>\n",
              "      <th>uid_user_0</th>\n",
              "      <th>uid_user_1</th>\n",
              "      <th>uid_user_10</th>\n",
              "      <th>uid_user_11</th>\n",
              "      <th>uid_user_12</th>\n",
              "      <th>uid_user_13</th>\n",
              "      <th>uid_user_14</th>\n",
              "      <th>uid_user_15</th>\n",
              "      <th>uid_user_16</th>\n",
              "      <th>uid_user_17</th>\n",
              "      <th>uid_user_18</th>\n",
              "      <th>uid_user_19</th>\n",
              "      <th>uid_user_2</th>\n",
              "      <th>uid_user_20</th>\n",
              "      <th>uid_user_21</th>\n",
              "      <th>uid_user_22</th>\n",
              "      <th>uid_user_23</th>\n",
              "      <th>uid_user_24</th>\n",
              "      <th>uid_user_25</th>\n",
              "      <th>uid_user_26</th>\n",
              "      <th>uid_user_27</th>\n",
              "      <th>uid_user_28</th>\n",
              "      <th>uid_user_29</th>\n",
              "      <th>uid_user_3</th>\n",
              "      <th>uid_user_30</th>\n",
              "      <th>uid_user_31</th>\n",
              "      <th>uid_user_4</th>\n",
              "      <th>uid_user_6</th>\n",
              "      <th>uid_user_7</th>\n",
              "      <th>uid_user_8</th>\n",
              "      <th>labname_code_rvw</th>\n",
              "      <th>labname_lab02</th>\n",
              "      <th>labname_lab03</th>\n",
              "      <th>labname_lab03s</th>\n",
              "      <th>labname_lab05s</th>\n",
              "      <th>labname_laba04</th>\n",
              "      <th>labname_laba04s</th>\n",
              "      <th>labname_laba05</th>\n",
              "      <th>labname_laba06</th>\n",
              "      <th>labname_laba06s</th>\n",
              "      <th>labname_project1</th>\n",
              "      <th>dayofweek</th>\n",
              "    </tr>\n",
              "  </thead>\n",
              "  <tbody>\n",
              "    <tr>\n",
              "      <th>0</th>\n",
              "      <td>1</td>\n",
              "      <td>5</td>\n",
              "      <td>0</td>\n",
              "      <td>0</td>\n",
              "      <td>0</td>\n",
              "      <td>0</td>\n",
              "      <td>0</td>\n",
              "      <td>0</td>\n",
              "      <td>0</td>\n",
              "      <td>0</td>\n",
              "      <td>0</td>\n",
              "      <td>0</td>\n",
              "      <td>0</td>\n",
              "      <td>0</td>\n",
              "      <td>0</td>\n",
              "      <td>0</td>\n",
              "      <td>0</td>\n",
              "      <td>0</td>\n",
              "      <td>0</td>\n",
              "      <td>0</td>\n",
              "      <td>0</td>\n",
              "      <td>0</td>\n",
              "      <td>0</td>\n",
              "      <td>0</td>\n",
              "      <td>0</td>\n",
              "      <td>0</td>\n",
              "      <td>0</td>\n",
              "      <td>0</td>\n",
              "      <td>1</td>\n",
              "      <td>0</td>\n",
              "      <td>0</td>\n",
              "      <td>0</td>\n",
              "      <td>0</td>\n",
              "      <td>0</td>\n",
              "      <td>0</td>\n",
              "      <td>0</td>\n",
              "      <td>0</td>\n",
              "      <td>0</td>\n",
              "      <td>0</td>\n",
              "      <td>0</td>\n",
              "      <td>0</td>\n",
              "      <td>0</td>\n",
              "      <td>1</td>\n",
              "      <td>4</td>\n",
              "    </tr>\n",
              "    <tr>\n",
              "      <th>1</th>\n",
              "      <td>2</td>\n",
              "      <td>5</td>\n",
              "      <td>0</td>\n",
              "      <td>0</td>\n",
              "      <td>0</td>\n",
              "      <td>0</td>\n",
              "      <td>0</td>\n",
              "      <td>0</td>\n",
              "      <td>0</td>\n",
              "      <td>0</td>\n",
              "      <td>0</td>\n",
              "      <td>0</td>\n",
              "      <td>0</td>\n",
              "      <td>0</td>\n",
              "      <td>0</td>\n",
              "      <td>0</td>\n",
              "      <td>0</td>\n",
              "      <td>0</td>\n",
              "      <td>0</td>\n",
              "      <td>0</td>\n",
              "      <td>0</td>\n",
              "      <td>0</td>\n",
              "      <td>0</td>\n",
              "      <td>0</td>\n",
              "      <td>0</td>\n",
              "      <td>0</td>\n",
              "      <td>0</td>\n",
              "      <td>0</td>\n",
              "      <td>1</td>\n",
              "      <td>0</td>\n",
              "      <td>0</td>\n",
              "      <td>0</td>\n",
              "      <td>0</td>\n",
              "      <td>0</td>\n",
              "      <td>0</td>\n",
              "      <td>0</td>\n",
              "      <td>0</td>\n",
              "      <td>0</td>\n",
              "      <td>0</td>\n",
              "      <td>0</td>\n",
              "      <td>0</td>\n",
              "      <td>0</td>\n",
              "      <td>1</td>\n",
              "      <td>4</td>\n",
              "    </tr>\n",
              "    <tr>\n",
              "      <th>2</th>\n",
              "      <td>3</td>\n",
              "      <td>5</td>\n",
              "      <td>0</td>\n",
              "      <td>0</td>\n",
              "      <td>0</td>\n",
              "      <td>0</td>\n",
              "      <td>0</td>\n",
              "      <td>0</td>\n",
              "      <td>0</td>\n",
              "      <td>0</td>\n",
              "      <td>0</td>\n",
              "      <td>0</td>\n",
              "      <td>0</td>\n",
              "      <td>0</td>\n",
              "      <td>0</td>\n",
              "      <td>0</td>\n",
              "      <td>0</td>\n",
              "      <td>0</td>\n",
              "      <td>0</td>\n",
              "      <td>0</td>\n",
              "      <td>0</td>\n",
              "      <td>0</td>\n",
              "      <td>0</td>\n",
              "      <td>0</td>\n",
              "      <td>0</td>\n",
              "      <td>0</td>\n",
              "      <td>0</td>\n",
              "      <td>0</td>\n",
              "      <td>1</td>\n",
              "      <td>0</td>\n",
              "      <td>0</td>\n",
              "      <td>0</td>\n",
              "      <td>0</td>\n",
              "      <td>0</td>\n",
              "      <td>0</td>\n",
              "      <td>0</td>\n",
              "      <td>0</td>\n",
              "      <td>0</td>\n",
              "      <td>0</td>\n",
              "      <td>0</td>\n",
              "      <td>0</td>\n",
              "      <td>0</td>\n",
              "      <td>1</td>\n",
              "      <td>4</td>\n",
              "    </tr>\n",
              "    <tr>\n",
              "      <th>3</th>\n",
              "      <td>4</td>\n",
              "      <td>5</td>\n",
              "      <td>0</td>\n",
              "      <td>0</td>\n",
              "      <td>0</td>\n",
              "      <td>0</td>\n",
              "      <td>0</td>\n",
              "      <td>0</td>\n",
              "      <td>0</td>\n",
              "      <td>0</td>\n",
              "      <td>0</td>\n",
              "      <td>0</td>\n",
              "      <td>0</td>\n",
              "      <td>0</td>\n",
              "      <td>0</td>\n",
              "      <td>0</td>\n",
              "      <td>0</td>\n",
              "      <td>0</td>\n",
              "      <td>0</td>\n",
              "      <td>0</td>\n",
              "      <td>0</td>\n",
              "      <td>0</td>\n",
              "      <td>0</td>\n",
              "      <td>0</td>\n",
              "      <td>0</td>\n",
              "      <td>0</td>\n",
              "      <td>0</td>\n",
              "      <td>0</td>\n",
              "      <td>1</td>\n",
              "      <td>0</td>\n",
              "      <td>0</td>\n",
              "      <td>0</td>\n",
              "      <td>0</td>\n",
              "      <td>0</td>\n",
              "      <td>0</td>\n",
              "      <td>0</td>\n",
              "      <td>0</td>\n",
              "      <td>0</td>\n",
              "      <td>0</td>\n",
              "      <td>0</td>\n",
              "      <td>0</td>\n",
              "      <td>0</td>\n",
              "      <td>1</td>\n",
              "      <td>4</td>\n",
              "    </tr>\n",
              "    <tr>\n",
              "      <th>4</th>\n",
              "      <td>5</td>\n",
              "      <td>5</td>\n",
              "      <td>0</td>\n",
              "      <td>0</td>\n",
              "      <td>0</td>\n",
              "      <td>0</td>\n",
              "      <td>0</td>\n",
              "      <td>0</td>\n",
              "      <td>0</td>\n",
              "      <td>0</td>\n",
              "      <td>0</td>\n",
              "      <td>0</td>\n",
              "      <td>0</td>\n",
              "      <td>0</td>\n",
              "      <td>0</td>\n",
              "      <td>0</td>\n",
              "      <td>0</td>\n",
              "      <td>0</td>\n",
              "      <td>0</td>\n",
              "      <td>0</td>\n",
              "      <td>0</td>\n",
              "      <td>0</td>\n",
              "      <td>0</td>\n",
              "      <td>0</td>\n",
              "      <td>0</td>\n",
              "      <td>0</td>\n",
              "      <td>0</td>\n",
              "      <td>0</td>\n",
              "      <td>1</td>\n",
              "      <td>0</td>\n",
              "      <td>0</td>\n",
              "      <td>0</td>\n",
              "      <td>0</td>\n",
              "      <td>0</td>\n",
              "      <td>0</td>\n",
              "      <td>0</td>\n",
              "      <td>0</td>\n",
              "      <td>0</td>\n",
              "      <td>0</td>\n",
              "      <td>0</td>\n",
              "      <td>0</td>\n",
              "      <td>0</td>\n",
              "      <td>1</td>\n",
              "      <td>4</td>\n",
              "    </tr>\n",
              "  </tbody>\n",
              "</table>\n",
              "</div>"
            ],
            "text/plain": [
              "   numTrials  hour  uid_user_0  ...  labname_laba06s  labname_project1  dayofweek\n",
              "0          1     5           0  ...                0                 1          4\n",
              "1          2     5           0  ...                0                 1          4\n",
              "2          3     5           0  ...                0                 1          4\n",
              "3          4     5           0  ...                0                 1          4\n",
              "4          5     5           0  ...                0                 1          4\n",
              "\n",
              "[5 rows x 44 columns]"
            ]
          },
          "metadata": {
            "tags": []
          },
          "execution_count": 13
        }
      ]
    },
    {
      "cell_type": "code",
      "metadata": {
        "id": "2AmtNsN9nhLJ",
        "colab_type": "code",
        "colab": {}
      },
      "source": [
        "X_train, X_test, y_train, y_test = train_test_split(\n",
        "    df.drop('dayofweek', axis=1), df['dayofweek'],\n",
        "    test_size=0.2, random_state=21, stratify=df['dayofweek']\n",
        "    )"
      ],
      "execution_count": 14,
      "outputs": []
    },
    {
      "cell_type": "code",
      "metadata": {
        "id": "WlVMEtFX2Rdo",
        "colab_type": "code",
        "colab": {}
      },
      "source": [
        "svc = SVC(C=10, gamma='auto', probability=True, random_state=21)"
      ],
      "execution_count": 15,
      "outputs": []
    },
    {
      "cell_type": "code",
      "metadata": {
        "id": "GYlt8lKN27UV",
        "colab_type": "code",
        "colab": {
          "base_uri": "https://localhost:8080/",
          "height": 85
        },
        "outputId": "c06aba79-2786-44d7-8c86-94aaedf68b90"
      },
      "source": [
        "svc.fit(X_train, y_train)"
      ],
      "execution_count": 16,
      "outputs": [
        {
          "output_type": "execute_result",
          "data": {
            "text/plain": [
              "SVC(C=10, break_ties=False, cache_size=200, class_weight=None, coef0=0.0,\n",
              "    decision_function_shape='ovr', degree=3, gamma='auto', kernel='rbf',\n",
              "    max_iter=-1, probability=True, random_state=21, shrinking=True, tol=0.001,\n",
              "    verbose=False)"
            ]
          },
          "metadata": {
            "tags": []
          },
          "execution_count": 16
        }
      ]
    },
    {
      "cell_type": "code",
      "metadata": {
        "id": "AjJ86ukI299u",
        "colab_type": "code",
        "colab": {}
      },
      "source": [
        "y_pred = svc.predict(X_test)"
      ],
      "execution_count": 17,
      "outputs": []
    },
    {
      "cell_type": "code",
      "metadata": {
        "id": "cx9fypxa3Bp9",
        "colab_type": "code",
        "colab": {
          "base_uri": "https://localhost:8080/",
          "height": 68
        },
        "outputId": "15d6fac9-1beb-44f2-da4b-c13bf1821871"
      },
      "source": [
        "print(f\"Accuracy: {accuracy_score(y_test, y_pred):.5f}\")\n",
        "print(f\"Precision: {precision_score(y_test, y_pred, average='weighted'):.5f}\")\n",
        "print(f\"Recall: {recall_score(y_test, y_pred, average='weighted'):.5f}\")"
      ],
      "execution_count": 18,
      "outputs": [
        {
          "output_type": "stream",
          "text": [
            "Accuracy: 0.88757\n",
            "Precision: 0.89267\n",
            "Recall: 0.88757\n"
          ],
          "name": "stdout"
        }
      ]
    },
    {
      "cell_type": "code",
      "metadata": {
        "id": "XT-Sqor_3QML",
        "colab_type": "code",
        "colab": {}
      },
      "source": [
        "tree = DecisionTreeClassifier(max_depth=27, class_weight='balanced',\n",
        "                              random_state=21)"
      ],
      "execution_count": 19,
      "outputs": []
    },
    {
      "cell_type": "code",
      "metadata": {
        "colab_type": "code",
        "id": "DShDChZ37ATw",
        "colab": {
          "base_uri": "https://localhost:8080/",
          "height": 119
        },
        "outputId": "e61aaf00-99be-4b20-e597-7b49f43ab0e1"
      },
      "source": [
        "tree.fit(X_train, y_train)"
      ],
      "execution_count": 20,
      "outputs": [
        {
          "output_type": "execute_result",
          "data": {
            "text/plain": [
              "DecisionTreeClassifier(ccp_alpha=0.0, class_weight='balanced', criterion='gini',\n",
              "                       max_depth=27, max_features=None, max_leaf_nodes=None,\n",
              "                       min_impurity_decrease=0.0, min_impurity_split=None,\n",
              "                       min_samples_leaf=1, min_samples_split=2,\n",
              "                       min_weight_fraction_leaf=0.0, presort='deprecated',\n",
              "                       random_state=21, splitter='best')"
            ]
          },
          "metadata": {
            "tags": []
          },
          "execution_count": 20
        }
      ]
    },
    {
      "cell_type": "code",
      "metadata": {
        "colab_type": "code",
        "id": "f3j6I7pX7AT3",
        "colab": {}
      },
      "source": [
        "y_pred = tree.predict(X_test)"
      ],
      "execution_count": 21,
      "outputs": []
    },
    {
      "cell_type": "code",
      "metadata": {
        "colab_type": "code",
        "id": "LWv9sqpU7AT7",
        "colab": {
          "base_uri": "https://localhost:8080/",
          "height": 68
        },
        "outputId": "1212345e-76d6-405f-bef5-7fa134bfb5f5"
      },
      "source": [
        "print(f\"Accuracy: {accuracy_score(y_test, y_pred):.5f}\")\n",
        "print(f\"Precision: {precision_score(y_test, y_pred, average='weighted'):.5f}\")\n",
        "print(f\"Recall: {recall_score(y_test, y_pred, average='weighted'):.5f}\")"
      ],
      "execution_count": 22,
      "outputs": [
        {
          "output_type": "stream",
          "text": [
            "Accuracy: 0.90237\n",
            "Precision: 0.90360\n",
            "Recall: 0.90237\n"
          ],
          "name": "stdout"
        }
      ]
    },
    {
      "cell_type": "code",
      "metadata": {
        "id": "8AYXdohi7eB9",
        "colab_type": "code",
        "colab": {}
      },
      "source": [
        "forest = RandomForestClassifier(n_estimators=50, max_depth=28, random_state=21)"
      ],
      "execution_count": 23,
      "outputs": []
    },
    {
      "cell_type": "code",
      "metadata": {
        "colab_type": "code",
        "id": "0-J3HAK48jLO",
        "colab": {
          "base_uri": "https://localhost:8080/",
          "height": 153
        },
        "outputId": "9fd15dc4-d670-477f-cdd0-7b59648df43a"
      },
      "source": [
        "forest.fit(X_train, y_train)"
      ],
      "execution_count": 24,
      "outputs": [
        {
          "output_type": "execute_result",
          "data": {
            "text/plain": [
              "RandomForestClassifier(bootstrap=True, ccp_alpha=0.0, class_weight=None,\n",
              "                       criterion='gini', max_depth=28, max_features='auto',\n",
              "                       max_leaf_nodes=None, max_samples=None,\n",
              "                       min_impurity_decrease=0.0, min_impurity_split=None,\n",
              "                       min_samples_leaf=1, min_samples_split=2,\n",
              "                       min_weight_fraction_leaf=0.0, n_estimators=50,\n",
              "                       n_jobs=None, oob_score=False, random_state=21, verbose=0,\n",
              "                       warm_start=False)"
            ]
          },
          "metadata": {
            "tags": []
          },
          "execution_count": 24
        }
      ]
    },
    {
      "cell_type": "code",
      "metadata": {
        "colab_type": "code",
        "id": "sdPejQQg8jLU",
        "colab": {}
      },
      "source": [
        "y_pred = forest.predict(X_test)"
      ],
      "execution_count": 25,
      "outputs": []
    },
    {
      "cell_type": "code",
      "metadata": {
        "colab_type": "code",
        "id": "jhZ7eJ7v8jLX",
        "colab": {
          "base_uri": "https://localhost:8080/",
          "height": 68
        },
        "outputId": "794c311d-c401-4328-9836-bcbb27f27f42"
      },
      "source": [
        "print(f\"Accuracy: {accuracy_score(y_test, y_pred):.5f}\")\n",
        "print(f\"Precision: {precision_score(y_test, y_pred, average='weighted'):.5f}\")\n",
        "print(f\"Recall: {recall_score(y_test, y_pred, average='weighted'):.5f}\")"
      ],
      "execution_count": 26,
      "outputs": [
        {
          "output_type": "stream",
          "text": [
            "Accuracy: 0.92899\n",
            "Precision: 0.93009\n",
            "Recall: 0.92899\n"
          ],
          "name": "stdout"
        }
      ]
    },
    {
      "cell_type": "code",
      "metadata": {
        "id": "B1eE50PMnu2D",
        "colab_type": "code",
        "colab": {}
      },
      "source": [
        "voting_clf = VotingClassifier(\n",
        "    [('svc', svc), ('tree', tree), ('forest', forest)]\n",
        "    )"
      ],
      "execution_count": 37,
      "outputs": []
    },
    {
      "cell_type": "code",
      "metadata": {
        "colab_type": "code",
        "id": "DNLR0-5Eq8E7",
        "colab": {}
      },
      "source": [
        "y_pred = voting_clf.fit(X_train, y_train).predict(X_test)"
      ],
      "execution_count": 38,
      "outputs": []
    },
    {
      "cell_type": "code",
      "metadata": {
        "colab_type": "code",
        "id": "JwYh7XD2q8FA",
        "colab": {
          "base_uri": "https://localhost:8080/",
          "height": 68
        },
        "outputId": "0f340561-6034-4d5b-cf79-07dd9a74f47c"
      },
      "source": [
        "print(f\"Accuracy: {accuracy_score(y_test, y_pred):.5f}\")\n",
        "print(f\"Precision: {precision_score(y_test, y_pred, average='weighted'):.5f}\")\n",
        "print(f\"Recall: {recall_score(y_test, y_pred, average='weighted'):.5f}\")"
      ],
      "execution_count": 39,
      "outputs": [
        {
          "output_type": "stream",
          "text": [
            "Accuracy: 0.92604\n",
            "Precision: 0.92757\n",
            "Recall: 0.92604\n"
          ],
          "name": "stdout"
        }
      ]
    },
    {
      "cell_type": "code",
      "metadata": {
        "colab_type": "code",
        "id": "Z823LnSzruj2",
        "colab": {}
      },
      "source": [
        "voting_clf = VotingClassifier(\n",
        "    [('svc', svc), ('tree', tree), ('forest', forest)], voting='soft'\n",
        "    )"
      ],
      "execution_count": 40,
      "outputs": []
    },
    {
      "cell_type": "code",
      "metadata": {
        "colab_type": "code",
        "id": "_oMoK8iRruj6",
        "colab": {}
      },
      "source": [
        "y_pred = voting_clf.fit(X_train, y_train).predict(X_test)"
      ],
      "execution_count": 41,
      "outputs": []
    },
    {
      "cell_type": "code",
      "metadata": {
        "colab_type": "code",
        "id": "BKO2p5Joruj9",
        "colab": {
          "base_uri": "https://localhost:8080/",
          "height": 68
        },
        "outputId": "7cd7fb6f-2250-40be-f098-e9224b6fef13"
      },
      "source": [
        "print(f\"Accuracy: {accuracy_score(y_test, y_pred):.5f}\")\n",
        "print(f\"Precision: {precision_score(y_test, y_pred, average='weighted'):.5f}\")\n",
        "print(f\"Recall: {recall_score(y_test, y_pred, average='weighted'):.5f}\")"
      ],
      "execution_count": 42,
      "outputs": [
        {
          "output_type": "stream",
          "text": [
            "Accuracy: 0.92308\n",
            "Precision: 0.92388\n",
            "Recall: 0.92308\n"
          ],
          "name": "stdout"
        }
      ]
    },
    {
      "cell_type": "code",
      "metadata": {
        "id": "K6HFm0PdvjAL",
        "colab_type": "code",
        "colab": {}
      },
      "source": [
        "weights_list = list(product(range(1, 6), repeat=3))"
      ],
      "execution_count": 50,
      "outputs": []
    },
    {
      "cell_type": "code",
      "metadata": {
        "id": "do74Qj9pxDep",
        "colab_type": "code",
        "colab": {
          "base_uri": "https://localhost:8080/",
          "height": 134,
          "referenced_widgets": [
            "f052b0810ce54592a0899a3d64177427",
            "5c88a1971a4c4ccca775ae70eea1a68e",
            "e288c2dca90e412ba757b96bc0debf3f",
            "3c1fbc57783848ce99e7de3053247b11",
            "3013237712e142bc800990cacb44e460",
            "1dd481eed0d24e689e6c5e9fd9c638f6",
            "755b7d5e46104948ae2b7fec3ba8a637",
            "b6d0cf994d9f4bc9ad08776053775dc4"
          ]
        },
        "outputId": "5e33115a-1dcf-4ede-c52e-a3bf68f0d735"
      },
      "source": [
        "best_score = 0\n",
        "best_weights = [0, 0, 0]\n",
        "\n",
        "for weights in tqdm(weights_list):\n",
        "    voting_clf = VotingClassifier(\n",
        "        [('svc', svc), ('tree', tree), ('forest', forest)],\n",
        "        voting='soft', weights=weights, n_jobs=-1\n",
        "    )\n",
        "    y_pred = voting_clf.fit(X_train, y_train).predict(X_test)\n",
        "    score = accuracy_score(y_test, y_pred)\n",
        "    if score >= best_score:\n",
        "        best_score = score\n",
        "        best_weights = weights\n",
        "\n",
        "voting_clf = VotingClassifier(\n",
        "    [('svc', svc), ('tree', tree), ('forest', forest)],\n",
        "    voting='soft', weights=best_weights, n_jobs=-1\n",
        "    )\n",
        "\n",
        "y_pred = voting_clf.fit(X_train, y_train).predict(X_test)\n",
        "\n",
        "print(f\"Best weights: {best_weights}\")\n",
        "print(f\"Accuracy: {accuracy_score(y_test, y_pred):.5f}\")\n",
        "print(f\"Precision: {precision_score(y_test, y_pred, average='weighted'):.5f}\")\n",
        "print(f\"Recall: {recall_score(y_test, y_pred, average='weighted'):.5f}\")"
      ],
      "execution_count": 52,
      "outputs": [
        {
          "output_type": "display_data",
          "data": {
            "application/vnd.jupyter.widget-view+json": {
              "model_id": "f052b0810ce54592a0899a3d64177427",
              "version_minor": 0,
              "version_major": 2
            },
            "text/plain": [
              "HBox(children=(FloatProgress(value=0.0, max=125.0), HTML(value='')))"
            ]
          },
          "metadata": {
            "tags": []
          }
        },
        {
          "output_type": "stream",
          "text": [
            "\n",
            "Best weights: (5, 4, 5)\n",
            "Accuracy: 0.93195\n",
            "Precision: 0.93286\n",
            "Recall: 0.93195\n"
          ],
          "name": "stdout"
        }
      ]
    },
    {
      "cell_type": "code",
      "metadata": {
        "id": "pwh8tEtv0LoH",
        "colab_type": "code",
        "colab": {
          "base_uri": "https://localhost:8080/",
          "height": 134,
          "referenced_widgets": [
            "20c219d008094a8399aa7bf4d0911d8e",
            "696eb795357d4939805d40f6d5927d37",
            "a493bb5c9b3d47a291ebf1cc5abfc719",
            "43d581e7b6c3496fa7cef5534ac3d631",
            "2c8a79a983e04f8fac70e8f358bbf670",
            "4970aca36375487b95ed3d19f8eeb57b",
            "dfd14282de124f1596a8ba60e426cbb9",
            "ee6c4abb261e4a74933f901cdc92263b"
          ]
        },
        "outputId": "475441d4-184c-46d4-a221-34e325c1affd"
      },
      "source": [
        "best_score = 0\n",
        "best_n_estimators = 5\n",
        "\n",
        "for n_estimators in tqdm([5, 10, 50, 100]):\n",
        "    bagging_clf = BaggingClassifier(\n",
        "        base_estimator=SVC(C=10, gamma='auto', probability=True,\n",
        "                           random_state=21),\n",
        "        n_estimators=n_estimators, n_jobs=-1, random_state=21\n",
        "        )\n",
        "    y_pred = bagging_clf.fit(X_train, y_train).predict(X_test)\n",
        "    score = accuracy_score(y_test, y_pred)\n",
        "    if score >= best_score:\n",
        "        best_score = score\n",
        "        best_n_estimators = n_estimators\n",
        "\n",
        "bagging_clf = BaggingClassifier(\n",
        "    base_estimator=SVC(C=10, gamma='auto', probability=True, random_state=21),\n",
        "    n_estimators=best_n_estimators, n_jobs=-1, random_state=21\n",
        "    )\n",
        "\n",
        "y_pred = bagging_clf.fit(X_train, y_train).predict(X_test)\n",
        "\n",
        "print(f\"Best n_estimators: {best_n_estimators}\")\n",
        "print(f\"Accuracy: {accuracy_score(y_test, y_pred):.5f}\")\n",
        "print(f\"Precision: {precision_score(y_test, y_pred, average='weighted'):.5f}\")\n",
        "print(f\"Recall: {recall_score(y_test, y_pred, average='weighted'):.5f}\")"
      ],
      "execution_count": 53,
      "outputs": [
        {
          "output_type": "display_data",
          "data": {
            "application/vnd.jupyter.widget-view+json": {
              "model_id": "20c219d008094a8399aa7bf4d0911d8e",
              "version_minor": 0,
              "version_major": 2
            },
            "text/plain": [
              "HBox(children=(FloatProgress(value=0.0, max=4.0), HTML(value='')))"
            ]
          },
          "metadata": {
            "tags": []
          }
        },
        {
          "output_type": "stream",
          "text": [
            "\n",
            "Best n_estimators: 100\n",
            "Accuracy: 0.90828\n",
            "Precision: 0.91091\n",
            "Recall: 0.90828\n"
          ],
          "name": "stdout"
        }
      ]
    },
    {
      "cell_type": "code",
      "metadata": {
        "id": "eDpWJQEW5KJf",
        "colab_type": "code",
        "colab": {}
      },
      "source": [
        "stacking_clf = StackingClassifier(\n",
        "    [('svc', svc), ('tree', tree), ('forest', forest)]\n",
        "    )"
      ],
      "execution_count": 55,
      "outputs": []
    },
    {
      "cell_type": "code",
      "metadata": {
        "id": "MenyyUx35ihP",
        "colab_type": "code",
        "colab": {}
      },
      "source": [
        "param_grid = {'cv': [2, 3, 4, 5, 6, 7],\n",
        "              'passthrough': [True, False]}\n",
        "\n",
        "cv = GridSearchCV(stacking_clf, param_grid, scoring='accuracy', n_jobs=-1)"
      ],
      "execution_count": 58,
      "outputs": []
    },
    {
      "cell_type": "code",
      "metadata": {
        "id": "3Mc75RKx6Dzc",
        "colab_type": "code",
        "colab": {
          "base_uri": "https://localhost:8080/",
          "height": 748
        },
        "outputId": "6303f3bb-1592-41bd-d85c-e712281ad3f8"
      },
      "source": [
        "cv.fit(X_train, y_train)"
      ],
      "execution_count": 59,
      "outputs": [
        {
          "output_type": "stream",
          "text": [
            "/usr/local/lib/python3.6/dist-packages/sklearn/linear_model/_logistic.py:940: ConvergenceWarning: lbfgs failed to converge (status=1):\n",
            "STOP: TOTAL NO. of ITERATIONS REACHED LIMIT.\n",
            "\n",
            "Increase the number of iterations (max_iter) or scale the data as shown in:\n",
            "    https://scikit-learn.org/stable/modules/preprocessing.html\n",
            "Please also refer to the documentation for alternative solver options:\n",
            "    https://scikit-learn.org/stable/modules/linear_model.html#logistic-regression\n",
            "  extra_warning_msg=_LOGISTIC_SOLVER_CONVERGENCE_MSG)\n"
          ],
          "name": "stderr"
        },
        {
          "output_type": "execute_result",
          "data": {
            "text/plain": [
              "GridSearchCV(cv=None, error_score=nan,\n",
              "             estimator=StackingClassifier(cv=None,\n",
              "                                          estimators=[('svc',\n",
              "                                                       SVC(C=10,\n",
              "                                                           break_ties=False,\n",
              "                                                           cache_size=200,\n",
              "                                                           class_weight=None,\n",
              "                                                           coef0=0.0,\n",
              "                                                           decision_function_shape='ovr',\n",
              "                                                           degree=3,\n",
              "                                                           gamma='auto',\n",
              "                                                           kernel='rbf',\n",
              "                                                           max_iter=-1,\n",
              "                                                           probability=True,\n",
              "                                                           random_state=21,\n",
              "                                                           shrinking=True,\n",
              "                                                           tol=0.001,\n",
              "                                                           verbose=False)),\n",
              "                                                      ('tree',\n",
              "                                                       DecisionTreeClassifier(ccp_al...\n",
              "                                                                              min_weight_fraction_leaf=0.0,\n",
              "                                                                              n_estimators=50,\n",
              "                                                                              n_jobs=None,\n",
              "                                                                              oob_score=False,\n",
              "                                                                              random_state=21,\n",
              "                                                                              verbose=0,\n",
              "                                                                              warm_start=False))],\n",
              "                                          final_estimator=None, n_jobs=None,\n",
              "                                          passthrough=False,\n",
              "                                          stack_method='auto', verbose=0),\n",
              "             iid='deprecated', n_jobs=-1,\n",
              "             param_grid={'cv': [2, 3, 4, 5, 6, 7],\n",
              "                         'passthrough': [True, False]},\n",
              "             pre_dispatch='2*n_jobs', refit=True, return_train_score=False,\n",
              "             scoring='accuracy', verbose=0)"
            ]
          },
          "metadata": {
            "tags": []
          },
          "execution_count": 59
        }
      ]
    },
    {
      "cell_type": "code",
      "metadata": {
        "id": "6Q3kB26v6Q07",
        "colab_type": "code",
        "colab": {
          "base_uri": "https://localhost:8080/",
          "height": 34
        },
        "outputId": "0b1b2162-33db-4dce-b582-c0e90ade754d"
      },
      "source": [
        "cv.best_params_"
      ],
      "execution_count": 60,
      "outputs": [
        {
          "output_type": "execute_result",
          "data": {
            "text/plain": [
              "{'cv': 4, 'passthrough': True}"
            ]
          },
          "metadata": {
            "tags": []
          },
          "execution_count": 60
        }
      ]
    },
    {
      "cell_type": "code",
      "metadata": {
        "id": "BDhfu8H88ayU",
        "colab_type": "code",
        "colab": {}
      },
      "source": [
        "y_pred = cv.best_estimator_.predict(X_test)"
      ],
      "execution_count": 63,
      "outputs": []
    },
    {
      "cell_type": "code",
      "metadata": {
        "id": "K1IOmdoC8s0r",
        "colab_type": "code",
        "colab": {
          "base_uri": "https://localhost:8080/",
          "height": 68
        },
        "outputId": "facd44f2-5fdc-4eef-a09b-36c95aedebbf"
      },
      "source": [
        "print(f\"Accuracy: {accuracy_score(y_test, y_pred):.5f}\")\n",
        "print(f\"Precision: {precision_score(y_test, y_pred, average='weighted'):.5f}\")\n",
        "print(f\"Recall: {recall_score(y_test, y_pred, average='weighted'):.5f}\")"
      ],
      "execution_count": 64,
      "outputs": [
        {
          "output_type": "stream",
          "text": [
            "Accuracy: 0.93195\n",
            "Precision: 0.93364\n",
            "Recall: 0.93195\n"
          ],
          "name": "stdout"
        }
      ]
    },
    {
      "cell_type": "code",
      "metadata": {
        "id": "zhK8XKvoBC3h",
        "colab_type": "code",
        "colab": {
          "base_uri": "https://localhost:8080/",
          "height": 279
        },
        "outputId": "20207d98-07e5-4559-d61f-00b3979c32ee"
      },
      "source": [
        "plot_confusion_matrix(cv.best_estimator_, X_test, y_test)\n",
        "plt.show()"
      ],
      "execution_count": 65,
      "outputs": [
        {
          "output_type": "display_data",
          "data": {
            "image/png": "[encoded data removed]",
            "text/plain": [
              "<Figure size 432x288 with 2 Axes>"
            ]
          },
          "metadata": {
            "tags": [],
            "needs_background": "light"
          }
        }
      ]
    },
    {
      "cell_type": "code",
      "metadata": {
        "id": "gtEhPuUyBVoT",
        "colab_type": "code",
        "colab": {
          "base_uri": "https://localhost:8080/",
          "height": 34
        },
        "outputId": "f6937c4f-4592-4f87-9a28-5a0d7a785dbb"
      },
      "source": [
        "joblib.dump(cv.best_estimator_, 'model.joblib')"
      ],
      "execution_count": 66,
      "outputs": [
        {
          "output_type": "execute_result",
          "data": {
            "text/plain": [
              "['model.joblib']"
            ]
          },
          "metadata": {
            "tags": []
          },
          "execution_count": 66
        }
      ]
    }
  ]
}