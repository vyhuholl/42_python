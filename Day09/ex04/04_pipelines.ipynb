{
  "nbformat": 4,
  "nbformat_minor": 0,
  "metadata": {
    "colab": {
      "name": "04_pipelines.ipynb",
      "provenance": [],
      "collapsed_sections": []
    },
    "kernelspec": {
      "name": "python3",
      "display_name": "Python 3"
    },
    "accelerator": "GPU",
    "widgets": {
      "application/vnd.jupyter.widget-state+json": {
        "6a7fc59e2a2d4a35a0ef7d0157020b62": {
          "model_module": "@jupyter-widgets/controls",
          "model_name": "HBoxModel",
          "state": {
            "_view_name": "HBoxView",
            "_dom_classes": [],
            "_model_name": "HBoxModel",
            "_view_module": "@jupyter-widgets/controls",
            "_model_module_version": "1.5.0",
            "_view_count": null,
            "_view_module_version": "1.5.0",
            "box_style": "",
            "layout": "IPY_MODEL_9433048e2ea64a6184d13eb87ffcc957",
            "_model_module": "@jupyter-widgets/controls",
            "children": [
              "IPY_MODEL_b0364e4100134a02bb845a46d2a126b8",
              "IPY_MODEL_91d77b9e518142eeb1b0e20d86786723"
            ]
          }
        },
        "9433048e2ea64a6184d13eb87ffcc957": {
          "model_module": "@jupyter-widgets/base",
          "model_name": "LayoutModel",
          "state": {
            "_view_name": "LayoutView",
            "grid_template_rows": null,
            "right": null,
            "justify_content": null,
            "_view_module": "@jupyter-widgets/base",
            "overflow": null,
            "_model_module_version": "1.2.0",
            "_view_count": null,
            "flex_flow": null,
            "width": null,
            "min_width": null,
            "border": null,
            "align_items": null,
            "bottom": null,
            "_model_module": "@jupyter-widgets/base",
            "top": null,
            "grid_column": null,
            "overflow_y": null,
            "overflow_x": null,
            "grid_auto_flow": null,
            "grid_area": null,
            "grid_template_columns": null,
            "flex": null,
            "_model_name": "LayoutModel",
            "justify_items": null,
            "grid_row": null,
            "max_height": null,
            "align_content": null,
            "visibility": null,
            "align_self": null,
            "height": null,
            "min_height": null,
            "padding": null,
            "grid_auto_rows": null,
            "grid_gap": null,
            "max_width": null,
            "order": null,
            "_view_module_version": "1.2.0",
            "grid_template_areas": null,
            "object_position": null,
            "object_fit": null,
            "grid_auto_columns": null,
            "margin": null,
            "display": null,
            "left": null
          }
        },
        "b0364e4100134a02bb845a46d2a126b8": {
          "model_module": "@jupyter-widgets/controls",
          "model_name": "FloatProgressModel",
          "state": {
            "_view_name": "ProgressView",
            "style": "IPY_MODEL_9ed078c7a54543d2808d7f7c67dfa495",
            "_dom_classes": [],
            "description": "100%",
            "_model_name": "FloatProgressModel",
            "bar_style": "success",
            "max": 3,
            "_view_module": "@jupyter-widgets/controls",
            "_model_module_version": "1.5.0",
            "value": 3,
            "_view_count": null,
            "_view_module_version": "1.5.0",
            "orientation": "horizontal",
            "min": 0,
            "description_tooltip": null,
            "_model_module": "@jupyter-widgets/controls",
            "layout": "IPY_MODEL_70e000f63bec42249c0f3e64a216c7b0"
          }
        },
        "91d77b9e518142eeb1b0e20d86786723": {
          "model_module": "@jupyter-widgets/controls",
          "model_name": "HTMLModel",
          "state": {
            "_view_name": "HTMLView",
            "style": "IPY_MODEL_b6074b718703470385f17e0ec6024ea2",
            "_dom_classes": [],
            "description": "",
            "_model_name": "HTMLModel",
            "placeholder": "​",
            "_view_module": "@jupyter-widgets/controls",
            "_model_module_version": "1.5.0",
            "value": " 3/3 [33:44&lt;00:00, 674.82s/it]",
            "_view_count": null,
            "_view_module_version": "1.5.0",
            "description_tooltip": null,
            "_model_module": "@jupyter-widgets/controls",
            "layout": "IPY_MODEL_356e8d79e867420b9c3ff248cae4f103"
          }
        },
        "9ed078c7a54543d2808d7f7c67dfa495": {
          "model_module": "@jupyter-widgets/controls",
          "model_name": "ProgressStyleModel",
          "state": {
            "_view_name": "StyleView",
            "_model_name": "ProgressStyleModel",
            "description_width": "initial",
            "_view_module": "@jupyter-widgets/base",
            "_model_module_version": "1.5.0",
            "_view_count": null,
            "_view_module_version": "1.2.0",
            "bar_color": null,
            "_model_module": "@jupyter-widgets/controls"
          }
        },
        "70e000f63bec42249c0f3e64a216c7b0": {
          "model_module": "@jupyter-widgets/base",
          "model_name": "LayoutModel",
          "state": {
            "_view_name": "LayoutView",
            "grid_template_rows": null,
            "right": null,
            "justify_content": null,
            "_view_module": "@jupyter-widgets/base",
            "overflow": null,
            "_model_module_version": "1.2.0",
            "_view_count": null,
            "flex_flow": null,
            "width": null,
            "min_width": null,
            "border": null,
            "align_items": null,
            "bottom": null,
            "_model_module": "@jupyter-widgets/base",
            "top": null,
            "grid_column": null,
            "overflow_y": null,
            "overflow_x": null,
            "grid_auto_flow": null,
            "grid_area": null,
            "grid_template_columns": null,
            "flex": null,
            "_model_name": "LayoutModel",
            "justify_items": null,
            "grid_row": null,
            "max_height": null,
            "align_content": null,
            "visibility": null,
            "align_self": null,
            "height": null,
            "min_height": null,
            "padding": null,
            "grid_auto_rows": null,
            "grid_gap": null,
            "max_width": null,
            "order": null,
            "_view_module_version": "1.2.0",
            "grid_template_areas": null,
            "object_position": null,
            "object_fit": null,
            "grid_auto_columns": null,
            "margin": null,
            "display": null,
            "left": null
          }
        },
        "b6074b718703470385f17e0ec6024ea2": {
          "model_module": "@jupyter-widgets/controls",
          "model_name": "DescriptionStyleModel",
          "state": {
            "_view_name": "StyleView",
            "_model_name": "DescriptionStyleModel",
            "description_width": "",
            "_view_module": "@jupyter-widgets/base",
            "_model_module_version": "1.5.0",
            "_view_count": null,
            "_view_module_version": "1.2.0",
            "_model_module": "@jupyter-widgets/controls"
          }
        },
        "356e8d79e867420b9c3ff248cae4f103": {
          "model_module": "@jupyter-widgets/base",
          "model_name": "LayoutModel",
          "state": {
            "_view_name": "LayoutView",
            "grid_template_rows": null,
            "right": null,
            "justify_content": null,
            "_view_module": "@jupyter-widgets/base",
            "overflow": null,
            "_model_module_version": "1.2.0",
            "_view_count": null,
            "flex_flow": null,
            "width": null,
            "min_width": null,
            "border": null,
            "align_items": null,
            "bottom": null,
            "_model_module": "@jupyter-widgets/base",
            "top": null,
            "grid_column": null,
            "overflow_y": null,
            "overflow_x": null,
            "grid_auto_flow": null,
            "grid_area": null,
            "grid_template_columns": null,
            "flex": null,
            "_model_name": "LayoutModel",
            "justify_items": null,
            "grid_row": null,
            "max_height": null,
            "align_content": null,
            "visibility": null,
            "align_self": null,
            "height": null,
            "min_height": null,
            "padding": null,
            "grid_auto_rows": null,
            "grid_gap": null,
            "max_width": null,
            "order": null,
            "_view_module_version": "1.2.0",
            "grid_template_areas": null,
            "object_position": null,
            "object_fit": null,
            "grid_auto_columns": null,
            "margin": null,
            "display": null,
            "left": null
          }
        }
      }
    }
  },
  "cells": [
    {
      "cell_type": "code",
      "metadata": {
        "id": "SyiR5V_q00Nh",
        "colab_type": "code",
        "colab": {}
      },
      "source": [
        "!pip install -U -q PyDrive"
      ],
      "execution_count": 1,
      "outputs": []
    },
    {
      "cell_type": "code",
      "metadata": {
        "id": "paGiU-CVtEdC",
        "colab_type": "code",
        "colab": {}
      },
      "source": [
        "from pydrive.auth import GoogleAuth\n",
        "from pydrive.drive import GoogleDrive\n",
        "from google.colab import auth\n",
        "from oauth2client.client import GoogleCredentials"
      ],
      "execution_count": 2,
      "outputs": []
    },
    {
      "cell_type": "code",
      "metadata": {
        "id": "wM2KyRNRBJ04",
        "colab_type": "code",
        "colab": {}
      },
      "source": [
        "auth.authenticate_user()\n",
        "gauth = GoogleAuth()\n",
        "gauth.credentials = GoogleCredentials.get_application_default()\n",
        "drive = GoogleDrive(gauth)"
      ],
      "execution_count": 3,
      "outputs": []
    },
    {
      "cell_type": "code",
      "metadata": {
        "id": "Yc3e-RUxlSLY",
        "colab_type": "code",
        "colab": {}
      },
      "source": [
        "import os\n",
        "import joblib\n",
        "import sqlite3\n",
        "import pandas as pd\n",
        "import numpy as np\n",
        "from copy import deepcopy\n",
        "from itertools import product\n",
        "from tqdm.notebook import tqdm\n",
        "from sklearn.svm import SVC\n",
        "from sklearn.metrics import accuracy_score\n",
        "from sklearn.exceptions import NotFittedError\n",
        "from sklearn.tree import DecisionTreeClassifier\n",
        "from sklearn.ensemble import RandomForestClassifier\n",
        "from sklearn.ensemble import StackingClassifier, VotingClassifier\n",
        "from sklearn.model_selection import train_test_split, GridSearchCV"
      ],
      "execution_count": 38,
      "outputs": []
    },
    {
      "cell_type": "code",
      "metadata": {
        "id": "Gv1kI6kA2jfk",
        "colab_type": "code",
        "colab": {}
      },
      "source": [
        "!mkdir data"
      ],
      "execution_count": 5,
      "outputs": []
    },
    {
      "cell_type": "code",
      "metadata": {
        "id": "UGvXNXS51Mdm",
        "colab_type": "code",
        "colab": {}
      },
      "source": [
        "file_id = '1KiOvhsdjJqaUCLJa5adZXEtQ_72s8Eb6'\n",
        "downloaded = drive.CreateFile({'id': file_id})\n",
        "downloaded.GetContentFile('data/checking-logs.sqlite')"
      ],
      "execution_count": 6,
      "outputs": []
    },
    {
      "cell_type": "code",
      "metadata": {
        "id": "iPKqaUsq61SL",
        "colab_type": "code",
        "colab": {}
      },
      "source": [
        "conn = sqlite3.connect('data/checking-logs.sqlite')"
      ],
      "execution_count": 7,
      "outputs": []
    },
    {
      "cell_type": "code",
      "metadata": {
        "id": "dCadzxBnhwpG",
        "colab_type": "code",
        "colab": {}
      },
      "source": [
        "df = pd.io.sql.read_sql(\n",
        "    \"\"\"\n",
        "    select uid, labname, numTrials, timestamp\n",
        "    from checker\n",
        "    where uid like 'user_%' and status = 'ready'\n",
        "    \"\"\",\n",
        "    conn, parse_dates=['timestamp']\n",
        "    )"
      ],
      "execution_count": 8,
      "outputs": []
    },
    {
      "cell_type": "code",
      "metadata": {
        "id": "MmRKLOSTeVNf",
        "colab_type": "code",
        "colab": {}
      },
      "source": [
        "conn.close()"
      ],
      "execution_count": 9,
      "outputs": []
    },
    {
      "cell_type": "code",
      "metadata": {
        "id": "mFtLM-nl-Qdp",
        "colab_type": "code",
        "colab": {
          "base_uri": "https://localhost:8080/",
          "height": 204
        },
        "outputId": "e78056c1-77a5-4413-c377-ff4eee2d1ecd"
      },
      "source": [
        "df.head()"
      ],
      "execution_count": 10,
      "outputs": [
        {
          "output_type": "execute_result",
          "data": {
            "text/html": [
              "<div>\n",
              "<style scoped>\n",
              "    .dataframe tbody tr th:only-of-type {\n",
              "        vertical-align: middle;\n",
              "    }\n",
              "\n",
              "    .dataframe tbody tr th {\n",
              "        vertical-align: top;\n",
              "    }\n",
              "\n",
              "    .dataframe thead th {\n",
              "        text-align: right;\n",
              "    }\n",
              "</style>\n",
              "<table border=\"1\" class=\"dataframe\">\n",
              "  <thead>\n",
              "    <tr style=\"text-align: right;\">\n",
              "      <th></th>\n",
              "      <th>uid</th>\n",
              "      <th>labname</th>\n",
              "      <th>numTrials</th>\n",
              "      <th>timestamp</th>\n",
              "    </tr>\n",
              "  </thead>\n",
              "  <tbody>\n",
              "    <tr>\n",
              "      <th>0</th>\n",
              "      <td>user_4</td>\n",
              "      <td>project1</td>\n",
              "      <td>1</td>\n",
              "      <td>2020-04-17 05:19:02.744528</td>\n",
              "    </tr>\n",
              "    <tr>\n",
              "      <th>1</th>\n",
              "      <td>user_4</td>\n",
              "      <td>project1</td>\n",
              "      <td>2</td>\n",
              "      <td>2020-04-17 05:22:45.549397</td>\n",
              "    </tr>\n",
              "    <tr>\n",
              "      <th>2</th>\n",
              "      <td>user_4</td>\n",
              "      <td>project1</td>\n",
              "      <td>3</td>\n",
              "      <td>2020-04-17 05:34:24.422370</td>\n",
              "    </tr>\n",
              "    <tr>\n",
              "      <th>3</th>\n",
              "      <td>user_4</td>\n",
              "      <td>project1</td>\n",
              "      <td>4</td>\n",
              "      <td>2020-04-17 05:43:27.773992</td>\n",
              "    </tr>\n",
              "    <tr>\n",
              "      <th>4</th>\n",
              "      <td>user_4</td>\n",
              "      <td>project1</td>\n",
              "      <td>5</td>\n",
              "      <td>2020-04-17 05:46:32.275104</td>\n",
              "    </tr>\n",
              "  </tbody>\n",
              "</table>\n",
              "</div>"
            ],
            "text/plain": [
              "      uid   labname  numTrials                  timestamp\n",
              "0  user_4  project1          1 2020-04-17 05:19:02.744528\n",
              "1  user_4  project1          2 2020-04-17 05:22:45.549397\n",
              "2  user_4  project1          3 2020-04-17 05:34:24.422370\n",
              "3  user_4  project1          4 2020-04-17 05:43:27.773992\n",
              "4  user_4  project1          5 2020-04-17 05:46:32.275104"
            ]
          },
          "metadata": {
            "tags": []
          },
          "execution_count": 10
        }
      ]
    },
    {
      "cell_type": "code",
      "metadata": {
        "id": "lT-98L_PBATK",
        "colab_type": "code",
        "colab": {
          "base_uri": "https://localhost:8080/",
          "height": 204
        },
        "outputId": "34f658ac-6b1f-45cf-f12b-3a5fccabff27"
      },
      "source": [
        "df.info()"
      ],
      "execution_count": 11,
      "outputs": [
        {
          "output_type": "stream",
          "text": [
            "<class 'pandas.core.frame.DataFrame'>\n",
            "RangeIndex: 1686 entries, 0 to 1685\n",
            "Data columns (total 4 columns):\n",
            " #   Column     Non-Null Count  Dtype         \n",
            "---  ------     --------------  -----         \n",
            " 0   uid        1686 non-null   object        \n",
            " 1   labname    1686 non-null   object        \n",
            " 2   numTrials  1686 non-null   int64         \n",
            " 3   timestamp  1686 non-null   datetime64[ns]\n",
            "dtypes: datetime64[ns](1), int64(1), object(2)\n",
            "memory usage: 52.8+ KB\n"
          ],
          "name": "stdout"
        }
      ]
    },
    {
      "cell_type": "code",
      "metadata": {
        "id": "dPLFLs5R-R5A",
        "colab_type": "code",
        "colab": {}
      },
      "source": [
        "class FeatureExtractor():\n",
        "    def transform(self, X):\n",
        "        X['hour'] = X['timestamp'].dt.hour\n",
        "        X['weekday'] = X['timestamp'].dt.weekday\n",
        "        return X.drop('timestamp', axis=1)"
      ],
      "execution_count": 12,
      "outputs": []
    },
    {
      "cell_type": "code",
      "metadata": {
        "id": "8YSaBP-IAfNR",
        "colab_type": "code",
        "colab": {}
      },
      "source": [
        "class MyOneHotEncoder():\n",
        "    def transform(self, X, target):\n",
        "        y = X[target]\n",
        "        X = X.drop(target, axis=1)\n",
        "        categorical = list(X.select_dtypes(include='object').columns)\n",
        "        X = pd.get_dummies(X, prefix=categorical, columns=categorical)\n",
        "        return X, y"
      ],
      "execution_count": 13,
      "outputs": []
    },
    {
      "cell_type": "code",
      "metadata": {
        "id": "M5kUb7YjEaXG",
        "colab_type": "code",
        "colab": {}
      },
      "source": [
        "class ModelSelection():\n",
        "    def __init__(self, estimators, names):\n",
        "        self.estimators = deepcopy(estimators)\n",
        "        self.names = deepcopy(names)\n",
        "        self.cv_results_ = None\n",
        "        self.best_score_ = None\n",
        "        self.final_score_ = None\n",
        "        self.best_estimator_ = None\n",
        "        self.best_estimator_name_ = None\n",
        "\n",
        "    def fit(self, X, y):\n",
        "        self.cv_results_ = {'model': [], 'params': [], 'valid_score': []}\n",
        "        for i in tqdm(range(len(self.estimators))):\n",
        "            print(f'Estimator: {self.names[i]}')\n",
        "            self.estimators[i].fit(X, y)\n",
        "            train = max(self.estimators[i].cv_results_['mean_train_score'])\n",
        "            valid = self.estimators[i].best_score_\n",
        "            self.cv_results_['model'].append(self.names[i])\n",
        "            self.cv_results_['params'].append(self.estimators[i].best_params_)\n",
        "            self.cv_results_['valid_score'].append(valid)\n",
        "            print(f'Best params: {self.estimators[i].best_params_}')\n",
        "            print(f'Best training accuracy: {train:.3f}')\n",
        "            print(f'Validation accuracy for best params: {valid:.3f}')\n",
        "            print('\\n')\n",
        "            if not self.best_score_ or valid >= self.best_score_:\n",
        "                self.best_score_ = valid\n",
        "                self.best_estimator_ = self.estimators[i].best_estimator_\n",
        "                self.best_estimator_name_ = self.names[i]\n",
        "        print(f'Best estimator: {self.best_estimator_name_}')\n",
        "\n",
        "    def best_results(self):\n",
        "        if not self.cv_results_:\n",
        "            raise NotFittedError('ModelSelection instance is not fitted yet')\n",
        "        return pd.DataFrame(self.cv_results_).sort_values('valid_score',\n",
        "                                                          ascending=False)\n",
        "\n",
        "    def final_score(self, X, y):\n",
        "        if not self.cv_results_:\n",
        "            raise NotFittedError('ModelSelection instance is not fitted yet')\n",
        "        y_pred = self.best_estimator_.predict(X)\n",
        "        self.final_score_ = accuracy_score(y, y_pred)\n",
        "        self.best_estimator_name_ += f'_{self.final_score_:.3f}'\n",
        "        return self.final_score_\n",
        "\n",
        "    def save_model(self, path):\n",
        "        if not self.cv_results_:\n",
        "            raise NotFittedError('ModelSelection instance is not fitted yet')\n",
        "        joblib.dump(self.best_estimator_,\n",
        "                    os.path.join(path, f'{self.best_estimator_name_}.joblib'))"
      ],
      "execution_count": 63,
      "outputs": []
    },
    {
      "cell_type": "code",
      "metadata": {
        "id": "4HSLyvXmkcMH",
        "colab_type": "code",
        "colab": {}
      },
      "source": [
        "class BestEnsemble():\n",
        "    def __init__(self, estimators, voting_params, stacking_params):\n",
        "        self.voting = VotingClassifier(deepcopy(estimators))\n",
        "        self.stacking = StackingClassifier(deepcopy(estimators))\n",
        "        self.voting_params = deepcopy(voting_params)\n",
        "        self.stacking_params = deepcopy(stacking_params)\n",
        "        self.cv_results_ = None\n",
        "        self.best_score_ = None\n",
        "        self.final_score_ = None\n",
        "        self.best_estimator_ = None\n",
        "        self.best_estimator_name_ = None\n",
        "\n",
        "    def fit(self, X, y):\n",
        "        self.cv_results_ = {\n",
        "            'ensemble': ['Voting Ensemble', 'Stacking Ensemble'],\n",
        "            'params': [],\n",
        "            'valid_score': []\n",
        "            }\n",
        "        print('Estimator: Voting Ensemble')\n",
        "        cv = GridSearchCV(self.voting, self.voting_params, scoring='accuracy',\n",
        "                          n_jobs=-1, verbose=2, return_train_score=True)\n",
        "        cv.fit(X, y)\n",
        "        train_score = max(cv.cv_results_['mean_train_score'])\n",
        "        self.cv_results_['params'].append(cv.best_params_)\n",
        "        self.cv_results_['valid_score'].append(cv.best_score_)\n",
        "        print(f'Best params: {cv.best_params_}')\n",
        "        print(f'Best training accuracy: {train_score:.3f}')\n",
        "        print(f'Validation accuracy for best params: {cv.best_score_:.3f}\\n')\n",
        "        self.best_score_ = cv.best_score_\n",
        "        self.best_estimator_ = cv.best_estimator_\n",
        "        self.best_estimator_name_ = 'Voting Classifier'\n",
        "        print('Estimator: Stacking Ensemble')\n",
        "        cv = GridSearchCV(self.stacking, self.stacking_params,\n",
        "                          scoring='accuracy', n_jobs=-1, verbose=2,\n",
        "                          return_train_score=True)\n",
        "        cv.fit(X, y)\n",
        "        train_score = max(cv.cv_results_['mean_train_score'])\n",
        "        self.cv_results_['params'].append(cv.best_params_)\n",
        "        self.cv_results_['valid_score'].append(cv.best_score_)\n",
        "        print(f'Best params: {cv.best_params_}')\n",
        "        print(f'Best training accuracy: {train_score:.3f}')\n",
        "        print(f'Validation accuracy for best params: {cv.best_score_:.3f}\\n')\n",
        "        if cv.best_score_ >= self.best_score_:\n",
        "            self.best_score_ = cv.best_score_\n",
        "            self.best_estimator_ = cv.best_estimator_\n",
        "            self.best_estimator_name_ = 'Stacking Classifier'\n",
        "        print(f'Best estimator: {self.best_estimator_name_}')\n",
        "\n",
        "    def best_results(self):\n",
        "        if not self.cv_results_:\n",
        "            raise NotFittedError('BestEnsemble instance is not fitted yet')\n",
        "        return pd.DataFrame(self.cv_results_).sort_values('valid_score',\n",
        "                                                          ascending=False)\n",
        "\n",
        "    def final_score(self, X, y):\n",
        "        if not self.cv_results_:\n",
        "            raise NotFittedError('BestEnsemble instance is not fitted yet')\n",
        "        y_pred = self.best_estimator_.predict(X)\n",
        "        self.final_score_ = accuracy_score(y, y_pred)\n",
        "        self.best_estimator_name_ += f'_{self.final_score_:.3f}'\n",
        "        return self.final_score_\n",
        "\n",
        "    def save_model(self, path):\n",
        "        if not self.cv_results_:\n",
        "            raise NotFittedError('BestEnsemble instance is not fitted yet')\n",
        "        joblib.dump(self.best_estimator_,\n",
        "                    os.path.join(path, f'{self.best_estimator_name_}.joblib'))"
      ],
      "execution_count": 64,
      "outputs": []
    },
    {
      "cell_type": "code",
      "metadata": {
        "id": "kwqJAAM73W-C",
        "colab_type": "code",
        "colab": {}
      },
      "source": [
        "feature_extractor = FeatureExtractor()\n",
        "\n",
        "df = feature_extractor.transform(df)"
      ],
      "execution_count": 18,
      "outputs": []
    },
    {
      "cell_type": "code",
      "metadata": {
        "id": "9Dys1WZq3d8W",
        "colab_type": "code",
        "colab": {
          "base_uri": "https://localhost:8080/",
          "height": 204
        },
        "outputId": "afb347b0-82a5-4069-efe5-e6d230811422"
      },
      "source": [
        "df.head()"
      ],
      "execution_count": 19,
      "outputs": [
        {
          "output_type": "execute_result",
          "data": {
            "text/html": [
              "<div>\n",
              "<style scoped>\n",
              "    .dataframe tbody tr th:only-of-type {\n",
              "        vertical-align: middle;\n",
              "    }\n",
              "\n",
              "    .dataframe tbody tr th {\n",
              "        vertical-align: top;\n",
              "    }\n",
              "\n",
              "    .dataframe thead th {\n",
              "        text-align: right;\n",
              "    }\n",
              "</style>\n",
              "<table border=\"1\" class=\"dataframe\">\n",
              "  <thead>\n",
              "    <tr style=\"text-align: right;\">\n",
              "      <th></th>\n",
              "      <th>uid</th>\n",
              "      <th>labname</th>\n",
              "      <th>numTrials</th>\n",
              "      <th>hour</th>\n",
              "      <th>weekday</th>\n",
              "    </tr>\n",
              "  </thead>\n",
              "  <tbody>\n",
              "    <tr>\n",
              "      <th>0</th>\n",
              "      <td>user_4</td>\n",
              "      <td>project1</td>\n",
              "      <td>1</td>\n",
              "      <td>5</td>\n",
              "      <td>4</td>\n",
              "    </tr>\n",
              "    <tr>\n",
              "      <th>1</th>\n",
              "      <td>user_4</td>\n",
              "      <td>project1</td>\n",
              "      <td>2</td>\n",
              "      <td>5</td>\n",
              "      <td>4</td>\n",
              "    </tr>\n",
              "    <tr>\n",
              "      <th>2</th>\n",
              "      <td>user_4</td>\n",
              "      <td>project1</td>\n",
              "      <td>3</td>\n",
              "      <td>5</td>\n",
              "      <td>4</td>\n",
              "    </tr>\n",
              "    <tr>\n",
              "      <th>3</th>\n",
              "      <td>user_4</td>\n",
              "      <td>project1</td>\n",
              "      <td>4</td>\n",
              "      <td>5</td>\n",
              "      <td>4</td>\n",
              "    </tr>\n",
              "    <tr>\n",
              "      <th>4</th>\n",
              "      <td>user_4</td>\n",
              "      <td>project1</td>\n",
              "      <td>5</td>\n",
              "      <td>5</td>\n",
              "      <td>4</td>\n",
              "    </tr>\n",
              "  </tbody>\n",
              "</table>\n",
              "</div>"
            ],
            "text/plain": [
              "      uid   labname  numTrials  hour  weekday\n",
              "0  user_4  project1          1     5        4\n",
              "1  user_4  project1          2     5        4\n",
              "2  user_4  project1          3     5        4\n",
              "3  user_4  project1          4     5        4\n",
              "4  user_4  project1          5     5        4"
            ]
          },
          "metadata": {
            "tags": []
          },
          "execution_count": 19
        }
      ]
    },
    {
      "cell_type": "code",
      "metadata": {
        "id": "ou4Zq67Y3fqC",
        "colab_type": "code",
        "colab": {}
      },
      "source": [
        "one_hot = MyOneHotEncoder()\n",
        "\n",
        "X, y = one_hot.transform(df, 'weekday')"
      ],
      "execution_count": 20,
      "outputs": []
    },
    {
      "cell_type": "code",
      "metadata": {
        "id": "eLWTzuh93wuo",
        "colab_type": "code",
        "colab": {
          "base_uri": "https://localhost:8080/",
          "height": 224
        },
        "outputId": "ed2c4ee0-12e1-497d-a1ba-9b7bc442f19d"
      },
      "source": [
        "X.head()"
      ],
      "execution_count": 21,
      "outputs": [
        {
          "output_type": "execute_result",
          "data": {
            "text/html": [
              "<div>\n",
              "<style scoped>\n",
              "    .dataframe tbody tr th:only-of-type {\n",
              "        vertical-align: middle;\n",
              "    }\n",
              "\n",
              "    .dataframe tbody tr th {\n",
              "        vertical-align: top;\n",
              "    }\n",
              "\n",
              "    .dataframe thead th {\n",
              "        text-align: right;\n",
              "    }\n",
              "</style>\n",
              "<table border=\"1\" class=\"dataframe\">\n",
              "  <thead>\n",
              "    <tr style=\"text-align: right;\">\n",
              "      <th></th>\n",
              "      <th>numTrials</th>\n",
              "      <th>hour</th>\n",
              "      <th>uid_user_0</th>\n",
              "      <th>uid_user_1</th>\n",
              "      <th>uid_user_10</th>\n",
              "      <th>uid_user_11</th>\n",
              "      <th>uid_user_12</th>\n",
              "      <th>uid_user_13</th>\n",
              "      <th>uid_user_14</th>\n",
              "      <th>uid_user_15</th>\n",
              "      <th>uid_user_16</th>\n",
              "      <th>uid_user_17</th>\n",
              "      <th>uid_user_18</th>\n",
              "      <th>uid_user_19</th>\n",
              "      <th>uid_user_2</th>\n",
              "      <th>uid_user_20</th>\n",
              "      <th>uid_user_21</th>\n",
              "      <th>uid_user_22</th>\n",
              "      <th>uid_user_23</th>\n",
              "      <th>uid_user_24</th>\n",
              "      <th>uid_user_25</th>\n",
              "      <th>uid_user_26</th>\n",
              "      <th>uid_user_27</th>\n",
              "      <th>uid_user_28</th>\n",
              "      <th>uid_user_29</th>\n",
              "      <th>uid_user_3</th>\n",
              "      <th>uid_user_30</th>\n",
              "      <th>uid_user_31</th>\n",
              "      <th>uid_user_4</th>\n",
              "      <th>uid_user_6</th>\n",
              "      <th>uid_user_7</th>\n",
              "      <th>uid_user_8</th>\n",
              "      <th>labname_code_rvw</th>\n",
              "      <th>labname_lab02</th>\n",
              "      <th>labname_lab03</th>\n",
              "      <th>labname_lab03s</th>\n",
              "      <th>labname_lab05s</th>\n",
              "      <th>labname_laba04</th>\n",
              "      <th>labname_laba04s</th>\n",
              "      <th>labname_laba05</th>\n",
              "      <th>labname_laba06</th>\n",
              "      <th>labname_laba06s</th>\n",
              "      <th>labname_project1</th>\n",
              "    </tr>\n",
              "  </thead>\n",
              "  <tbody>\n",
              "    <tr>\n",
              "      <th>0</th>\n",
              "      <td>1</td>\n",
              "      <td>5</td>\n",
              "      <td>0</td>\n",
              "      <td>0</td>\n",
              "      <td>0</td>\n",
              "      <td>0</td>\n",
              "      <td>0</td>\n",
              "      <td>0</td>\n",
              "      <td>0</td>\n",
              "      <td>0</td>\n",
              "      <td>0</td>\n",
              "      <td>0</td>\n",
              "      <td>0</td>\n",
              "      <td>0</td>\n",
              "      <td>0</td>\n",
              "      <td>0</td>\n",
              "      <td>0</td>\n",
              "      <td>0</td>\n",
              "      <td>0</td>\n",
              "      <td>0</td>\n",
              "      <td>0</td>\n",
              "      <td>0</td>\n",
              "      <td>0</td>\n",
              "      <td>0</td>\n",
              "      <td>0</td>\n",
              "      <td>0</td>\n",
              "      <td>0</td>\n",
              "      <td>0</td>\n",
              "      <td>1</td>\n",
              "      <td>0</td>\n",
              "      <td>0</td>\n",
              "      <td>0</td>\n",
              "      <td>0</td>\n",
              "      <td>0</td>\n",
              "      <td>0</td>\n",
              "      <td>0</td>\n",
              "      <td>0</td>\n",
              "      <td>0</td>\n",
              "      <td>0</td>\n",
              "      <td>0</td>\n",
              "      <td>0</td>\n",
              "      <td>0</td>\n",
              "      <td>1</td>\n",
              "    </tr>\n",
              "    <tr>\n",
              "      <th>1</th>\n",
              "      <td>2</td>\n",
              "      <td>5</td>\n",
              "      <td>0</td>\n",
              "      <td>0</td>\n",
              "      <td>0</td>\n",
              "      <td>0</td>\n",
              "      <td>0</td>\n",
              "      <td>0</td>\n",
              "      <td>0</td>\n",
              "      <td>0</td>\n",
              "      <td>0</td>\n",
              "      <td>0</td>\n",
              "      <td>0</td>\n",
              "      <td>0</td>\n",
              "      <td>0</td>\n",
              "      <td>0</td>\n",
              "      <td>0</td>\n",
              "      <td>0</td>\n",
              "      <td>0</td>\n",
              "      <td>0</td>\n",
              "      <td>0</td>\n",
              "      <td>0</td>\n",
              "      <td>0</td>\n",
              "      <td>0</td>\n",
              "      <td>0</td>\n",
              "      <td>0</td>\n",
              "      <td>0</td>\n",
              "      <td>0</td>\n",
              "      <td>1</td>\n",
              "      <td>0</td>\n",
              "      <td>0</td>\n",
              "      <td>0</td>\n",
              "      <td>0</td>\n",
              "      <td>0</td>\n",
              "      <td>0</td>\n",
              "      <td>0</td>\n",
              "      <td>0</td>\n",
              "      <td>0</td>\n",
              "      <td>0</td>\n",
              "      <td>0</td>\n",
              "      <td>0</td>\n",
              "      <td>0</td>\n",
              "      <td>1</td>\n",
              "    </tr>\n",
              "    <tr>\n",
              "      <th>2</th>\n",
              "      <td>3</td>\n",
              "      <td>5</td>\n",
              "      <td>0</td>\n",
              "      <td>0</td>\n",
              "      <td>0</td>\n",
              "      <td>0</td>\n",
              "      <td>0</td>\n",
              "      <td>0</td>\n",
              "      <td>0</td>\n",
              "      <td>0</td>\n",
              "      <td>0</td>\n",
              "      <td>0</td>\n",
              "      <td>0</td>\n",
              "      <td>0</td>\n",
              "      <td>0</td>\n",
              "      <td>0</td>\n",
              "      <td>0</td>\n",
              "      <td>0</td>\n",
              "      <td>0</td>\n",
              "      <td>0</td>\n",
              "      <td>0</td>\n",
              "      <td>0</td>\n",
              "      <td>0</td>\n",
              "      <td>0</td>\n",
              "      <td>0</td>\n",
              "      <td>0</td>\n",
              "      <td>0</td>\n",
              "      <td>0</td>\n",
              "      <td>1</td>\n",
              "      <td>0</td>\n",
              "      <td>0</td>\n",
              "      <td>0</td>\n",
              "      <td>0</td>\n",
              "      <td>0</td>\n",
              "      <td>0</td>\n",
              "      <td>0</td>\n",
              "      <td>0</td>\n",
              "      <td>0</td>\n",
              "      <td>0</td>\n",
              "      <td>0</td>\n",
              "      <td>0</td>\n",
              "      <td>0</td>\n",
              "      <td>1</td>\n",
              "    </tr>\n",
              "    <tr>\n",
              "      <th>3</th>\n",
              "      <td>4</td>\n",
              "      <td>5</td>\n",
              "      <td>0</td>\n",
              "      <td>0</td>\n",
              "      <td>0</td>\n",
              "      <td>0</td>\n",
              "      <td>0</td>\n",
              "      <td>0</td>\n",
              "      <td>0</td>\n",
              "      <td>0</td>\n",
              "      <td>0</td>\n",
              "      <td>0</td>\n",
              "      <td>0</td>\n",
              "      <td>0</td>\n",
              "      <td>0</td>\n",
              "      <td>0</td>\n",
              "      <td>0</td>\n",
              "      <td>0</td>\n",
              "      <td>0</td>\n",
              "      <td>0</td>\n",
              "      <td>0</td>\n",
              "      <td>0</td>\n",
              "      <td>0</td>\n",
              "      <td>0</td>\n",
              "      <td>0</td>\n",
              "      <td>0</td>\n",
              "      <td>0</td>\n",
              "      <td>0</td>\n",
              "      <td>1</td>\n",
              "      <td>0</td>\n",
              "      <td>0</td>\n",
              "      <td>0</td>\n",
              "      <td>0</td>\n",
              "      <td>0</td>\n",
              "      <td>0</td>\n",
              "      <td>0</td>\n",
              "      <td>0</td>\n",
              "      <td>0</td>\n",
              "      <td>0</td>\n",
              "      <td>0</td>\n",
              "      <td>0</td>\n",
              "      <td>0</td>\n",
              "      <td>1</td>\n",
              "    </tr>\n",
              "    <tr>\n",
              "      <th>4</th>\n",
              "      <td>5</td>\n",
              "      <td>5</td>\n",
              "      <td>0</td>\n",
              "      <td>0</td>\n",
              "      <td>0</td>\n",
              "      <td>0</td>\n",
              "      <td>0</td>\n",
              "      <td>0</td>\n",
              "      <td>0</td>\n",
              "      <td>0</td>\n",
              "      <td>0</td>\n",
              "      <td>0</td>\n",
              "      <td>0</td>\n",
              "      <td>0</td>\n",
              "      <td>0</td>\n",
              "      <td>0</td>\n",
              "      <td>0</td>\n",
              "      <td>0</td>\n",
              "      <td>0</td>\n",
              "      <td>0</td>\n",
              "      <td>0</td>\n",
              "      <td>0</td>\n",
              "      <td>0</td>\n",
              "      <td>0</td>\n",
              "      <td>0</td>\n",
              "      <td>0</td>\n",
              "      <td>0</td>\n",
              "      <td>0</td>\n",
              "      <td>1</td>\n",
              "      <td>0</td>\n",
              "      <td>0</td>\n",
              "      <td>0</td>\n",
              "      <td>0</td>\n",
              "      <td>0</td>\n",
              "      <td>0</td>\n",
              "      <td>0</td>\n",
              "      <td>0</td>\n",
              "      <td>0</td>\n",
              "      <td>0</td>\n",
              "      <td>0</td>\n",
              "      <td>0</td>\n",
              "      <td>0</td>\n",
              "      <td>1</td>\n",
              "    </tr>\n",
              "  </tbody>\n",
              "</table>\n",
              "</div>"
            ],
            "text/plain": [
              "   numTrials  hour  ...  labname_laba06s  labname_project1\n",
              "0          1     5  ...                0                 1\n",
              "1          2     5  ...                0                 1\n",
              "2          3     5  ...                0                 1\n",
              "3          4     5  ...                0                 1\n",
              "4          5     5  ...                0                 1\n",
              "\n",
              "[5 rows x 43 columns]"
            ]
          },
          "metadata": {
            "tags": []
          },
          "execution_count": 21
        }
      ]
    },
    {
      "cell_type": "code",
      "metadata": {
        "id": "SgFmeOtx3yp3",
        "colab_type": "code",
        "colab": {
          "base_uri": "https://localhost:8080/",
          "height": 221
        },
        "outputId": "af5657bb-12f4-4a5c-ace6-3859ff00d3bd"
      },
      "source": [
        "y"
      ],
      "execution_count": 22,
      "outputs": [
        {
          "output_type": "execute_result",
          "data": {
            "text/plain": [
              "0       4\n",
              "1       4\n",
              "2       4\n",
              "3       4\n",
              "4       4\n",
              "       ..\n",
              "1681    3\n",
              "1682    3\n",
              "1683    3\n",
              "1684    3\n",
              "1685    3\n",
              "Name: weekday, Length: 1686, dtype: int64"
            ]
          },
          "metadata": {
            "tags": []
          },
          "execution_count": 22
        }
      ]
    },
    {
      "cell_type": "code",
      "metadata": {
        "id": "CgfPIolnfk3m",
        "colab_type": "code",
        "colab": {}
      },
      "source": [
        "X_train, X_test, y_train, y_test = train_test_split(X, y, test_size=0.2,\n",
        "                                                    random_state=21, stratify=y)"
      ],
      "execution_count": 23,
      "outputs": []
    },
    {
      "cell_type": "code",
      "metadata": {
        "id": "ogfQ5M8BLO2o",
        "colab_type": "code",
        "colab": {}
      },
      "source": [
        "svc = SVC(probability=True)\n",
        "\n",
        "param_grid = {'C': [0.01, 0.1, 1, 1.5, 5, 10],\n",
        "              'kernel': ['linear', 'rbf', 'sigmoid'],\n",
        "              'gamma': ['scale', 'auto'],\n",
        "              'class_weight': ['balanced', None],\n",
        "              'random_state': [21]}\n",
        "\n",
        "cv_svc = GridSearchCV(svc, param_grid, scoring='accuracy', n_jobs=-1,\n",
        "                      verbose=2, return_train_score=True)"
      ],
      "execution_count": 44,
      "outputs": []
    },
    {
      "cell_type": "code",
      "metadata": {
        "id": "5h5E5d_7LihE",
        "colab_type": "code",
        "colab": {}
      },
      "source": [
        "tree = DecisionTreeClassifier()\n",
        "\n",
        "param_grid = {'criterion': ['gini','entropy'],\n",
        "              'max_depth': np.arange(1, 50),\n",
        "              'class_weight': ['balanced', None],\n",
        "              'random_state': [21]}\n",
        "\n",
        "cv_tree = GridSearchCV(tree, param_grid, scoring='accuracy', n_jobs=-1,\n",
        "                       verbose=2, return_train_score=True)"
      ],
      "execution_count": 45,
      "outputs": []
    },
    {
      "cell_type": "code",
      "metadata": {
        "id": "IDUesCGyLs-K",
        "colab_type": "code",
        "colab": {}
      },
      "source": [
        "forest = RandomForestClassifier()\n",
        "\n",
        "param_grid = {'n_estimators': [5, 10, 50, 100],\n",
        "              'criterion': ['gini','entropy'],\n",
        "              'max_depth': np.arange(1, 50),\n",
        "              'class_weight': ['balanced', None],\n",
        "              'random_state': [21]}\n",
        "\n",
        "cv_forest = GridSearchCV(forest, param_grid, scoring='accuracy', n_jobs=-1,\n",
        "                         verbose=2, return_train_score=True)"
      ],
      "execution_count": 46,
      "outputs": []
    },
    {
      "cell_type": "code",
      "metadata": {
        "id": "7EFRT8Kx5DO8",
        "colab_type": "code",
        "colab": {}
      },
      "source": [
        "model_selection = ModelSelection([cv_svc, cv_tree, cv_forest],\n",
        "                                 ['SVC', 'Decision Tree', 'Random Forest'])"
      ],
      "execution_count": 47,
      "outputs": []
    },
    {
      "cell_type": "code",
      "metadata": {
        "id": "SrHiCh4n5sNQ",
        "colab_type": "code",
        "colab": {
          "base_uri": "https://localhost:8080/",
          "height": 661,
          "referenced_widgets": [
            "6a7fc59e2a2d4a35a0ef7d0157020b62",
            "9433048e2ea64a6184d13eb87ffcc957",
            "b0364e4100134a02bb845a46d2a126b8",
            "91d77b9e518142eeb1b0e20d86786723",
            "9ed078c7a54543d2808d7f7c67dfa495",
            "70e000f63bec42249c0f3e64a216c7b0",
            "b6074b718703470385f17e0ec6024ea2",
            "356e8d79e867420b9c3ff248cae4f103"
          ]
        },
        "outputId": "11f3199f-667c-4784-cc7e-dd20de54223f"
      },
      "source": [
        "model_selection.fit(X_train, y_train)"
      ],
      "execution_count": 48,
      "outputs": [
        {
          "output_type": "display_data",
          "data": {
            "application/vnd.jupyter.widget-view+json": {
              "model_id": "6a7fc59e2a2d4a35a0ef7d0157020b62",
              "version_minor": 0,
              "version_major": 2
            },
            "text/plain": [
              "HBox(children=(FloatProgress(value=0.0, max=3.0), HTML(value='')))"
            ]
          },
          "metadata": {
            "tags": []
          }
        },
        {
          "output_type": "stream",
          "text": [
            "Estimator: SVC\n",
            "Fitting 5 folds for each of 72 candidates, totalling 360 fits\n"
          ],
          "name": "stdout"
        },
        {
          "output_type": "stream",
          "text": [
            "[Parallel(n_jobs=-1)]: Using backend LokyBackend with 2 concurrent workers.\n",
            "[Parallel(n_jobs=-1)]: Done  37 tasks      | elapsed:   26.6s\n",
            "[Parallel(n_jobs=-1)]: Done 158 tasks      | elapsed:  4.1min\n",
            "[Parallel(n_jobs=-1)]: Done 360 out of 360 | elapsed: 28.4min finished\n"
          ],
          "name": "stderr"
        },
        {
          "output_type": "stream",
          "text": [
            "Best params: {'C': 10, 'class_weight': None, 'gamma': 'auto', 'kernel': 'rbf', 'random_state': 21}\n",
            "Best training accuracy: 0.953\n",
            "Validation accuracy for best params: 0.876\n",
            "\n",
            "\n",
            "Estimator: Decision Tree\n",
            "Fitting 5 folds for each of 196 candidates, totalling 980 fits\n"
          ],
          "name": "stdout"
        },
        {
          "output_type": "stream",
          "text": [
            "[Parallel(n_jobs=-1)]: Using backend LokyBackend with 2 concurrent workers.\n",
            "[Parallel(n_jobs=-1)]: Done 396 tasks      | elapsed:    2.8s\n",
            "[Parallel(n_jobs=-1)]: Done 980 out of 980 | elapsed:    6.6s finished\n",
            "[Parallel(n_jobs=-1)]: Using backend LokyBackend with 2 concurrent workers.\n"
          ],
          "name": "stderr"
        },
        {
          "output_type": "stream",
          "text": [
            "Best params: {'class_weight': 'balanced', 'criterion': 'gini', 'max_depth': 27, 'random_state': 21}\n",
            "Best training accuracy: 1.000\n",
            "Validation accuracy for best params: 0.872\n",
            "\n",
            "\n",
            "Estimator: Random Forest\n",
            "Fitting 5 folds for each of 784 candidates, totalling 3920 fits\n"
          ],
          "name": "stdout"
        },
        {
          "output_type": "stream",
          "text": [
            "[Parallel(n_jobs=-1)]: Done 128 tasks      | elapsed:    7.3s\n",
            "[Parallel(n_jobs=-1)]: Done 612 tasks      | elapsed:   43.2s\n",
            "[Parallel(n_jobs=-1)]: Done 1424 tasks      | elapsed:  1.8min\n",
            "[Parallel(n_jobs=-1)]: Done 2556 tasks      | elapsed:  3.4min\n"
          ],
          "name": "stderr"
        },
        {
          "output_type": "stream",
          "text": [
            "Best params: {'class_weight': None, 'criterion': 'gini', 'max_depth': 28, 'n_estimators': 50, 'random_state': 21}\n",
            "Best training accuracy: 1.000\n",
            "Validation accuracy for best params: 0.904\n",
            "\n",
            "\n",
            "\n",
            "Best estimator: Random Forest\n"
          ],
          "name": "stdout"
        },
        {
          "output_type": "stream",
          "text": [
            "[Parallel(n_jobs=-1)]: Done 3920 out of 3920 | elapsed:  5.2min finished\n"
          ],
          "name": "stderr"
        }
      ]
    },
    {
      "cell_type": "code",
      "metadata": {
        "id": "eHqsHP4yZVRa",
        "colab_type": "code",
        "colab": {
          "base_uri": "https://localhost:8080/",
          "height": 142
        },
        "outputId": "445ebed0-257a-4a4b-dd3c-358f51a69e29"
      },
      "source": [
        "model_selection.best_results()"
      ],
      "execution_count": 49,
      "outputs": [
        {
          "output_type": "execute_result",
          "data": {
            "text/html": [
              "<div>\n",
              "<style scoped>\n",
              "    .dataframe tbody tr th:only-of-type {\n",
              "        vertical-align: middle;\n",
              "    }\n",
              "\n",
              "    .dataframe tbody tr th {\n",
              "        vertical-align: top;\n",
              "    }\n",
              "\n",
              "    .dataframe thead th {\n",
              "        text-align: right;\n",
              "    }\n",
              "</style>\n",
              "<table border=\"1\" class=\"dataframe\">\n",
              "  <thead>\n",
              "    <tr style=\"text-align: right;\">\n",
              "      <th></th>\n",
              "      <th>model</th>\n",
              "      <th>params</th>\n",
              "      <th>valid_score</th>\n",
              "    </tr>\n",
              "  </thead>\n",
              "  <tbody>\n",
              "    <tr>\n",
              "      <th>2</th>\n",
              "      <td>Random Forest</td>\n",
              "      <td>{'class_weight': None, 'criterion': 'gini', 'm...</td>\n",
              "      <td>0.904290</td>\n",
              "    </tr>\n",
              "    <tr>\n",
              "      <th>0</th>\n",
              "      <td>SVC</td>\n",
              "      <td>{'C': 10, 'class_weight': None, 'gamma': 'auto...</td>\n",
              "      <td>0.876109</td>\n",
              "    </tr>\n",
              "    <tr>\n",
              "      <th>1</th>\n",
              "      <td>Decision Tree</td>\n",
              "      <td>{'class_weight': 'balanced', 'criterion': 'gin...</td>\n",
              "      <td>0.872375</td>\n",
              "    </tr>\n",
              "  </tbody>\n",
              "</table>\n",
              "</div>"
            ],
            "text/plain": [
              "           model  ... valid_score\n",
              "2  Random Forest  ...    0.904290\n",
              "0            SVC  ...    0.876109\n",
              "1  Decision Tree  ...    0.872375\n",
              "\n",
              "[3 rows x 3 columns]"
            ]
          },
          "metadata": {
            "tags": []
          },
          "execution_count": 49
        }
      ]
    },
    {
      "cell_type": "code",
      "metadata": {
        "id": "Z3xV1LQQ5ybf",
        "colab_type": "code",
        "colab": {}
      },
      "source": [
        "svc = SVC(C=10, gamma='auto', probability=True, random_state=21)\n",
        "tree = DecisionTreeClassifier(max_depth=27, class_weight='balanced',\n",
        "                              random_state=21)\n",
        "forest = RandomForestClassifier(n_estimators=50, max_depth=28, random_state=21)\n",
        "\n",
        "estimators = [('svc', svc), ('tree', tree), ('forest', forest)]"
      ],
      "execution_count": 65,
      "outputs": []
    },
    {
      "cell_type": "code",
      "metadata": {
        "id": "iIdJX_j_YYrl",
        "colab_type": "code",
        "colab": {}
      },
      "source": [
        "voting_params = {'voting': ['hard', 'soft'],\n",
        "                 'weights': [None] + list(product(range(1, 6), repeat=3))}\n",
        "\n",
        "stacking_params = {'cv': [2, 3, 4, 5, 6, 7],\n",
        "                   'passthrough': [True, False]}"
      ],
      "execution_count": 66,
      "outputs": []
    },
    {
      "cell_type": "code",
      "metadata": {
        "id": "nLCSLtuBZKxQ",
        "colab_type": "code",
        "colab": {}
      },
      "source": [
        "ensemble_selection = BestEnsemble(estimators, voting_params, stacking_params)"
      ],
      "execution_count": 67,
      "outputs": []
    },
    {
      "cell_type": "code",
      "metadata": {
        "id": "4wqmYaBDibiE",
        "colab_type": "code",
        "colab": {
          "base_uri": "https://localhost:8080/",
          "height": 544
        },
        "outputId": "57cc53e3-0bf1-40d9-dd43-06b80f346c87"
      },
      "source": [
        "ensemble_selection.fit(X_train, y_train)"
      ],
      "execution_count": 68,
      "outputs": [
        {
          "output_type": "stream",
          "text": [
            "Estimator: Voting Ensemble\n",
            "Fitting 5 folds for each of 252 candidates, totalling 1260 fits\n"
          ],
          "name": "stdout"
        },
        {
          "output_type": "stream",
          "text": [
            "[Parallel(n_jobs=-1)]: Using backend LokyBackend with 2 concurrent workers.\n",
            "[Parallel(n_jobs=-1)]: Done  37 tasks      | elapsed:   25.1s\n",
            "[Parallel(n_jobs=-1)]: Done 158 tasks      | elapsed:  1.7min\n",
            "[Parallel(n_jobs=-1)]: Done 361 tasks      | elapsed:  4.0min\n",
            "[Parallel(n_jobs=-1)]: Done 644 tasks      | elapsed:  7.1min\n",
            "[Parallel(n_jobs=-1)]: Done 1009 tasks      | elapsed: 11.1min\n",
            "[Parallel(n_jobs=-1)]: Done 1260 out of 1260 | elapsed: 13.8min finished\n"
          ],
          "name": "stderr"
        },
        {
          "output_type": "stream",
          "text": [
            "Best params: {'voting': 'hard', 'weights': (2, 3, 2)}\n",
            "Best training accuracy: 1.000\n",
            "Validation accuracy for best params: 0.907\n",
            "\n",
            "Estimator: Stacking Ensemble\n",
            "Fitting 5 folds for each of 12 candidates, totalling 60 fits\n"
          ],
          "name": "stdout"
        },
        {
          "output_type": "stream",
          "text": [
            "[Parallel(n_jobs=-1)]: Using backend LokyBackend with 2 concurrent workers.\n",
            "[Parallel(n_jobs=-1)]: Done  37 tasks      | elapsed:  1.2min\n",
            "[Parallel(n_jobs=-1)]: Done  60 out of  60 | elapsed:  2.5min finished\n"
          ],
          "name": "stderr"
        },
        {
          "output_type": "stream",
          "text": [
            "Best params: {'cv': 4, 'passthrough': True}\n",
            "Best training accuracy: 0.999\n",
            "Validation accuracy for best params: 0.909\n",
            "\n",
            "Best estimator: Stacking Classifier\n"
          ],
          "name": "stdout"
        },
        {
          "output_type": "stream",
          "text": [
            "/usr/local/lib/python3.6/dist-packages/sklearn/linear_model/_logistic.py:940: ConvergenceWarning: lbfgs failed to converge (status=1):\n",
            "STOP: TOTAL NO. of ITERATIONS REACHED LIMIT.\n",
            "\n",
            "Increase the number of iterations (max_iter) or scale the data as shown in:\n",
            "    https://scikit-learn.org/stable/modules/preprocessing.html\n",
            "Please also refer to the documentation for alternative solver options:\n",
            "    https://scikit-learn.org/stable/modules/linear_model.html#logistic-regression\n",
            "  extra_warning_msg=_LOGISTIC_SOLVER_CONVERGENCE_MSG)\n"
          ],
          "name": "stderr"
        }
      ]
    },
    {
      "cell_type": "code",
      "metadata": {
        "id": "I-hVaMEMiiTO",
        "colab_type": "code",
        "colab": {
          "base_uri": "https://localhost:8080/",
          "height": 111
        },
        "outputId": "468ef408-8eb0-47c6-c2ce-0c43ee01ccb4"
      },
      "source": [
        "ensemble_selection.best_results()"
      ],
      "execution_count": 69,
      "outputs": [
        {
          "output_type": "execute_result",
          "data": {
            "text/html": [
              "<div>\n",
              "<style scoped>\n",
              "    .dataframe tbody tr th:only-of-type {\n",
              "        vertical-align: middle;\n",
              "    }\n",
              "\n",
              "    .dataframe tbody tr th {\n",
              "        vertical-align: top;\n",
              "    }\n",
              "\n",
              "    .dataframe thead th {\n",
              "        text-align: right;\n",
              "    }\n",
              "</style>\n",
              "<table border=\"1\" class=\"dataframe\">\n",
              "  <thead>\n",
              "    <tr style=\"text-align: right;\">\n",
              "      <th></th>\n",
              "      <th>ensemble</th>\n",
              "      <th>params</th>\n",
              "      <th>valid_score</th>\n",
              "    </tr>\n",
              "  </thead>\n",
              "  <tbody>\n",
              "    <tr>\n",
              "      <th>1</th>\n",
              "      <td>Stacking Ensemble</td>\n",
              "      <td>{'cv': 4, 'passthrough': True}</td>\n",
              "      <td>0.908751</td>\n",
              "    </tr>\n",
              "    <tr>\n",
              "      <th>0</th>\n",
              "      <td>Voting Ensemble</td>\n",
              "      <td>{'voting': 'hard', 'weights': (2, 3, 2)}</td>\n",
              "      <td>0.906518</td>\n",
              "    </tr>\n",
              "  </tbody>\n",
              "</table>\n",
              "</div>"
            ],
            "text/plain": [
              "            ensemble                                    params  valid_score\n",
              "1  Stacking Ensemble            {'cv': 4, 'passthrough': True}     0.908751\n",
              "0    Voting Ensemble  {'voting': 'hard', 'weights': (2, 3, 2)}     0.906518"
            ]
          },
          "metadata": {
            "tags": []
          },
          "execution_count": 69
        }
      ]
    },
    {
      "cell_type": "code",
      "metadata": {
        "id": "_VmPAyjgqec-",
        "colab_type": "code",
        "colab": {
          "base_uri": "https://localhost:8080/",
          "height": 34
        },
        "outputId": "96c24a05-fb60-4750-e826-7f508a6ae5fd"
      },
      "source": [
        "ensemble_selection.final_score(X_test, y_test)"
      ],
      "execution_count": 70,
      "outputs": [
        {
          "output_type": "execute_result",
          "data": {
            "text/plain": [
              "0.9319526627218935"
            ]
          },
          "metadata": {
            "tags": []
          },
          "execution_count": 70
        }
      ]
    },
    {
      "cell_type": "code",
      "metadata": {
        "id": "lN_chYuVqojo",
        "colab_type": "code",
        "colab": {}
      },
      "source": [
        "ensemble_selection.save_model('data')"
      ],
      "execution_count": 71,
      "outputs": []
    }
  ]
}