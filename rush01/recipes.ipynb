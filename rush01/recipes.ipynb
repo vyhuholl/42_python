{
  "nbformat": 4,
  "nbformat_minor": 0,
  "metadata": {
    "colab": {
      "name": "recipes.ipynb",
      "provenance": [],
      "collapsed_sections": []
    },
    "kernelspec": {
      "name": "python3",
      "display_name": "Python 3"
    },
    "accelerator": "GPU"
  },
  "cells": [
    {
      "cell_type": "code",
      "metadata": {
        "id": "SyiR5V_q00Nh",
        "colab_type": "code",
        "colab": {}
      },
      "source": [
        "!pip install -U -q PyDrive"
      ],
      "execution_count": null,
      "outputs": []
    },
    {
      "cell_type": "code",
      "metadata": {
        "id": "paGiU-CVtEdC",
        "colab_type": "code",
        "colab": {}
      },
      "source": [
        "from pydrive.auth import GoogleAuth\n",
        "from pydrive.drive import GoogleDrive\n",
        "from google.colab import auth\n",
        "from oauth2client.client import GoogleCredentials"
      ],
      "execution_count": null,
      "outputs": []
    },
    {
      "cell_type": "code",
      "metadata": {
        "id": "wM2KyRNRBJ04",
        "colab_type": "code",
        "colab": {}
      },
      "source": [
        "auth.authenticate_user()\n",
        "gauth = GoogleAuth()\n",
        "gauth.credentials = GoogleCredentials.get_application_default()\n",
        "drive = GoogleDrive(gauth)"
      ],
      "execution_count": null,
      "outputs": []
    },
    {
      "cell_type": "code",
      "metadata": {
        "id": "GcAQuqMDx63j",
        "colab_type": "code",
        "colab": {}
      },
      "source": [
        "file_id = '1hzmxNBrY7-9mv5EpqAvhVUiJahfrcYUN'\n",
        "downloaded = drive.CreateFile({'id': file_id})\n",
        "downloaded.GetContentFile('epi_r.csv')"
      ],
      "execution_count": null,
      "outputs": []
    },
    {
      "cell_type": "code",
      "metadata": {
        "id": "hQmsPd7jyLes",
        "colab_type": "code",
        "colab": {}
      },
      "source": [
        "import re\n",
        "import time\n",
        "import pickle\n",
        "import pprint\n",
        "import requests\n",
        "import pandas as pd\n",
        "import numpy as np\n",
        "from tqdm import tqdm\n",
        "from getpass import getpass\n",
        "from itertools import product\n",
        "from sklearn.model_selection import train_test_split, GridSearchCV\n",
        "from sklearn.linear_model import LinearRegression, LogisticRegression\n",
        "from sklearn.tree import DecisionTreeClassifier, DecisionTreeRegressor\n",
        "from sklearn.ensemble import VotingClassifier, VotingRegressor\n",
        "from sklearn.ensemble import BaggingClassifier, BaggingRegressor\n",
        "from sklearn.ensemble import StackingClassifier, StackingRegressor\n",
        "from sklearn.ensemble import RandomForestClassifier, RandomForestRegressor\n",
        "from sklearn.metrics import accuracy_score, precision_score, mean_squared_error"
      ],
      "execution_count": null,
      "outputs": []
    },
    {
      "cell_type": "code",
      "metadata": {
        "id": "cYatlDOGk3wC",
        "colab_type": "code",
        "colab": {
          "base_uri": "https://localhost:8080/",
          "height": 34
        },
        "outputId": "a0189e03-96c7-4b0c-83f6-ea2e904069b5"
      },
      "source": [
        "api_key = getpass()"
      ],
      "execution_count": null,
      "outputs": [
        {
          "output_type": "stream",
          "text": [
            "··········\n"
          ],
          "name": "stdout"
        }
      ]
    },
    {
      "cell_type": "code",
      "metadata": {
        "id": "a-PsOCyLxTJU",
        "colab_type": "code",
        "colab": {}
      },
      "source": [
        "pp = pprint.PrettyPrinter(compact=True)"
      ],
      "execution_count": null,
      "outputs": []
    },
    {
      "cell_type": "markdown",
      "metadata": {
        "id": "Tnurkyn8gex6",
        "colab_type": "text"
      },
      "source": [
        "#Preprocessing & Feature selection"
      ]
    },
    {
      "cell_type": "code",
      "metadata": {
        "id": "cOPNhwbV2WJ8",
        "colab_type": "code",
        "colab": {}
      },
      "source": [
        "df = pd.read_csv('epi_r.csv')"
      ],
      "execution_count": null,
      "outputs": []
    },
    {
      "cell_type": "code",
      "metadata": {
        "id": "_UNWnCHs3pfY",
        "colab_type": "code",
        "colab": {
          "base_uri": "https://localhost:8080/",
          "height": 610
        },
        "outputId": "523254c7-3e5d-470b-ea00-8b8f22f70407"
      },
      "source": [
        "df.head()"
      ],
      "execution_count": null,
      "outputs": [
        {
          "output_type": "execute_result",
          "data": {
            "text/html": [
              "<div>\n",
              "<style scoped>\n",
              "    .dataframe tbody tr th:only-of-type {\n",
              "        vertical-align: middle;\n",
              "    }\n",
              "\n",
              "    .dataframe tbody tr th {\n",
              "        vertical-align: top;\n",
              "    }\n",
              "\n",
              "    .dataframe thead th {\n",
              "        text-align: right;\n",
              "    }\n",
              "</style>\n",
              "<table border=\"1\" class=\"dataframe\">\n",
              "  <thead>\n",
              "    <tr style=\"text-align: right;\">\n",
              "      <th></th>\n",
              "      <th>title</th>\n",
              "      <th>rating</th>\n",
              "      <th>calories</th>\n",
              "      <th>protein</th>\n",
              "      <th>fat</th>\n",
              "      <th>sodium</th>\n",
              "      <th>#cakeweek</th>\n",
              "      <th>#wasteless</th>\n",
              "      <th>22-minute meals</th>\n",
              "      <th>3-ingredient recipes</th>\n",
              "      <th>30 days of groceries</th>\n",
              "      <th>advance prep required</th>\n",
              "      <th>alabama</th>\n",
              "      <th>alaska</th>\n",
              "      <th>alcoholic</th>\n",
              "      <th>almond</th>\n",
              "      <th>amaretto</th>\n",
              "      <th>anchovy</th>\n",
              "      <th>anise</th>\n",
              "      <th>anniversary</th>\n",
              "      <th>anthony bourdain</th>\n",
              "      <th>aperitif</th>\n",
              "      <th>appetizer</th>\n",
              "      <th>apple</th>\n",
              "      <th>apple juice</th>\n",
              "      <th>apricot</th>\n",
              "      <th>arizona</th>\n",
              "      <th>artichoke</th>\n",
              "      <th>arugula</th>\n",
              "      <th>asian pear</th>\n",
              "      <th>asparagus</th>\n",
              "      <th>aspen</th>\n",
              "      <th>atlanta</th>\n",
              "      <th>australia</th>\n",
              "      <th>avocado</th>\n",
              "      <th>back to school</th>\n",
              "      <th>backyard bbq</th>\n",
              "      <th>bacon</th>\n",
              "      <th>bake</th>\n",
              "      <th>banana</th>\n",
              "      <th>...</th>\n",
              "      <th>vegan</th>\n",
              "      <th>vegetable</th>\n",
              "      <th>vegetarian</th>\n",
              "      <th>venison</th>\n",
              "      <th>vermont</th>\n",
              "      <th>vermouth</th>\n",
              "      <th>vinegar</th>\n",
              "      <th>virginia</th>\n",
              "      <th>vodka</th>\n",
              "      <th>waffle</th>\n",
              "      <th>walnut</th>\n",
              "      <th>wasabi</th>\n",
              "      <th>washington</th>\n",
              "      <th>washington, d.c.</th>\n",
              "      <th>watercress</th>\n",
              "      <th>watermelon</th>\n",
              "      <th>wedding</th>\n",
              "      <th>weelicious</th>\n",
              "      <th>west virginia</th>\n",
              "      <th>westwood</th>\n",
              "      <th>wheat/gluten-free</th>\n",
              "      <th>whiskey</th>\n",
              "      <th>white wine</th>\n",
              "      <th>whole wheat</th>\n",
              "      <th>wild rice</th>\n",
              "      <th>windsor</th>\n",
              "      <th>wine</th>\n",
              "      <th>winter</th>\n",
              "      <th>wisconsin</th>\n",
              "      <th>wok</th>\n",
              "      <th>yellow squash</th>\n",
              "      <th>yogurt</th>\n",
              "      <th>yonkers</th>\n",
              "      <th>yuca</th>\n",
              "      <th>zucchini</th>\n",
              "      <th>cookbooks</th>\n",
              "      <th>leftovers</th>\n",
              "      <th>snack</th>\n",
              "      <th>snack week</th>\n",
              "      <th>turkey</th>\n",
              "    </tr>\n",
              "  </thead>\n",
              "  <tbody>\n",
              "    <tr>\n",
              "      <th>0</th>\n",
              "      <td>Lentil, Apple, and Turkey Wrap</td>\n",
              "      <td>2.500</td>\n",
              "      <td>426.0</td>\n",
              "      <td>30.0</td>\n",
              "      <td>7.0</td>\n",
              "      <td>559.0</td>\n",
              "      <td>0.0</td>\n",
              "      <td>0.0</td>\n",
              "      <td>0.0</td>\n",
              "      <td>0.0</td>\n",
              "      <td>0.0</td>\n",
              "      <td>0.0</td>\n",
              "      <td>0.0</td>\n",
              "      <td>0.0</td>\n",
              "      <td>0.0</td>\n",
              "      <td>0.0</td>\n",
              "      <td>0.0</td>\n",
              "      <td>0.0</td>\n",
              "      <td>0.0</td>\n",
              "      <td>0.0</td>\n",
              "      <td>0.0</td>\n",
              "      <td>0.0</td>\n",
              "      <td>0.0</td>\n",
              "      <td>1.0</td>\n",
              "      <td>0.0</td>\n",
              "      <td>0.0</td>\n",
              "      <td>0.0</td>\n",
              "      <td>0.0</td>\n",
              "      <td>0.0</td>\n",
              "      <td>0.0</td>\n",
              "      <td>0.0</td>\n",
              "      <td>0.0</td>\n",
              "      <td>0.0</td>\n",
              "      <td>0.0</td>\n",
              "      <td>0.0</td>\n",
              "      <td>0.0</td>\n",
              "      <td>0.0</td>\n",
              "      <td>0.0</td>\n",
              "      <td>0.0</td>\n",
              "      <td>0.0</td>\n",
              "      <td>...</td>\n",
              "      <td>0.0</td>\n",
              "      <td>1.0</td>\n",
              "      <td>0.0</td>\n",
              "      <td>0.0</td>\n",
              "      <td>0.0</td>\n",
              "      <td>0.0</td>\n",
              "      <td>0.0</td>\n",
              "      <td>0.0</td>\n",
              "      <td>0.0</td>\n",
              "      <td>0.0</td>\n",
              "      <td>0.0</td>\n",
              "      <td>0.0</td>\n",
              "      <td>0.0</td>\n",
              "      <td>0.0</td>\n",
              "      <td>0.0</td>\n",
              "      <td>0.0</td>\n",
              "      <td>0.0</td>\n",
              "      <td>0.0</td>\n",
              "      <td>0.0</td>\n",
              "      <td>0.0</td>\n",
              "      <td>0.0</td>\n",
              "      <td>0.0</td>\n",
              "      <td>0.0</td>\n",
              "      <td>0.0</td>\n",
              "      <td>0.0</td>\n",
              "      <td>0.0</td>\n",
              "      <td>0.0</td>\n",
              "      <td>0.0</td>\n",
              "      <td>0.0</td>\n",
              "      <td>0.0</td>\n",
              "      <td>0.0</td>\n",
              "      <td>0.0</td>\n",
              "      <td>0.0</td>\n",
              "      <td>0.0</td>\n",
              "      <td>0.0</td>\n",
              "      <td>0.0</td>\n",
              "      <td>0.0</td>\n",
              "      <td>0.0</td>\n",
              "      <td>0.0</td>\n",
              "      <td>1.0</td>\n",
              "    </tr>\n",
              "    <tr>\n",
              "      <th>1</th>\n",
              "      <td>Boudin Blanc Terrine with Red Onion Confit</td>\n",
              "      <td>4.375</td>\n",
              "      <td>403.0</td>\n",
              "      <td>18.0</td>\n",
              "      <td>23.0</td>\n",
              "      <td>1439.0</td>\n",
              "      <td>0.0</td>\n",
              "      <td>0.0</td>\n",
              "      <td>0.0</td>\n",
              "      <td>0.0</td>\n",
              "      <td>0.0</td>\n",
              "      <td>0.0</td>\n",
              "      <td>0.0</td>\n",
              "      <td>0.0</td>\n",
              "      <td>0.0</td>\n",
              "      <td>0.0</td>\n",
              "      <td>0.0</td>\n",
              "      <td>0.0</td>\n",
              "      <td>0.0</td>\n",
              "      <td>0.0</td>\n",
              "      <td>0.0</td>\n",
              "      <td>0.0</td>\n",
              "      <td>0.0</td>\n",
              "      <td>0.0</td>\n",
              "      <td>0.0</td>\n",
              "      <td>0.0</td>\n",
              "      <td>0.0</td>\n",
              "      <td>0.0</td>\n",
              "      <td>0.0</td>\n",
              "      <td>0.0</td>\n",
              "      <td>0.0</td>\n",
              "      <td>0.0</td>\n",
              "      <td>0.0</td>\n",
              "      <td>0.0</td>\n",
              "      <td>0.0</td>\n",
              "      <td>0.0</td>\n",
              "      <td>0.0</td>\n",
              "      <td>0.0</td>\n",
              "      <td>1.0</td>\n",
              "      <td>0.0</td>\n",
              "      <td>...</td>\n",
              "      <td>0.0</td>\n",
              "      <td>0.0</td>\n",
              "      <td>0.0</td>\n",
              "      <td>0.0</td>\n",
              "      <td>0.0</td>\n",
              "      <td>0.0</td>\n",
              "      <td>0.0</td>\n",
              "      <td>0.0</td>\n",
              "      <td>0.0</td>\n",
              "      <td>0.0</td>\n",
              "      <td>0.0</td>\n",
              "      <td>0.0</td>\n",
              "      <td>0.0</td>\n",
              "      <td>0.0</td>\n",
              "      <td>0.0</td>\n",
              "      <td>0.0</td>\n",
              "      <td>0.0</td>\n",
              "      <td>0.0</td>\n",
              "      <td>0.0</td>\n",
              "      <td>0.0</td>\n",
              "      <td>0.0</td>\n",
              "      <td>0.0</td>\n",
              "      <td>0.0</td>\n",
              "      <td>0.0</td>\n",
              "      <td>0.0</td>\n",
              "      <td>0.0</td>\n",
              "      <td>0.0</td>\n",
              "      <td>1.0</td>\n",
              "      <td>0.0</td>\n",
              "      <td>0.0</td>\n",
              "      <td>0.0</td>\n",
              "      <td>0.0</td>\n",
              "      <td>0.0</td>\n",
              "      <td>0.0</td>\n",
              "      <td>0.0</td>\n",
              "      <td>0.0</td>\n",
              "      <td>0.0</td>\n",
              "      <td>0.0</td>\n",
              "      <td>0.0</td>\n",
              "      <td>0.0</td>\n",
              "    </tr>\n",
              "    <tr>\n",
              "      <th>2</th>\n",
              "      <td>Potato and Fennel Soup Hodge</td>\n",
              "      <td>3.750</td>\n",
              "      <td>165.0</td>\n",
              "      <td>6.0</td>\n",
              "      <td>7.0</td>\n",
              "      <td>165.0</td>\n",
              "      <td>0.0</td>\n",
              "      <td>0.0</td>\n",
              "      <td>0.0</td>\n",
              "      <td>0.0</td>\n",
              "      <td>0.0</td>\n",
              "      <td>0.0</td>\n",
              "      <td>0.0</td>\n",
              "      <td>0.0</td>\n",
              "      <td>0.0</td>\n",
              "      <td>0.0</td>\n",
              "      <td>0.0</td>\n",
              "      <td>0.0</td>\n",
              "      <td>0.0</td>\n",
              "      <td>0.0</td>\n",
              "      <td>0.0</td>\n",
              "      <td>0.0</td>\n",
              "      <td>0.0</td>\n",
              "      <td>0.0</td>\n",
              "      <td>0.0</td>\n",
              "      <td>0.0</td>\n",
              "      <td>0.0</td>\n",
              "      <td>0.0</td>\n",
              "      <td>0.0</td>\n",
              "      <td>0.0</td>\n",
              "      <td>0.0</td>\n",
              "      <td>0.0</td>\n",
              "      <td>0.0</td>\n",
              "      <td>0.0</td>\n",
              "      <td>0.0</td>\n",
              "      <td>0.0</td>\n",
              "      <td>0.0</td>\n",
              "      <td>0.0</td>\n",
              "      <td>0.0</td>\n",
              "      <td>0.0</td>\n",
              "      <td>...</td>\n",
              "      <td>0.0</td>\n",
              "      <td>1.0</td>\n",
              "      <td>0.0</td>\n",
              "      <td>0.0</td>\n",
              "      <td>0.0</td>\n",
              "      <td>0.0</td>\n",
              "      <td>0.0</td>\n",
              "      <td>0.0</td>\n",
              "      <td>0.0</td>\n",
              "      <td>0.0</td>\n",
              "      <td>0.0</td>\n",
              "      <td>0.0</td>\n",
              "      <td>0.0</td>\n",
              "      <td>0.0</td>\n",
              "      <td>0.0</td>\n",
              "      <td>0.0</td>\n",
              "      <td>0.0</td>\n",
              "      <td>0.0</td>\n",
              "      <td>0.0</td>\n",
              "      <td>0.0</td>\n",
              "      <td>0.0</td>\n",
              "      <td>0.0</td>\n",
              "      <td>0.0</td>\n",
              "      <td>0.0</td>\n",
              "      <td>0.0</td>\n",
              "      <td>0.0</td>\n",
              "      <td>0.0</td>\n",
              "      <td>0.0</td>\n",
              "      <td>0.0</td>\n",
              "      <td>0.0</td>\n",
              "      <td>0.0</td>\n",
              "      <td>0.0</td>\n",
              "      <td>0.0</td>\n",
              "      <td>0.0</td>\n",
              "      <td>0.0</td>\n",
              "      <td>0.0</td>\n",
              "      <td>0.0</td>\n",
              "      <td>0.0</td>\n",
              "      <td>0.0</td>\n",
              "      <td>0.0</td>\n",
              "    </tr>\n",
              "    <tr>\n",
              "      <th>3</th>\n",
              "      <td>Mahi-Mahi in Tomato Olive Sauce</td>\n",
              "      <td>5.000</td>\n",
              "      <td>NaN</td>\n",
              "      <td>NaN</td>\n",
              "      <td>NaN</td>\n",
              "      <td>NaN</td>\n",
              "      <td>0.0</td>\n",
              "      <td>0.0</td>\n",
              "      <td>0.0</td>\n",
              "      <td>0.0</td>\n",
              "      <td>0.0</td>\n",
              "      <td>0.0</td>\n",
              "      <td>0.0</td>\n",
              "      <td>0.0</td>\n",
              "      <td>0.0</td>\n",
              "      <td>0.0</td>\n",
              "      <td>0.0</td>\n",
              "      <td>0.0</td>\n",
              "      <td>0.0</td>\n",
              "      <td>0.0</td>\n",
              "      <td>0.0</td>\n",
              "      <td>0.0</td>\n",
              "      <td>0.0</td>\n",
              "      <td>0.0</td>\n",
              "      <td>0.0</td>\n",
              "      <td>0.0</td>\n",
              "      <td>0.0</td>\n",
              "      <td>0.0</td>\n",
              "      <td>0.0</td>\n",
              "      <td>0.0</td>\n",
              "      <td>0.0</td>\n",
              "      <td>0.0</td>\n",
              "      <td>0.0</td>\n",
              "      <td>0.0</td>\n",
              "      <td>0.0</td>\n",
              "      <td>0.0</td>\n",
              "      <td>0.0</td>\n",
              "      <td>0.0</td>\n",
              "      <td>0.0</td>\n",
              "      <td>0.0</td>\n",
              "      <td>...</td>\n",
              "      <td>0.0</td>\n",
              "      <td>0.0</td>\n",
              "      <td>0.0</td>\n",
              "      <td>0.0</td>\n",
              "      <td>0.0</td>\n",
              "      <td>0.0</td>\n",
              "      <td>0.0</td>\n",
              "      <td>0.0</td>\n",
              "      <td>0.0</td>\n",
              "      <td>0.0</td>\n",
              "      <td>0.0</td>\n",
              "      <td>0.0</td>\n",
              "      <td>0.0</td>\n",
              "      <td>0.0</td>\n",
              "      <td>0.0</td>\n",
              "      <td>0.0</td>\n",
              "      <td>0.0</td>\n",
              "      <td>0.0</td>\n",
              "      <td>0.0</td>\n",
              "      <td>0.0</td>\n",
              "      <td>0.0</td>\n",
              "      <td>0.0</td>\n",
              "      <td>0.0</td>\n",
              "      <td>0.0</td>\n",
              "      <td>0.0</td>\n",
              "      <td>0.0</td>\n",
              "      <td>0.0</td>\n",
              "      <td>0.0</td>\n",
              "      <td>0.0</td>\n",
              "      <td>0.0</td>\n",
              "      <td>0.0</td>\n",
              "      <td>0.0</td>\n",
              "      <td>0.0</td>\n",
              "      <td>0.0</td>\n",
              "      <td>0.0</td>\n",
              "      <td>0.0</td>\n",
              "      <td>0.0</td>\n",
              "      <td>0.0</td>\n",
              "      <td>0.0</td>\n",
              "      <td>0.0</td>\n",
              "    </tr>\n",
              "    <tr>\n",
              "      <th>4</th>\n",
              "      <td>Spinach Noodle Casserole</td>\n",
              "      <td>3.125</td>\n",
              "      <td>547.0</td>\n",
              "      <td>20.0</td>\n",
              "      <td>32.0</td>\n",
              "      <td>452.0</td>\n",
              "      <td>0.0</td>\n",
              "      <td>0.0</td>\n",
              "      <td>0.0</td>\n",
              "      <td>0.0</td>\n",
              "      <td>0.0</td>\n",
              "      <td>0.0</td>\n",
              "      <td>0.0</td>\n",
              "      <td>0.0</td>\n",
              "      <td>0.0</td>\n",
              "      <td>0.0</td>\n",
              "      <td>0.0</td>\n",
              "      <td>0.0</td>\n",
              "      <td>0.0</td>\n",
              "      <td>0.0</td>\n",
              "      <td>0.0</td>\n",
              "      <td>0.0</td>\n",
              "      <td>0.0</td>\n",
              "      <td>0.0</td>\n",
              "      <td>0.0</td>\n",
              "      <td>0.0</td>\n",
              "      <td>0.0</td>\n",
              "      <td>0.0</td>\n",
              "      <td>0.0</td>\n",
              "      <td>0.0</td>\n",
              "      <td>0.0</td>\n",
              "      <td>0.0</td>\n",
              "      <td>0.0</td>\n",
              "      <td>0.0</td>\n",
              "      <td>0.0</td>\n",
              "      <td>0.0</td>\n",
              "      <td>0.0</td>\n",
              "      <td>0.0</td>\n",
              "      <td>1.0</td>\n",
              "      <td>0.0</td>\n",
              "      <td>...</td>\n",
              "      <td>0.0</td>\n",
              "      <td>1.0</td>\n",
              "      <td>1.0</td>\n",
              "      <td>0.0</td>\n",
              "      <td>0.0</td>\n",
              "      <td>0.0</td>\n",
              "      <td>0.0</td>\n",
              "      <td>0.0</td>\n",
              "      <td>0.0</td>\n",
              "      <td>0.0</td>\n",
              "      <td>0.0</td>\n",
              "      <td>0.0</td>\n",
              "      <td>0.0</td>\n",
              "      <td>0.0</td>\n",
              "      <td>0.0</td>\n",
              "      <td>0.0</td>\n",
              "      <td>0.0</td>\n",
              "      <td>0.0</td>\n",
              "      <td>0.0</td>\n",
              "      <td>0.0</td>\n",
              "      <td>0.0</td>\n",
              "      <td>0.0</td>\n",
              "      <td>0.0</td>\n",
              "      <td>0.0</td>\n",
              "      <td>0.0</td>\n",
              "      <td>0.0</td>\n",
              "      <td>0.0</td>\n",
              "      <td>0.0</td>\n",
              "      <td>0.0</td>\n",
              "      <td>0.0</td>\n",
              "      <td>0.0</td>\n",
              "      <td>0.0</td>\n",
              "      <td>0.0</td>\n",
              "      <td>0.0</td>\n",
              "      <td>0.0</td>\n",
              "      <td>0.0</td>\n",
              "      <td>0.0</td>\n",
              "      <td>0.0</td>\n",
              "      <td>0.0</td>\n",
              "      <td>0.0</td>\n",
              "    </tr>\n",
              "  </tbody>\n",
              "</table>\n",
              "<p>5 rows × 680 columns</p>\n",
              "</div>"
            ],
            "text/plain": [
              "                                         title  rating  ...  snack week  turkey\n",
              "0              Lentil, Apple, and Turkey Wrap    2.500  ...         0.0     1.0\n",
              "1  Boudin Blanc Terrine with Red Onion Confit    4.375  ...         0.0     0.0\n",
              "2                Potato and Fennel Soup Hodge    3.750  ...         0.0     0.0\n",
              "3             Mahi-Mahi in Tomato Olive Sauce    5.000  ...         0.0     0.0\n",
              "4                    Spinach Noodle Casserole    3.125  ...         0.0     0.0\n",
              "\n",
              "[5 rows x 680 columns]"
            ]
          },
          "metadata": {
            "tags": []
          },
          "execution_count": 9
        }
      ]
    },
    {
      "cell_type": "code",
      "metadata": {
        "id": "Cxp6jOuH4GN0",
        "colab_type": "code",
        "colab": {
          "base_uri": "https://localhost:8080/",
          "height": 1000
        },
        "outputId": "81a804c4-2c8d-433d-922c-2bd00ad728ce"
      },
      "source": [
        "pp.pprint(list(df.columns))"
      ],
      "execution_count": null,
      "outputs": [
        {
          "output_type": "stream",
          "text": [
            "['title', 'rating', 'calories', 'protein', 'fat', 'sodium', '#cakeweek',\n",
            " '#wasteless', '22-minute meals', '3-ingredient recipes',\n",
            " '30 days of groceries', 'advance prep required', 'alabama', 'alaska',\n",
            " 'alcoholic', 'almond', 'amaretto', 'anchovy', 'anise', 'anniversary',\n",
            " 'anthony bourdain', 'aperitif', 'appetizer', 'apple', 'apple juice', 'apricot',\n",
            " 'arizona', 'artichoke', 'arugula', 'asian pear', 'asparagus', 'aspen',\n",
            " 'atlanta', 'australia', 'avocado', 'back to school', 'backyard bbq', 'bacon',\n",
            " 'bake', 'banana', 'barley', 'basil', 'bass', 'bastille day', 'bean', 'beef',\n",
            " 'beef rib', 'beef shank', 'beef tenderloin', 'beer', 'beet', 'bell pepper',\n",
            " 'berry', 'beverly hills', 'birthday', 'biscuit', 'bitters', 'blackberry',\n",
            " 'blender', 'blue cheese', 'blueberry', 'boil', 'bok choy', 'bon appétit',\n",
            " 'bon app��tit', 'boston', 'bourbon', 'braise', 'bran', 'brandy', 'bread',\n",
            " 'breadcrumbs', 'breakfast', 'brie', 'brine', 'brisket', 'broccoli',\n",
            " 'broccoli rabe', 'broil', 'brooklyn', 'brown rice', 'brownie', 'brunch',\n",
            " 'brussel sprout', 'buffalo', 'buffet', 'bulgaria', 'bulgur', 'burrito',\n",
            " 'butter', 'buttermilk', 'butternut squash', 'butterscotch/caramel', 'cabbage',\n",
            " 'cake', 'california', 'calvados', 'cambridge', 'campari', 'camping', 'canada',\n",
            " 'candy', 'candy thermometer', 'cantaloupe', 'capers', 'caraway', 'cardamom',\n",
            " 'carrot', 'cashew', 'casserole/gratin', 'cauliflower', 'caviar', 'celery',\n",
            " 'chambord', 'champagne', 'chard', 'chartreuse', 'cheddar', 'cheese', 'cherry',\n",
            " 'chestnut', 'chicago', 'chicken', 'chickpea', 'chile', 'chile pepper', 'chili',\n",
            " 'chill', 'chive', 'chocolate', 'christmas', 'christmas eve', 'cilantro',\n",
            " 'cinco de mayo', 'cinnamon', 'citrus', 'clam', 'clove', 'cobbler/crumble',\n",
            " 'cocktail', 'cocktail party', 'coconut', 'cod', 'coffee', 'coffee grinder',\n",
            " 'cognac/armagnac', 'collard greens', 'colorado', 'columbus', 'condiment',\n",
            " 'condiment/spread', 'connecticut', 'cook like a diner', 'cookbook critic',\n",
            " 'cookie', 'cookies', 'coriander', 'corn', 'cornmeal', 'costa mesa',\n",
            " 'cottage cheese', 'couscous', 'crab', 'cranberry', 'cranberry sauce',\n",
            " 'cream cheese', 'créme de cacao', 'crêpe', 'cr��me de cacao', 'cuba',\n",
            " 'cucumber', 'cumin', 'cupcake', 'currant', 'curry', 'custard', 'dairy',\n",
            " 'dairy free', 'dallas', 'date', 'deep-fry', 'denver', 'dessert', 'digestif',\n",
            " 'dill', 'dinner', 'dip', 'diwali', 'dominican republic', 'dorie greenspan',\n",
            " 'double boiler', 'dried fruit', 'drink', 'drinks', 'duck', 'easter',\n",
            " 'eau de vie', 'edible gift', 'egg', 'egg nog', 'eggplant', 'egypt',\n",
            " 'emeril lagasse', 'endive', 'engagement party', 'england', 'entertaining',\n",
            " 'epi + ushg', 'epi loves the microwave', 'escarole', 'fall', 'family reunion',\n",
            " 'fat free', \"father's day\", 'fennel', 'feta', 'fig', 'fish',\n",
            " 'flaming hot summer', 'flat bread', 'florida', 'fontina', 'food processor',\n",
            " 'fortified wine', 'fourth of july', 'france', 'frangelico', 'frankenrecipe',\n",
            " 'freeze/chill', 'freezer food', 'friendsgiving', 'frittata', 'fritter',\n",
            " 'frozen dessert', 'fruit', 'fruit juice', 'fry', 'game', 'garlic', 'georgia',\n",
            " 'germany', 'gin', 'ginger', 'goat cheese', 'goose', 'gouda', 'gourmet',\n",
            " 'graduation', 'grains', 'grand marnier', 'granola', 'grape', 'grapefruit',\n",
            " 'grappa', 'green bean', 'green onion/scallion', 'grill', 'grill/barbecue',\n",
            " 'ground beef', 'ground lamb', 'guam', 'guava', 'haiti', 'halibut', 'halloween',\n",
            " 'ham', 'hamburger', 'hanukkah', 'harpercollins', 'hawaii', 'hazelnut',\n",
            " 'healdsburg', 'healthy', 'herb', 'high fiber', 'hollywood',\n",
            " 'hominy/cornmeal/masa', 'honey', 'honeydew', \"hors d'oeuvre\", 'horseradish',\n",
            " 'hot drink', 'hot pepper', 'house & garden', 'house cocktail', 'houston',\n",
            " 'hummus', 'ice cream', 'ice cream machine', 'iced coffee', 'iced tea', 'idaho',\n",
            " 'illinois', 'indiana', 'iowa', 'ireland', 'israel', 'italy', 'jalapeño',\n",
            " 'jam or jelly', 'jamaica', 'japan', 'jerusalem artichoke', 'juicer', 'jícama',\n",
            " 'kahlúa', 'kale', 'kansas', 'kansas city', 'kentucky', 'kentucky derby',\n",
            " 'kid-friendly', 'kidney friendly', 'kirsch', 'kitchen olympics', 'kiwi',\n",
            " 'kosher', 'kosher for passover', 'kumquat', 'kwanzaa', 'labor day', 'lamb',\n",
            " 'lamb chop', 'lamb shank', 'lancaster', 'las vegas', 'lasagna', 'leafy green',\n",
            " 'leek', 'legume', 'lemon', 'lemon juice', 'lemongrass', 'lentil', 'lettuce',\n",
            " 'lima bean', 'lime', 'lime juice', 'lingonberry', 'liqueur', 'lobster',\n",
            " 'london', 'long beach', 'los angeles', 'louisiana', 'louisville', 'low cal',\n",
            " 'low carb', 'low cholesterol', 'low fat', 'low sodium', 'low sugar',\n",
            " 'low/no sugar', 'lunar new year', 'lunch', 'lychee', 'macadamia nut',\n",
            " 'macaroni and cheese', 'maine', 'mandoline', 'mango', 'maple syrup',\n",
            " 'mardi gras', 'margarita', 'marinade', 'marinate', 'marsala', 'marscarpone',\n",
            " 'marshmallow', 'martini', 'maryland', 'massachusetts', 'mayonnaise', 'meat',\n",
            " 'meatball', 'meatloaf', 'melon', 'mexico', 'mezcal', 'miami', 'michigan',\n",
            " 'microwave', 'midori', 'milk/cream', 'minneapolis', 'minnesota', 'mint',\n",
            " 'mississippi', 'missouri', 'mixer', 'molasses', 'monterey jack',\n",
            " 'mortar and pestle', \"mother's day\", 'mozzarella', 'muffin', 'mushroom',\n",
            " 'mussel', 'mustard', 'mustard greens', 'nancy silverton', 'nebraska',\n",
            " 'nectarine', 'new hampshire', 'new jersey', 'new mexico', 'new orleans',\n",
            " \"new year's day\", \"new year's eve\", 'new york', 'no meat, no problem',\n",
            " 'no sugar added', 'no-cook', 'non-alcoholic', 'noodle', 'north carolina',\n",
            " 'nut', 'nutmeg', 'oat', 'oatmeal', 'octopus', 'ohio', 'oklahoma', 'okra',\n",
            " 'oktoberfest', 'olive', 'omelet', 'one-pot meal', 'onion', 'orange',\n",
            " 'orange juice', 'oregano', 'oregon', 'organic', 'orzo', 'oscars', 'oyster',\n",
            " 'pacific palisades', 'paleo', 'pan-fry', 'pancake', 'papaya', 'paprika',\n",
            " 'parade', 'paris', 'parmesan', 'parsley', 'parsnip', 'party', 'pasadena',\n",
            " 'passion fruit', 'passover', 'pasta', 'pasta maker', 'pastry', 'pea', 'peach',\n",
            " 'peanut', 'peanut butter', 'peanut free', 'pear', 'pecan', 'pennsylvania',\n",
            " 'pepper', 'pernod', 'persian new year', 'persimmon', 'peru', 'pescatarian',\n",
            " 'philippines', 'phyllo/puff pastry dough', 'pickles', 'picnic', 'pie',\n",
            " 'pine nut', 'pineapple', 'pistachio', 'pittsburgh', 'pizza', 'plantain',\n",
            " 'plum', 'poach', 'poblano', 'poker/game night', 'pomegranate',\n",
            " 'pomegranate juice', 'poppy', 'pork', 'pork chop', 'pork rib',\n",
            " 'pork tenderloin', 'port', 'portland', 'pot pie', 'potato', 'potato salad',\n",
            " 'potluck', 'poultry', 'poultry sausage', 'pressure cooker', 'prosciutto',\n",
            " 'providence', 'prune', 'pumpkin', 'punch', 'purim', 'quail', 'quiche',\n",
            " 'quick & easy', 'quick and healthy', 'quince', 'quinoa', 'rabbit',\n",
            " 'rack of lamb', 'radicchio', 'radish', 'raisin', 'ramadan', 'ramekin',\n",
            " 'raspberry', 'raw', 'red wine', 'rhode island', 'rhubarb', 'rice', 'ricotta',\n",
            " 'roast', 'root vegetable', 'rosemary', 'rosh hashanah/yom kippur', 'rosé',\n",
            " 'rub', 'rum', 'rutabaga', 'rye', 'saffron', 'sage', 'sake', 'salad',\n",
            " 'salad dressing', 'salmon', 'salsa', 'san francisco', 'sandwich',\n",
            " 'sandwich theory', 'sangria', 'santa monica', 'sardine', 'sauce', 'sausage',\n",
            " 'sauté', 'scallop', 'scotch', 'seafood', 'seattle', 'seed', 'self', 'semolina',\n",
            " 'sesame', 'sesame oil', 'shallot', 'shavuot', 'shellfish', 'sherry', 'shower',\n",
            " 'shrimp', 'side', 'simmer', 'skewer', 'slow cooker', 'smoker', 'smoothie',\n",
            " 'snapper', 'sorbet', 'soufflé/meringue', 'soup/stew', 'sour cream',\n",
            " 'sourdough', 'south carolina', 'soy', 'soy free', 'soy sauce', 'spain',\n",
            " 'sparkling wine', 'spice', 'spinach', 'spirit', 'spring', 'spritzer', 'squash',\n",
            " 'squid', 'st. louis', \"st. patrick's day\", 'steak', 'steam', 'stew',\n",
            " 'stir-fry', 'stock', 'strawberry', 'stuffing/dressing', 'sugar conscious',\n",
            " 'sugar snap pea', 'sukkot', 'summer', 'super bowl', 'suzanne goin',\n",
            " 'sweet potato/yam', 'swiss cheese', 'switzerland', 'swordfish', 'taco',\n",
            " 'tailgating', 'tamarind', 'tangerine', 'tapioca', 'tarragon', 'tart', 'tea',\n",
            " 'tennessee', 'tequila', 'tested & improved', 'texas', 'thanksgiving', 'thyme',\n",
            " 'tilapia', 'tofu', 'tomatillo', 'tomato', 'tortillas', 'tree nut',\n",
            " 'tree nut free', 'triple sec', 'tropical fruit', 'trout', 'tuna', 'turnip',\n",
            " 'utah', \"valentine's day\", 'vanilla', 'veal', 'vegan', 'vegetable',\n",
            " 'vegetarian', 'venison', 'vermont', 'vermouth', 'vinegar', 'virginia', 'vodka',\n",
            " 'waffle', 'walnut', 'wasabi', 'washington', 'washington, d.c.', 'watercress',\n",
            " 'watermelon', 'wedding', 'weelicious', 'west virginia', 'westwood',\n",
            " 'wheat/gluten-free', 'whiskey', 'white wine', 'whole wheat', 'wild rice',\n",
            " 'windsor', 'wine', 'winter', 'wisconsin', 'wok', 'yellow squash', 'yogurt',\n",
            " 'yonkers', 'yuca', 'zucchini', 'cookbooks', 'leftovers', 'snack', 'snack week',\n",
            " 'turkey']\n"
          ],
          "name": "stdout"
        }
      ]
    },
    {
      "cell_type": "markdown",
      "metadata": {
        "id": "WviIkHR9Aefs",
        "colab_type": "text"
      },
      "source": [
        "Объединяем столбцы с одинаковыми ингредиентами."
      ]
    },
    {
      "cell_type": "code",
      "metadata": {
        "id": "x-tRnprLAtdn",
        "colab_type": "code",
        "colab": {}
      },
      "source": [
        "df['cookie'] = np.maximum(df['cookie'], df['cookies'])\n",
        "df['créme de cacao'] = np.maximum(df['créme de cacao'], df['cr��me de cacao'])"
      ],
      "execution_count": null,
      "outputs": []
    },
    {
      "cell_type": "markdown",
      "metadata": {
        "id": "k3DOKzdSMepf",
        "colab_type": "text"
      },
      "source": [
        "Оставляем только признаки, обозначающие ингредиенты (только те, которые есть в базе данных FNDDS)."
      ]
    },
    {
      "cell_type": "code",
      "metadata": {
        "id": "LlDsfxAS3qZi",
        "colab_type": "code",
        "colab": {}
      },
      "source": [
        "df = df.filter(items=['rating', 'amaretto', 'anchovy', 'apple', 'apple juice',\n",
        "                      'asparagus', 'bacon', 'barley', 'basil', 'bass', 'bean',\n",
        "                      'beef rib', 'beer', 'beet', 'blackberry', 'blue cheese',\n",
        "                      'blueberry', 'bok choy', 'brandy', 'bread', 'brie',\n",
        "                      'broccoli', 'brown rice', 'brussel sprout', 'burrito',\n",
        "                      'butter', 'butterscotch/caramel', 'cabbage', 'candy',\n",
        "                      'carrot', 'casserole/gratin', 'cauliflower', 'caviar',\n",
        "                      'celery', 'champagne', 'chard', 'chartreuse', 'cheddar',\n",
        "                      'cheese', 'cherry', 'chestnut', 'chicken', 'chickpea',\n",
        "                      'chile pepper', 'chili', 'chive', 'chocolate', 'cilantro',\n",
        "                      'cinnamon', 'cobbler/crumble', 'coconut', 'coffee',\n",
        "                      'cognac/armagnac', 'collard greens', 'cookie',\n",
        "                      'coriander', 'cottage cheese', 'couscous', 'crab',\n",
        "                      'cranberry', 'cranberry sauce', 'cream cheese',\n",
        "                      'créme de cacao', 'cucumber', 'currant', 'custard',\n",
        "                      'eau de vie', 'endive', 'escarole', 'fennel', 'feta',\n",
        "                      'fig', 'fish', 'fontina', 'gin', 'ginger', 'goat cheese',\n",
        "                      'gouda', 'grains', 'grapefruit', 'green bean',\n",
        "                      'green onion/scallion', 'ground beef', 'ground lamb',\n",
        "                      'halibut', 'ham', 'hamburger', 'hazelnut', 'honey',\n",
        "                      'honeydew', 'horseradish', 'hot pepper', 'ice cream',\n",
        "                      'iced coffee', 'iced tea', 'jam or jelly',\n",
        "                      'jerusalem artichoke', 'kale', 'kiwi', 'kumquat', 'lamb',\n",
        "                      'lamb chop', 'lasagna', 'leek', 'lemon', 'lemon juice',\n",
        "                      'lentil', 'lettuce', 'lima bean', 'lime', 'lime juice',\n",
        "                      'liqueur', 'lobster', 'lychee', 'macadamia nut',\n",
        "                      'macaroni and cheese', 'maple syrup', 'margarita',\n",
        "                      'marinade', 'marsala', 'marshmallow', 'martini',\n",
        "                      'mayonnaise', 'meat', 'meatball', 'meatloaf', 'melon',\n",
        "                      'milk/cream', 'molasses', 'monterey jack', 'mozzarella',\n",
        "                      'muffin', 'mushroom', 'mussel', 'mustard',\n",
        "                      'mustard greens', 'nectarine', 'noodle', 'oat', 'oatmeal',\n",
        "                      'octopus', 'okra', 'olive', 'omelet', 'onion', 'orange',\n",
        "                      'orange juice', 'oyster', 'pancake', 'parmesan',\n",
        "                      'parsley', 'parsnip', 'pasta', 'pea', 'peach', 'peanut',\n",
        "                      'peanut butter', 'pear', 'pecan', 'persimmon', 'pie',\n",
        "                      'pine nut', 'pineapple', 'pistachio', 'pizza', 'plantain',\n",
        "                      'plum', 'pomegranate', 'pomegranate juice', 'poppy',\n",
        "                      'pork', 'pork chop', 'pork tenderloin', 'potato',\n",
        "                      'potato salad', 'poultry', 'poultry sausage',\n",
        "                      'prosciutto', 'prune', 'pumpkin', 'punch', 'quail',\n",
        "                      'quiche', 'quinoa', 'rabbit', 'radicchio', 'radish',\n",
        "                      'raisin', 'red wine', 'rhubarb', 'rice', 'ricotta', 'rum',\n",
        "                      'rutabaga', 'rye', 'sake', 'salad dressing', 'salmon',\n",
        "                      'salsa', 'sandwich', 'sangria', 'sardine', 'sauce',\n",
        "                      'sausage', 'scotch', 'seafood', 'semolina', 'sesame',\n",
        "                      'sesame oil', 'shellfish', 'shrimp', 'smoothie', 'sorbet',\n",
        "                      'soup/stew', 'sour cream', 'soy sauce', 'sparkling wine',\n",
        "                      'spinach', 'squid', 'steak', 'stew', 'strawberry',\n",
        "                      'sugar snap pea', 'sweet potato/yam', 'swiss cheese',\n",
        "                      'swordfish', 'taco', 'tamarind', 'tangerine', 'tapioca',\n",
        "                      'tart', 'tea', 'tequila', 'tilapia', 'tofu', 'tomato',\n",
        "                      'tortillas', 'tree nut', 'trout', 'tuna', 'turkey',\n",
        "                      'turnip', 'vanilla', 'venison', 'vermouth', 'vinegar',\n",
        "                      'vodka', 'waffle', 'walnut', 'wasabi', 'watercress',\n",
        "                      'watermelon', 'whiskey', 'white wine', 'whole wheat',\n",
        "                      'wild rice', 'wine', 'yellow squash', 'yogurt', 'yuca',\n",
        "                      'zucchini'], axis=1)"
      ],
      "execution_count": null,
      "outputs": []
    },
    {
      "cell_type": "markdown",
      "metadata": {
        "id": "t2depClL1jaf",
        "colab_type": "text"
      },
      "source": [
        "У признаков-ингредиентов с двумя названиями оставляем одно."
      ]
    },
    {
      "cell_type": "code",
      "metadata": {
        "id": "Lb1dyj7W1gNh",
        "colab_type": "code",
        "colab": {}
      },
      "source": [
        "df = df.rename(columns=lambda x: re.sub(r'/[\\w ]*', '', x))\n",
        "df = df.rename(columns={'jam or jelly': 'jam'})"
      ],
      "execution_count": null,
      "outputs": []
    },
    {
      "cell_type": "code",
      "metadata": {
        "id": "73P5ilmmImH8",
        "colab_type": "code",
        "colab": {
          "base_uri": "https://localhost:8080/",
          "height": 287
        },
        "outputId": "ed1bf742-698b-474c-b38d-f1e831311f2e"
      },
      "source": [
        "df.head()"
      ],
      "execution_count": null,
      "outputs": [
        {
          "output_type": "execute_result",
          "data": {
            "text/html": [
              "<div>\n",
              "<style scoped>\n",
              "    .dataframe tbody tr th:only-of-type {\n",
              "        vertical-align: middle;\n",
              "    }\n",
              "\n",
              "    .dataframe tbody tr th {\n",
              "        vertical-align: top;\n",
              "    }\n",
              "\n",
              "    .dataframe thead th {\n",
              "        text-align: right;\n",
              "    }\n",
              "</style>\n",
              "<table border=\"1\" class=\"dataframe\">\n",
              "  <thead>\n",
              "    <tr style=\"text-align: right;\">\n",
              "      <th></th>\n",
              "      <th>rating</th>\n",
              "      <th>amaretto</th>\n",
              "      <th>anchovy</th>\n",
              "      <th>apple</th>\n",
              "      <th>apple juice</th>\n",
              "      <th>asparagus</th>\n",
              "      <th>bacon</th>\n",
              "      <th>barley</th>\n",
              "      <th>basil</th>\n",
              "      <th>bass</th>\n",
              "      <th>bean</th>\n",
              "      <th>beef rib</th>\n",
              "      <th>beer</th>\n",
              "      <th>beet</th>\n",
              "      <th>blackberry</th>\n",
              "      <th>blue cheese</th>\n",
              "      <th>blueberry</th>\n",
              "      <th>bok choy</th>\n",
              "      <th>brandy</th>\n",
              "      <th>bread</th>\n",
              "      <th>brie</th>\n",
              "      <th>broccoli</th>\n",
              "      <th>brown rice</th>\n",
              "      <th>brussel sprout</th>\n",
              "      <th>burrito</th>\n",
              "      <th>butter</th>\n",
              "      <th>butterscotch</th>\n",
              "      <th>cabbage</th>\n",
              "      <th>candy</th>\n",
              "      <th>carrot</th>\n",
              "      <th>casserole</th>\n",
              "      <th>cauliflower</th>\n",
              "      <th>caviar</th>\n",
              "      <th>celery</th>\n",
              "      <th>champagne</th>\n",
              "      <th>chard</th>\n",
              "      <th>chartreuse</th>\n",
              "      <th>cheddar</th>\n",
              "      <th>cheese</th>\n",
              "      <th>cherry</th>\n",
              "      <th>...</th>\n",
              "      <th>strawberry</th>\n",
              "      <th>sugar snap pea</th>\n",
              "      <th>sweet potato</th>\n",
              "      <th>swiss cheese</th>\n",
              "      <th>swordfish</th>\n",
              "      <th>taco</th>\n",
              "      <th>tamarind</th>\n",
              "      <th>tangerine</th>\n",
              "      <th>tapioca</th>\n",
              "      <th>tart</th>\n",
              "      <th>tea</th>\n",
              "      <th>tequila</th>\n",
              "      <th>tilapia</th>\n",
              "      <th>tofu</th>\n",
              "      <th>tomato</th>\n",
              "      <th>tortillas</th>\n",
              "      <th>tree nut</th>\n",
              "      <th>trout</th>\n",
              "      <th>tuna</th>\n",
              "      <th>turkey</th>\n",
              "      <th>turnip</th>\n",
              "      <th>vanilla</th>\n",
              "      <th>venison</th>\n",
              "      <th>vermouth</th>\n",
              "      <th>vinegar</th>\n",
              "      <th>vodka</th>\n",
              "      <th>waffle</th>\n",
              "      <th>walnut</th>\n",
              "      <th>wasabi</th>\n",
              "      <th>watercress</th>\n",
              "      <th>watermelon</th>\n",
              "      <th>whiskey</th>\n",
              "      <th>white wine</th>\n",
              "      <th>whole wheat</th>\n",
              "      <th>wild rice</th>\n",
              "      <th>wine</th>\n",
              "      <th>yellow squash</th>\n",
              "      <th>yogurt</th>\n",
              "      <th>yuca</th>\n",
              "      <th>zucchini</th>\n",
              "    </tr>\n",
              "  </thead>\n",
              "  <tbody>\n",
              "    <tr>\n",
              "      <th>0</th>\n",
              "      <td>2.500</td>\n",
              "      <td>0.0</td>\n",
              "      <td>0.0</td>\n",
              "      <td>1.0</td>\n",
              "      <td>0.0</td>\n",
              "      <td>0.0</td>\n",
              "      <td>0.0</td>\n",
              "      <td>0.0</td>\n",
              "      <td>0.0</td>\n",
              "      <td>0.0</td>\n",
              "      <td>1.0</td>\n",
              "      <td>0.0</td>\n",
              "      <td>0.0</td>\n",
              "      <td>0.0</td>\n",
              "      <td>0.0</td>\n",
              "      <td>0.0</td>\n",
              "      <td>0.0</td>\n",
              "      <td>0.0</td>\n",
              "      <td>0.0</td>\n",
              "      <td>0.0</td>\n",
              "      <td>0.0</td>\n",
              "      <td>0.0</td>\n",
              "      <td>0.0</td>\n",
              "      <td>0.0</td>\n",
              "      <td>0.0</td>\n",
              "      <td>0.0</td>\n",
              "      <td>0.0</td>\n",
              "      <td>0.0</td>\n",
              "      <td>0.0</td>\n",
              "      <td>0.0</td>\n",
              "      <td>0.0</td>\n",
              "      <td>0.0</td>\n",
              "      <td>0.0</td>\n",
              "      <td>0.0</td>\n",
              "      <td>0.0</td>\n",
              "      <td>0.0</td>\n",
              "      <td>0.0</td>\n",
              "      <td>0.0</td>\n",
              "      <td>0.0</td>\n",
              "      <td>0.0</td>\n",
              "      <td>...</td>\n",
              "      <td>0.0</td>\n",
              "      <td>0.0</td>\n",
              "      <td>0.0</td>\n",
              "      <td>0.0</td>\n",
              "      <td>0.0</td>\n",
              "      <td>0.0</td>\n",
              "      <td>0.0</td>\n",
              "      <td>0.0</td>\n",
              "      <td>0.0</td>\n",
              "      <td>0.0</td>\n",
              "      <td>0.0</td>\n",
              "      <td>0.0</td>\n",
              "      <td>0.0</td>\n",
              "      <td>0.0</td>\n",
              "      <td>1.0</td>\n",
              "      <td>0.0</td>\n",
              "      <td>0.0</td>\n",
              "      <td>0.0</td>\n",
              "      <td>0.0</td>\n",
              "      <td>1.0</td>\n",
              "      <td>0.0</td>\n",
              "      <td>0.0</td>\n",
              "      <td>0.0</td>\n",
              "      <td>0.0</td>\n",
              "      <td>0.0</td>\n",
              "      <td>0.0</td>\n",
              "      <td>0.0</td>\n",
              "      <td>0.0</td>\n",
              "      <td>0.0</td>\n",
              "      <td>0.0</td>\n",
              "      <td>0.0</td>\n",
              "      <td>0.0</td>\n",
              "      <td>0.0</td>\n",
              "      <td>0.0</td>\n",
              "      <td>0.0</td>\n",
              "      <td>0.0</td>\n",
              "      <td>0.0</td>\n",
              "      <td>0.0</td>\n",
              "      <td>0.0</td>\n",
              "      <td>0.0</td>\n",
              "    </tr>\n",
              "    <tr>\n",
              "      <th>1</th>\n",
              "      <td>4.375</td>\n",
              "      <td>0.0</td>\n",
              "      <td>0.0</td>\n",
              "      <td>0.0</td>\n",
              "      <td>0.0</td>\n",
              "      <td>0.0</td>\n",
              "      <td>0.0</td>\n",
              "      <td>0.0</td>\n",
              "      <td>0.0</td>\n",
              "      <td>0.0</td>\n",
              "      <td>0.0</td>\n",
              "      <td>0.0</td>\n",
              "      <td>0.0</td>\n",
              "      <td>0.0</td>\n",
              "      <td>0.0</td>\n",
              "      <td>0.0</td>\n",
              "      <td>0.0</td>\n",
              "      <td>0.0</td>\n",
              "      <td>0.0</td>\n",
              "      <td>0.0</td>\n",
              "      <td>0.0</td>\n",
              "      <td>0.0</td>\n",
              "      <td>0.0</td>\n",
              "      <td>0.0</td>\n",
              "      <td>0.0</td>\n",
              "      <td>0.0</td>\n",
              "      <td>0.0</td>\n",
              "      <td>0.0</td>\n",
              "      <td>0.0</td>\n",
              "      <td>0.0</td>\n",
              "      <td>0.0</td>\n",
              "      <td>0.0</td>\n",
              "      <td>0.0</td>\n",
              "      <td>0.0</td>\n",
              "      <td>0.0</td>\n",
              "      <td>0.0</td>\n",
              "      <td>0.0</td>\n",
              "      <td>0.0</td>\n",
              "      <td>0.0</td>\n",
              "      <td>0.0</td>\n",
              "      <td>...</td>\n",
              "      <td>0.0</td>\n",
              "      <td>0.0</td>\n",
              "      <td>0.0</td>\n",
              "      <td>0.0</td>\n",
              "      <td>0.0</td>\n",
              "      <td>0.0</td>\n",
              "      <td>0.0</td>\n",
              "      <td>0.0</td>\n",
              "      <td>0.0</td>\n",
              "      <td>0.0</td>\n",
              "      <td>0.0</td>\n",
              "      <td>0.0</td>\n",
              "      <td>0.0</td>\n",
              "      <td>0.0</td>\n",
              "      <td>0.0</td>\n",
              "      <td>0.0</td>\n",
              "      <td>0.0</td>\n",
              "      <td>0.0</td>\n",
              "      <td>0.0</td>\n",
              "      <td>0.0</td>\n",
              "      <td>0.0</td>\n",
              "      <td>0.0</td>\n",
              "      <td>0.0</td>\n",
              "      <td>0.0</td>\n",
              "      <td>0.0</td>\n",
              "      <td>0.0</td>\n",
              "      <td>0.0</td>\n",
              "      <td>0.0</td>\n",
              "      <td>0.0</td>\n",
              "      <td>0.0</td>\n",
              "      <td>0.0</td>\n",
              "      <td>0.0</td>\n",
              "      <td>0.0</td>\n",
              "      <td>0.0</td>\n",
              "      <td>0.0</td>\n",
              "      <td>0.0</td>\n",
              "      <td>0.0</td>\n",
              "      <td>0.0</td>\n",
              "      <td>0.0</td>\n",
              "      <td>0.0</td>\n",
              "    </tr>\n",
              "    <tr>\n",
              "      <th>2</th>\n",
              "      <td>3.750</td>\n",
              "      <td>0.0</td>\n",
              "      <td>0.0</td>\n",
              "      <td>0.0</td>\n",
              "      <td>0.0</td>\n",
              "      <td>0.0</td>\n",
              "      <td>0.0</td>\n",
              "      <td>0.0</td>\n",
              "      <td>0.0</td>\n",
              "      <td>0.0</td>\n",
              "      <td>0.0</td>\n",
              "      <td>0.0</td>\n",
              "      <td>0.0</td>\n",
              "      <td>0.0</td>\n",
              "      <td>0.0</td>\n",
              "      <td>0.0</td>\n",
              "      <td>0.0</td>\n",
              "      <td>0.0</td>\n",
              "      <td>0.0</td>\n",
              "      <td>0.0</td>\n",
              "      <td>0.0</td>\n",
              "      <td>0.0</td>\n",
              "      <td>0.0</td>\n",
              "      <td>0.0</td>\n",
              "      <td>0.0</td>\n",
              "      <td>0.0</td>\n",
              "      <td>0.0</td>\n",
              "      <td>0.0</td>\n",
              "      <td>0.0</td>\n",
              "      <td>0.0</td>\n",
              "      <td>0.0</td>\n",
              "      <td>0.0</td>\n",
              "      <td>0.0</td>\n",
              "      <td>0.0</td>\n",
              "      <td>0.0</td>\n",
              "      <td>0.0</td>\n",
              "      <td>0.0</td>\n",
              "      <td>0.0</td>\n",
              "      <td>0.0</td>\n",
              "      <td>0.0</td>\n",
              "      <td>...</td>\n",
              "      <td>0.0</td>\n",
              "      <td>0.0</td>\n",
              "      <td>0.0</td>\n",
              "      <td>0.0</td>\n",
              "      <td>0.0</td>\n",
              "      <td>0.0</td>\n",
              "      <td>0.0</td>\n",
              "      <td>0.0</td>\n",
              "      <td>0.0</td>\n",
              "      <td>0.0</td>\n",
              "      <td>0.0</td>\n",
              "      <td>0.0</td>\n",
              "      <td>0.0</td>\n",
              "      <td>0.0</td>\n",
              "      <td>0.0</td>\n",
              "      <td>0.0</td>\n",
              "      <td>0.0</td>\n",
              "      <td>0.0</td>\n",
              "      <td>0.0</td>\n",
              "      <td>0.0</td>\n",
              "      <td>0.0</td>\n",
              "      <td>0.0</td>\n",
              "      <td>0.0</td>\n",
              "      <td>0.0</td>\n",
              "      <td>0.0</td>\n",
              "      <td>0.0</td>\n",
              "      <td>0.0</td>\n",
              "      <td>0.0</td>\n",
              "      <td>0.0</td>\n",
              "      <td>0.0</td>\n",
              "      <td>0.0</td>\n",
              "      <td>0.0</td>\n",
              "      <td>0.0</td>\n",
              "      <td>0.0</td>\n",
              "      <td>0.0</td>\n",
              "      <td>0.0</td>\n",
              "      <td>0.0</td>\n",
              "      <td>0.0</td>\n",
              "      <td>0.0</td>\n",
              "      <td>0.0</td>\n",
              "    </tr>\n",
              "    <tr>\n",
              "      <th>3</th>\n",
              "      <td>5.000</td>\n",
              "      <td>0.0</td>\n",
              "      <td>0.0</td>\n",
              "      <td>0.0</td>\n",
              "      <td>0.0</td>\n",
              "      <td>0.0</td>\n",
              "      <td>0.0</td>\n",
              "      <td>0.0</td>\n",
              "      <td>0.0</td>\n",
              "      <td>0.0</td>\n",
              "      <td>0.0</td>\n",
              "      <td>0.0</td>\n",
              "      <td>0.0</td>\n",
              "      <td>0.0</td>\n",
              "      <td>0.0</td>\n",
              "      <td>0.0</td>\n",
              "      <td>0.0</td>\n",
              "      <td>0.0</td>\n",
              "      <td>0.0</td>\n",
              "      <td>0.0</td>\n",
              "      <td>0.0</td>\n",
              "      <td>0.0</td>\n",
              "      <td>0.0</td>\n",
              "      <td>0.0</td>\n",
              "      <td>0.0</td>\n",
              "      <td>0.0</td>\n",
              "      <td>0.0</td>\n",
              "      <td>0.0</td>\n",
              "      <td>0.0</td>\n",
              "      <td>0.0</td>\n",
              "      <td>0.0</td>\n",
              "      <td>0.0</td>\n",
              "      <td>0.0</td>\n",
              "      <td>0.0</td>\n",
              "      <td>0.0</td>\n",
              "      <td>0.0</td>\n",
              "      <td>0.0</td>\n",
              "      <td>0.0</td>\n",
              "      <td>0.0</td>\n",
              "      <td>0.0</td>\n",
              "      <td>...</td>\n",
              "      <td>0.0</td>\n",
              "      <td>0.0</td>\n",
              "      <td>0.0</td>\n",
              "      <td>0.0</td>\n",
              "      <td>0.0</td>\n",
              "      <td>0.0</td>\n",
              "      <td>0.0</td>\n",
              "      <td>0.0</td>\n",
              "      <td>0.0</td>\n",
              "      <td>0.0</td>\n",
              "      <td>0.0</td>\n",
              "      <td>0.0</td>\n",
              "      <td>0.0</td>\n",
              "      <td>0.0</td>\n",
              "      <td>1.0</td>\n",
              "      <td>0.0</td>\n",
              "      <td>0.0</td>\n",
              "      <td>0.0</td>\n",
              "      <td>0.0</td>\n",
              "      <td>0.0</td>\n",
              "      <td>0.0</td>\n",
              "      <td>0.0</td>\n",
              "      <td>0.0</td>\n",
              "      <td>0.0</td>\n",
              "      <td>0.0</td>\n",
              "      <td>0.0</td>\n",
              "      <td>0.0</td>\n",
              "      <td>0.0</td>\n",
              "      <td>0.0</td>\n",
              "      <td>0.0</td>\n",
              "      <td>0.0</td>\n",
              "      <td>0.0</td>\n",
              "      <td>0.0</td>\n",
              "      <td>0.0</td>\n",
              "      <td>0.0</td>\n",
              "      <td>0.0</td>\n",
              "      <td>0.0</td>\n",
              "      <td>0.0</td>\n",
              "      <td>0.0</td>\n",
              "      <td>0.0</td>\n",
              "    </tr>\n",
              "    <tr>\n",
              "      <th>4</th>\n",
              "      <td>3.125</td>\n",
              "      <td>0.0</td>\n",
              "      <td>0.0</td>\n",
              "      <td>0.0</td>\n",
              "      <td>0.0</td>\n",
              "      <td>0.0</td>\n",
              "      <td>0.0</td>\n",
              "      <td>0.0</td>\n",
              "      <td>0.0</td>\n",
              "      <td>0.0</td>\n",
              "      <td>0.0</td>\n",
              "      <td>0.0</td>\n",
              "      <td>0.0</td>\n",
              "      <td>0.0</td>\n",
              "      <td>0.0</td>\n",
              "      <td>0.0</td>\n",
              "      <td>0.0</td>\n",
              "      <td>0.0</td>\n",
              "      <td>0.0</td>\n",
              "      <td>0.0</td>\n",
              "      <td>0.0</td>\n",
              "      <td>0.0</td>\n",
              "      <td>0.0</td>\n",
              "      <td>0.0</td>\n",
              "      <td>0.0</td>\n",
              "      <td>0.0</td>\n",
              "      <td>0.0</td>\n",
              "      <td>0.0</td>\n",
              "      <td>0.0</td>\n",
              "      <td>0.0</td>\n",
              "      <td>0.0</td>\n",
              "      <td>0.0</td>\n",
              "      <td>0.0</td>\n",
              "      <td>0.0</td>\n",
              "      <td>0.0</td>\n",
              "      <td>0.0</td>\n",
              "      <td>0.0</td>\n",
              "      <td>0.0</td>\n",
              "      <td>1.0</td>\n",
              "      <td>0.0</td>\n",
              "      <td>...</td>\n",
              "      <td>0.0</td>\n",
              "      <td>0.0</td>\n",
              "      <td>0.0</td>\n",
              "      <td>0.0</td>\n",
              "      <td>0.0</td>\n",
              "      <td>0.0</td>\n",
              "      <td>0.0</td>\n",
              "      <td>0.0</td>\n",
              "      <td>0.0</td>\n",
              "      <td>0.0</td>\n",
              "      <td>0.0</td>\n",
              "      <td>0.0</td>\n",
              "      <td>0.0</td>\n",
              "      <td>0.0</td>\n",
              "      <td>0.0</td>\n",
              "      <td>0.0</td>\n",
              "      <td>0.0</td>\n",
              "      <td>0.0</td>\n",
              "      <td>0.0</td>\n",
              "      <td>0.0</td>\n",
              "      <td>0.0</td>\n",
              "      <td>0.0</td>\n",
              "      <td>0.0</td>\n",
              "      <td>0.0</td>\n",
              "      <td>0.0</td>\n",
              "      <td>0.0</td>\n",
              "      <td>0.0</td>\n",
              "      <td>0.0</td>\n",
              "      <td>0.0</td>\n",
              "      <td>0.0</td>\n",
              "      <td>0.0</td>\n",
              "      <td>0.0</td>\n",
              "      <td>0.0</td>\n",
              "      <td>0.0</td>\n",
              "      <td>0.0</td>\n",
              "      <td>0.0</td>\n",
              "      <td>0.0</td>\n",
              "      <td>0.0</td>\n",
              "      <td>0.0</td>\n",
              "      <td>0.0</td>\n",
              "    </tr>\n",
              "  </tbody>\n",
              "</table>\n",
              "<p>5 rows × 261 columns</p>\n",
              "</div>"
            ],
            "text/plain": [
              "   rating  amaretto  anchovy  apple  ...  yellow squash  yogurt  yuca  zucchini\n",
              "0   2.500       0.0      0.0    1.0  ...            0.0     0.0   0.0       0.0\n",
              "1   4.375       0.0      0.0    0.0  ...            0.0     0.0   0.0       0.0\n",
              "2   3.750       0.0      0.0    0.0  ...            0.0     0.0   0.0       0.0\n",
              "3   5.000       0.0      0.0    0.0  ...            0.0     0.0   0.0       0.0\n",
              "4   3.125       0.0      0.0    0.0  ...            0.0     0.0   0.0       0.0\n",
              "\n",
              "[5 rows x 261 columns]"
            ]
          },
          "metadata": {
            "tags": []
          },
          "execution_count": 14
        }
      ]
    },
    {
      "cell_type": "markdown",
      "metadata": {
        "id": "AGHCGPcLQsxW",
        "colab_type": "text"
      },
      "source": [
        "Осталось в 2.6 раза меньше столбцов!"
      ]
    },
    {
      "cell_type": "code",
      "metadata": {
        "id": "SwvxyeImIqBZ",
        "colab_type": "code",
        "colab": {
          "base_uri": "https://localhost:8080/",
          "height": 697
        },
        "outputId": "29d9d420-4e51-4c21-8e0f-ed1c12e0fb71"
      },
      "source": [
        "pp.pprint(list(df.columns))"
      ],
      "execution_count": null,
      "outputs": [
        {
          "output_type": "stream",
          "text": [
            "['rating', 'amaretto', 'anchovy', 'apple', 'apple juice', 'asparagus', 'bacon',\n",
            " 'barley', 'basil', 'bass', 'bean', 'beef rib', 'beer', 'beet', 'blackberry',\n",
            " 'blue cheese', 'blueberry', 'bok choy', 'brandy', 'bread', 'brie', 'broccoli',\n",
            " 'brown rice', 'brussel sprout', 'burrito', 'butter', 'butterscotch', 'cabbage',\n",
            " 'candy', 'carrot', 'casserole', 'cauliflower', 'caviar', 'celery', 'champagne',\n",
            " 'chard', 'chartreuse', 'cheddar', 'cheese', 'cherry', 'chestnut', 'chicken',\n",
            " 'chickpea', 'chile pepper', 'chili', 'chive', 'chocolate', 'cilantro',\n",
            " 'cinnamon', 'cobbler', 'coconut', 'coffee', 'cognac', 'collard greens',\n",
            " 'cookie', 'coriander', 'cottage cheese', 'couscous', 'crab', 'cranberry',\n",
            " 'cranberry sauce', 'cream cheese', 'créme de cacao', 'cucumber', 'currant',\n",
            " 'custard', 'eau de vie', 'endive', 'escarole', 'fennel', 'feta', 'fig', 'fish',\n",
            " 'fontina', 'gin', 'ginger', 'goat cheese', 'gouda', 'grains', 'grapefruit',\n",
            " 'green bean', 'green onion', 'ground beef', 'ground lamb', 'halibut', 'ham',\n",
            " 'hamburger', 'hazelnut', 'honey', 'honeydew', 'horseradish', 'hot pepper',\n",
            " 'ice cream', 'iced coffee', 'iced tea', 'jam', 'jerusalem artichoke', 'kale',\n",
            " 'kiwi', 'kumquat', 'lamb', 'lamb chop', 'lasagna', 'leek', 'lemon',\n",
            " 'lemon juice', 'lentil', 'lettuce', 'lima bean', 'lime', 'lime juice',\n",
            " 'liqueur', 'lobster', 'lychee', 'macadamia nut', 'macaroni and cheese',\n",
            " 'maple syrup', 'margarita', 'marinade', 'marsala', 'marshmallow', 'martini',\n",
            " 'mayonnaise', 'meat', 'meatball', 'meatloaf', 'melon', 'milk', 'molasses',\n",
            " 'monterey jack', 'mozzarella', 'muffin', 'mushroom', 'mussel', 'mustard',\n",
            " 'mustard greens', 'nectarine', 'noodle', 'oat', 'oatmeal', 'octopus', 'okra',\n",
            " 'olive', 'omelet', 'onion', 'orange', 'orange juice', 'oyster', 'pancake',\n",
            " 'parmesan', 'parsley', 'parsnip', 'pasta', 'pea', 'peach', 'peanut',\n",
            " 'peanut butter', 'pear', 'pecan', 'persimmon', 'pie', 'pine nut', 'pineapple',\n",
            " 'pistachio', 'pizza', 'plantain', 'plum', 'pomegranate', 'pomegranate juice',\n",
            " 'poppy', 'pork', 'pork chop', 'pork tenderloin', 'potato', 'potato salad',\n",
            " 'poultry', 'poultry sausage', 'prosciutto', 'prune', 'pumpkin', 'punch',\n",
            " 'quail', 'quiche', 'quinoa', 'rabbit', 'radicchio', 'radish', 'raisin',\n",
            " 'red wine', 'rhubarb', 'rice', 'ricotta', 'rum', 'rutabaga', 'rye', 'sake',\n",
            " 'salad dressing', 'salmon', 'salsa', 'sandwich', 'sangria', 'sardine', 'sauce',\n",
            " 'sausage', 'scotch', 'seafood', 'semolina', 'sesame', 'sesame oil',\n",
            " 'shellfish', 'shrimp', 'smoothie', 'sorbet', 'soup', 'sour cream', 'soy sauce',\n",
            " 'sparkling wine', 'spinach', 'squid', 'steak', 'stew', 'strawberry',\n",
            " 'sugar snap pea', 'sweet potato', 'swiss cheese', 'swordfish', 'taco',\n",
            " 'tamarind', 'tangerine', 'tapioca', 'tart', 'tea', 'tequila', 'tilapia',\n",
            " 'tofu', 'tomato', 'tortillas', 'tree nut', 'trout', 'tuna', 'turkey', 'turnip',\n",
            " 'vanilla', 'venison', 'vermouth', 'vinegar', 'vodka', 'waffle', 'walnut',\n",
            " 'wasabi', 'watercress', 'watermelon', 'whiskey', 'white wine', 'whole wheat',\n",
            " 'wild rice', 'wine', 'yellow squash', 'yogurt', 'yuca', 'zucchini']\n"
          ],
          "name": "stdout"
        }
      ]
    },
    {
      "cell_type": "code",
      "metadata": {
        "id": "SqEgif6iIveS",
        "colab_type": "code",
        "colab": {}
      },
      "source": [
        "X_train, X_test, y_train, y_test = train_test_split(\n",
        "    df.drop('rating', axis=1), df['rating'], random_state=42)"
      ],
      "execution_count": null,
      "outputs": []
    },
    {
      "cell_type": "markdown",
      "metadata": {
        "id": "s0PgYEUIMpft",
        "colab_type": "text"
      },
      "source": [
        "#Regression\n",
        "Посчитаем RMSE наивной регрессии."
      ]
    },
    {
      "cell_type": "code",
      "metadata": {
        "id": "MbizvW1WKSHI",
        "colab_type": "code",
        "colab": {}
      },
      "source": [
        "y_pred_naive = np.full(y_test.shape, np.mean(y_train))"
      ],
      "execution_count": null,
      "outputs": []
    },
    {
      "cell_type": "code",
      "metadata": {
        "id": "7PTl4AxrLZXc",
        "colab_type": "code",
        "colab": {
          "base_uri": "https://localhost:8080/",
          "height": 51
        },
        "outputId": "bfebcfec-869e-4296-9eb7-36f7dfc70817"
      },
      "source": [
        "y_pred_naive"
      ],
      "execution_count": null,
      "outputs": [
        {
          "output_type": "execute_result",
          "data": {
            "text/plain": [
              "array([3.70952191, 3.70952191, 3.70952191, ..., 3.70952191, 3.70952191,\n",
              "       3.70952191])"
            ]
          },
          "metadata": {
            "tags": []
          },
          "execution_count": 18
        }
      ]
    },
    {
      "cell_type": "code",
      "metadata": {
        "id": "vSC13PgkLa94",
        "colab_type": "code",
        "colab": {
          "base_uri": "https://localhost:8080/",
          "height": 34
        },
        "outputId": "2bc9ab92-5bec-45fd-b15f-e3e03a1f011e"
      },
      "source": [
        "mean_squared_error(y_test, y_pred_naive, squared=False)"
      ],
      "execution_count": null,
      "outputs": [
        {
          "output_type": "execute_result",
          "data": {
            "text/plain": [
              "1.3243852365612345"
            ]
          },
          "metadata": {
            "tags": []
          },
          "execution_count": 19
        }
      ]
    },
    {
      "cell_type": "code",
      "metadata": {
        "id": "iO5pzA5zaFoq",
        "colab_type": "code",
        "colab": {}
      },
      "source": [
        "linear_reg = LinearRegression()\n",
        "\n",
        "param_grid = [{'fit_intercept': [True], 'normalize': [True, False]},\n",
        "              {'fit_intercept': [False]}]\n",
        "\n",
        "cv_linear_reg = GridSearchCV(linear_reg, param_grid,\n",
        "                             scoring='neg_root_mean_squared_error', n_jobs=-1)"
      ],
      "execution_count": null,
      "outputs": []
    },
    {
      "cell_type": "code",
      "metadata": {
        "id": "n_iylvzdaSh4",
        "colab_type": "code",
        "colab": {
          "base_uri": "https://localhost:8080/",
          "height": 153
        },
        "outputId": "0a969bf5-1b98-4849-cdd7-f8019adfb287"
      },
      "source": [
        "cv_linear_reg.fit(X_train, y_train)"
      ],
      "execution_count": null,
      "outputs": [
        {
          "output_type": "execute_result",
          "data": {
            "text/plain": [
              "GridSearchCV(cv=None, error_score=nan,\n",
              "             estimator=LinearRegression(copy_X=True, fit_intercept=True,\n",
              "                                        n_jobs=None, normalize=False),\n",
              "             iid='deprecated', n_jobs=-1,\n",
              "             param_grid=[{'fit_intercept': [True], 'normalize': [True, False]},\n",
              "                         {'fit_intercept': [False]}],\n",
              "             pre_dispatch='2*n_jobs', refit=True, return_train_score=False,\n",
              "             scoring='neg_root_mean_squared_error', verbose=0)"
            ]
          },
          "metadata": {
            "tags": []
          },
          "execution_count": 21
        }
      ]
    },
    {
      "cell_type": "code",
      "metadata": {
        "id": "vYq93FjBq6aB",
        "colab_type": "code",
        "colab": {
          "base_uri": "https://localhost:8080/",
          "height": 34
        },
        "outputId": "e3e4a0bd-2e03-4caf-cce3-d04cf025819c"
      },
      "source": [
        "cv_linear_reg.best_params_"
      ],
      "execution_count": null,
      "outputs": [
        {
          "output_type": "execute_result",
          "data": {
            "text/plain": [
              "{'fit_intercept': True, 'normalize': False}"
            ]
          },
          "metadata": {
            "tags": []
          },
          "execution_count": 22
        }
      ]
    },
    {
      "cell_type": "code",
      "metadata": {
        "id": "RVSHy4_BOGis",
        "colab_type": "code",
        "colab": {}
      },
      "source": [
        "linear_reg = LinearRegression()"
      ],
      "execution_count": null,
      "outputs": []
    },
    {
      "cell_type": "code",
      "metadata": {
        "id": "Tj92LBWSOLkj",
        "colab_type": "code",
        "colab": {
          "base_uri": "https://localhost:8080/",
          "height": 34
        },
        "outputId": "0ab669ce-1d4b-43d0-f7e2-645b49383567"
      },
      "source": [
        "linear_reg.fit(X_train, y_train)"
      ],
      "execution_count": null,
      "outputs": [
        {
          "output_type": "execute_result",
          "data": {
            "text/plain": [
              "LinearRegression(copy_X=True, fit_intercept=True, n_jobs=None, normalize=False)"
            ]
          },
          "metadata": {
            "tags": []
          },
          "execution_count": 24
        }
      ]
    },
    {
      "cell_type": "code",
      "metadata": {
        "id": "qzNSO-KUOPks",
        "colab_type": "code",
        "colab": {}
      },
      "source": [
        "y_pred = linear_reg.predict(X_test)"
      ],
      "execution_count": null,
      "outputs": []
    },
    {
      "cell_type": "code",
      "metadata": {
        "id": "QYf9kH0uOXoC",
        "colab_type": "code",
        "colab": {
          "base_uri": "https://localhost:8080/",
          "height": 34
        },
        "outputId": "59f17aa9-2a6d-4ff1-d8be-938707e4cc34"
      },
      "source": [
        "mean_squared_error(y_test, y_pred, squared=False)"
      ],
      "execution_count": null,
      "outputs": [
        {
          "output_type": "execute_result",
          "data": {
            "text/plain": [
              "2749696142.4940658"
            ]
          },
          "metadata": {
            "tags": []
          },
          "execution_count": 26
        }
      ]
    },
    {
      "cell_type": "markdown",
      "metadata": {
        "id": "HqZKFsGiMtRz",
        "colab_type": "text"
      },
      "source": [
        "RMSE линейной регрессии очень высокая."
      ]
    },
    {
      "cell_type": "code",
      "metadata": {
        "colab_type": "code",
        "id": "ysAzet3Ptu-V",
        "colab": {}
      },
      "source": [
        "tree_reg = DecisionTreeRegressor()\n",
        "\n",
        "param_grid = {'criterion': ['mse', 'friedman_mse'],\n",
        "              'splitter': ['best', 'random'],\n",
        "              'max_depth': np.arange(1, 50),\n",
        "              'random_state': [42]}\n",
        "\n",
        "cv_tree_reg = GridSearchCV(tree_reg, param_grid,\n",
        "                           scoring='neg_root_mean_squared_error', n_jobs=-1,\n",
        "                           verbose=2)"
      ],
      "execution_count": null,
      "outputs": []
    },
    {
      "cell_type": "code",
      "metadata": {
        "colab_type": "code",
        "id": "VAfuSZI0tu-X",
        "colab": {
          "base_uri": "https://localhost:8080/",
          "height": 476
        },
        "outputId": "919d6184-a492-47b5-dc4e-97cb1fda1a80"
      },
      "source": [
        "cv_tree_reg.fit(X_train, y_train)"
      ],
      "execution_count": null,
      "outputs": [
        {
          "output_type": "stream",
          "text": [
            "Fitting 5 folds for each of 196 candidates, totalling 980 fits\n"
          ],
          "name": "stdout"
        },
        {
          "output_type": "stream",
          "text": [
            "[Parallel(n_jobs=-1)]: Using backend LokyBackend with 2 concurrent workers.\n",
            "[Parallel(n_jobs=-1)]: Done  54 tasks      | elapsed:    3.5s\n",
            "[Parallel(n_jobs=-1)]: Done 296 tasks      | elapsed:   40.6s\n",
            "[Parallel(n_jobs=-1)]: Done 544 tasks      | elapsed:  1.6min\n",
            "[Parallel(n_jobs=-1)]: Done 920 tasks      | elapsed:  2.9min\n",
            "[Parallel(n_jobs=-1)]: Done 980 out of 980 | elapsed:  3.2min finished\n"
          ],
          "name": "stderr"
        },
        {
          "output_type": "execute_result",
          "data": {
            "text/plain": [
              "GridSearchCV(cv=None, error_score=nan,\n",
              "             estimator=DecisionTreeRegressor(ccp_alpha=0.0, criterion='mse',\n",
              "                                             max_depth=None, max_features=None,\n",
              "                                             max_leaf_nodes=None,\n",
              "                                             min_impurity_decrease=0.0,\n",
              "                                             min_impurity_split=None,\n",
              "                                             min_samples_leaf=1,\n",
              "                                             min_samples_split=2,\n",
              "                                             min_weight_fraction_leaf=0.0,\n",
              "                                             presort='deprecated',\n",
              "                                             random_state=None,\n",
              "                                             splitter='best'),\n",
              "             iid='deprecated', n_jobs=-1,\n",
              "             param_grid={'criterion': ['mse', 'friedman_mse'],\n",
              "                         'max_depth': array([ 1,  2,  3,  4,  5,  6,  7,  8,  9, 10, 11, 12, 13, 14, 15, 16, 17,\n",
              "       18, 19, 20, 21, 22, 23, 24, 25, 26, 27, 28, 29, 30, 31, 32, 33, 34,\n",
              "       35, 36, 37, 38, 39, 40, 41, 42, 43, 44, 45, 46, 47, 48, 49]),\n",
              "                         'random_state': [42], 'splitter': ['best', 'random']},\n",
              "             pre_dispatch='2*n_jobs', refit=True, return_train_score=False,\n",
              "             scoring='neg_root_mean_squared_error', verbose=2)"
            ]
          },
          "metadata": {
            "tags": []
          },
          "execution_count": 31
        }
      ]
    },
    {
      "cell_type": "code",
      "metadata": {
        "colab_type": "code",
        "id": "OoAdhI2Xtu-a",
        "colab": {
          "base_uri": "https://localhost:8080/",
          "height": 34
        },
        "outputId": "5017e68f-85f7-4d02-a62c-dd9bd49442d5"
      },
      "source": [
        "cv_tree_reg.best_params_"
      ],
      "execution_count": null,
      "outputs": [
        {
          "output_type": "execute_result",
          "data": {
            "text/plain": [
              "{'criterion': 'mse', 'max_depth': 7, 'random_state': 42, 'splitter': 'random'}"
            ]
          },
          "metadata": {
            "tags": []
          },
          "execution_count": 32
        }
      ]
    },
    {
      "cell_type": "code",
      "metadata": {
        "colab_type": "code",
        "id": "f61DZcGYtu-d",
        "colab": {}
      },
      "source": [
        "tree_reg = DecisionTreeRegressor(splitter='random', max_depth=7,\n",
        "                                 random_state=42)"
      ],
      "execution_count": null,
      "outputs": []
    },
    {
      "cell_type": "code",
      "metadata": {
        "colab_type": "code",
        "id": "uWwhDpjRYGKA",
        "colab": {
          "base_uri": "https://localhost:8080/",
          "height": 119
        },
        "outputId": "59762a31-c58a-43e1-a452-b2ed68259dbc"
      },
      "source": [
        "tree_reg.fit(X_train, y_train)"
      ],
      "execution_count": null,
      "outputs": [
        {
          "output_type": "execute_result",
          "data": {
            "text/plain": [
              "DecisionTreeRegressor(ccp_alpha=0.0, criterion='mse', max_depth=7,\n",
              "                      max_features=None, max_leaf_nodes=None,\n",
              "                      min_impurity_decrease=0.0, min_impurity_split=None,\n",
              "                      min_samples_leaf=1, min_samples_split=2,\n",
              "                      min_weight_fraction_leaf=0.0, presort='deprecated',\n",
              "                      random_state=42, splitter='random')"
            ]
          },
          "metadata": {
            "tags": []
          },
          "execution_count": 34
        }
      ]
    },
    {
      "cell_type": "code",
      "metadata": {
        "colab_type": "code",
        "id": "D3ptzvwwYGKF",
        "colab": {}
      },
      "source": [
        "y_pred = tree_reg.predict(X_test)"
      ],
      "execution_count": null,
      "outputs": []
    },
    {
      "cell_type": "code",
      "metadata": {
        "colab_type": "code",
        "id": "K8xrWd0RYGKI",
        "colab": {
          "base_uri": "https://localhost:8080/",
          "height": 34
        },
        "outputId": "74275e82-7efe-4542-e9c3-02a5aa24e75c"
      },
      "source": [
        "mean_squared_error(y_test, y_pred, squared=False)"
      ],
      "execution_count": null,
      "outputs": [
        {
          "output_type": "execute_result",
          "data": {
            "text/plain": [
              "1.3022615221857625"
            ]
          },
          "metadata": {
            "tags": []
          },
          "execution_count": 36
        }
      ]
    },
    {
      "cell_type": "markdown",
      "metadata": {
        "id": "VNN8MGVqM7wM",
        "colab_type": "text"
      },
      "source": [
        "RMSE решающего дерева лучше, чем у наивной регрессии."
      ]
    },
    {
      "cell_type": "code",
      "metadata": {
        "colab_type": "code",
        "id": "3pWSpROPuvTu",
        "colab": {}
      },
      "source": [
        "forest_reg = RandomForestRegressor(n_jobs=-1)\n",
        "param_grid = {'n_estimators': [5, 10, 50, 100],\n",
        "              'criterion': ['mse', 'friedman_mse'],\n",
        "              'max_depth': np.arange(1, 50),\n",
        "              'random_state': [42]}\n",
        "\n",
        "cv_forest_reg = GridSearchCV(forest_reg, param_grid,\n",
        "                             scoring='neg_root_mean_squared_error', n_jobs=-1,\n",
        "                             verbose=2)"
      ],
      "execution_count": null,
      "outputs": []
    },
    {
      "cell_type": "code",
      "metadata": {
        "colab_type": "code",
        "id": "FASQRJA2uvTx",
        "colab": {
          "base_uri": "https://localhost:8080/",
          "height": 527
        },
        "outputId": "01239d3f-d4e5-49c1-dccd-8ed2f970884a"
      },
      "source": [
        "cv_forest_reg.fit(X_train, y_train)"
      ],
      "execution_count": null,
      "outputs": [
        {
          "output_type": "stream",
          "text": [
            "Fitting 5 folds for each of 392 candidates, totalling 1960 fits\n"
          ],
          "name": "stdout"
        },
        {
          "output_type": "stream",
          "text": [
            "[Parallel(n_jobs=-1)]: Using backend LokyBackend with 2 concurrent workers.\n",
            "[Parallel(n_jobs=-1)]: Done  37 tasks      | elapsed:   15.9s\n",
            "[Parallel(n_jobs=-1)]: Done 158 tasks      | elapsed:  3.3min\n",
            "[Parallel(n_jobs=-1)]: Done 361 tasks      | elapsed: 14.6min\n",
            "[Parallel(n_jobs=-1)]: Done 644 tasks      | elapsed: 41.6min\n",
            "[Parallel(n_jobs=-1)]: Done 1009 tasks      | elapsed: 90.1min\n",
            "[Parallel(n_jobs=-1)]: Done 1454 tasks      | elapsed: 113.5min\n",
            "[Parallel(n_jobs=-1)]: Done 1960 out of 1960 | elapsed: 183.4min finished\n"
          ],
          "name": "stderr"
        },
        {
          "output_type": "execute_result",
          "data": {
            "text/plain": [
              "GridSearchCV(cv=None, error_score=nan,\n",
              "             estimator=RandomForestRegressor(bootstrap=True, ccp_alpha=0.0,\n",
              "                                             criterion='mse', max_depth=None,\n",
              "                                             max_features='auto',\n",
              "                                             max_leaf_nodes=None,\n",
              "                                             max_samples=None,\n",
              "                                             min_impurity_decrease=0.0,\n",
              "                                             min_impurity_split=None,\n",
              "                                             min_samples_leaf=1,\n",
              "                                             min_samples_split=2,\n",
              "                                             min_weight_fraction_leaf=0.0,\n",
              "                                             n_estimators=100, n_jobs=-1,\n",
              "                                             oob_score=False, ran...\n",
              "             param_grid={'criterion': ['mse', 'friedman_mse'],\n",
              "                         'max_depth': array([ 1,  2,  3,  4,  5,  6,  7,  8,  9, 10, 11, 12, 13, 14, 15, 16, 17,\n",
              "       18, 19, 20, 21, 22, 23, 24, 25, 26, 27, 28, 29, 30, 31, 32, 33, 34,\n",
              "       35, 36, 37, 38, 39, 40, 41, 42, 43, 44, 45, 46, 47, 48, 49]),\n",
              "                         'n_estimators': [5, 10, 50, 100],\n",
              "                         'random_state': [42]},\n",
              "             pre_dispatch='2*n_jobs', refit=True, return_train_score=False,\n",
              "             scoring='neg_root_mean_squared_error', verbose=2)"
            ]
          },
          "metadata": {
            "tags": []
          },
          "execution_count": 38
        }
      ]
    },
    {
      "cell_type": "code",
      "metadata": {
        "colab_type": "code",
        "id": "4STvBdq7uvT0",
        "colab": {
          "base_uri": "https://localhost:8080/",
          "height": 85
        },
        "outputId": "9637e2e9-0503-41ed-b7bf-d673e3e9ae03"
      },
      "source": [
        "cv_forest_reg.best_params_"
      ],
      "execution_count": null,
      "outputs": [
        {
          "output_type": "execute_result",
          "data": {
            "text/plain": [
              "{'criterion': 'friedman_mse',\n",
              " 'max_depth': 12,\n",
              " 'n_estimators': 100,\n",
              " 'random_state': 42}"
            ]
          },
          "metadata": {
            "tags": []
          },
          "execution_count": 39
        }
      ]
    },
    {
      "cell_type": "code",
      "metadata": {
        "colab_type": "code",
        "id": "U2ua3yg2uvT4",
        "colab": {}
      },
      "source": [
        "forest_reg = RandomForestRegressor(criterion='friedman_mse', max_depth=12,\n",
        "                                   n_jobs=-1, random_state=42)"
      ],
      "execution_count": null,
      "outputs": []
    },
    {
      "cell_type": "code",
      "metadata": {
        "colab_type": "code",
        "id": "uT3XiaBXI6VL",
        "colab": {
          "base_uri": "https://localhost:8080/",
          "height": 136
        },
        "outputId": "93a72bd6-6268-4248-c48e-07fd19626fa1"
      },
      "source": [
        "forest_reg.fit(X_train, y_train)"
      ],
      "execution_count": null,
      "outputs": [
        {
          "output_type": "execute_result",
          "data": {
            "text/plain": [
              "RandomForestRegressor(bootstrap=True, ccp_alpha=0.0, criterion='friedman_mse',\n",
              "                      max_depth=12, max_features='auto', max_leaf_nodes=None,\n",
              "                      max_samples=None, min_impurity_decrease=0.0,\n",
              "                      min_impurity_split=None, min_samples_leaf=1,\n",
              "                      min_samples_split=2, min_weight_fraction_leaf=0.0,\n",
              "                      n_estimators=100, n_jobs=-1, oob_score=False,\n",
              "                      random_state=42, verbose=0, warm_start=False)"
            ]
          },
          "metadata": {
            "tags": []
          },
          "execution_count": 45
        }
      ]
    },
    {
      "cell_type": "code",
      "metadata": {
        "colab_type": "code",
        "id": "3vC7MfhYI6VQ",
        "colab": {}
      },
      "source": [
        "y_pred = forest_reg.predict(X_test)"
      ],
      "execution_count": null,
      "outputs": []
    },
    {
      "cell_type": "code",
      "metadata": {
        "colab_type": "code",
        "id": "iXvaVq3AI6VT",
        "colab": {
          "base_uri": "https://localhost:8080/",
          "height": 34
        },
        "outputId": "db56bcde-c013-416e-9b8f-5890e57ee3e8"
      },
      "source": [
        "mean_squared_error(y_test, y_pred, squared=False)"
      ],
      "execution_count": null,
      "outputs": [
        {
          "output_type": "execute_result",
          "data": {
            "text/plain": [
              "1.2887423021027884"
            ]
          },
          "metadata": {
            "tags": []
          },
          "execution_count": 47
        }
      ]
    },
    {
      "cell_type": "markdown",
      "metadata": {
        "id": "99kY8X8rNBiR",
        "colab_type": "text"
      },
      "source": [
        "RMSE случайного дерева лучше, чем у решающего дерева.\n",
        "Для ансамблевых методов будем использовать решающее дерево и случайный лес с подобранными параметрами. Попробуем VotingRegressor с разными весами."
      ]
    },
    {
      "cell_type": "code",
      "metadata": {
        "id": "26ULGH2tJHYq",
        "colab_type": "code",
        "colab": {}
      },
      "source": [
        "tree_reg = DecisionTreeRegressor(splitter='random', max_depth=7,\n",
        "                                 random_state=42)\n",
        "forest_reg = RandomForestRegressor(criterion='friedman_mse', max_depth=12,\n",
        "                                   n_jobs=-1, random_state=42)\n",
        "\n",
        "voting_reg = VotingRegressor(\n",
        "    [('tree', tree_reg), ('forest', forest_reg)], n_jobs=-1)"
      ],
      "execution_count": null,
      "outputs": []
    },
    {
      "cell_type": "code",
      "metadata": {
        "id": "Yc5Y6F4nO0j7",
        "colab_type": "code",
        "colab": {}
      },
      "source": [
        "param_grid = {'weights': list(product(range(1, 6), repeat=2))}\n",
        "\n",
        "cv_voting_reg = GridSearchCV(voting_reg, param_grid,\n",
        "                             scoring='neg_root_mean_squared_error', n_jobs=-1,\n",
        "                             verbose=2)"
      ],
      "execution_count": null,
      "outputs": []
    },
    {
      "cell_type": "code",
      "metadata": {
        "colab_type": "code",
        "id": "-ZuSrsTSPfnF",
        "colab": {
          "base_uri": "https://localhost:8080/",
          "height": 510
        },
        "outputId": "371504de-cdeb-4c07-ba13-c1a3f3bee78c"
      },
      "source": [
        "cv_voting_reg.fit(X_train, y_train)"
      ],
      "execution_count": null,
      "outputs": [
        {
          "output_type": "stream",
          "text": [
            "Fitting 5 folds for each of 25 candidates, totalling 125 fits\n"
          ],
          "name": "stdout"
        },
        {
          "output_type": "stream",
          "text": [
            "[Parallel(n_jobs=-1)]: Using backend LokyBackend with 2 concurrent workers.\n",
            "[Parallel(n_jobs=-1)]: Done  37 tasks      | elapsed:  4.7min\n",
            "[Parallel(n_jobs=-1)]: Done 125 out of 125 | elapsed: 15.7min finished\n"
          ],
          "name": "stderr"
        },
        {
          "output_type": "execute_result",
          "data": {
            "text/plain": [
              "GridSearchCV(cv=None, error_score=nan,\n",
              "             estimator=VotingRegressor(estimators=[('tree',\n",
              "                                                    DecisionTreeRegressor(ccp_alpha=0.0,\n",
              "                                                                          criterion='mse',\n",
              "                                                                          max_depth=7,\n",
              "                                                                          max_features=None,\n",
              "                                                                          max_leaf_nodes=None,\n",
              "                                                                          min_impurity_decrease=0.0,\n",
              "                                                                          min_impurity_split=None,\n",
              "                                                                          min_samples_leaf=1,\n",
              "                                                                          min_samples_split=2,\n",
              "                                                                          min_weight_fraction_leaf=0.0,\n",
              "                                                                          presort='deprecated',\n",
              "                                                                          random_state=42,\n",
              "                                                                          splitter='...\n",
              "                                                                          warm_start=False))],\n",
              "                                       n_jobs=-1, weights=None),\n",
              "             iid='deprecated', n_jobs=-1,\n",
              "             param_grid={'weights': [(1, 1), (1, 2), (1, 3), (1, 4), (1, 5),\n",
              "                                     (2, 1), (2, 2), (2, 3), (2, 4), (2, 5),\n",
              "                                     (3, 1), (3, 2), (3, 3), (3, 4), (3, 5),\n",
              "                                     (4, 1), (4, 2), (4, 3), (4, 4), (4, 5),\n",
              "                                     (5, 1), (5, 2), (5, 3), (5, 4), (5, 5)]},\n",
              "             pre_dispatch='2*n_jobs', refit=True, return_train_score=False,\n",
              "             scoring='neg_root_mean_squared_error', verbose=2)"
            ]
          },
          "metadata": {
            "tags": []
          },
          "execution_count": 50
        }
      ]
    },
    {
      "cell_type": "code",
      "metadata": {
        "colab_type": "code",
        "id": "oj9szyMhPfnK",
        "colab": {
          "base_uri": "https://localhost:8080/",
          "height": 34
        },
        "outputId": "f87a14e9-d786-4812-f6f6-1ea360db4018"
      },
      "source": [
        "cv_voting_reg.best_params_"
      ],
      "execution_count": null,
      "outputs": [
        {
          "output_type": "execute_result",
          "data": {
            "text/plain": [
              "{'weights': (1, 5)}"
            ]
          },
          "metadata": {
            "tags": []
          },
          "execution_count": 51
        }
      ]
    },
    {
      "cell_type": "markdown",
      "metadata": {
        "id": "dYfzfedcFbjt",
        "colab_type": "text"
      },
      "source": [
        "У решающего дерева наименьший вес, у случайного леса наибольший."
      ]
    },
    {
      "cell_type": "code",
      "metadata": {
        "id": "bX1Z0bGcamOd",
        "colab_type": "code",
        "colab": {}
      },
      "source": [
        "tree_reg = DecisionTreeRegressor(splitter='random', max_depth=7,\n",
        "                                 random_state=42)\n",
        "forest_reg = RandomForestRegressor(criterion='friedman_mse', max_depth=12,\n",
        "                                   n_jobs=-1, random_state=42)\n",
        "\n",
        "voting_reg = VotingRegressor(\n",
        "    [('tree', tree_reg), ('forest', forest_reg)], weights=(1, 5), n_jobs=-1)"
      ],
      "execution_count": null,
      "outputs": []
    },
    {
      "cell_type": "code",
      "metadata": {
        "id": "rk3w_tOba65P",
        "colab_type": "code",
        "colab": {
          "base_uri": "https://localhost:8080/",
          "height": 544
        },
        "outputId": "62e46999-e571-488e-8be8-205a56d4916e"
      },
      "source": [
        "voting_reg.fit(X_train, y_train)"
      ],
      "execution_count": null,
      "outputs": [
        {
          "output_type": "execute_result",
          "data": {
            "text/plain": [
              "VotingRegressor(estimators=[('tree',\n",
              "                             DecisionTreeRegressor(ccp_alpha=0.0,\n",
              "                                                   criterion='mse', max_depth=7,\n",
              "                                                   max_features=None,\n",
              "                                                   max_leaf_nodes=None,\n",
              "                                                   min_impurity_decrease=0.0,\n",
              "                                                   min_impurity_split=None,\n",
              "                                                   min_samples_leaf=1,\n",
              "                                                   min_samples_split=2,\n",
              "                                                   min_weight_fraction_leaf=0.0,\n",
              "                                                   presort='deprecated',\n",
              "                                                   random_state=42,\n",
              "                                                   splitter='random')),\n",
              "                            ('forest',\n",
              "                             RandomForestRegressor(bootstrap=True,\n",
              "                                                   ccp_alpha=0.0,\n",
              "                                                   criterion='friedman_mse',\n",
              "                                                   max_depth=12,\n",
              "                                                   max_features='auto',\n",
              "                                                   max_leaf_nodes=None,\n",
              "                                                   max_samples=None,\n",
              "                                                   min_impurity_decrease=0.0,\n",
              "                                                   min_impurity_split=None,\n",
              "                                                   min_samples_leaf=1,\n",
              "                                                   min_samples_split=2,\n",
              "                                                   min_weight_fraction_leaf=0.0,\n",
              "                                                   n_estimators=100, n_jobs=-1,\n",
              "                                                   oob_score=False,\n",
              "                                                   random_state=42, verbose=0,\n",
              "                                                   warm_start=False))],\n",
              "                n_jobs=-1, weights=(1, 5))"
            ]
          },
          "metadata": {
            "tags": []
          },
          "execution_count": 53
        }
      ]
    },
    {
      "cell_type": "code",
      "metadata": {
        "colab_type": "code",
        "id": "GyNtRK98bINL",
        "colab": {}
      },
      "source": [
        "y_pred = voting_reg.predict(X_test)"
      ],
      "execution_count": null,
      "outputs": []
    },
    {
      "cell_type": "code",
      "metadata": {
        "colab_type": "code",
        "id": "-ZJN-YXHbINP",
        "colab": {
          "base_uri": "https://localhost:8080/",
          "height": 34
        },
        "outputId": "79296d64-6d5a-48f1-8068-2a1b136e2f9f"
      },
      "source": [
        "mean_squared_error(y_test, y_pred, squared=False)"
      ],
      "execution_count": null,
      "outputs": [
        {
          "output_type": "execute_result",
          "data": {
            "text/plain": [
              "1.289498617733663"
            ]
          },
          "metadata": {
            "tags": []
          },
          "execution_count": 55
        }
      ]
    },
    {
      "cell_type": "markdown",
      "metadata": {
        "id": "KCslBFpzbR1E",
        "colab_type": "text"
      },
      "source": [
        "RMSE лучше, чем у одного решающего дерева, но хуже, чем у одного случайного леса. Попробуем вообще не использовать решающее дерево – возьмём BaggingRegressor на случайном лесе с разными значениями n_estimators."
      ]
    },
    {
      "cell_type": "code",
      "metadata": {
        "id": "cuCSR1kDbNiy",
        "colab_type": "code",
        "colab": {}
      },
      "source": [
        "bagging_reg = BaggingRegressor(\n",
        "    base_estimator=RandomForestRegressor(criterion='friedman_mse', max_depth=12,\n",
        "                                         random_state=42), n_jobs=-1)"
      ],
      "execution_count": null,
      "outputs": []
    },
    {
      "cell_type": "code",
      "metadata": {
        "colab_type": "code",
        "id": "UeCIRQn6cH8W",
        "colab": {}
      },
      "source": [
        "param_grid = {'n_estimators': [5, 10, 15],\n",
        "              'random_state': [42]}\n",
        "\n",
        "cv_bagging_reg = GridSearchCV(bagging_reg, param_grid,\n",
        "                             scoring='neg_root_mean_squared_error', n_jobs=-1,\n",
        "                             verbose=2)"
      ],
      "execution_count": null,
      "outputs": []
    },
    {
      "cell_type": "code",
      "metadata": {
        "colab_type": "code",
        "id": "EI7FZkx_cH8Z",
        "colab": {
          "base_uri": "https://localhost:8080/",
          "height": 476
        },
        "outputId": "315e4143-b8d2-4ae7-b8ff-5a62667cfbbc"
      },
      "source": [
        "cv_bagging_reg.fit(X_train, y_train)"
      ],
      "execution_count": null,
      "outputs": [
        {
          "output_type": "stream",
          "text": [
            "Fitting 5 folds for each of 3 candidates, totalling 15 fits\n"
          ],
          "name": "stdout"
        },
        {
          "output_type": "stream",
          "text": [
            "[Parallel(n_jobs=-1)]: Using backend LokyBackend with 2 concurrent workers.\n",
            "[Parallel(n_jobs=-1)]: Done  15 out of  15 | elapsed: 12.6min finished\n"
          ],
          "name": "stderr"
        },
        {
          "output_type": "execute_result",
          "data": {
            "text/plain": [
              "GridSearchCV(cv=None, error_score=nan,\n",
              "             estimator=BaggingRegressor(base_estimator=RandomForestRegressor(bootstrap=True,\n",
              "                                                                             ccp_alpha=0.0,\n",
              "                                                                             criterion='friedman_mse',\n",
              "                                                                             max_depth=12,\n",
              "                                                                             max_features='auto',\n",
              "                                                                             max_leaf_nodes=None,\n",
              "                                                                             max_samples=None,\n",
              "                                                                             min_impurity_decrease=0.0,\n",
              "                                                                             min_impurity_split=None,\n",
              "                                                                             min_samples_leaf=1,\n",
              "                                                                             min_samples_split=2,\n",
              "                                                                             min_weight_fraction_leaf=0.0,\n",
              "                                                                             n_estim...\n",
              "                                        bootstrap=True,\n",
              "                                        bootstrap_features=False,\n",
              "                                        max_features=1.0, max_samples=1.0,\n",
              "                                        n_estimators=10, n_jobs=-1,\n",
              "                                        oob_score=False, random_state=None,\n",
              "                                        verbose=0, warm_start=False),\n",
              "             iid='deprecated', n_jobs=-1,\n",
              "             param_grid={'n_estimators': [5, 10, 15], 'random_state': [42]},\n",
              "             pre_dispatch='2*n_jobs', refit=True, return_train_score=False,\n",
              "             scoring='neg_root_mean_squared_error', verbose=2)"
            ]
          },
          "metadata": {
            "tags": []
          },
          "execution_count": 66
        }
      ]
    },
    {
      "cell_type": "code",
      "metadata": {
        "colab_type": "code",
        "id": "YRsskv-YcH8c",
        "colab": {
          "base_uri": "https://localhost:8080/",
          "height": 34
        },
        "outputId": "f39166ba-afa6-4385-ff89-93b9556e2ef6"
      },
      "source": [
        "cv_bagging_reg.best_params_"
      ],
      "execution_count": null,
      "outputs": [
        {
          "output_type": "execute_result",
          "data": {
            "text/plain": [
              "{'n_estimators': 15, 'random_state': 42}"
            ]
          },
          "metadata": {
            "tags": []
          },
          "execution_count": 67
        }
      ]
    },
    {
      "cell_type": "code",
      "metadata": {
        "colab_type": "code",
        "id": "vISI81racH8g",
        "colab": {}
      },
      "source": [
        "bagging_reg = BaggingRegressor(\n",
        "    base_estimator=RandomForestRegressor(criterion='friedman_mse', max_depth=12,\n",
        "                                         random_state=42), n_estimators=15,\n",
        "                               n_jobs=-1)"
      ],
      "execution_count": null,
      "outputs": []
    },
    {
      "cell_type": "code",
      "metadata": {
        "colab_type": "code",
        "id": "Qj-qHqFGcH8j",
        "colab": {
          "base_uri": "https://localhost:8080/",
          "height": 374
        },
        "outputId": "594b47a5-2806-479c-9b93-b970893f3ba0"
      },
      "source": [
        "bagging_reg.fit(X_train, y_train)"
      ],
      "execution_count": null,
      "outputs": [
        {
          "output_type": "execute_result",
          "data": {
            "text/plain": [
              "BaggingRegressor(base_estimator=RandomForestRegressor(bootstrap=True,\n",
              "                                                      ccp_alpha=0.0,\n",
              "                                                      criterion='friedman_mse',\n",
              "                                                      max_depth=12,\n",
              "                                                      max_features='auto',\n",
              "                                                      max_leaf_nodes=None,\n",
              "                                                      max_samples=None,\n",
              "                                                      min_impurity_decrease=0.0,\n",
              "                                                      min_impurity_split=None,\n",
              "                                                      min_samples_leaf=1,\n",
              "                                                      min_samples_split=2,\n",
              "                                                      min_weight_fraction_leaf=0.0,\n",
              "                                                      n_estimators=100,\n",
              "                                                      n_jobs=None,\n",
              "                                                      oob_score=False,\n",
              "                                                      random_state=42,\n",
              "                                                      verbose=0,\n",
              "                                                      warm_start=False),\n",
              "                 bootstrap=True, bootstrap_features=False, max_features=1.0,\n",
              "                 max_samples=1.0, n_estimators=15, n_jobs=-1, oob_score=False,\n",
              "                 random_state=None, verbose=0, warm_start=False)"
            ]
          },
          "metadata": {
            "tags": []
          },
          "execution_count": 69
        }
      ]
    },
    {
      "cell_type": "code",
      "metadata": {
        "colab_type": "code",
        "id": "kDekoMwXcH8m",
        "colab": {}
      },
      "source": [
        "y_pred = bagging_reg.predict(X_test)"
      ],
      "execution_count": null,
      "outputs": []
    },
    {
      "cell_type": "code",
      "metadata": {
        "colab_type": "code",
        "id": "thaIXixzcH8o",
        "colab": {
          "base_uri": "https://localhost:8080/",
          "height": 34
        },
        "outputId": "8f1b3c01-796e-4c54-cfeb-5d6dcbacaa98"
      },
      "source": [
        "mean_squared_error(y_test, y_pred, squared=False)"
      ],
      "execution_count": null,
      "outputs": [
        {
          "output_type": "execute_result",
          "data": {
            "text/plain": [
              "1.2879127452545764"
            ]
          },
          "metadata": {
            "tags": []
          },
          "execution_count": 71
        }
      ]
    },
    {
      "cell_type": "markdown",
      "metadata": {
        "id": "8p58-U1RxFWe",
        "colab_type": "text"
      },
      "source": [
        "RMSE чуть-чуть лучше, чем у одного случайного леса. Попробуем StackingRegressor на решающем дереве и случайном лесе с разными значениями cv и passthrough."
      ]
    },
    {
      "cell_type": "code",
      "metadata": {
        "colab_type": "code",
        "id": "aMggj5CqyBbz",
        "colab": {}
      },
      "source": [
        "tree_reg = DecisionTreeRegressor(splitter='random', max_depth=7,\n",
        "                                 random_state=42)\n",
        "forest_reg = RandomForestRegressor(criterion='friedman_mse', max_depth=12,\n",
        "                                   n_jobs=-1, random_state=42)\n",
        "\n",
        "stacking_reg = StackingRegressor(\n",
        "    [('tree', tree_reg), ('forest', forest_reg)], n_jobs=-1)"
      ],
      "execution_count": null,
      "outputs": []
    },
    {
      "cell_type": "code",
      "metadata": {
        "colab_type": "code",
        "id": "KTkgH6L4yBb7",
        "colab": {}
      },
      "source": [
        "param_grid = {'cv': [2, 3, 4, 5, 6, 7, 8, 9, 10],\n",
        "              'passthrough': [True, False]}\n",
        "\n",
        "cv_stacking_reg = GridSearchCV(stacking_reg, param_grid,\n",
        "                             scoring='neg_root_mean_squared_error', n_jobs=-1,\n",
        "                             verbose=2)"
      ],
      "execution_count": null,
      "outputs": []
    },
    {
      "cell_type": "code",
      "metadata": {
        "colab_type": "code",
        "id": "rjJ6eb_1yBb-",
        "colab": {
          "base_uri": "https://localhost:8080/",
          "height": 561
        },
        "outputId": "09250781-9557-4fa8-f344-ad124c749cda"
      },
      "source": [
        "cv_stacking_reg.fit(X_train, y_train)"
      ],
      "execution_count": null,
      "outputs": [
        {
          "output_type": "stream",
          "text": [
            "Fitting 5 folds for each of 18 candidates, totalling 90 fits\n"
          ],
          "name": "stdout"
        },
        {
          "output_type": "stream",
          "text": [
            "[Parallel(n_jobs=-1)]: Using backend LokyBackend with 2 concurrent workers.\n",
            "[Parallel(n_jobs=-1)]: Done  37 tasks      | elapsed: 16.1min\n",
            "[Parallel(n_jobs=-1)]: Done  90 out of  90 | elapsed: 67.6min finished\n"
          ],
          "name": "stderr"
        },
        {
          "output_type": "execute_result",
          "data": {
            "text/plain": [
              "GridSearchCV(cv=None, error_score=nan,\n",
              "             estimator=StackingRegressor(cv=None,\n",
              "                                         estimators=[('tree',\n",
              "                                                      DecisionTreeRegressor(ccp_alpha=0.0,\n",
              "                                                                            criterion='mse',\n",
              "                                                                            max_depth=7,\n",
              "                                                                            max_features=None,\n",
              "                                                                            max_leaf_nodes=None,\n",
              "                                                                            min_impurity_decrease=0.0,\n",
              "                                                                            min_impurity_split=None,\n",
              "                                                                            min_samples_leaf=1,\n",
              "                                                                            min_samples_split=2,\n",
              "                                                                            min_weight_fraction_leaf=0.0,\n",
              "                                                                            presort='deprecated',\n",
              "                                                                            random_state=42,...\n",
              "                                                                            n_estimators=100,\n",
              "                                                                            n_jobs=-1,\n",
              "                                                                            oob_score=False,\n",
              "                                                                            random_state=42,\n",
              "                                                                            verbose=0,\n",
              "                                                                            warm_start=False))],\n",
              "                                         final_estimator=None, n_jobs=-1,\n",
              "                                         passthrough=False, verbose=0),\n",
              "             iid='deprecated', n_jobs=-1,\n",
              "             param_grid={'cv': [2, 3, 4, 5, 6, 7, 8, 9, 10],\n",
              "                         'passthrough': [True, False]},\n",
              "             pre_dispatch='2*n_jobs', refit=True, return_train_score=False,\n",
              "             scoring='neg_root_mean_squared_error', verbose=2)"
            ]
          },
          "metadata": {
            "tags": []
          },
          "execution_count": 74
        }
      ]
    },
    {
      "cell_type": "code",
      "metadata": {
        "colab_type": "code",
        "id": "IY0r_6iJyBcB",
        "colab": {
          "base_uri": "https://localhost:8080/",
          "height": 34
        },
        "outputId": "f34baf20-a798-4c58-a6bd-04e9c6e69b16"
      },
      "source": [
        "cv_stacking_reg.best_params_"
      ],
      "execution_count": null,
      "outputs": [
        {
          "output_type": "execute_result",
          "data": {
            "text/plain": [
              "{'cv': 3, 'passthrough': True}"
            ]
          },
          "metadata": {
            "tags": []
          },
          "execution_count": 75
        }
      ]
    },
    {
      "cell_type": "code",
      "metadata": {
        "colab_type": "code",
        "id": "KzAreJTcyBcE",
        "colab": {}
      },
      "source": [
        "tree_reg = DecisionTreeRegressor(splitter='random', max_depth=7,\n",
        "                                 random_state=42)\n",
        "forest_reg = RandomForestRegressor(criterion='friedman_mse', max_depth=12,\n",
        "                                   n_jobs=-1, random_state=42)\n",
        "\n",
        "stacking_reg = StackingRegressor(\n",
        "    [('tree', tree_reg), ('forest', forest_reg)], cv=3, n_jobs=-1,\n",
        "    passthrough=True)"
      ],
      "execution_count": null,
      "outputs": []
    },
    {
      "cell_type": "code",
      "metadata": {
        "colab_type": "code",
        "id": "ByrAUWxZyBcG",
        "colab": {
          "base_uri": "https://localhost:8080/",
          "height": 561
        },
        "outputId": "0950b8f4-f269-45f1-d025-fc730b3f9585"
      },
      "source": [
        "stacking_reg.fit(X_train, y_train)"
      ],
      "execution_count": null,
      "outputs": [
        {
          "output_type": "execute_result",
          "data": {
            "text/plain": [
              "StackingRegressor(cv=3,\n",
              "                  estimators=[('tree',\n",
              "                               DecisionTreeRegressor(ccp_alpha=0.0,\n",
              "                                                     criterion='mse',\n",
              "                                                     max_depth=7,\n",
              "                                                     max_features=None,\n",
              "                                                     max_leaf_nodes=None,\n",
              "                                                     min_impurity_decrease=0.0,\n",
              "                                                     min_impurity_split=None,\n",
              "                                                     min_samples_leaf=1,\n",
              "                                                     min_samples_split=2,\n",
              "                                                     min_weight_fraction_leaf=0.0,\n",
              "                                                     presort='deprecated',\n",
              "                                                     random_state=42,\n",
              "                                                     splitter='random')),\n",
              "                              ('forest',\n",
              "                               RandomForestRegresso...\n",
              "                                                     criterion='friedman_mse',\n",
              "                                                     max_depth=12,\n",
              "                                                     max_features='auto',\n",
              "                                                     max_leaf_nodes=None,\n",
              "                                                     max_samples=None,\n",
              "                                                     min_impurity_decrease=0.0,\n",
              "                                                     min_impurity_split=None,\n",
              "                                                     min_samples_leaf=1,\n",
              "                                                     min_samples_split=2,\n",
              "                                                     min_weight_fraction_leaf=0.0,\n",
              "                                                     n_estimators=100,\n",
              "                                                     n_jobs=-1, oob_score=False,\n",
              "                                                     random_state=42, verbose=0,\n",
              "                                                     warm_start=False))],\n",
              "                  final_estimator=None, n_jobs=-1, passthrough=True, verbose=0)"
            ]
          },
          "metadata": {
            "tags": []
          },
          "execution_count": 77
        }
      ]
    },
    {
      "cell_type": "code",
      "metadata": {
        "colab_type": "code",
        "id": "rEREcGRnyBcJ",
        "colab": {}
      },
      "source": [
        "y_pred = stacking_reg.predict(X_test)"
      ],
      "execution_count": null,
      "outputs": []
    },
    {
      "cell_type": "code",
      "metadata": {
        "colab_type": "code",
        "id": "J7RU1vUqyBcM",
        "colab": {
          "base_uri": "https://localhost:8080/",
          "height": 34
        },
        "outputId": "5bc5f2b0-1906-4d68-83f9-2fcafc571505"
      },
      "source": [
        "mean_squared_error(y_test, y_pred, squared=False)"
      ],
      "execution_count": null,
      "outputs": [
        {
          "output_type": "execute_result",
          "data": {
            "text/plain": [
              "1.2745584197651227"
            ]
          },
          "metadata": {
            "tags": []
          },
          "execution_count": 79
        }
      ]
    },
    {
      "cell_type": "markdown",
      "metadata": {
        "id": "LHiXWN9adxyy",
        "colab_type": "text"
      },
      "source": [
        "StackingRegressor с подобранными параметрами даёт самую низкую RMSE на тестовой выборке!\n",
        "#6-class classification"
      ]
    },
    {
      "cell_type": "code",
      "metadata": {
        "id": "poqX15uodusC",
        "colab_type": "code",
        "colab": {}
      },
      "source": [
        "y_train, y_test = np.rint(y_train).astype(int), np.rint(y_test).astype(int)"
      ],
      "execution_count": null,
      "outputs": []
    },
    {
      "cell_type": "markdown",
      "metadata": {
        "id": "RsVS4Aq1jE8U",
        "colab_type": "text"
      },
      "source": [
        "Посчитаем accuracy наивного классификатора."
      ]
    },
    {
      "cell_type": "code",
      "metadata": {
        "id": "Fr1QGqfaibeW",
        "colab_type": "code",
        "colab": {}
      },
      "source": [
        "y_pred_naive = np.full(y_test.shape, np.bincount(y_train).argmax())"
      ],
      "execution_count": null,
      "outputs": []
    },
    {
      "cell_type": "code",
      "metadata": {
        "id": "1xlvyXL0jVoA",
        "colab_type": "code",
        "colab": {
          "base_uri": "https://localhost:8080/",
          "height": 34
        },
        "outputId": "edb4734b-2b66-4ae9-c175-ae8ccef59089"
      },
      "source": [
        "y_pred_naive"
      ],
      "execution_count": null,
      "outputs": [
        {
          "output_type": "execute_result",
          "data": {
            "text/plain": [
              "array([4, 4, 4, ..., 4, 4, 4])"
            ]
          },
          "metadata": {
            "tags": []
          },
          "execution_count": 82
        }
      ]
    },
    {
      "cell_type": "code",
      "metadata": {
        "id": "4rbNBboBjXDJ",
        "colab_type": "code",
        "colab": {
          "base_uri": "https://localhost:8080/",
          "height": 34
        },
        "outputId": "c2c90e25-284e-4398-c396-90663e9096f0"
      },
      "source": [
        "accuracy_score(y_test, y_pred_naive)"
      ],
      "execution_count": null,
      "outputs": [
        {
          "output_type": "execute_result",
          "data": {
            "text/plain": [
              "0.661280670257331"
            ]
          },
          "metadata": {
            "tags": []
          },
          "execution_count": 83
        }
      ]
    },
    {
      "cell_type": "code",
      "metadata": {
        "id": "WG6bZmSmjgl3",
        "colab_type": "code",
        "colab": {}
      },
      "source": [
        "logreg_clf = LogisticRegression()\n",
        "\n",
        "param_grid = {'penalty': ['l2', 'none'],\n",
        "              'C': [0.01, 0.1, 1, 1.5, 5, 10],\n",
        "              'fit_intercept': [True, False],\n",
        "              'class_weight': ['balanced', None],\n",
        "              'random_state': [42],\n",
        "              'solver': ['newton-sg', 'lbfgs', 'sag', 'saga']}\n",
        "\n",
        "cv_logreg_clf = GridSearchCV(logreg_clf, param_grid, scoring='accuracy',\n",
        "                             n_jobs=-1, verbose=2)"
      ],
      "execution_count": null,
      "outputs": []
    },
    {
      "cell_type": "code",
      "metadata": {
        "id": "6GHcT6VDmjer",
        "colab_type": "code",
        "colab": {
          "base_uri": "https://localhost:8080/",
          "height": 425
        },
        "outputId": "b9119e2d-d6d9-4da1-eff5-634a09e9b1eb"
      },
      "source": [
        "cv_logreg_clf.fit(X_train, y_train)"
      ],
      "execution_count": null,
      "outputs": [
        {
          "output_type": "stream",
          "text": [
            "Fitting 5 folds for each of 192 candidates, totalling 960 fits\n"
          ],
          "name": "stdout"
        },
        {
          "output_type": "stream",
          "text": [
            "[Parallel(n_jobs=-1)]: Using backend LokyBackend with 2 concurrent workers.\n",
            "[Parallel(n_jobs=-1)]: Done  45 tasks      | elapsed:  1.7min\n",
            "[Parallel(n_jobs=-1)]: Done 166 tasks      | elapsed:  6.6min\n",
            "[Parallel(n_jobs=-1)]: Done 369 tasks      | elapsed: 18.0min\n",
            "[Parallel(n_jobs=-1)]: Done 652 tasks      | elapsed: 34.4min\n",
            "[Parallel(n_jobs=-1)]: Done 960 out of 960 | elapsed: 55.0min finished\n"
          ],
          "name": "stderr"
        },
        {
          "output_type": "execute_result",
          "data": {
            "text/plain": [
              "GridSearchCV(cv=None, error_score=nan,\n",
              "             estimator=LogisticRegression(C=1.0, class_weight=None, dual=False,\n",
              "                                          fit_intercept=True,\n",
              "                                          intercept_scaling=1, l1_ratio=None,\n",
              "                                          max_iter=100, multi_class='auto',\n",
              "                                          n_jobs=None, penalty='l2',\n",
              "                                          random_state=None, solver='lbfgs',\n",
              "                                          tol=0.0001, verbose=0,\n",
              "                                          warm_start=False),\n",
              "             iid='deprecated', n_jobs=-1,\n",
              "             param_grid={'C': [0.01, 0.1, 1, 1.5, 5, 10],\n",
              "                         'class_weight': ['balanced', None],\n",
              "                         'fit_intercept': [True, False],\n",
              "                         'penalty': ['l2', 'none'], 'random_state': [42],\n",
              "                         'solver': ['newton-sg', 'lbfgs', 'sag', 'saga']},\n",
              "             pre_dispatch='2*n_jobs', refit=True, return_train_score=False,\n",
              "             scoring='accuracy', verbose=2)"
            ]
          },
          "metadata": {
            "tags": []
          },
          "execution_count": 85
        }
      ]
    },
    {
      "cell_type": "code",
      "metadata": {
        "id": "Vh2DmlBImu32",
        "colab_type": "code",
        "colab": {
          "base_uri": "https://localhost:8080/",
          "height": 119
        },
        "outputId": "a41438ce-468b-478c-f30d-5bb8d7678eaa"
      },
      "source": [
        "cv_logreg_clf.best_params_"
      ],
      "execution_count": null,
      "outputs": [
        {
          "output_type": "execute_result",
          "data": {
            "text/plain": [
              "{'C': 0.1,\n",
              " 'class_weight': None,\n",
              " 'fit_intercept': True,\n",
              " 'penalty': 'l2',\n",
              " 'random_state': 42,\n",
              " 'solver': 'lbfgs'}"
            ]
          },
          "metadata": {
            "tags": []
          },
          "execution_count": 86
        }
      ]
    },
    {
      "cell_type": "code",
      "metadata": {
        "id": "n51CY-iBNcFB",
        "colab_type": "code",
        "colab": {}
      },
      "source": [
        "logreg_clf = LogisticRegression(C=0.1, random_state=42, n_jobs=-1)"
      ],
      "execution_count": null,
      "outputs": []
    },
    {
      "cell_type": "code",
      "metadata": {
        "id": "SHMxhUtFNrxS",
        "colab_type": "code",
        "colab": {
          "base_uri": "https://localhost:8080/",
          "height": 85
        },
        "outputId": "85400a03-c952-4a70-ccc1-55885ab75b07"
      },
      "source": [
        "logreg_clf.fit(X_train, y_train)"
      ],
      "execution_count": null,
      "outputs": [
        {
          "output_type": "execute_result",
          "data": {
            "text/plain": [
              "LogisticRegression(C=0.1, class_weight=None, dual=False, fit_intercept=True,\n",
              "                   intercept_scaling=1, l1_ratio=None, max_iter=100,\n",
              "                   multi_class='auto', n_jobs=-1, penalty='l2', random_state=42,\n",
              "                   solver='lbfgs', tol=0.0001, verbose=0, warm_start=False)"
            ]
          },
          "metadata": {
            "tags": []
          },
          "execution_count": 88
        }
      ]
    },
    {
      "cell_type": "code",
      "metadata": {
        "id": "qDAueHktN04_",
        "colab_type": "code",
        "colab": {}
      },
      "source": [
        "y_pred = logreg_clf.predict(X_test)"
      ],
      "execution_count": null,
      "outputs": []
    },
    {
      "cell_type": "code",
      "metadata": {
        "id": "hYLLJs9TN-68",
        "colab_type": "code",
        "colab": {
          "base_uri": "https://localhost:8080/",
          "height": 34
        },
        "outputId": "e8b03d0a-3ef3-4d3c-873b-0746b717e8fa"
      },
      "source": [
        "accuracy_score(y_test, y_pred)"
      ],
      "execution_count": null,
      "outputs": [
        {
          "output_type": "execute_result",
          "data": {
            "text/plain": [
              "0.6668661480151605"
            ]
          },
          "metadata": {
            "tags": []
          },
          "execution_count": 90
        }
      ]
    },
    {
      "cell_type": "markdown",
      "metadata": {
        "id": "Ai7wYi7qOIWr",
        "colab_type": "text"
      },
      "source": [
        "Accuracy логистической регрессии чуть-чуть лучше наивного классификатора. <br>\n",
        "SVM не подходит для больших датасетов, поэтому её здесь использовать не будем."
      ]
    },
    {
      "cell_type": "code",
      "metadata": {
        "id": "_X0bSBDr-DPX",
        "colab_type": "code",
        "colab": {}
      },
      "source": [
        "tree_clf = DecisionTreeClassifier()\n",
        "\n",
        "param_grid = {'criterion': ['gini','entropy'],\n",
        "              'splitter': ['best', 'random'],\n",
        "              'max_depth': np.arange(1, 50),\n",
        "              'class_weight': ['balanced', None],\n",
        "              'random_state': [42]}\n",
        "\n",
        "cv_tree_clf = GridSearchCV(tree_clf, param_grid, scoring='accuracy', n_jobs=-1,\n",
        "                           verbose=2)"
      ],
      "execution_count": null,
      "outputs": []
    },
    {
      "cell_type": "code",
      "metadata": {
        "id": "h9PxOa2W-K6j",
        "colab_type": "code",
        "colab": {
          "base_uri": "https://localhost:8080/",
          "height": 544
        },
        "outputId": "d604146c-d1d1-4627-984c-555c4d8acb76"
      },
      "source": [
        "cv_tree_clf.fit(X_train, y_train)"
      ],
      "execution_count": null,
      "outputs": [
        {
          "output_type": "stream",
          "text": [
            "Fitting 5 folds for each of 392 candidates, totalling 1960 fits\n"
          ],
          "name": "stdout"
        },
        {
          "output_type": "stream",
          "text": [
            "[Parallel(n_jobs=-1)]: Using backend LokyBackend with 2 concurrent workers.\n",
            "[Parallel(n_jobs=-1)]: Done  52 tasks      | elapsed:    3.9s\n",
            "[Parallel(n_jobs=-1)]: Done 294 tasks      | elapsed:   44.4s\n",
            "[Parallel(n_jobs=-1)]: Done 503 tasks      | elapsed:  1.8min\n",
            "[Parallel(n_jobs=-1)]: Done 928 tasks      | elapsed:  3.2min\n",
            "[Parallel(n_jobs=-1)]: Done 1399 tasks      | elapsed:  4.8min\n",
            "[Parallel(n_jobs=-1)]: Done 1944 tasks      | elapsed:  6.9min\n",
            "[Parallel(n_jobs=-1)]: Done 1960 out of 1960 | elapsed:  7.0min finished\n"
          ],
          "name": "stderr"
        },
        {
          "output_type": "execute_result",
          "data": {
            "text/plain": [
              "GridSearchCV(cv=None, error_score=nan,\n",
              "             estimator=DecisionTreeClassifier(ccp_alpha=0.0, class_weight=None,\n",
              "                                              criterion='gini', max_depth=None,\n",
              "                                              max_features=None,\n",
              "                                              max_leaf_nodes=None,\n",
              "                                              min_impurity_decrease=0.0,\n",
              "                                              min_impurity_split=None,\n",
              "                                              min_samples_leaf=1,\n",
              "                                              min_samples_split=2,\n",
              "                                              min_weight_fraction_leaf=0.0,\n",
              "                                              presort='deprecated',\n",
              "                                              random_state=None,\n",
              "                                              splitter='best'),\n",
              "             iid=...\n",
              "             param_grid={'class_weight': ['balanced', None],\n",
              "                         'criterion': ['gini', 'entropy'],\n",
              "                         'max_depth': array([ 1,  2,  3,  4,  5,  6,  7,  8,  9, 10, 11, 12, 13, 14, 15, 16, 17,\n",
              "       18, 19, 20, 21, 22, 23, 24, 25, 26, 27, 28, 29, 30, 31, 32, 33, 34,\n",
              "       35, 36, 37, 38, 39, 40, 41, 42, 43, 44, 45, 46, 47, 48, 49]),\n",
              "                         'random_state': [42], 'splitter': ['best', 'random']},\n",
              "             pre_dispatch='2*n_jobs', refit=True, return_train_score=False,\n",
              "             scoring='accuracy', verbose=2)"
            ]
          },
          "metadata": {
            "tags": []
          },
          "execution_count": 20
        }
      ]
    },
    {
      "cell_type": "code",
      "metadata": {
        "id": "CrzE19m3_RXZ",
        "colab_type": "code",
        "colab": {
          "base_uri": "https://localhost:8080/",
          "height": 102
        },
        "outputId": "44584c68-9b3d-4af7-cc6a-4da0b69efd19"
      },
      "source": [
        "cv_tree_clf.best_params_"
      ],
      "execution_count": null,
      "outputs": [
        {
          "output_type": "execute_result",
          "data": {
            "text/plain": [
              "{'class_weight': None,\n",
              " 'criterion': 'gini',\n",
              " 'max_depth': 8,\n",
              " 'random_state': 42,\n",
              " 'splitter': 'best'}"
            ]
          },
          "metadata": {
            "tags": []
          },
          "execution_count": 21
        }
      ]
    },
    {
      "cell_type": "code",
      "metadata": {
        "id": "bHxob03mBv2K",
        "colab_type": "code",
        "colab": {}
      },
      "source": [
        "tree_clf = DecisionTreeClassifier(max_depth=8, random_state=42)"
      ],
      "execution_count": null,
      "outputs": []
    },
    {
      "cell_type": "code",
      "metadata": {
        "id": "6OtbXJ3XB_IC",
        "colab_type": "code",
        "colab": {
          "base_uri": "https://localhost:8080/",
          "height": 119
        },
        "outputId": "033cbca6-2524-46b1-c120-b733bd284587"
      },
      "source": [
        "tree_clf.fit(X_train, y_train)"
      ],
      "execution_count": null,
      "outputs": [
        {
          "output_type": "execute_result",
          "data": {
            "text/plain": [
              "DecisionTreeClassifier(ccp_alpha=0.0, class_weight=None, criterion='gini',\n",
              "                       max_depth=8, max_features=None, max_leaf_nodes=None,\n",
              "                       min_impurity_decrease=0.0, min_impurity_split=None,\n",
              "                       min_samples_leaf=1, min_samples_split=2,\n",
              "                       min_weight_fraction_leaf=0.0, presort='deprecated',\n",
              "                       random_state=42, splitter='best')"
            ]
          },
          "metadata": {
            "tags": []
          },
          "execution_count": 23
        }
      ]
    },
    {
      "cell_type": "code",
      "metadata": {
        "id": "enRbXsdPCEsH",
        "colab_type": "code",
        "colab": {}
      },
      "source": [
        "y_pred = tree_clf.predict(X_test)"
      ],
      "execution_count": null,
      "outputs": []
    },
    {
      "cell_type": "code",
      "metadata": {
        "id": "UGRFY2v2CMMD",
        "colab_type": "code",
        "colab": {
          "base_uri": "https://localhost:8080/",
          "height": 34
        },
        "outputId": "096f69df-2969-4988-e012-f480c35f2347"
      },
      "source": [
        "accuracy_score(y_test, y_pred)"
      ],
      "execution_count": null,
      "outputs": [
        {
          "output_type": "execute_result",
          "data": {
            "text/plain": [
              "0.6648713345302214"
            ]
          },
          "metadata": {
            "tags": []
          },
          "execution_count": 25
        }
      ]
    },
    {
      "cell_type": "markdown",
      "metadata": {
        "id": "bSP9U6NKCSsT",
        "colab_type": "text"
      },
      "source": [
        "Решающее дерево хуже логистической регрессии и даже хуже наивного классификатора."
      ]
    },
    {
      "cell_type": "code",
      "metadata": {
        "id": "29d66xP1CP9c",
        "colab_type": "code",
        "colab": {}
      },
      "source": [
        "forest_clf = RandomForestClassifier(n_jobs=-1)\n",
        "\n",
        "param_grid = {'n_estimators': [5, 10, 50, 100],\n",
        "              'criterion': ['gini','entropy'],\n",
        "              'max_depth': np.arange(1, 50),\n",
        "              'random_state': [42]}\n",
        "\n",
        "cv_forest_clf = GridSearchCV(forest_clf, param_grid, scoring='accuracy',\n",
        "                             n_jobs=-1, verbose=2)"
      ],
      "execution_count": null,
      "outputs": []
    },
    {
      "cell_type": "code",
      "metadata": {
        "id": "SZhS4AxvC5JN",
        "colab_type": "code",
        "colab": {
          "base_uri": "https://localhost:8080/",
          "height": 544
        },
        "outputId": "dd5c7845-f212-4857-aa88-19f66c97117e"
      },
      "source": [
        "cv_forest_clf.fit(X_train, y_train)"
      ],
      "execution_count": null,
      "outputs": [
        {
          "output_type": "stream",
          "text": [
            "Fitting 5 folds for each of 392 candidates, totalling 1960 fits\n"
          ],
          "name": "stdout"
        },
        {
          "output_type": "stream",
          "text": [
            "[Parallel(n_jobs=-1)]: Using backend LokyBackend with 2 concurrent workers.\n",
            "[Parallel(n_jobs=-1)]: Done  37 tasks      | elapsed:    6.5s\n",
            "[Parallel(n_jobs=-1)]: Done 158 tasks      | elapsed:   37.4s\n",
            "[Parallel(n_jobs=-1)]: Done 361 tasks      | elapsed:  2.1min\n",
            "[Parallel(n_jobs=-1)]: Done 644 tasks      | elapsed:  5.4min\n",
            "[Parallel(n_jobs=-1)]: Done 1009 tasks      | elapsed: 11.2min\n",
            "[Parallel(n_jobs=-1)]: Done 1454 tasks      | elapsed: 14.4min\n",
            "[Parallel(n_jobs=-1)]: Done 1960 out of 1960 | elapsed: 23.0min finished\n"
          ],
          "name": "stderr"
        },
        {
          "output_type": "execute_result",
          "data": {
            "text/plain": [
              "GridSearchCV(cv=None, error_score=nan,\n",
              "             estimator=RandomForestClassifier(bootstrap=True, ccp_alpha=0.0,\n",
              "                                              class_weight=None,\n",
              "                                              criterion='gini', max_depth=None,\n",
              "                                              max_features='auto',\n",
              "                                              max_leaf_nodes=None,\n",
              "                                              max_samples=None,\n",
              "                                              min_impurity_decrease=0.0,\n",
              "                                              min_impurity_split=None,\n",
              "                                              min_samples_leaf=1,\n",
              "                                              min_samples_split=2,\n",
              "                                              min_weight_fraction_leaf=0.0,\n",
              "                                              n_estimators=100, n_jobs=-1...\n",
              "             iid='deprecated', n_jobs=-1,\n",
              "             param_grid={'criterion': ['gini', 'entropy'],\n",
              "                         'max_depth': array([ 1,  2,  3,  4,  5,  6,  7,  8,  9, 10, 11, 12, 13, 14, 15, 16, 17,\n",
              "       18, 19, 20, 21, 22, 23, 24, 25, 26, 27, 28, 29, 30, 31, 32, 33, 34,\n",
              "       35, 36, 37, 38, 39, 40, 41, 42, 43, 44, 45, 46, 47, 48, 49]),\n",
              "                         'n_estimators': [5, 10, 50, 100],\n",
              "                         'random_state': [42]},\n",
              "             pre_dispatch='2*n_jobs', refit=True, return_train_score=False,\n",
              "             scoring='accuracy', verbose=2)"
            ]
          },
          "metadata": {
            "tags": []
          },
          "execution_count": 27
        }
      ]
    },
    {
      "cell_type": "markdown",
      "metadata": {
        "id": "4le8msZIHxrL",
        "colab_type": "text"
      },
      "source": [
        "Алгоритмы классификации обучаются значительно быстрее регрессии."
      ]
    },
    {
      "cell_type": "code",
      "metadata": {
        "colab_type": "code",
        "id": "grv_QfIvJltx",
        "colab": {
          "base_uri": "https://localhost:8080/",
          "height": 34
        },
        "outputId": "4d4bbcb9-d5a6-4cd0-f1d6-72035bb9653e"
      },
      "source": [
        "cv_forest_clf.best_params_"
      ],
      "execution_count": null,
      "outputs": [
        {
          "output_type": "execute_result",
          "data": {
            "text/plain": [
              "{'criterion': 'gini', 'max_depth': 44, 'n_estimators': 100, 'random_state': 42}"
            ]
          },
          "metadata": {
            "tags": []
          },
          "execution_count": 28
        }
      ]
    },
    {
      "cell_type": "code",
      "metadata": {
        "colab_type": "code",
        "id": "6croRzG2Jlt3",
        "colab": {}
      },
      "source": [
        "forest_clf = RandomForestClassifier(max_depth=44, n_jobs=-1, random_state=42)"
      ],
      "execution_count": null,
      "outputs": []
    },
    {
      "cell_type": "code",
      "metadata": {
        "colab_type": "code",
        "id": "o0HBZ_PkJlt6",
        "colab": {
          "base_uri": "https://localhost:8080/",
          "height": 153
        },
        "outputId": "6a8c4561-b54f-4416-c1fa-7643a7fec22a"
      },
      "source": [
        "forest_clf.fit(X_train, y_train)"
      ],
      "execution_count": null,
      "outputs": [
        {
          "output_type": "execute_result",
          "data": {
            "text/plain": [
              "RandomForestClassifier(bootstrap=True, ccp_alpha=0.0, class_weight=None,\n",
              "                       criterion='gini', max_depth=44, max_features='auto',\n",
              "                       max_leaf_nodes=None, max_samples=None,\n",
              "                       min_impurity_decrease=0.0, min_impurity_split=None,\n",
              "                       min_samples_leaf=1, min_samples_split=2,\n",
              "                       min_weight_fraction_leaf=0.0, n_estimators=100,\n",
              "                       n_jobs=-1, oob_score=False, random_state=42, verbose=0,\n",
              "                       warm_start=False)"
            ]
          },
          "metadata": {
            "tags": []
          },
          "execution_count": 31
        }
      ]
    },
    {
      "cell_type": "code",
      "metadata": {
        "colab_type": "code",
        "id": "JJejmnQkJlt-",
        "colab": {}
      },
      "source": [
        "y_pred = forest_clf.predict(X_test)"
      ],
      "execution_count": null,
      "outputs": []
    },
    {
      "cell_type": "code",
      "metadata": {
        "colab_type": "code",
        "id": "G6bDQU_VJluB",
        "colab": {
          "base_uri": "https://localhost:8080/",
          "height": 34
        },
        "outputId": "1ad00b16-b14f-4a52-df18-c05e1a731c5b"
      },
      "source": [
        "accuracy_score(y_test, y_pred)"
      ],
      "execution_count": null,
      "outputs": [
        {
          "output_type": "execute_result",
          "data": {
            "text/plain": [
              "0.6714542190305206"
            ]
          },
          "metadata": {
            "tags": []
          },
          "execution_count": 33
        }
      ]
    },
    {
      "cell_type": "markdown",
      "metadata": {
        "id": "N_eUW6ztKEm-",
        "colab_type": "text"
      },
      "source": [
        "Уже значительно лучше!<br>\n",
        "Для ансамблевых методов будем использовать все три классификатора."
      ]
    },
    {
      "cell_type": "code",
      "metadata": {
        "id": "sY08WKUH609u",
        "colab_type": "code",
        "colab": {}
      },
      "source": [
        "logreg_clf = LogisticRegression(C=0.1, random_state=42, n_jobs=-1)\n",
        "tree_clf = DecisionTreeClassifier(max_depth=8, random_state=42)\n",
        "forest_clf = RandomForestClassifier(max_depth=44, n_jobs=-1, random_state=42)\n",
        "\n",
        "voting_clf = VotingClassifier([('logreg', logreg_clf),\n",
        "                               ('tree', tree_clf),\n",
        "                               ('forest', forest_clf)], n_jobs=-1)"
      ],
      "execution_count": null,
      "outputs": []
    },
    {
      "cell_type": "code",
      "metadata": {
        "id": "kLrQ7eLXKBWw",
        "colab_type": "code",
        "colab": {}
      },
      "source": [
        "param_grid = {'voting': ['hard', 'soft'],\n",
        "              'weights': list(product(range(1, 6), repeat=3))}\n",
        "\n",
        "cv_voting_clf = GridSearchCV(voting_clf, param_grid, scoring='accuracy',\n",
        "                             n_jobs=-1, verbose=2)"
      ],
      "execution_count": null,
      "outputs": []
    },
    {
      "cell_type": "code",
      "metadata": {
        "id": "2iyLuhl57xCX",
        "colab_type": "code",
        "colab": {
          "base_uri": "https://localhost:8080/",
          "height": 663
        },
        "outputId": "dfef24dc-ed58-45e9-e4c7-32ed87baa58d"
      },
      "source": [
        "cv_voting_clf.fit(X_train, y_train)"
      ],
      "execution_count": null,
      "outputs": [
        {
          "output_type": "stream",
          "text": [
            "Fitting 5 folds for each of 250 candidates, totalling 1250 fits\n"
          ],
          "name": "stdout"
        },
        {
          "output_type": "stream",
          "text": [
            "[Parallel(n_jobs=-1)]: Using backend LokyBackend with 2 concurrent workers.\n",
            "[Parallel(n_jobs=-1)]: Done  37 tasks      | elapsed:  2.3min\n",
            "[Parallel(n_jobs=-1)]: Done 158 tasks      | elapsed:  9.1min\n",
            "[Parallel(n_jobs=-1)]: Done 361 tasks      | elapsed: 20.9min\n",
            "[Parallel(n_jobs=-1)]: Done 644 tasks      | elapsed: 37.2min\n",
            "[Parallel(n_jobs=-1)]: Done 1009 tasks      | elapsed: 58.1min\n",
            "[Parallel(n_jobs=-1)]: Done 1250 out of 1250 | elapsed: 71.8min finished\n"
          ],
          "name": "stderr"
        },
        {
          "output_type": "execute_result",
          "data": {
            "text/plain": [
              "GridSearchCV(cv=None, error_score=nan,\n",
              "             estimator=VotingClassifier(estimators=[('logreg',\n",
              "                                                     LogisticRegression(C=0.1,\n",
              "                                                                        class_weight=None,\n",
              "                                                                        dual=False,\n",
              "                                                                        fit_intercept=True,\n",
              "                                                                        intercept_scaling=1,\n",
              "                                                                        l1_ratio=None,\n",
              "                                                                        max_iter=100,\n",
              "                                                                        multi_class='auto',\n",
              "                                                                        n_jobs=-1,\n",
              "                                                                        penalty='l2',\n",
              "                                                                        random_state=42,\n",
              "                                                                        solver='lbfgs',\n",
              "                                                                        tol=0.0001,\n",
              "                                                                        verbose=0,\n",
              "                                                                        warm_start=False)),\n",
              "                                                    ('tree',\n",
              "                                                     DecisionTreeClassifier(...\n",
              "             param_grid={'voting': ['hard', 'soft'],\n",
              "                         'weights': [(1, 1, 1), (1, 1, 2), (1, 1, 3), (1, 1, 4),\n",
              "                                     (1, 1, 5), (1, 2, 1), (1, 2, 2), (1, 2, 3),\n",
              "                                     (1, 2, 4), (1, 2, 5), (1, 3, 1), (1, 3, 2),\n",
              "                                     (1, 3, 3), (1, 3, 4), (1, 3, 5), (1, 4, 1),\n",
              "                                     (1, 4, 2), (1, 4, 3), (1, 4, 4), (1, 4, 5),\n",
              "                                     (1, 5, 1), (1, 5, 2), (1, 5, 3), (1, 5, 4),\n",
              "                                     (1, 5, 5), (2, 1, 1), (2, 1, 2), (2, 1, 3),\n",
              "                                     (2, 1, 4), (2, 1, 5), ...]},\n",
              "             pre_dispatch='2*n_jobs', refit=True, return_train_score=False,\n",
              "             scoring='accuracy', verbose=2)"
            ]
          },
          "metadata": {
            "tags": []
          },
          "execution_count": 36
        }
      ]
    },
    {
      "cell_type": "code",
      "metadata": {
        "id": "TwBmCN6J8MHB",
        "colab_type": "code",
        "colab": {
          "base_uri": "https://localhost:8080/",
          "height": 34
        },
        "outputId": "4e7c758d-e995-4226-dead-55184d315a4d"
      },
      "source": [
        "cv_voting_clf.best_params_"
      ],
      "execution_count": null,
      "outputs": [
        {
          "output_type": "execute_result",
          "data": {
            "text/plain": [
              "{'voting': 'hard', 'weights': (1, 1, 3)}"
            ]
          },
          "metadata": {
            "tags": []
          },
          "execution_count": 37
        }
      ]
    },
    {
      "cell_type": "markdown",
      "metadata": {
        "id": "nVUlxnVXZ_Ul",
        "colab_type": "text"
      },
      "source": [
        "Снова вес случайного леса выше, чем вес остальных моделей."
      ]
    },
    {
      "cell_type": "code",
      "metadata": {
        "id": "093bKQq8Fpv2",
        "colab_type": "code",
        "colab": {}
      },
      "source": [
        "logreg_clf = LogisticRegression(C=0.1, random_state=42, n_jobs=-1)\n",
        "tree_clf = DecisionTreeClassifier(max_depth=8, random_state=42)\n",
        "forest_clf = RandomForestClassifier(max_depth=44, n_jobs=-1, random_state=42)\n",
        "\n",
        "voting_clf = VotingClassifier([('logreg', logreg_clf),\n",
        "                               ('tree', tree_clf),\n",
        "                               ('forest', forest_clf)], weights=(1, 1, 3),\n",
        "                              n_jobs=-1)"
      ],
      "execution_count": null,
      "outputs": []
    },
    {
      "cell_type": "code",
      "metadata": {
        "id": "SKUQtDBJ4OCV",
        "colab_type": "code",
        "colab": {
          "base_uri": "https://localhost:8080/",
          "height": 510
        },
        "outputId": "6fb83fa1-f6b6-48ad-eee0-9505307dbd0e"
      },
      "source": [
        "voting_clf.fit(X_train, y_train)"
      ],
      "execution_count": null,
      "outputs": [
        {
          "output_type": "execute_result",
          "data": {
            "text/plain": [
              "VotingClassifier(estimators=[('logreg',\n",
              "                              LogisticRegression(C=0.1, class_weight=None,\n",
              "                                                 dual=False, fit_intercept=True,\n",
              "                                                 intercept_scaling=1,\n",
              "                                                 l1_ratio=None, max_iter=100,\n",
              "                                                 multi_class='auto', n_jobs=-1,\n",
              "                                                 penalty='l2', random_state=42,\n",
              "                                                 solver='lbfgs', tol=0.0001,\n",
              "                                                 verbose=0, warm_start=False)),\n",
              "                             ('tree',\n",
              "                              DecisionTreeClassifier(ccp_alpha=0.0,\n",
              "                                                     class_weight=None,\n",
              "                                                     criterion='gini...\n",
              "                                                     criterion='gini',\n",
              "                                                     max_depth=44,\n",
              "                                                     max_features='auto',\n",
              "                                                     max_leaf_nodes=None,\n",
              "                                                     max_samples=None,\n",
              "                                                     min_impurity_decrease=0.0,\n",
              "                                                     min_impurity_split=None,\n",
              "                                                     min_samples_leaf=1,\n",
              "                                                     min_samples_split=2,\n",
              "                                                     min_weight_fraction_leaf=0.0,\n",
              "                                                     n_estimators=100,\n",
              "                                                     n_jobs=-1, oob_score=False,\n",
              "                                                     random_state=42, verbose=0,\n",
              "                                                     warm_start=False))],\n",
              "                 flatten_transform=True, n_jobs=-1, voting='hard',\n",
              "                 weights=(1, 1, 3))"
            ]
          },
          "metadata": {
            "tags": []
          },
          "execution_count": 39
        }
      ]
    },
    {
      "cell_type": "code",
      "metadata": {
        "id": "7fLLnQsA4Swn",
        "colab_type": "code",
        "colab": {}
      },
      "source": [
        "y_pred = voting_clf.predict(X_test)"
      ],
      "execution_count": null,
      "outputs": []
    },
    {
      "cell_type": "code",
      "metadata": {
        "id": "Vzr7g6MO4Y3M",
        "colab_type": "code",
        "colab": {
          "base_uri": "https://localhost:8080/",
          "height": 34
        },
        "outputId": "6c18b8a6-557b-4411-a0a2-bf59956b89ec"
      },
      "source": [
        "accuracy_score(y_test, y_pred)"
      ],
      "execution_count": null,
      "outputs": [
        {
          "output_type": "execute_result",
          "data": {
            "text/plain": [
              "0.6714542190305206"
            ]
          },
          "metadata": {
            "tags": []
          },
          "execution_count": 41
        }
      ]
    },
    {
      "cell_type": "markdown",
      "metadata": {
        "id": "ZqIEln7L4kE6",
        "colab_type": "text"
      },
      "source": [
        "Accuracy такая же, как и у случайного леса, добавление других классификаторов её не улучшило. Попробуем BaggingClassifier на случайном лесе с разными значениями n_estimators."
      ]
    },
    {
      "cell_type": "code",
      "metadata": {
        "colab_type": "code",
        "id": "qSSDWiOe5DMU",
        "colab": {}
      },
      "source": [
        "bagging_clf = BaggingClassifier(\n",
        "    base_estimator=RandomForestClassifier(max_depth=44, n_jobs=-1,\n",
        "                                          random_state=42), n_jobs=-1)"
      ],
      "execution_count": null,
      "outputs": []
    },
    {
      "cell_type": "code",
      "metadata": {
        "colab_type": "code",
        "id": "hmyrZAvb5DMa",
        "colab": {}
      },
      "source": [
        "param_grid = {'n_estimators': [5, 10, 15],\n",
        "              'random_state': [42]}\n",
        "\n",
        "cv_bagging_clf = GridSearchCV(bagging_clf, param_grid, scoring='accuracy',\n",
        "                              n_jobs=-1, verbose=2)"
      ],
      "execution_count": null,
      "outputs": []
    },
    {
      "cell_type": "code",
      "metadata": {
        "colab_type": "code",
        "id": "VPda2FQr5DMc",
        "colab": {
          "base_uri": "https://localhost:8080/",
          "height": 547
        },
        "outputId": "16b72a02-8f4e-4fd1-e6e6-30f3cbd1a4cb"
      },
      "source": [
        "cv_bagging_clf.fit(X_train, y_train)"
      ],
      "execution_count": null,
      "outputs": [
        {
          "output_type": "stream",
          "text": [
            "Fitting 5 folds for each of 3 candidates, totalling 15 fits\n"
          ],
          "name": "stdout"
        },
        {
          "output_type": "stream",
          "text": [
            "[Parallel(n_jobs=-1)]: Using backend LokyBackend with 2 concurrent workers.\n",
            "/usr/local/lib/python3.6/dist-packages/joblib/externals/loky/process_executor.py:691: UserWarning: A worker stopped while some jobs were given to the executor. This can be caused by a too short worker timeout or by a memory leak.\n",
            "  \"timeout or by a memory leak.\", UserWarning\n",
            "[Parallel(n_jobs=-1)]: Done  15 out of  15 | elapsed:  4.7min finished\n"
          ],
          "name": "stderr"
        },
        {
          "output_type": "execute_result",
          "data": {
            "text/plain": [
              "GridSearchCV(cv=None, error_score=nan,\n",
              "             estimator=BaggingClassifier(base_estimator=RandomForestClassifier(bootstrap=True,\n",
              "                                                                               ccp_alpha=0.0,\n",
              "                                                                               class_weight=None,\n",
              "                                                                               criterion='gini',\n",
              "                                                                               max_depth=44,\n",
              "                                                                               max_features='auto',\n",
              "                                                                               max_leaf_nodes=None,\n",
              "                                                                               max_samples=None,\n",
              "                                                                               min_impurity_decrease=0.0,\n",
              "                                                                               min_impurity_split=None,\n",
              "                                                                               min_samples_leaf=1,\n",
              "                                                                               min_samples_split=2,\n",
              "                                                                               min_weight_fraction_leaf...\n",
              "                                                                               warm_start=False),\n",
              "                                         bootstrap=True,\n",
              "                                         bootstrap_features=False,\n",
              "                                         max_features=1.0, max_samples=1.0,\n",
              "                                         n_estimators=10, n_jobs=-1,\n",
              "                                         oob_score=False, random_state=None,\n",
              "                                         verbose=0, warm_start=False),\n",
              "             iid='deprecated', n_jobs=-1,\n",
              "             param_grid={'n_estimators': [5, 10, 15], 'random_state': [42]},\n",
              "             pre_dispatch='2*n_jobs', refit=True, return_train_score=False,\n",
              "             scoring='accuracy', verbose=2)"
            ]
          },
          "metadata": {
            "tags": []
          },
          "execution_count": 44
        }
      ]
    },
    {
      "cell_type": "code",
      "metadata": {
        "colab_type": "code",
        "id": "MCYVGgWV5DMg",
        "colab": {
          "base_uri": "https://localhost:8080/",
          "height": 34
        },
        "outputId": "32c1b1d4-2f24-4c17-c38d-3548e32179c2"
      },
      "source": [
        "cv_bagging_clf.best_params_"
      ],
      "execution_count": null,
      "outputs": [
        {
          "output_type": "execute_result",
          "data": {
            "text/plain": [
              "{'n_estimators': 15, 'random_state': 42}"
            ]
          },
          "metadata": {
            "tags": []
          },
          "execution_count": 45
        }
      ]
    },
    {
      "cell_type": "code",
      "metadata": {
        "id": "VJn8HWUQLtcr",
        "colab_type": "code",
        "colab": {}
      },
      "source": [
        "bagging_clf = BaggingClassifier(\n",
        "    base_estimator=RandomForestClassifier(max_depth=44, n_jobs=-1,\n",
        "                                          random_state=42), n_estimators=15,\n",
        "                                n_jobs=-1, random_state=42)"
      ],
      "execution_count": null,
      "outputs": []
    },
    {
      "cell_type": "code",
      "metadata": {
        "id": "2TV4LOShMK7k",
        "colab_type": "code",
        "colab": {
          "base_uri": "https://localhost:8080/",
          "height": 391
        },
        "outputId": "d8ba2b06-f483-450d-fb04-e69e343fb18a"
      },
      "source": [
        "bagging_clf.fit(X_train, y_train)"
      ],
      "execution_count": null,
      "outputs": [
        {
          "output_type": "execute_result",
          "data": {
            "text/plain": [
              "BaggingClassifier(base_estimator=RandomForestClassifier(bootstrap=True,\n",
              "                                                        ccp_alpha=0.0,\n",
              "                                                        class_weight=None,\n",
              "                                                        criterion='gini',\n",
              "                                                        max_depth=44,\n",
              "                                                        max_features='auto',\n",
              "                                                        max_leaf_nodes=None,\n",
              "                                                        max_samples=None,\n",
              "                                                        min_impurity_decrease=0.0,\n",
              "                                                        min_impurity_split=None,\n",
              "                                                        min_samples_leaf=1,\n",
              "                                                        min_samples_split=2,\n",
              "                                                        min_weight_fraction_leaf=0.0,\n",
              "                                                        n_estimators=100,\n",
              "                                                        n_jobs=-1,\n",
              "                                                        oob_score=False,\n",
              "                                                        random_state=42,\n",
              "                                                        verbose=0,\n",
              "                                                        warm_start=False),\n",
              "                  bootstrap=True, bootstrap_features=False, max_features=1.0,\n",
              "                  max_samples=1.0, n_estimators=15, n_jobs=-1, oob_score=False,\n",
              "                  random_state=42, verbose=0, warm_start=False)"
            ]
          },
          "metadata": {
            "tags": []
          },
          "execution_count": 47
        }
      ]
    },
    {
      "cell_type": "code",
      "metadata": {
        "id": "QFJvLVw_MO06",
        "colab_type": "code",
        "colab": {}
      },
      "source": [
        "y_pred = bagging_clf.predict(X_test)"
      ],
      "execution_count": null,
      "outputs": []
    },
    {
      "cell_type": "code",
      "metadata": {
        "id": "5PsdxAXKMSZ5",
        "colab_type": "code",
        "colab": {
          "base_uri": "https://localhost:8080/",
          "height": 34
        },
        "outputId": "3d3e8dcd-c337-4c65-b180-f981e548e670"
      },
      "source": [
        "accuracy_score(y_test, y_pred)"
      ],
      "execution_count": null,
      "outputs": [
        {
          "output_type": "execute_result",
          "data": {
            "text/plain": [
              "0.6700578495910632"
            ]
          },
          "metadata": {
            "tags": []
          },
          "execution_count": 49
        }
      ]
    },
    {
      "cell_type": "markdown",
      "metadata": {
        "id": "AovbFDCaMXm2",
        "colab_type": "text"
      },
      "source": [
        "Бэггинг нескольких случайных лесов ни к чему не привёл – accuracy хуже, чем у одного случайного леса. Попробуем StackingClassifier на всех трёх классификаторах с разными значениями cv и passthrough."
      ]
    },
    {
      "cell_type": "code",
      "metadata": {
        "id": "z5vbZCanMUEm",
        "colab_type": "code",
        "colab": {}
      },
      "source": [
        "logreg_clf = LogisticRegression(C=0.1, random_state=42, n_jobs=-1)\n",
        "tree_clf = DecisionTreeClassifier(max_depth=8, random_state=42)\n",
        "forest_clf = RandomForestClassifier(max_depth=44, n_jobs=-1, random_state=42)\n",
        "\n",
        "stacking_clf = StackingClassifier([('logreg', logreg_clf),\n",
        "                                   ('tree', tree_clf),\n",
        "                                   ('forest', forest_clf)], n_jobs=-1)"
      ],
      "execution_count": null,
      "outputs": []
    },
    {
      "cell_type": "code",
      "metadata": {
        "id": "XT9QgHXlM8nU",
        "colab_type": "code",
        "colab": {}
      },
      "source": [
        "param_grid = {'cv': [2, 3, 4, 5, 6, 7, 8, 9, 10],\n",
        "              'passthrough': [True, False]}\n",
        "\n",
        "cv_stacking_clf = GridSearchCV(stacking_clf, param_grid, scoring='accuracy',\n",
        "                               n_jobs=-1, verbose=2)"
      ],
      "execution_count": null,
      "outputs": []
    },
    {
      "cell_type": "code",
      "metadata": {
        "id": "5uIofbETNTyb",
        "colab_type": "code",
        "colab": {
          "base_uri": "https://localhost:8080/",
          "height": 799
        },
        "outputId": "e619676c-4700-4316-b25a-684f38c9afab"
      },
      "source": [
        "cv_stacking_clf.fit(X_train, y_train)"
      ],
      "execution_count": null,
      "outputs": [
        {
          "output_type": "stream",
          "text": [
            "Fitting 5 folds for each of 18 candidates, totalling 90 fits\n"
          ],
          "name": "stdout"
        },
        {
          "output_type": "stream",
          "text": [
            "[Parallel(n_jobs=-1)]: Using backend LokyBackend with 2 concurrent workers.\n",
            "[Parallel(n_jobs=-1)]: Done  37 tasks      | elapsed:  8.0min\n",
            "[Parallel(n_jobs=-1)]: Done  90 out of  90 | elapsed: 32.1min finished\n",
            "/usr/local/lib/python3.6/dist-packages/sklearn/linear_model/_logistic.py:940: ConvergenceWarning: lbfgs failed to converge (status=1):\n",
            "STOP: TOTAL NO. of ITERATIONS REACHED LIMIT.\n",
            "\n",
            "Increase the number of iterations (max_iter) or scale the data as shown in:\n",
            "    https://scikit-learn.org/stable/modules/preprocessing.html\n",
            "Please also refer to the documentation for alternative solver options:\n",
            "    https://scikit-learn.org/stable/modules/linear_model.html#logistic-regression\n",
            "  extra_warning_msg=_LOGISTIC_SOLVER_CONVERGENCE_MSG)\n"
          ],
          "name": "stderr"
        },
        {
          "output_type": "execute_result",
          "data": {
            "text/plain": [
              "GridSearchCV(cv=None, error_score=nan,\n",
              "             estimator=StackingClassifier(cv=None,\n",
              "                                          estimators=[('logreg',\n",
              "                                                       LogisticRegression(C=0.1,\n",
              "                                                                          class_weight=None,\n",
              "                                                                          dual=False,\n",
              "                                                                          fit_intercept=True,\n",
              "                                                                          intercept_scaling=1,\n",
              "                                                                          l1_ratio=None,\n",
              "                                                                          max_iter=100,\n",
              "                                                                          multi_class='auto',\n",
              "                                                                          n_jobs=-1,\n",
              "                                                                          penalty='l2',\n",
              "                                                                          random_state=42,\n",
              "                                                                          solver='lbfgs',\n",
              "                                                                          tol=0.0001,\n",
              "                                                                          verbose=0,\n",
              "                                                                          warm_start=False)),\n",
              "                                                      ('tree',\n",
              "                                                       DecisionTreeC...\n",
              "                                                                              n_estimators=100,\n",
              "                                                                              n_jobs=-1,\n",
              "                                                                              oob_score=False,\n",
              "                                                                              random_state=42,\n",
              "                                                                              verbose=0,\n",
              "                                                                              warm_start=False))],\n",
              "                                          final_estimator=None, n_jobs=-1,\n",
              "                                          passthrough=False,\n",
              "                                          stack_method='auto', verbose=0),\n",
              "             iid='deprecated', n_jobs=-1,\n",
              "             param_grid={'cv': [2, 3, 4, 5, 6, 7, 8, 9, 10],\n",
              "                         'passthrough': [True, False]},\n",
              "             pre_dispatch='2*n_jobs', refit=True, return_train_score=False,\n",
              "             scoring='accuracy', verbose=2)"
            ]
          },
          "metadata": {
            "tags": []
          },
          "execution_count": 52
        }
      ]
    },
    {
      "cell_type": "code",
      "metadata": {
        "id": "PZuDv0CaNv53",
        "colab_type": "code",
        "colab": {
          "base_uri": "https://localhost:8080/",
          "height": 34
        },
        "outputId": "cb7c6b89-ca90-4099-a9c1-589d30b22582"
      },
      "source": [
        "cv_stacking_clf.best_params_"
      ],
      "execution_count": null,
      "outputs": [
        {
          "output_type": "execute_result",
          "data": {
            "text/plain": [
              "{'cv': 6, 'passthrough': True}"
            ]
          },
          "metadata": {
            "tags": []
          },
          "execution_count": 53
        }
      ]
    },
    {
      "cell_type": "code",
      "metadata": {
        "id": "OF-MTfHPdTxS",
        "colab_type": "code",
        "colab": {}
      },
      "source": [
        "logreg_clf = LogisticRegression(C=0.1, random_state=42, n_jobs=-1)\n",
        "tree_clf = DecisionTreeClassifier(max_depth=8, random_state=42)\n",
        "forest_clf = RandomForestClassifier(max_depth=44, n_jobs=-1, random_state=42)\n",
        "\n",
        "\n",
        "stacking_clf = StackingClassifier([('logreg', logreg_clf),\n",
        "                                   ('tree', tree_clf),\n",
        "                                   ('forest', forest_clf)], cv=6, n_jobs=-1,\n",
        "                                  passthrough=True)"
      ],
      "execution_count": null,
      "outputs": []
    },
    {
      "cell_type": "code",
      "metadata": {
        "id": "78vevpgFdiJu",
        "colab_type": "code",
        "colab": {
          "base_uri": "https://localhost:8080/",
          "height": 731
        },
        "outputId": "136bfe4e-148f-4eca-e159-f641769cba7b"
      },
      "source": [
        "stacking_clf.fit(X_train, y_train)"
      ],
      "execution_count": null,
      "outputs": [
        {
          "output_type": "stream",
          "text": [
            "/usr/local/lib/python3.6/dist-packages/sklearn/linear_model/_logistic.py:940: ConvergenceWarning: lbfgs failed to converge (status=1):\n",
            "STOP: TOTAL NO. of ITERATIONS REACHED LIMIT.\n",
            "\n",
            "Increase the number of iterations (max_iter) or scale the data as shown in:\n",
            "    https://scikit-learn.org/stable/modules/preprocessing.html\n",
            "Please also refer to the documentation for alternative solver options:\n",
            "    https://scikit-learn.org/stable/modules/linear_model.html#logistic-regression\n",
            "  extra_warning_msg=_LOGISTIC_SOLVER_CONVERGENCE_MSG)\n"
          ],
          "name": "stderr"
        },
        {
          "output_type": "execute_result",
          "data": {
            "text/plain": [
              "StackingClassifier(cv=6,\n",
              "                   estimators=[('logreg',\n",
              "                                LogisticRegression(C=0.1, class_weight=None,\n",
              "                                                   dual=False,\n",
              "                                                   fit_intercept=True,\n",
              "                                                   intercept_scaling=1,\n",
              "                                                   l1_ratio=None, max_iter=100,\n",
              "                                                   multi_class='auto',\n",
              "                                                   n_jobs=-1, penalty='l2',\n",
              "                                                   random_state=42,\n",
              "                                                   solver='lbfgs', tol=0.0001,\n",
              "                                                   verbose=0,\n",
              "                                                   warm_start=False)),\n",
              "                               ('tree',\n",
              "                                DecisionTreeClassifier(ccp_alpha=0.0,\n",
              "                                                       class_weight=None,\n",
              "                                                       criterio...\n",
              "                                                       max_depth=44,\n",
              "                                                       max_features='auto',\n",
              "                                                       max_leaf_nodes=None,\n",
              "                                                       max_samples=None,\n",
              "                                                       min_impurity_decrease=0.0,\n",
              "                                                       min_impurity_split=None,\n",
              "                                                       min_samples_leaf=1,\n",
              "                                                       min_samples_split=2,\n",
              "                                                       min_weight_fraction_leaf=0.0,\n",
              "                                                       n_estimators=100,\n",
              "                                                       n_jobs=-1,\n",
              "                                                       oob_score=False,\n",
              "                                                       random_state=42,\n",
              "                                                       verbose=0,\n",
              "                                                       warm_start=False))],\n",
              "                   final_estimator=None, n_jobs=-1, passthrough=True,\n",
              "                   stack_method='auto', verbose=0)"
            ]
          },
          "metadata": {
            "tags": []
          },
          "execution_count": 55
        }
      ]
    },
    {
      "cell_type": "code",
      "metadata": {
        "id": "aOjlzyxIdlbX",
        "colab_type": "code",
        "colab": {}
      },
      "source": [
        "y_pred = stacking_clf.predict(X_test)"
      ],
      "execution_count": null,
      "outputs": []
    },
    {
      "cell_type": "code",
      "metadata": {
        "id": "o98qjsnhdqlP",
        "colab_type": "code",
        "colab": {
          "base_uri": "https://localhost:8080/",
          "height": 34
        },
        "outputId": "bb345998-1496-429a-f6d9-7ab19ddf7ba2"
      },
      "source": [
        "accuracy_score(y_test, y_pred)"
      ],
      "execution_count": null,
      "outputs": [
        {
          "output_type": "execute_result",
          "data": {
            "text/plain": [
              "0.672850588469978"
            ]
          },
          "metadata": {
            "tags": []
          },
          "execution_count": 57
        }
      ]
    },
    {
      "cell_type": "markdown",
      "metadata": {
        "id": "INPCa8cZeGjU",
        "colab_type": "text"
      },
      "source": [
        "StackingClassifier с подобранными параметрами снова даёт наилучший результат.\n",
        "#3-class classification\n"
      ]
    },
    {
      "cell_type": "code",
      "metadata": {
        "id": "dw8Pb1EJfrF6",
        "colab_type": "code",
        "colab": {}
      },
      "source": [
        "y_train, y_test = np.floor_divide(y_train, 2), np.floor_divide(y_test, 2)"
      ],
      "execution_count": null,
      "outputs": []
    },
    {
      "cell_type": "markdown",
      "metadata": {
        "id": "mG1KKtUjkZ3-",
        "colab_type": "text"
      },
      "source": [
        "Посчитаем accuracy наивного классификатора."
      ]
    },
    {
      "cell_type": "code",
      "metadata": {
        "id": "YWIHlgVMkPca",
        "colab_type": "code",
        "colab": {}
      },
      "source": [
        "y_pred_naive = np.full(y_test.shape, np.bincount(y_train).argmax())"
      ],
      "execution_count": null,
      "outputs": []
    },
    {
      "cell_type": "code",
      "metadata": {
        "id": "hx9jOgwJkdBO",
        "colab_type": "code",
        "colab": {
          "base_uri": "https://localhost:8080/",
          "height": 34
        },
        "outputId": "275becf8-c0f8-4d4a-de36-06ac0627f11a"
      },
      "source": [
        "y_pred_naive"
      ],
      "execution_count": null,
      "outputs": [
        {
          "output_type": "execute_result",
          "data": {
            "text/plain": [
              "array([2, 2, 2, ..., 2, 2, 2])"
            ]
          },
          "metadata": {
            "tags": []
          },
          "execution_count": 60
        }
      ]
    },
    {
      "cell_type": "code",
      "metadata": {
        "id": "B9ig7H5RkeSE",
        "colab_type": "code",
        "colab": {
          "base_uri": "https://localhost:8080/",
          "height": 34
        },
        "outputId": "165cc0a5-aecd-4f31-98c7-eba2ae5b11cc"
      },
      "source": [
        "accuracy_score(y_test, y_pred_naive)"
      ],
      "execution_count": null,
      "outputs": [
        {
          "output_type": "execute_result",
          "data": {
            "text/plain": [
              "0.7969279872331937"
            ]
          },
          "metadata": {
            "tags": []
          },
          "execution_count": 61
        }
      ]
    },
    {
      "cell_type": "markdown",
      "metadata": {
        "id": "FtsCp35pklgT",
        "colab_type": "text"
      },
      "source": [
        "С уменьшением числа классов accuracy наивного классификатора повысилась."
      ]
    },
    {
      "cell_type": "code",
      "metadata": {
        "id": "3YSx5H38kiW9",
        "colab_type": "code",
        "colab": {}
      },
      "source": [
        "logreg_clf = LogisticRegression()\n",
        "\n",
        "param_grid = {'penalty': ['l2', 'none'],\n",
        "              'C': [0.01, 0.1, 1, 1.5, 5, 10],\n",
        "              'fit_intercept': [True, False],\n",
        "              'class_weight': ['balanced', None],\n",
        "              'random_state': [42],\n",
        "              'solver': ['newton-sg', 'lbfgs', 'sag', 'saga']}\n",
        "\n",
        "cv_logreg_clf = GridSearchCV(logreg_clf, param_grid, scoring='accuracy',\n",
        "                             n_jobs=-1, verbose=2)"
      ],
      "execution_count": null,
      "outputs": []
    },
    {
      "cell_type": "code",
      "metadata": {
        "id": "VRooA09Ok1IQ",
        "colab_type": "code",
        "colab": {
          "base_uri": "https://localhost:8080/",
          "height": 561
        },
        "outputId": "4ba9e89f-a8fa-4316-868e-c20e08b5717a"
      },
      "source": [
        "cv_logreg_clf.fit(X_train, y_train)"
      ],
      "execution_count": null,
      "outputs": [
        {
          "output_type": "stream",
          "text": [
            "Fitting 5 folds for each of 192 candidates, totalling 960 fits\n"
          ],
          "name": "stdout"
        },
        {
          "output_type": "stream",
          "text": [
            "[Parallel(n_jobs=-1)]: Using backend LokyBackend with 2 concurrent workers.\n",
            "[Parallel(n_jobs=-1)]: Done  45 tasks      | elapsed:  1.1min\n",
            "[Parallel(n_jobs=-1)]: Done 166 tasks      | elapsed:  4.5min\n",
            "[Parallel(n_jobs=-1)]: Done 369 tasks      | elapsed: 10.8min\n",
            "[Parallel(n_jobs=-1)]: Done 652 tasks      | elapsed: 21.3min\n",
            "[Parallel(n_jobs=-1)]: Done 960 out of 960 | elapsed: 35.4min finished\n",
            "/usr/local/lib/python3.6/dist-packages/sklearn/linear_model/_logistic.py:940: ConvergenceWarning: lbfgs failed to converge (status=1):\n",
            "STOP: TOTAL NO. of ITERATIONS REACHED LIMIT.\n",
            "\n",
            "Increase the number of iterations (max_iter) or scale the data as shown in:\n",
            "    https://scikit-learn.org/stable/modules/preprocessing.html\n",
            "Please also refer to the documentation for alternative solver options:\n",
            "    https://scikit-learn.org/stable/modules/linear_model.html#logistic-regression\n",
            "  extra_warning_msg=_LOGISTIC_SOLVER_CONVERGENCE_MSG)\n"
          ],
          "name": "stderr"
        },
        {
          "output_type": "execute_result",
          "data": {
            "text/plain": [
              "GridSearchCV(cv=None, error_score=nan,\n",
              "             estimator=LogisticRegression(C=1.0, class_weight=None, dual=False,\n",
              "                                          fit_intercept=True,\n",
              "                                          intercept_scaling=1, l1_ratio=None,\n",
              "                                          max_iter=100, multi_class='auto',\n",
              "                                          n_jobs=None, penalty='l2',\n",
              "                                          random_state=None, solver='lbfgs',\n",
              "                                          tol=0.0001, verbose=0,\n",
              "                                          warm_start=False),\n",
              "             iid='deprecated', n_jobs=-1,\n",
              "             param_grid={'C': [0.01, 0.1, 1, 1.5, 5, 10],\n",
              "                         'class_weight': ['balanced', None],\n",
              "                         'fit_intercept': [True, False],\n",
              "                         'penalty': ['l2', 'none'], 'random_state': [42],\n",
              "                         'solver': ['newton-sg', 'lbfgs', 'sag', 'saga']},\n",
              "             pre_dispatch='2*n_jobs', refit=True, return_train_score=False,\n",
              "             scoring='accuracy', verbose=2)"
            ]
          },
          "metadata": {
            "tags": []
          },
          "execution_count": 63
        }
      ]
    },
    {
      "cell_type": "code",
      "metadata": {
        "id": "0EIBpkfkk5Rp",
        "colab_type": "code",
        "colab": {
          "base_uri": "https://localhost:8080/",
          "height": 119
        },
        "outputId": "77b6bed2-949c-42c3-9c57-ad4356f6f55c"
      },
      "source": [
        "cv_logreg_clf.best_params_"
      ],
      "execution_count": null,
      "outputs": [
        {
          "output_type": "execute_result",
          "data": {
            "text/plain": [
              "{'C': 1.5,\n",
              " 'class_weight': None,\n",
              " 'fit_intercept': True,\n",
              " 'penalty': 'l2',\n",
              " 'random_state': 42,\n",
              " 'solver': 'lbfgs'}"
            ]
          },
          "metadata": {
            "tags": []
          },
          "execution_count": 64
        }
      ]
    },
    {
      "cell_type": "markdown",
      "metadata": {
        "id": "NjqY_3jUx-Tv",
        "colab_type": "text"
      },
      "source": [
        "Изменилось наилучшее значение C для логистической регрессии – для шести классов было 0.1, для трёх стало 1.5."
      ]
    },
    {
      "cell_type": "code",
      "metadata": {
        "id": "0lSefMT2nNF7",
        "colab_type": "code",
        "colab": {}
      },
      "source": [
        "logreg_clf = LogisticRegression(C=1.5, random_state=42, n_jobs=-1)"
      ],
      "execution_count": null,
      "outputs": []
    },
    {
      "cell_type": "code",
      "metadata": {
        "id": "_2yBLLnunb2c",
        "colab_type": "code",
        "colab": {
          "base_uri": "https://localhost:8080/",
          "height": 85
        },
        "outputId": "6dc4bcb3-e2e2-446a-ffd8-919f4ccd6123"
      },
      "source": [
        "logreg_clf.fit(X_train, y_train)"
      ],
      "execution_count": null,
      "outputs": [
        {
          "output_type": "execute_result",
          "data": {
            "text/plain": [
              "LogisticRegression(C=1.5, class_weight=None, dual=False, fit_intercept=True,\n",
              "                   intercept_scaling=1, l1_ratio=None, max_iter=100,\n",
              "                   multi_class='auto', n_jobs=-1, penalty='l2', random_state=42,\n",
              "                   solver='lbfgs', tol=0.0001, verbose=0, warm_start=False)"
            ]
          },
          "metadata": {
            "tags": []
          },
          "execution_count": 66
        }
      ]
    },
    {
      "cell_type": "code",
      "metadata": {
        "id": "e9_RZMEInhw-",
        "colab_type": "code",
        "colab": {}
      },
      "source": [
        "y_pred = logreg_clf.predict(X_test)"
      ],
      "execution_count": null,
      "outputs": []
    },
    {
      "cell_type": "code",
      "metadata": {
        "id": "GyDQ-Jplnk5z",
        "colab_type": "code",
        "colab": {
          "base_uri": "https://localhost:8080/",
          "height": 34
        },
        "outputId": "5f0293cb-88f7-4336-d2f7-424f25efafb3"
      },
      "source": [
        "accuracy_score(y_test, y_pred)"
      ],
      "execution_count": null,
      "outputs": [
        {
          "output_type": "execute_result",
          "data": {
            "text/plain": [
              "0.8035108717334929"
            ]
          },
          "metadata": {
            "tags": []
          },
          "execution_count": 68
        }
      ]
    },
    {
      "cell_type": "code",
      "metadata": {
        "id": "m8WZ_3MdnnpQ",
        "colab_type": "code",
        "colab": {}
      },
      "source": [
        "tree_clf = DecisionTreeClassifier()\n",
        "\n",
        "param_grid = {'criterion': ['gini','entropy'],\n",
        "              'splitter': ['best', 'random'],\n",
        "              'max_depth': np.arange(1, 50),\n",
        "              'class_weight': ['balanced', None],\n",
        "              'random_state': [42]}\n",
        "\n",
        "cv_tree_clf = GridSearchCV(tree_clf, param_grid, scoring='accuracy', n_jobs=-1,\n",
        "                           verbose=2)"
      ],
      "execution_count": null,
      "outputs": []
    },
    {
      "cell_type": "code",
      "metadata": {
        "id": "6lKZiX2Knx75",
        "colab_type": "code",
        "colab": {
          "base_uri": "https://localhost:8080/",
          "height": 544
        },
        "outputId": "9d5cb52c-a765-4cfc-9d50-5e87836d6f43"
      },
      "source": [
        "cv_tree_clf.fit(X_train, y_train)"
      ],
      "execution_count": null,
      "outputs": [
        {
          "output_type": "stream",
          "text": [
            "Fitting 5 folds for each of 392 candidates, totalling 1960 fits\n"
          ],
          "name": "stdout"
        },
        {
          "output_type": "stream",
          "text": [
            "[Parallel(n_jobs=-1)]: Using backend LokyBackend with 2 concurrent workers.\n",
            "[Parallel(n_jobs=-1)]: Done  70 tasks      | elapsed:    4.6s\n",
            "[Parallel(n_jobs=-1)]: Done 308 tasks      | elapsed:   47.5s\n",
            "[Parallel(n_jobs=-1)]: Done 512 tasks      | elapsed:  1.7min\n",
            "[Parallel(n_jobs=-1)]: Done 860 tasks      | elapsed:  2.9min\n",
            "[Parallel(n_jobs=-1)]: Done 1325 tasks      | elapsed:  4.5min\n",
            "[Parallel(n_jobs=-1)]: Done 1912 tasks      | elapsed:  6.8min\n",
            "[Parallel(n_jobs=-1)]: Done 1960 out of 1960 | elapsed:  7.1min finished\n"
          ],
          "name": "stderr"
        },
        {
          "output_type": "execute_result",
          "data": {
            "text/plain": [
              "GridSearchCV(cv=None, error_score=nan,\n",
              "             estimator=DecisionTreeClassifier(ccp_alpha=0.0, class_weight=None,\n",
              "                                              criterion='gini', max_depth=None,\n",
              "                                              max_features=None,\n",
              "                                              max_leaf_nodes=None,\n",
              "                                              min_impurity_decrease=0.0,\n",
              "                                              min_impurity_split=None,\n",
              "                                              min_samples_leaf=1,\n",
              "                                              min_samples_split=2,\n",
              "                                              min_weight_fraction_leaf=0.0,\n",
              "                                              presort='deprecated',\n",
              "                                              random_state=None,\n",
              "                                              splitter='best'),\n",
              "             iid=...\n",
              "             param_grid={'class_weight': ['balanced', None],\n",
              "                         'criterion': ['gini', 'entropy'],\n",
              "                         'max_depth': array([ 1,  2,  3,  4,  5,  6,  7,  8,  9, 10, 11, 12, 13, 14, 15, 16, 17,\n",
              "       18, 19, 20, 21, 22, 23, 24, 25, 26, 27, 28, 29, 30, 31, 32, 33, 34,\n",
              "       35, 36, 37, 38, 39, 40, 41, 42, 43, 44, 45, 46, 47, 48, 49]),\n",
              "                         'random_state': [42], 'splitter': ['best', 'random']},\n",
              "             pre_dispatch='2*n_jobs', refit=True, return_train_score=False,\n",
              "             scoring='accuracy', verbose=2)"
            ]
          },
          "metadata": {
            "tags": []
          },
          "execution_count": 70
        }
      ]
    },
    {
      "cell_type": "code",
      "metadata": {
        "id": "4cG4LOAVn2DS",
        "colab_type": "code",
        "colab": {
          "base_uri": "https://localhost:8080/",
          "height": 102
        },
        "outputId": "d7a1bec0-28c8-4d50-950b-f44c8cf8f589"
      },
      "source": [
        "cv_tree_clf.best_params_"
      ],
      "execution_count": null,
      "outputs": [
        {
          "output_type": "execute_result",
          "data": {
            "text/plain": [
              "{'class_weight': None,\n",
              " 'criterion': 'gini',\n",
              " 'max_depth': 5,\n",
              " 'random_state': 42,\n",
              " 'splitter': 'best'}"
            ]
          },
          "metadata": {
            "tags": []
          },
          "execution_count": 71
        }
      ]
    },
    {
      "cell_type": "markdown",
      "metadata": {
        "id": "6pGILSZQqnlD",
        "colab_type": "text"
      },
      "source": [
        "Изменилось наилучшее значение max_depth для решающего дерева – для шести классов было 8, для трёх стало 5."
      ]
    },
    {
      "cell_type": "code",
      "metadata": {
        "id": "zBrpqIDzqfuN",
        "colab_type": "code",
        "colab": {}
      },
      "source": [
        "tree_clf = DecisionTreeClassifier(max_depth=5, random_state=42)"
      ],
      "execution_count": null,
      "outputs": []
    },
    {
      "cell_type": "code",
      "metadata": {
        "id": "U_ul7WimrUOW",
        "colab_type": "code",
        "colab": {
          "base_uri": "https://localhost:8080/",
          "height": 119
        },
        "outputId": "f954749d-f993-4a7c-de83-7b99a5fa2fd4"
      },
      "source": [
        "tree_clf.fit(X_train, y_train)"
      ],
      "execution_count": null,
      "outputs": [
        {
          "output_type": "execute_result",
          "data": {
            "text/plain": [
              "DecisionTreeClassifier(ccp_alpha=0.0, class_weight=None, criterion='gini',\n",
              "                       max_depth=5, max_features=None, max_leaf_nodes=None,\n",
              "                       min_impurity_decrease=0.0, min_impurity_split=None,\n",
              "                       min_samples_leaf=1, min_samples_split=2,\n",
              "                       min_weight_fraction_leaf=0.0, presort='deprecated',\n",
              "                       random_state=42, splitter='best')"
            ]
          },
          "metadata": {
            "tags": []
          },
          "execution_count": 73
        }
      ]
    },
    {
      "cell_type": "code",
      "metadata": {
        "id": "3q-3H90urXVb",
        "colab_type": "code",
        "colab": {}
      },
      "source": [
        "y_pred = tree_clf.predict(X_test)"
      ],
      "execution_count": null,
      "outputs": []
    },
    {
      "cell_type": "code",
      "metadata": {
        "id": "hAoOeeu3ra7T",
        "colab_type": "code",
        "colab": {
          "base_uri": "https://localhost:8080/",
          "height": 34
        },
        "outputId": "3ed8156e-5775-4dbf-bcb8-6822f86cb11d"
      },
      "source": [
        "accuracy_score(y_test, y_pred)"
      ],
      "execution_count": null,
      "outputs": [
        {
          "output_type": "execute_result",
          "data": {
            "text/plain": [
              "0.8005186515060841"
            ]
          },
          "metadata": {
            "tags": []
          },
          "execution_count": 75
        }
      ]
    },
    {
      "cell_type": "markdown",
      "metadata": {
        "id": "MOpF9r8py03m",
        "colab_type": "text"
      },
      "source": [
        "А сейчас решающее дерево лучше наивного классификатора!"
      ]
    },
    {
      "cell_type": "code",
      "metadata": {
        "id": "EBnY6pK8rcvc",
        "colab_type": "code",
        "colab": {}
      },
      "source": [
        "forest_clf = RandomForestClassifier(n_jobs=-1)\n",
        "\n",
        "param_grid = {'n_estimators': [5, 10, 50, 100],\n",
        "              'criterion': ['gini','entropy'],\n",
        "              'max_depth': np.arange(1, 50),\n",
        "              'random_state': [42]}\n",
        "\n",
        "cv_forest_clf = GridSearchCV(forest_clf, param_grid, scoring='accuracy',\n",
        "                             n_jobs=-1, verbose=2)"
      ],
      "execution_count": null,
      "outputs": []
    },
    {
      "cell_type": "code",
      "metadata": {
        "id": "ETsrM7Uerk7A",
        "colab_type": "code",
        "colab": {
          "base_uri": "https://localhost:8080/",
          "height": 544
        },
        "outputId": "52a8599f-107d-44c2-86af-e8808da72007"
      },
      "source": [
        "cv_forest_clf.fit(X_train, y_train)"
      ],
      "execution_count": null,
      "outputs": [
        {
          "output_type": "stream",
          "text": [
            "Fitting 5 folds for each of 392 candidates, totalling 1960 fits\n"
          ],
          "name": "stdout"
        },
        {
          "output_type": "stream",
          "text": [
            "[Parallel(n_jobs=-1)]: Using backend LokyBackend with 2 concurrent workers.\n",
            "[Parallel(n_jobs=-1)]: Done  37 tasks      | elapsed:    8.0s\n",
            "[Parallel(n_jobs=-1)]: Done 158 tasks      | elapsed:   39.1s\n",
            "[Parallel(n_jobs=-1)]: Done 361 tasks      | elapsed:  2.1min\n",
            "[Parallel(n_jobs=-1)]: Done 644 tasks      | elapsed:  5.3min\n",
            "[Parallel(n_jobs=-1)]: Done 1009 tasks      | elapsed: 11.0min\n",
            "[Parallel(n_jobs=-1)]: Done 1454 tasks      | elapsed: 14.2min\n",
            "[Parallel(n_jobs=-1)]: Done 1960 out of 1960 | elapsed: 22.3min finished\n"
          ],
          "name": "stderr"
        },
        {
          "output_type": "execute_result",
          "data": {
            "text/plain": [
              "GridSearchCV(cv=None, error_score=nan,\n",
              "             estimator=RandomForestClassifier(bootstrap=True, ccp_alpha=0.0,\n",
              "                                              class_weight=None,\n",
              "                                              criterion='gini', max_depth=None,\n",
              "                                              max_features='auto',\n",
              "                                              max_leaf_nodes=None,\n",
              "                                              max_samples=None,\n",
              "                                              min_impurity_decrease=0.0,\n",
              "                                              min_impurity_split=None,\n",
              "                                              min_samples_leaf=1,\n",
              "                                              min_samples_split=2,\n",
              "                                              min_weight_fraction_leaf=0.0,\n",
              "                                              n_estimators=100, n_jobs=-1...\n",
              "             iid='deprecated', n_jobs=-1,\n",
              "             param_grid={'criterion': ['gini', 'entropy'],\n",
              "                         'max_depth': array([ 1,  2,  3,  4,  5,  6,  7,  8,  9, 10, 11, 12, 13, 14, 15, 16, 17,\n",
              "       18, 19, 20, 21, 22, 23, 24, 25, 26, 27, 28, 29, 30, 31, 32, 33, 34,\n",
              "       35, 36, 37, 38, 39, 40, 41, 42, 43, 44, 45, 46, 47, 48, 49]),\n",
              "                         'n_estimators': [5, 10, 50, 100],\n",
              "                         'random_state': [42]},\n",
              "             pre_dispatch='2*n_jobs', refit=True, return_train_score=False,\n",
              "             scoring='accuracy', verbose=2)"
            ]
          },
          "metadata": {
            "tags": []
          },
          "execution_count": 77
        }
      ]
    },
    {
      "cell_type": "markdown",
      "metadata": {
        "id": "09CHwxWb6va3",
        "colab_type": "text"
      },
      "source": [
        "При классификации на три класса модели обучаются ещё быстрее."
      ]
    },
    {
      "cell_type": "code",
      "metadata": {
        "id": "KW1yiZyYry3k",
        "colab_type": "code",
        "colab": {
          "base_uri": "https://localhost:8080/",
          "height": 85
        },
        "outputId": "1e1bc9db-ecac-457e-d57d-f951f2e0cb1c"
      },
      "source": [
        "cv_forest_clf.best_params_"
      ],
      "execution_count": null,
      "outputs": [
        {
          "output_type": "execute_result",
          "data": {
            "text/plain": [
              "{'criterion': 'entropy',\n",
              " 'max_depth': 32,\n",
              " 'n_estimators': 100,\n",
              " 'random_state': 42}"
            ]
          },
          "metadata": {
            "tags": []
          },
          "execution_count": 78
        }
      ]
    },
    {
      "cell_type": "markdown",
      "metadata": {
        "id": "tI4vakHS7Els",
        "colab_type": "text"
      },
      "source": [
        "Изменились наилучшие значения criterion и max_depth для случайного леса – было gini и 44 для шести классов, стало entropy и 32 для трёх."
      ]
    },
    {
      "cell_type": "code",
      "metadata": {
        "id": "PGwrOsDRxjja",
        "colab_type": "code",
        "colab": {}
      },
      "source": [
        "forest_clf = RandomForestClassifier(criterion='entropy', max_depth=32,\n",
        "                                    n_jobs=-1, random_state=42)"
      ],
      "execution_count": null,
      "outputs": []
    },
    {
      "cell_type": "code",
      "metadata": {
        "id": "nbZTpCuzxyZ5",
        "colab_type": "code",
        "colab": {
          "base_uri": "https://localhost:8080/",
          "height": 153
        },
        "outputId": "52b15538-0111-46d1-8f97-3c625fffda5e"
      },
      "source": [
        "forest_clf.fit(X_train, y_train)"
      ],
      "execution_count": null,
      "outputs": [
        {
          "output_type": "execute_result",
          "data": {
            "text/plain": [
              "RandomForestClassifier(bootstrap=True, ccp_alpha=0.0, class_weight=None,\n",
              "                       criterion='entropy', max_depth=32, max_features='auto',\n",
              "                       max_leaf_nodes=None, max_samples=None,\n",
              "                       min_impurity_decrease=0.0, min_impurity_split=None,\n",
              "                       min_samples_leaf=1, min_samples_split=2,\n",
              "                       min_weight_fraction_leaf=0.0, n_estimators=100,\n",
              "                       n_jobs=-1, oob_score=False, random_state=42, verbose=0,\n",
              "                       warm_start=False)"
            ]
          },
          "metadata": {
            "tags": []
          },
          "execution_count": 80
        }
      ]
    },
    {
      "cell_type": "code",
      "metadata": {
        "id": "BoRm8nMtyBnN",
        "colab_type": "code",
        "colab": {}
      },
      "source": [
        "y_pred = forest_clf.predict(X_test)"
      ],
      "execution_count": null,
      "outputs": []
    },
    {
      "cell_type": "code",
      "metadata": {
        "id": "bkxBDR1yyHoE",
        "colab_type": "code",
        "colab": {
          "base_uri": "https://localhost:8080/",
          "height": 34
        },
        "outputId": "14d61850-bfc4-4fab-ab97-eee5f89e1059"
      },
      "source": [
        "accuracy_score(y_test, y_pred)"
      ],
      "execution_count": null,
      "outputs": [
        {
          "output_type": "execute_result",
          "data": {
            "text/plain": [
              "0.8019150209455416"
            ]
          },
          "metadata": {
            "tags": []
          },
          "execution_count": 82
        }
      ]
    },
    {
      "cell_type": "markdown",
      "metadata": {
        "id": "840s8a6kyNH1",
        "colab_type": "text"
      },
      "source": [
        "Случайный лес всё ещё даёт самую высокую accuracy. Попробуем ансамблевые методы для трёх классов."
      ]
    },
    {
      "cell_type": "code",
      "metadata": {
        "colab_type": "code",
        "id": "f58tLRRBycSR",
        "colab": {}
      },
      "source": [
        "logreg_clf = LogisticRegression(C=1.5, random_state=42, n_jobs=-1)\n",
        "tree_clf = DecisionTreeClassifier(max_depth=5, random_state=42)\n",
        "forest_clf = RandomForestClassifier(criterion='entropy', max_depth=32,\n",
        "                                    n_jobs=-1, random_state=42)\n",
        "\n",
        "voting_clf = VotingClassifier([('logreg', logreg_clf),\n",
        "                               ('tree', tree_clf),\n",
        "                               ('forest', forest_clf)], n_jobs=-1)"
      ],
      "execution_count": null,
      "outputs": []
    },
    {
      "cell_type": "code",
      "metadata": {
        "colab_type": "code",
        "id": "c8Gz-bH9ycSU",
        "colab": {}
      },
      "source": [
        "param_grid = {'voting': ['hard', 'soft'],\n",
        "              'weights': list(product(range(1, 6), repeat=3))}\n",
        "\n",
        "cv_voting_clf = GridSearchCV(voting_clf, param_grid, scoring='accuracy',\n",
        "                             n_jobs=-1, verbose=2)"
      ],
      "execution_count": null,
      "outputs": []
    },
    {
      "cell_type": "code",
      "metadata": {
        "colab_type": "code",
        "id": "i43WLlXDycSZ",
        "colab": {
          "base_uri": "https://localhost:8080/",
          "height": 663
        },
        "outputId": "776791ee-233a-4ba2-8645-de2a33d1b3e3"
      },
      "source": [
        "cv_voting_clf.fit(X_train, y_train)"
      ],
      "execution_count": null,
      "outputs": [
        {
          "output_type": "stream",
          "text": [
            "Fitting 5 folds for each of 250 candidates, totalling 1250 fits\n"
          ],
          "name": "stdout"
        },
        {
          "output_type": "stream",
          "text": [
            "[Parallel(n_jobs=-1)]: Using backend LokyBackend with 2 concurrent workers.\n",
            "[Parallel(n_jobs=-1)]: Done  37 tasks      | elapsed:  2.2min\n",
            "[Parallel(n_jobs=-1)]: Done 158 tasks      | elapsed:  9.1min\n",
            "[Parallel(n_jobs=-1)]: Done 361 tasks      | elapsed: 20.7min\n",
            "[Parallel(n_jobs=-1)]: Done 644 tasks      | elapsed: 36.8min\n",
            "[Parallel(n_jobs=-1)]: Done 1009 tasks      | elapsed: 57.2min\n",
            "[Parallel(n_jobs=-1)]: Done 1250 out of 1250 | elapsed: 70.7min finished\n"
          ],
          "name": "stderr"
        },
        {
          "output_type": "execute_result",
          "data": {
            "text/plain": [
              "GridSearchCV(cv=None, error_score=nan,\n",
              "             estimator=VotingClassifier(estimators=[('logreg',\n",
              "                                                     LogisticRegression(C=1.5,\n",
              "                                                                        class_weight=None,\n",
              "                                                                        dual=False,\n",
              "                                                                        fit_intercept=True,\n",
              "                                                                        intercept_scaling=1,\n",
              "                                                                        l1_ratio=None,\n",
              "                                                                        max_iter=100,\n",
              "                                                                        multi_class='auto',\n",
              "                                                                        n_jobs=-1,\n",
              "                                                                        penalty='l2',\n",
              "                                                                        random_state=42,\n",
              "                                                                        solver='lbfgs',\n",
              "                                                                        tol=0.0001,\n",
              "                                                                        verbose=0,\n",
              "                                                                        warm_start=False)),\n",
              "                                                    ('tree',\n",
              "                                                     DecisionTreeClassifier(...\n",
              "             param_grid={'voting': ['hard', 'soft'],\n",
              "                         'weights': [(1, 1, 1), (1, 1, 2), (1, 1, 3), (1, 1, 4),\n",
              "                                     (1, 1, 5), (1, 2, 1), (1, 2, 2), (1, 2, 3),\n",
              "                                     (1, 2, 4), (1, 2, 5), (1, 3, 1), (1, 3, 2),\n",
              "                                     (1, 3, 3), (1, 3, 4), (1, 3, 5), (1, 4, 1),\n",
              "                                     (1, 4, 2), (1, 4, 3), (1, 4, 4), (1, 4, 5),\n",
              "                                     (1, 5, 1), (1, 5, 2), (1, 5, 3), (1, 5, 4),\n",
              "                                     (1, 5, 5), (2, 1, 1), (2, 1, 2), (2, 1, 3),\n",
              "                                     (2, 1, 4), (2, 1, 5), ...]},\n",
              "             pre_dispatch='2*n_jobs', refit=True, return_train_score=False,\n",
              "             scoring='accuracy', verbose=2)"
            ]
          },
          "metadata": {
            "tags": []
          },
          "execution_count": 85
        }
      ]
    },
    {
      "cell_type": "code",
      "metadata": {
        "id": "j4DXLKPwykwT",
        "colab_type": "code",
        "colab": {
          "base_uri": "https://localhost:8080/",
          "height": 34
        },
        "outputId": "2be298a0-733a-43fb-a755-a06f21b6c7b0"
      },
      "source": [
        "cv_voting_clf.best_params_"
      ],
      "execution_count": null,
      "outputs": [
        {
          "output_type": "execute_result",
          "data": {
            "text/plain": [
              "{'voting': 'hard', 'weights': (1, 1, 2)}"
            ]
          },
          "metadata": {
            "tags": []
          },
          "execution_count": 86
        }
      ]
    },
    {
      "cell_type": "markdown",
      "metadata": {
        "id": "C21zdL1aH0Lv",
        "colab_type": "text"
      },
      "source": [
        "Снизился вес случайного леса в VotingClassifier – наилучшие веса для шести классов были (1, 1, 3), для трёх стали (1, 1, 2)."
      ]
    },
    {
      "cell_type": "code",
      "metadata": {
        "colab_type": "code",
        "id": "H-dfOA0eILp8",
        "colab": {}
      },
      "source": [
        "logreg_clf = LogisticRegression(C=1.5, random_state=42, n_jobs=-1)\n",
        "tree_clf = DecisionTreeClassifier(max_depth=5, random_state=42)\n",
        "forest_clf = RandomForestClassifier(criterion='entropy', max_depth=32,\n",
        "                                    n_jobs=-1, random_state=42)\n",
        "\n",
        "voting_clf = VotingClassifier([('logreg', logreg_clf),\n",
        "                               ('tree', tree_clf),\n",
        "                               ('forest', forest_clf)], weights=(1, 1, 2),\n",
        "                              n_jobs=-1)"
      ],
      "execution_count": null,
      "outputs": []
    },
    {
      "cell_type": "code",
      "metadata": {
        "colab_type": "code",
        "id": "_b4S8QYVILqA",
        "colab": {
          "base_uri": "https://localhost:8080/",
          "height": 510
        },
        "outputId": "367a1317-8681-4fc8-8d05-d8ae11c0dba8"
      },
      "source": [
        "voting_clf.fit(X_train, y_train)"
      ],
      "execution_count": null,
      "outputs": [
        {
          "output_type": "execute_result",
          "data": {
            "text/plain": [
              "VotingClassifier(estimators=[('logreg',\n",
              "                              LogisticRegression(C=1.5, class_weight=None,\n",
              "                                                 dual=False, fit_intercept=True,\n",
              "                                                 intercept_scaling=1,\n",
              "                                                 l1_ratio=None, max_iter=100,\n",
              "                                                 multi_class='auto', n_jobs=-1,\n",
              "                                                 penalty='l2', random_state=42,\n",
              "                                                 solver='lbfgs', tol=0.0001,\n",
              "                                                 verbose=0, warm_start=False)),\n",
              "                             ('tree',\n",
              "                              DecisionTreeClassifier(ccp_alpha=0.0,\n",
              "                                                     class_weight=None,\n",
              "                                                     criterion='gini...\n",
              "                                                     criterion='entropy',\n",
              "                                                     max_depth=32,\n",
              "                                                     max_features='auto',\n",
              "                                                     max_leaf_nodes=None,\n",
              "                                                     max_samples=None,\n",
              "                                                     min_impurity_decrease=0.0,\n",
              "                                                     min_impurity_split=None,\n",
              "                                                     min_samples_leaf=1,\n",
              "                                                     min_samples_split=2,\n",
              "                                                     min_weight_fraction_leaf=0.0,\n",
              "                                                     n_estimators=100,\n",
              "                                                     n_jobs=-1, oob_score=False,\n",
              "                                                     random_state=42, verbose=0,\n",
              "                                                     warm_start=False))],\n",
              "                 flatten_transform=True, n_jobs=-1, voting='hard',\n",
              "                 weights=(1, 1, 2))"
            ]
          },
          "metadata": {
            "tags": []
          },
          "execution_count": 88
        }
      ]
    },
    {
      "cell_type": "code",
      "metadata": {
        "colab_type": "code",
        "id": "i4O1QzzQILqD",
        "colab": {}
      },
      "source": [
        "y_pred = voting_clf.predict(X_test)"
      ],
      "execution_count": null,
      "outputs": []
    },
    {
      "cell_type": "code",
      "metadata": {
        "colab_type": "code",
        "id": "BZ_EoYLFILqH",
        "colab": {
          "base_uri": "https://localhost:8080/",
          "height": 34
        },
        "outputId": "790803fb-bd1d-4f55-9aad-0fbdef9418d2"
      },
      "source": [
        "accuracy_score(y_test, y_pred)"
      ],
      "execution_count": null,
      "outputs": [
        {
          "output_type": "execute_result",
          "data": {
            "text/plain": [
              "0.8019150209455416"
            ]
          },
          "metadata": {
            "tags": []
          },
          "execution_count": 90
        }
      ]
    },
    {
      "cell_type": "markdown",
      "metadata": {
        "id": "SzbSY-VfIXJ2",
        "colab_type": "text"
      },
      "source": [
        "Accuracy VotingClassifier со случайным лесом всё ещё такая же, как и у одного случайного леса. Попробуем BaggingClassifier на случайном лесе с разными значениями n_estimators."
      ]
    },
    {
      "cell_type": "code",
      "metadata": {
        "colab_type": "code",
        "id": "cIt8BHf9ItZf",
        "colab": {}
      },
      "source": [
        "bagging_clf = BaggingClassifier(\n",
        "    base_estimator=RandomForestClassifier(criterion='entropy', max_depth=32,\n",
        "                                          n_jobs=-1, random_state=42),\n",
        "                                n_jobs=-1)"
      ],
      "execution_count": null,
      "outputs": []
    },
    {
      "cell_type": "code",
      "metadata": {
        "colab_type": "code",
        "id": "HDGM8PXAItZj",
        "colab": {}
      },
      "source": [
        "param_grid = {'n_estimators': [5, 10, 15],\n",
        "              'random_state': [42]}\n",
        "\n",
        "cv_bagging_clf = GridSearchCV(bagging_clf, param_grid, scoring='accuracy',\n",
        "                              n_jobs=-1, verbose=2)"
      ],
      "execution_count": null,
      "outputs": []
    },
    {
      "cell_type": "code",
      "metadata": {
        "colab_type": "code",
        "id": "glb2sWakItZm",
        "colab": {
          "base_uri": "https://localhost:8080/",
          "height": 547
        },
        "outputId": "345b060f-8cf6-4cfb-e3b4-6cf9f0a4db0a"
      },
      "source": [
        "cv_bagging_clf.fit(X_train, y_train)"
      ],
      "execution_count": null,
      "outputs": [
        {
          "output_type": "stream",
          "text": [
            "Fitting 5 folds for each of 3 candidates, totalling 15 fits\n"
          ],
          "name": "stdout"
        },
        {
          "output_type": "stream",
          "text": [
            "[Parallel(n_jobs=-1)]: Using backend LokyBackend with 2 concurrent workers.\n",
            "/usr/local/lib/python3.6/dist-packages/joblib/externals/loky/process_executor.py:691: UserWarning: A worker stopped while some jobs were given to the executor. This can be caused by a too short worker timeout or by a memory leak.\n",
            "  \"timeout or by a memory leak.\", UserWarning\n",
            "[Parallel(n_jobs=-1)]: Done  15 out of  15 | elapsed:  3.8min finished\n"
          ],
          "name": "stderr"
        },
        {
          "output_type": "execute_result",
          "data": {
            "text/plain": [
              "GridSearchCV(cv=None, error_score=nan,\n",
              "             estimator=BaggingClassifier(base_estimator=RandomForestClassifier(bootstrap=True,\n",
              "                                                                               ccp_alpha=0.0,\n",
              "                                                                               class_weight=None,\n",
              "                                                                               criterion='entropy',\n",
              "                                                                               max_depth=32,\n",
              "                                                                               max_features='auto',\n",
              "                                                                               max_leaf_nodes=None,\n",
              "                                                                               max_samples=None,\n",
              "                                                                               min_impurity_decrease=0.0,\n",
              "                                                                               min_impurity_split=None,\n",
              "                                                                               min_samples_leaf=1,\n",
              "                                                                               min_samples_split=2,\n",
              "                                                                               min_weight_fraction_l...\n",
              "                                                                               warm_start=False),\n",
              "                                         bootstrap=True,\n",
              "                                         bootstrap_features=False,\n",
              "                                         max_features=1.0, max_samples=1.0,\n",
              "                                         n_estimators=10, n_jobs=-1,\n",
              "                                         oob_score=False, random_state=None,\n",
              "                                         verbose=0, warm_start=False),\n",
              "             iid='deprecated', n_jobs=-1,\n",
              "             param_grid={'n_estimators': [5, 10, 15], 'random_state': [42]},\n",
              "             pre_dispatch='2*n_jobs', refit=True, return_train_score=False,\n",
              "             scoring='accuracy', verbose=2)"
            ]
          },
          "metadata": {
            "tags": []
          },
          "execution_count": 93
        }
      ]
    },
    {
      "cell_type": "code",
      "metadata": {
        "colab_type": "code",
        "id": "P1CHqmvUItZq",
        "colab": {
          "base_uri": "https://localhost:8080/",
          "height": 34
        },
        "outputId": "001d76bd-b05f-4f99-bbfe-2e783aa34734"
      },
      "source": [
        "cv_bagging_clf.best_params_"
      ],
      "execution_count": null,
      "outputs": [
        {
          "output_type": "execute_result",
          "data": {
            "text/plain": [
              "{'n_estimators': 5, 'random_state': 42}"
            ]
          },
          "metadata": {
            "tags": []
          },
          "execution_count": 94
        }
      ]
    },
    {
      "cell_type": "markdown",
      "metadata": {
        "id": "M4EU6DenOPnd",
        "colab_type": "text"
      },
      "source": [
        "Снизилось наилучшее значение n_estimators для BaggingClassifier на случайном лесе – для шести классов было 15, для трёх стало 5."
      ]
    },
    {
      "cell_type": "code",
      "metadata": {
        "colab_type": "code",
        "id": "38jV5jqrOqWX",
        "colab": {}
      },
      "source": [
        "bagging_clf = BaggingClassifier(\n",
        "    base_estimator=RandomForestClassifier(criterion='entropy', max_depth=32,\n",
        "                                          n_jobs=-1, random_state=42),\n",
        "                                n_estimators=5, n_jobs=-1, random_state=42)"
      ],
      "execution_count": null,
      "outputs": []
    },
    {
      "cell_type": "code",
      "metadata": {
        "colab_type": "code",
        "id": "CrGRwA5JOqWb",
        "colab": {
          "base_uri": "https://localhost:8080/",
          "height": 391
        },
        "outputId": "90b8ca49-b323-4dbd-9bbf-ad8c69f72f4a"
      },
      "source": [
        "bagging_clf.fit(X_train, y_train)"
      ],
      "execution_count": null,
      "outputs": [
        {
          "output_type": "execute_result",
          "data": {
            "text/plain": [
              "BaggingClassifier(base_estimator=RandomForestClassifier(bootstrap=True,\n",
              "                                                        ccp_alpha=0.0,\n",
              "                                                        class_weight=None,\n",
              "                                                        criterion='entropy',\n",
              "                                                        max_depth=32,\n",
              "                                                        max_features='auto',\n",
              "                                                        max_leaf_nodes=None,\n",
              "                                                        max_samples=None,\n",
              "                                                        min_impurity_decrease=0.0,\n",
              "                                                        min_impurity_split=None,\n",
              "                                                        min_samples_leaf=1,\n",
              "                                                        min_samples_split=2,\n",
              "                                                        min_weight_fraction_leaf=0.0,\n",
              "                                                        n_estimators=100,\n",
              "                                                        n_jobs=-1,\n",
              "                                                        oob_score=False,\n",
              "                                                        random_state=42,\n",
              "                                                        verbose=0,\n",
              "                                                        warm_start=False),\n",
              "                  bootstrap=True, bootstrap_features=False, max_features=1.0,\n",
              "                  max_samples=1.0, n_estimators=5, n_jobs=-1, oob_score=False,\n",
              "                  random_state=42, verbose=0, warm_start=False)"
            ]
          },
          "metadata": {
            "tags": []
          },
          "execution_count": 96
        }
      ]
    },
    {
      "cell_type": "code",
      "metadata": {
        "colab_type": "code",
        "id": "dVU10nnAOqWh",
        "colab": {}
      },
      "source": [
        "y_pred = bagging_clf.predict(X_test)"
      ],
      "execution_count": null,
      "outputs": []
    },
    {
      "cell_type": "code",
      "metadata": {
        "colab_type": "code",
        "id": "V6-7GZJbOqWk",
        "colab": {
          "base_uri": "https://localhost:8080/",
          "height": 34
        },
        "outputId": "48c371eb-42f7-47fe-8923-19ed4f726eb1"
      },
      "source": [
        "accuracy_score(y_test, y_pred)"
      ],
      "execution_count": null,
      "outputs": [
        {
          "output_type": "execute_result",
          "data": {
            "text/plain": [
              "0.8009176142030721"
            ]
          },
          "metadata": {
            "tags": []
          },
          "execution_count": 98
        }
      ]
    },
    {
      "cell_type": "markdown",
      "metadata": {
        "colab_type": "text",
        "id": "o_Sz9P9BPIb9"
      },
      "source": [
        "Бэггинг нескольких случайных лесов по-прежнему ухудшает accuracy. Попробуем StackingClassifier на всех трёх классификаторах с разными значениями cv и passthrough."
      ]
    },
    {
      "cell_type": "code",
      "metadata": {
        "colab_type": "code",
        "id": "nsZC2v7pPIb-",
        "colab": {}
      },
      "source": [
        "logreg_clf = LogisticRegression(C=1.5, random_state=42, n_jobs=-1)\n",
        "tree_clf = DecisionTreeClassifier(max_depth=5, random_state=42)\n",
        "forest_clf = RandomForestClassifier(criterion='entropy', max_depth=32,\n",
        "                                    n_jobs=-1, random_state=42)\n",
        "\n",
        "stacking_clf = StackingClassifier([('logreg', logreg_clf),\n",
        "                                   ('tree', tree_clf),\n",
        "                                   ('forest', forest_clf)], n_jobs=-1)"
      ],
      "execution_count": null,
      "outputs": []
    },
    {
      "cell_type": "code",
      "metadata": {
        "colab_type": "code",
        "id": "Y4kIVWlgPIcB",
        "colab": {}
      },
      "source": [
        "param_grid = {'cv': [2, 3, 4, 5, 6, 7, 8, 9, 10],\n",
        "              'passthrough': [True, False]}\n",
        "\n",
        "cv_stacking_clf = GridSearchCV(stacking_clf, param_grid, scoring='accuracy',\n",
        "                               n_jobs=-1, verbose=2)"
      ],
      "execution_count": null,
      "outputs": []
    },
    {
      "cell_type": "code",
      "metadata": {
        "colab_type": "code",
        "id": "WrdBnUtpPIcD",
        "colab": {
          "base_uri": "https://localhost:8080/",
          "height": 799
        },
        "outputId": "f644c060-786f-45a4-9af8-c45e13353f18"
      },
      "source": [
        "cv_stacking_clf.fit(X_train, y_train)"
      ],
      "execution_count": null,
      "outputs": [
        {
          "output_type": "stream",
          "text": [
            "Fitting 5 folds for each of 18 candidates, totalling 90 fits\n"
          ],
          "name": "stdout"
        },
        {
          "output_type": "stream",
          "text": [
            "[Parallel(n_jobs=-1)]: Using backend LokyBackend with 2 concurrent workers.\n",
            "[Parallel(n_jobs=-1)]: Done  37 tasks      | elapsed:  8.0min\n",
            "[Parallel(n_jobs=-1)]: Done  90 out of  90 | elapsed: 31.8min finished\n",
            "/usr/local/lib/python3.6/dist-packages/sklearn/linear_model/_logistic.py:940: ConvergenceWarning: lbfgs failed to converge (status=1):\n",
            "STOP: TOTAL NO. of ITERATIONS REACHED LIMIT.\n",
            "\n",
            "Increase the number of iterations (max_iter) or scale the data as shown in:\n",
            "    https://scikit-learn.org/stable/modules/preprocessing.html\n",
            "Please also refer to the documentation for alternative solver options:\n",
            "    https://scikit-learn.org/stable/modules/linear_model.html#logistic-regression\n",
            "  extra_warning_msg=_LOGISTIC_SOLVER_CONVERGENCE_MSG)\n"
          ],
          "name": "stderr"
        },
        {
          "output_type": "execute_result",
          "data": {
            "text/plain": [
              "GridSearchCV(cv=None, error_score=nan,\n",
              "             estimator=StackingClassifier(cv=None,\n",
              "                                          estimators=[('logreg',\n",
              "                                                       LogisticRegression(C=1.5,\n",
              "                                                                          class_weight=None,\n",
              "                                                                          dual=False,\n",
              "                                                                          fit_intercept=True,\n",
              "                                                                          intercept_scaling=1,\n",
              "                                                                          l1_ratio=None,\n",
              "                                                                          max_iter=100,\n",
              "                                                                          multi_class='auto',\n",
              "                                                                          n_jobs=-1,\n",
              "                                                                          penalty='l2',\n",
              "                                                                          random_state=42,\n",
              "                                                                          solver='lbfgs',\n",
              "                                                                          tol=0.0001,\n",
              "                                                                          verbose=0,\n",
              "                                                                          warm_start=False)),\n",
              "                                                      ('tree',\n",
              "                                                       DecisionTreeC...\n",
              "                                                                              n_estimators=100,\n",
              "                                                                              n_jobs=-1,\n",
              "                                                                              oob_score=False,\n",
              "                                                                              random_state=42,\n",
              "                                                                              verbose=0,\n",
              "                                                                              warm_start=False))],\n",
              "                                          final_estimator=None, n_jobs=-1,\n",
              "                                          passthrough=False,\n",
              "                                          stack_method='auto', verbose=0),\n",
              "             iid='deprecated', n_jobs=-1,\n",
              "             param_grid={'cv': [2, 3, 4, 5, 6, 7, 8, 9, 10],\n",
              "                         'passthrough': [True, False]},\n",
              "             pre_dispatch='2*n_jobs', refit=True, return_train_score=False,\n",
              "             scoring='accuracy', verbose=2)"
            ]
          },
          "metadata": {
            "tags": []
          },
          "execution_count": 101
        }
      ]
    },
    {
      "cell_type": "code",
      "metadata": {
        "colab_type": "code",
        "id": "MrgqUjeTPIcH",
        "colab": {
          "base_uri": "https://localhost:8080/",
          "height": 34
        },
        "outputId": "9f8e0738-4b36-4a77-9d23-25ff87c040e6"
      },
      "source": [
        "cv_stacking_clf.best_params_"
      ],
      "execution_count": null,
      "outputs": [
        {
          "output_type": "execute_result",
          "data": {
            "text/plain": [
              "{'cv': 4, 'passthrough': False}"
            ]
          },
          "metadata": {
            "tags": []
          },
          "execution_count": 102
        }
      ]
    },
    {
      "cell_type": "markdown",
      "metadata": {
        "id": "b8pdAk9WajXR",
        "colab_type": "text"
      },
      "source": [
        "Изменились наилучшие значения cv и passthrough для StackingClassifier – было 6 и True для шести классов, стало 4 и False для трёх."
      ]
    },
    {
      "cell_type": "code",
      "metadata": {
        "id": "2dgrKNpqOFnf",
        "colab_type": "code",
        "colab": {}
      },
      "source": [
        "logreg_clf = LogisticRegression(C=1.5, random_state=42, n_jobs=-1)\n",
        "tree_clf = DecisionTreeClassifier(max_depth=5, random_state=42)\n",
        "forest_clf = RandomForestClassifier(criterion='entropy', max_depth=32,\n",
        "                                    n_jobs=-1, random_state=42)\n",
        "\n",
        "stacking_clf = StackingClassifier([('logreg', logreg_clf),\n",
        "                                   ('tree', tree_clf),\n",
        "                                   ('forest', forest_clf)], cv=4, n_jobs=-1)"
      ],
      "execution_count": null,
      "outputs": []
    },
    {
      "cell_type": "code",
      "metadata": {
        "id": "FH-N4GfKbJb0",
        "colab_type": "code",
        "colab": {
          "base_uri": "https://localhost:8080/",
          "height": 731
        },
        "outputId": "605be737-fe9b-4bb1-8444-da32928236f3"
      },
      "source": [
        "stacking_clf.fit(X_train, y_train)"
      ],
      "execution_count": null,
      "outputs": [
        {
          "output_type": "stream",
          "text": [
            "/usr/local/lib/python3.6/dist-packages/sklearn/linear_model/_logistic.py:940: ConvergenceWarning: lbfgs failed to converge (status=1):\n",
            "STOP: TOTAL NO. of ITERATIONS REACHED LIMIT.\n",
            "\n",
            "Increase the number of iterations (max_iter) or scale the data as shown in:\n",
            "    https://scikit-learn.org/stable/modules/preprocessing.html\n",
            "Please also refer to the documentation for alternative solver options:\n",
            "    https://scikit-learn.org/stable/modules/linear_model.html#logistic-regression\n",
            "  extra_warning_msg=_LOGISTIC_SOLVER_CONVERGENCE_MSG)\n"
          ],
          "name": "stderr"
        },
        {
          "output_type": "execute_result",
          "data": {
            "text/plain": [
              "StackingClassifier(cv=4,\n",
              "                   estimators=[('logreg',\n",
              "                                LogisticRegression(C=1.5, class_weight=None,\n",
              "                                                   dual=False,\n",
              "                                                   fit_intercept=True,\n",
              "                                                   intercept_scaling=1,\n",
              "                                                   l1_ratio=None, max_iter=100,\n",
              "                                                   multi_class='auto',\n",
              "                                                   n_jobs=-1, penalty='l2',\n",
              "                                                   random_state=42,\n",
              "                                                   solver='lbfgs', tol=0.0001,\n",
              "                                                   verbose=0,\n",
              "                                                   warm_start=False)),\n",
              "                               ('tree',\n",
              "                                DecisionTreeClassifier(ccp_alpha=0.0,\n",
              "                                                       class_weight=None,\n",
              "                                                       criterio...\n",
              "                                                       max_depth=32,\n",
              "                                                       max_features='auto',\n",
              "                                                       max_leaf_nodes=None,\n",
              "                                                       max_samples=None,\n",
              "                                                       min_impurity_decrease=0.0,\n",
              "                                                       min_impurity_split=None,\n",
              "                                                       min_samples_leaf=1,\n",
              "                                                       min_samples_split=2,\n",
              "                                                       min_weight_fraction_leaf=0.0,\n",
              "                                                       n_estimators=100,\n",
              "                                                       n_jobs=-1,\n",
              "                                                       oob_score=False,\n",
              "                                                       random_state=42,\n",
              "                                                       verbose=0,\n",
              "                                                       warm_start=False))],\n",
              "                   final_estimator=None, n_jobs=-1, passthrough=False,\n",
              "                   stack_method='auto', verbose=0)"
            ]
          },
          "metadata": {
            "tags": []
          },
          "execution_count": 105
        }
      ]
    },
    {
      "cell_type": "code",
      "metadata": {
        "id": "ffj3rfn_bOWw",
        "colab_type": "code",
        "colab": {}
      },
      "source": [
        "y_pred = stacking_clf.predict(X_test)"
      ],
      "execution_count": null,
      "outputs": []
    },
    {
      "cell_type": "code",
      "metadata": {
        "id": "aCIWIuLxbSNi",
        "colab_type": "code",
        "colab": {
          "base_uri": "https://localhost:8080/",
          "height": 34
        },
        "outputId": "14e1f9cf-5881-41fc-8575-41252fcbd773"
      },
      "source": [
        "accuracy_score(y_test, y_pred)"
      ],
      "execution_count": null,
      "outputs": [
        {
          "output_type": "execute_result",
          "data": {
            "text/plain": [
              "0.8013165769000599"
            ]
          },
          "metadata": {
            "tags": []
          },
          "execution_count": 107
        }
      ]
    },
    {
      "cell_type": "markdown",
      "metadata": {
        "id": "zbsYI8SfcH9F",
        "colab_type": "text"
      },
      "source": [
        "Лучший результат даёт случайный лес с подобранными параметрами.\n",
        "#\"Great\" rating precision\n",
        "Посчитаем, насколько точно модели предсказывают рецепты с высоким рейтингом (precision класса 2)."
      ]
    },
    {
      "cell_type": "code",
      "metadata": {
        "colab_type": "code",
        "id": "yfJuKsIKe462",
        "colab": {}
      },
      "source": [
        "logreg_clf = LogisticRegression(C=1.5, random_state=42, n_jobs=-1)"
      ],
      "execution_count": null,
      "outputs": []
    },
    {
      "cell_type": "code",
      "metadata": {
        "colab_type": "code",
        "id": "tRO53qCGe467",
        "colab": {
          "base_uri": "https://localhost:8080/",
          "height": 85
        },
        "outputId": "8d556433-f48d-4225-d4eb-25c06a7b1b8e"
      },
      "source": [
        "logreg_clf.fit(X_train, y_train)"
      ],
      "execution_count": null,
      "outputs": [
        {
          "output_type": "execute_result",
          "data": {
            "text/plain": [
              "LogisticRegression(C=1.5, class_weight=None, dual=False, fit_intercept=True,\n",
              "                   intercept_scaling=1, l1_ratio=None, max_iter=100,\n",
              "                   multi_class='auto', n_jobs=-1, penalty='l2', random_state=42,\n",
              "                   solver='lbfgs', tol=0.0001, verbose=0, warm_start=False)"
            ]
          },
          "metadata": {
            "tags": []
          },
          "execution_count": 109
        }
      ]
    },
    {
      "cell_type": "code",
      "metadata": {
        "colab_type": "code",
        "id": "eKvfKGk8e46-",
        "colab": {}
      },
      "source": [
        "y_pred = logreg_clf.predict(X_test)"
      ],
      "execution_count": null,
      "outputs": []
    },
    {
      "cell_type": "code",
      "metadata": {
        "colab_type": "code",
        "id": "40-ge-LLe47A",
        "colab": {
          "base_uri": "https://localhost:8080/",
          "height": 34
        },
        "outputId": "dc9bd91e-75ae-4f3d-d688-78e540cfd264"
      },
      "source": [
        "precision_score(y_test, y_pred, labels=[2], average=None)[0]"
      ],
      "execution_count": null,
      "outputs": [
        {
          "output_type": "execute_result",
          "data": {
            "text/plain": [
              "0.806792759812894"
            ]
          },
          "metadata": {
            "tags": []
          },
          "execution_count": 111
        }
      ]
    },
    {
      "cell_type": "code",
      "metadata": {
        "colab_type": "code",
        "id": "O3Z_jokzfevd",
        "colab": {}
      },
      "source": [
        "tree_clf = DecisionTreeClassifier(max_depth=5, random_state=42)"
      ],
      "execution_count": null,
      "outputs": []
    },
    {
      "cell_type": "code",
      "metadata": {
        "colab_type": "code",
        "id": "lqtnhA9jfevi",
        "colab": {
          "base_uri": "https://localhost:8080/",
          "height": 119
        },
        "outputId": "272bb537-9d2d-49b4-d6de-66e0191ba375"
      },
      "source": [
        "tree_clf.fit(X_train, y_train)"
      ],
      "execution_count": null,
      "outputs": [
        {
          "output_type": "execute_result",
          "data": {
            "text/plain": [
              "DecisionTreeClassifier(ccp_alpha=0.0, class_weight=None, criterion='gini',\n",
              "                       max_depth=5, max_features=None, max_leaf_nodes=None,\n",
              "                       min_impurity_decrease=0.0, min_impurity_split=None,\n",
              "                       min_samples_leaf=1, min_samples_split=2,\n",
              "                       min_weight_fraction_leaf=0.0, presort='deprecated',\n",
              "                       random_state=42, splitter='best')"
            ]
          },
          "metadata": {
            "tags": []
          },
          "execution_count": 113
        }
      ]
    },
    {
      "cell_type": "code",
      "metadata": {
        "colab_type": "code",
        "id": "OZpOZnSCfevl",
        "colab": {}
      },
      "source": [
        "y_pred = tree_clf.predict(X_test)"
      ],
      "execution_count": null,
      "outputs": []
    },
    {
      "cell_type": "code",
      "metadata": {
        "colab_type": "code",
        "id": "3KVZBoVGfevp",
        "colab": {
          "base_uri": "https://localhost:8080/",
          "height": 34
        },
        "outputId": "3322732b-166e-4163-eeae-f60c78a12470"
      },
      "source": [
        "precision_score(y_test, y_pred, labels=[2], average=None)[0]"
      ],
      "execution_count": null,
      "outputs": [
        {
          "output_type": "execute_result",
          "data": {
            "text/plain": [
              "0.803030303030303"
            ]
          },
          "metadata": {
            "tags": []
          },
          "execution_count": 115
        }
      ]
    },
    {
      "cell_type": "code",
      "metadata": {
        "colab_type": "code",
        "id": "IelyhLIcf0Ou",
        "colab": {}
      },
      "source": [
        "forest_clf = RandomForestClassifier(criterion='entropy', max_depth=32,\n",
        "                                    n_jobs=-1, random_state=42)"
      ],
      "execution_count": null,
      "outputs": []
    },
    {
      "cell_type": "code",
      "metadata": {
        "colab_type": "code",
        "id": "khDhj-VSf0Oy",
        "colab": {
          "base_uri": "https://localhost:8080/",
          "height": 153
        },
        "outputId": "cc7c3913-04ee-4971-91dd-c56b628c8c27"
      },
      "source": [
        "forest_clf.fit(X_train, y_train)"
      ],
      "execution_count": null,
      "outputs": [
        {
          "output_type": "execute_result",
          "data": {
            "text/plain": [
              "RandomForestClassifier(bootstrap=True, ccp_alpha=0.0, class_weight=None,\n",
              "                       criterion='entropy', max_depth=32, max_features='auto',\n",
              "                       max_leaf_nodes=None, max_samples=None,\n",
              "                       min_impurity_decrease=0.0, min_impurity_split=None,\n",
              "                       min_samples_leaf=1, min_samples_split=2,\n",
              "                       min_weight_fraction_leaf=0.0, n_estimators=100,\n",
              "                       n_jobs=-1, oob_score=False, random_state=42, verbose=0,\n",
              "                       warm_start=False)"
            ]
          },
          "metadata": {
            "tags": []
          },
          "execution_count": 117
        }
      ]
    },
    {
      "cell_type": "code",
      "metadata": {
        "colab_type": "code",
        "id": "bj8hOmrvf0O3",
        "colab": {}
      },
      "source": [
        "y_pred = forest_clf.predict(X_test)"
      ],
      "execution_count": null,
      "outputs": []
    },
    {
      "cell_type": "code",
      "metadata": {
        "id": "dpvH5h4mf6AA",
        "colab_type": "code",
        "colab": {
          "base_uri": "https://localhost:8080/",
          "height": 34
        },
        "outputId": "14250ab8-d60b-429b-d370-d1b01650cd82"
      },
      "source": [
        "precision_score(y_test, y_pred, labels=[2], average=None)[0]"
      ],
      "execution_count": null,
      "outputs": [
        {
          "output_type": "execute_result",
          "data": {
            "text/plain": [
              "0.8064384678076609"
            ]
          },
          "metadata": {
            "tags": []
          },
          "execution_count": 119
        }
      ]
    },
    {
      "cell_type": "code",
      "metadata": {
        "id": "5aM_6B6Jgu7i",
        "colab_type": "code",
        "colab": {}
      },
      "source": [
        "y_pred = voting_clf.predict(X_test)"
      ],
      "execution_count": null,
      "outputs": []
    },
    {
      "cell_type": "code",
      "metadata": {
        "id": "sx3k6qoVhF9P",
        "colab_type": "code",
        "colab": {
          "base_uri": "https://localhost:8080/",
          "height": 34
        },
        "outputId": "725c8c4e-c3ed-4cc1-c71c-00605a2c22a4"
      },
      "source": [
        "precision_score(y_test, y_pred, labels=[2], average=None)[0]"
      ],
      "execution_count": null,
      "outputs": [
        {
          "output_type": "execute_result",
          "data": {
            "text/plain": [
              "0.8063990218055839"
            ]
          },
          "metadata": {
            "tags": []
          },
          "execution_count": 121
        }
      ]
    },
    {
      "cell_type": "code",
      "metadata": {
        "colab_type": "code",
        "id": "VVaZYHMRhYmz",
        "colab": {}
      },
      "source": [
        "y_pred = bagging_clf.predict(X_test)"
      ],
      "execution_count": null,
      "outputs": []
    },
    {
      "cell_type": "code",
      "metadata": {
        "colab_type": "code",
        "id": "diA4Ljt5hYm4",
        "colab": {
          "base_uri": "https://localhost:8080/",
          "height": 34
        },
        "outputId": "ab44fd3e-68fa-4ef1-b7f5-d9de7a7d3276"
      },
      "source": [
        "precision_score(y_test, y_pred, labels=[2], average=None)[0]"
      ],
      "execution_count": null,
      "outputs": [
        {
          "output_type": "execute_result",
          "data": {
            "text/plain": [
              "0.8047938249035141"
            ]
          },
          "metadata": {
            "tags": []
          },
          "execution_count": 123
        }
      ]
    },
    {
      "cell_type": "code",
      "metadata": {
        "colab_type": "code",
        "id": "ohg6Lj-ghf1Y",
        "colab": {}
      },
      "source": [
        "y_pred = stacking_clf.predict(X_test)"
      ],
      "execution_count": null,
      "outputs": []
    },
    {
      "cell_type": "code",
      "metadata": {
        "colab_type": "code",
        "id": "ofczzy1Bhf1e",
        "colab": {
          "base_uri": "https://localhost:8080/",
          "height": 34
        },
        "outputId": "19ba5cb9-6eab-4823-cddc-f7cd2ef28e97"
      },
      "source": [
        "precision_score(y_test, y_pred, labels=[2], average=None)[0]"
      ],
      "execution_count": null,
      "outputs": [
        {
          "output_type": "execute_result",
          "data": {
            "text/plain": [
              "0.8076923076923077"
            ]
          },
          "metadata": {
            "tags": []
          },
          "execution_count": 125
        }
      ]
    },
    {
      "cell_type": "markdown",
      "metadata": {
        "id": "IwjfQlMIhqDZ",
        "colab_type": "text"
      },
      "source": [
        "А вот здесь лучший результат даёт StackingClassifier. Будем его использовать в качестве финальной модели.\n",
        "#Final model\n",
        "Сохраняем модель."
      ]
    },
    {
      "cell_type": "code",
      "metadata": {
        "id": "jmRKykDwhWGb",
        "colab_type": "code",
        "colab": {}
      },
      "source": [
        "with open('model.pkl', 'wb') as f:\n",
        "    pickle.dump(stacking_clf, f)"
      ],
      "execution_count": null,
      "outputs": []
    },
    {
      "cell_type": "code",
      "metadata": {
        "id": "bp4MODWRh91g",
        "colab_type": "code",
        "colab": {}
      },
      "source": [
        "uploaded = drive.CreateFile({'title': 'model.pkl'})\n",
        "uploaded.SetContentFile('model.pkl')\n",
        "uploaded.Upload()"
      ],
      "execution_count": null,
      "outputs": []
    },
    {
      "cell_type": "markdown",
      "metadata": {
        "id": "RthellgakUq6",
        "colab_type": "text"
      },
      "source": [
        "#New data preparation\n",
        "##nutrients.csv"
      ]
    },
    {
      "cell_type": "code",
      "metadata": {
        "id": "4Prie14_qeI8",
        "colab_type": "code",
        "colab": {}
      },
      "source": [
        "columns = ['Protein', 'Carbohydrate, by difference', 'Fiber, total dietary',\n",
        "           'Total lipid (fat)', 'Fatty acids, total saturated', 'Cholesterol',\n",
        "           'Vitamin A, RAE', 'Thiamin', 'Riboflavin', 'Niacin', 'Vitamin B-6',\n",
        "           'Folate, DFE', 'Choline, total', 'Vitamin B-12',\n",
        "           'Vitamin C, total ascorbic acid', 'Vitamin D (D2 + D3)',\n",
        "           'Vitamin E (alpha-tocopherol)', 'Vitamin K (phylloquinone)',\n",
        "           'Calcium, Ca', 'Phosphorus, P', 'Magnesium, Mg', 'Iron, Fe',\n",
        "           'Zinc, Zn', 'Copper, Cu', 'Selenium, Se', 'Potassium, K',\n",
        "           'Sodium, Na']"
      ],
      "execution_count": null,
      "outputs": []
    },
    {
      "cell_type": "code",
      "metadata": {
        "id": "vKknpwO1JA3O",
        "colab_type": "code",
        "colab": {}
      },
      "source": [
        "daily_values = pd.Series([50, 275, 28, 78, 20, 300, 900, 1.2, 1.3, 16, 1.7, 400,\n",
        "                          550, 2.4, 90, 20, 15, 120, 1300, 1250, 420, 18, 11,\n",
        "                          0.9, 55, 4700, 2300], index=columns)"
      ],
      "execution_count": null,
      "outputs": []
    },
    {
      "cell_type": "code",
      "metadata": {
        "id": "ju5y9R7eOLzN",
        "colab_type": "code",
        "colab": {
          "base_uri": "https://localhost:8080/",
          "height": 493
        },
        "outputId": "086493b9-82bb-4935-c0f0-f7d9ddc00a1d"
      },
      "source": [
        "daily_values"
      ],
      "execution_count": null,
      "outputs": [
        {
          "output_type": "execute_result",
          "data": {
            "text/plain": [
              "Protein                             50.0\n",
              "Carbohydrate, by difference        275.0\n",
              "Fiber, total dietary                28.0\n",
              "Total lipid (fat)                   78.0\n",
              "Fatty acids, total saturated        20.0\n",
              "Cholesterol                        300.0\n",
              "Vitamin A, RAE                     900.0\n",
              "Thiamin                              1.2\n",
              "Riboflavin                           1.3\n",
              "Niacin                              16.0\n",
              "Vitamin B-6                          1.7\n",
              "Folate, DFE                        400.0\n",
              "Choline, total                     550.0\n",
              "Vitamin B-12                         2.4\n",
              "Vitamin C, total ascorbic acid      90.0\n",
              "Vitamin D (D2 + D3)                 20.0\n",
              "Vitamin E (alpha-tocopherol)        15.0\n",
              "Vitamin K (phylloquinone)          120.0\n",
              "Calcium, Ca                       1300.0\n",
              "Phosphorus, P                     1250.0\n",
              "Magnesium, Mg                      420.0\n",
              "Iron, Fe                            18.0\n",
              "Zinc, Zn                            11.0\n",
              "Copper, Cu                           0.9\n",
              "Selenium, Se                        55.0\n",
              "Potassium, K                      4700.0\n",
              "Sodium, Na                        2300.0\n",
              "dtype: float64"
            ]
          },
          "metadata": {
            "tags": []
          },
          "execution_count": 24
        }
      ]
    },
    {
      "cell_type": "code",
      "metadata": {
        "id": "mYL4nNA6PM9w",
        "colab_type": "code",
        "colab": {
          "base_uri": "https://localhost:8080/",
          "height": 122
        },
        "outputId": "9cf94f62-4722-4d7b-f992-3c931569f167"
      },
      "source": [
        "data = []\n",
        "\n",
        "for col in tqdm(df.columns[1:3]):\n",
        "    url = f'https://api.nal.usda.gov/fdc/v1/foods/search?query={col}&dataType=Survey%20(FNDDS)'\n",
        "    print(url)\n",
        "    response = requests.get(url, auth=(api_key, ''))\n",
        "    print(response.json()['foods'][0])\n",
        "    food = response.json()['foods'][0]['foodNutrients']\n",
        "    data.append({item['nutrientName']: item['nutrientNumber'] for item in food})\n",
        "    time.sleep(5)"
      ],
      "execution_count": null,
      "outputs": [
        {
          "output_type": "stream",
          "text": [
            "\r  0%|          | 0/2 [00:00<?, ?it/s]"
          ],
          "name": "stderr"
        },
        {
          "output_type": "stream",
          "text": [
            "https://api.nal.usda.gov/fdc/v1/foods/search?query=amaretto&dataType=Survey%20(FNDDS)\n",
            "{'fdcId': 789602, 'description': 'Cordial or liqueur', 'additionalDescriptions': 'amaretto; anisette; benedictine; chartreuse; cointreau; creme de menthe; curacao; drambuie; grenadine; kirsch; kummel; sloe gin; triple sec; schnapps; Jagermeister', 'dataType': 'Survey (FNDDS)', 'foodCode': '93201000', 'publishedDate': '2020-04-01', 'foodNutrients': [{'nutrientId': 1003, 'nutrientName': 'Protein', 'nutrientNumber': '203', 'unitName': 'G', 'value': 0.0}, {'nutrientId': 1004, 'nutrientName': 'Total lipid (fat)', 'nutrientNumber': '204', 'unitName': 'G', 'value': 0.3}, {'nutrientId': 1005, 'nutrientName': 'Carbohydrate, by difference', 'nutrientNumber': '205', 'unitName': 'G', 'value': 41.6}, {'nutrientId': 1008, 'nutrientName': 'Energy', 'nutrientNumber': '208', 'unitName': 'KCAL', 'value': 371.0}, {'nutrientId': 1018, 'nutrientName': 'Alcohol, ethyl', 'nutrientNumber': '221', 'unitName': 'G', 'value': 29.8}, {'nutrientId': 1051, 'nutrientName': 'Water', 'nutrientNumber': '255', 'unitName': 'G', 'value': 28.3}, {'nutrientId': 1057, 'nutrientName': 'Caffeine', 'nutrientNumber': '262', 'unitName': 'MG', 'value': 0.0}, {'nutrientId': 1058, 'nutrientName': 'Theobromine', 'nutrientNumber': '263', 'unitName': 'MG', 'value': 0.0}, {'nutrientId': 2000, 'nutrientName': 'Sugars, total including NLEA', 'nutrientNumber': '269', 'unitName': 'G', 'value': 41.6}, {'nutrientId': 1079, 'nutrientName': 'Fiber, total dietary', 'nutrientNumber': '291', 'unitName': 'G', 'value': 0.0}, {'nutrientId': 1087, 'nutrientName': 'Calcium, Ca', 'nutrientNumber': '301', 'unitName': 'MG', 'value': 0.0}, {'nutrientId': 1089, 'nutrientName': 'Iron, Fe', 'nutrientNumber': '303', 'unitName': 'MG', 'value': 0.07}, {'nutrientId': 1090, 'nutrientName': 'Magnesium, Mg', 'nutrientNumber': '304', 'unitName': 'MG', 'value': 0.0}, {'nutrientId': 1091, 'nutrientName': 'Phosphorus, P', 'nutrientNumber': '305', 'unitName': 'MG', 'value': 0.0}, {'nutrientId': 1092, 'nutrientName': 'Potassium, K', 'nutrientNumber': '306', 'unitName': 'MG', 'value': 0.0}, {'nutrientId': 1093, 'nutrientName': 'Sodium, Na', 'nutrientNumber': '307', 'unitName': 'MG', 'value': 5.0}, {'nutrientId': 1095, 'nutrientName': 'Zinc, Zn', 'nutrientNumber': '309', 'unitName': 'MG', 'value': 0.04}, {'nutrientId': 1098, 'nutrientName': 'Copper, Cu', 'nutrientNumber': '312', 'unitName': 'MG', 'value': 0.08}, {'nutrientId': 1103, 'nutrientName': 'Selenium, Se', 'nutrientNumber': '317', 'unitName': 'UG', 'value': 0.4}, {'nutrientId': 1105, 'nutrientName': 'Retinol', 'nutrientNumber': '319', 'unitName': 'UG', 'value': 0.0}, {'nutrientId': 1106, 'nutrientName': 'Vitamin A, RAE', 'nutrientNumber': '320', 'unitName': 'UG', 'value': 0.0}, {'nutrientId': 1107, 'nutrientName': 'Carotene, beta', 'nutrientNumber': '321', 'unitName': 'UG', 'value': 0.0}, {'nutrientId': 1108, 'nutrientName': 'Carotene, alpha', 'nutrientNumber': '322', 'unitName': 'UG', 'value': 0.0}, {'nutrientId': 1109, 'nutrientName': 'Vitamin E (alpha-tocopherol)', 'nutrientNumber': '323', 'unitName': 'MG', 'value': 0.0}, {'nutrientId': 1114, 'nutrientName': 'Vitamin D (D2 + D3)', 'nutrientNumber': '328', 'unitName': 'UG', 'value': 0.0}, {'nutrientId': 1120, 'nutrientName': 'Cryptoxanthin, beta', 'nutrientNumber': '334', 'unitName': 'UG', 'value': 0.0}, {'nutrientId': 1122, 'nutrientName': 'Lycopene', 'nutrientNumber': '337', 'unitName': 'UG', 'value': 0.0}, {'nutrientId': 1123, 'nutrientName': 'Lutein + zeaxanthin', 'nutrientNumber': '338', 'unitName': 'UG', 'value': 0.0}, {'nutrientId': 1162, 'nutrientName': 'Vitamin C, total ascorbic acid', 'nutrientNumber': '401', 'unitName': 'MG', 'value': 0.0}, {'nutrientId': 1165, 'nutrientName': 'Thiamin', 'nutrientNumber': '404', 'unitName': 'MG', 'value': 0.0}, {'nutrientId': 1166, 'nutrientName': 'Riboflavin', 'nutrientNumber': '405', 'unitName': 'MG', 'value': 0.0}, {'nutrientId': 1167, 'nutrientName': 'Niacin', 'nutrientNumber': '406', 'unitName': 'MG', 'value': 0.003}, {'nutrientId': 1175, 'nutrientName': 'Vitamin B-6', 'nutrientNumber': '415', 'unitName': 'MG', 'value': 0.0}, {'nutrientId': 1177, 'nutrientName': 'Folate, total', 'nutrientNumber': '417', 'unitName': 'UG', 'value': 0.0}, {'nutrientId': 1178, 'nutrientName': 'Vitamin B-12', 'nutrientNumber': '418', 'unitName': 'UG', 'value': 0.0}, {'nutrientId': 1180, 'nutrientName': 'Choline, total', 'nutrientNumber': '421', 'unitName': 'MG', 'value': 0.0}, {'nutrientId': 1185, 'nutrientName': 'Vitamin K (phylloquinone)', 'nutrientNumber': '430', 'unitName': 'UG', 'value': 0.0}, {'nutrientId': 1186, 'nutrientName': 'Folic acid', 'nutrientNumber': '431', 'unitName': 'UG', 'value': 0.0}, {'nutrientId': 1187, 'nutrientName': 'Folate, food', 'nutrientNumber': '432', 'unitName': 'UG', 'value': 0.0}, {'nutrientId': 1190, 'nutrientName': 'Folate, DFE', 'nutrientNumber': '435', 'unitName': 'UG', 'value': 0.0}, {'nutrientId': 1242, 'nutrientName': 'Vitamin E, added', 'nutrientNumber': '573', 'unitName': 'MG', 'value': 0.0}, {'nutrientId': 1246, 'nutrientName': 'Vitamin B-12, added', 'nutrientNumber': '578', 'unitName': 'UG', 'value': 0.0}, {'nutrientId': 1253, 'nutrientName': 'Cholesterol', 'nutrientNumber': '601', 'unitName': 'MG', 'value': 0.0}, {'nutrientId': 1258, 'nutrientName': 'Fatty acids, total saturated', 'nutrientNumber': '606', 'unitName': 'G', 'value': 0.014}, {'nutrientId': 1259, 'nutrientName': '4:0', 'nutrientNumber': '607', 'unitName': 'G', 'value': 0.0}, {'nutrientId': 1260, 'nutrientName': '6:0', 'nutrientNumber': '608', 'unitName': 'G', 'value': 0.0}, {'nutrientId': 1261, 'nutrientName': '8:0', 'nutrientNumber': '609', 'unitName': 'G', 'value': 0.0}, {'nutrientId': 1262, 'nutrientName': '10:0', 'nutrientNumber': '610', 'unitName': 'G', 'value': 0.0}, {'nutrientId': 1263, 'nutrientName': '12:0', 'nutrientNumber': '611', 'unitName': 'G', 'value': 0.0}, {'nutrientId': 1264, 'nutrientName': '14:0', 'nutrientNumber': '612', 'unitName': 'G', 'value': 0.0}, {'nutrientId': 1265, 'nutrientName': '16:0', 'nutrientNumber': '613', 'unitName': 'G', 'value': 0.01}, {'nutrientId': 1266, 'nutrientName': '18:0', 'nutrientNumber': '614', 'unitName': 'G', 'value': 0.003}, {'nutrientId': 1268, 'nutrientName': '18:1', 'nutrientNumber': '617', 'unitName': 'G', 'value': 0.015}, {'nutrientId': 1269, 'nutrientName': '18:2', 'nutrientNumber': '618', 'unitName': 'G', 'value': 0.058}, {'nutrientId': 1270, 'nutrientName': '18:3', 'nutrientNumber': '619', 'unitName': 'G', 'value': 0.109}, {'nutrientId': 1271, 'nutrientName': '20:4', 'nutrientNumber': '620', 'unitName': 'G', 'value': 0.0}, {'nutrientId': 1272, 'nutrientName': '22:6 n-3 (DHA)', 'nutrientNumber': '621', 'unitName': 'G', 'value': 0.0}, {'nutrientId': 1275, 'nutrientName': '16:1', 'nutrientNumber': '626', 'unitName': 'G', 'value': 0.0}, {'nutrientId': 1276, 'nutrientName': '18:4', 'nutrientNumber': '627', 'unitName': 'G', 'value': 0.0}, {'nutrientId': 1277, 'nutrientName': '20:1', 'nutrientNumber': '628', 'unitName': 'G', 'value': 0.0}, {'nutrientId': 1278, 'nutrientName': '20:5 n-3 (EPA)', 'nutrientNumber': '629', 'unitName': 'G', 'value': 0.0}, {'nutrientId': 1279, 'nutrientName': '22:1', 'nutrientNumber': '630', 'unitName': 'G', 'value': 0.0}, {'nutrientId': 1280, 'nutrientName': '22:5 n-3 (DPA)', 'nutrientNumber': '631', 'unitName': 'G', 'value': 0.0}, {'nutrientId': 1292, 'nutrientName': 'Fatty acids, total monounsaturated', 'nutrientNumber': '645', 'unitName': 'G', 'value': 0.015}, {'nutrientId': 1293, 'nutrientName': 'Fatty acids, total polyunsaturated', 'nutrientNumber': '646', 'unitName': 'G', 'value': 0.167}], 'allHighlightFields': '<b>Includes</b>: <em>amaretto</em>; anisette; benedictine; chartreuse; cointreau; creme de menthe; curacao; drambuie', 'score': 15.851181}\n"
          ],
          "name": "stdout"
        },
        {
          "output_type": "stream",
          "text": [
            "\r 50%|█████     | 1/2 [00:05<00:05,  5.44s/it]"
          ],
          "name": "stderr"
        },
        {
          "output_type": "stream",
          "text": [
            "https://api.nal.usda.gov/fdc/v1/foods/search?query=anchovy&dataType=Survey%20(FNDDS)\n",
            "{'fdcId': 782422, 'description': 'Anchovy, canned', 'dataType': 'Survey (FNDDS)', 'foodCode': '26101180', 'publishedDate': '2020-04-01', 'foodNutrients': [{'nutrientId': 1003, 'nutrientName': 'Protein', 'nutrientNumber': '203', 'unitName': 'G', 'value': 28.89}, {'nutrientId': 1004, 'nutrientName': 'Total lipid (fat)', 'nutrientNumber': '204', 'unitName': 'G', 'value': 9.71}, {'nutrientId': 1005, 'nutrientName': 'Carbohydrate, by difference', 'nutrientNumber': '205', 'unitName': 'G', 'value': 0.0}, {'nutrientId': 1008, 'nutrientName': 'Energy', 'nutrientNumber': '208', 'unitName': 'KCAL', 'value': 210.0}, {'nutrientId': 1018, 'nutrientName': 'Alcohol, ethyl', 'nutrientNumber': '221', 'unitName': 'G', 'value': 0.0}, {'nutrientId': 1051, 'nutrientName': 'Water', 'nutrientNumber': '255', 'unitName': 'G', 'value': 50.3}, {'nutrientId': 1057, 'nutrientName': 'Caffeine', 'nutrientNumber': '262', 'unitName': 'MG', 'value': 0.0}, {'nutrientId': 1058, 'nutrientName': 'Theobromine', 'nutrientNumber': '263', 'unitName': 'MG', 'value': 0.0}, {'nutrientId': 2000, 'nutrientName': 'Sugars, total including NLEA', 'nutrientNumber': '269', 'unitName': 'G', 'value': 0.0}, {'nutrientId': 1079, 'nutrientName': 'Fiber, total dietary', 'nutrientNumber': '291', 'unitName': 'G', 'value': 0.0}, {'nutrientId': 1087, 'nutrientName': 'Calcium, Ca', 'nutrientNumber': '301', 'unitName': 'MG', 'value': 232.0}, {'nutrientId': 1089, 'nutrientName': 'Iron, Fe', 'nutrientNumber': '303', 'unitName': 'MG', 'value': 4.63}, {'nutrientId': 1090, 'nutrientName': 'Magnesium, Mg', 'nutrientNumber': '304', 'unitName': 'MG', 'value': 69.0}, {'nutrientId': 1091, 'nutrientName': 'Phosphorus, P', 'nutrientNumber': '305', 'unitName': 'MG', 'value': 252.0}, {'nutrientId': 1092, 'nutrientName': 'Potassium, K', 'nutrientNumber': '306', 'unitName': 'MG', 'value': 544.0}, {'nutrientId': 1093, 'nutrientName': 'Sodium, Na', 'nutrientNumber': '307', 'unitName': 'MG', 'value': 3668.0}, {'nutrientId': 1095, 'nutrientName': 'Zinc, Zn', 'nutrientNumber': '309', 'unitName': 'MG', 'value': 2.44}, {'nutrientId': 1098, 'nutrientName': 'Copper, Cu', 'nutrientNumber': '312', 'unitName': 'MG', 'value': 0.339}, {'nutrientId': 1103, 'nutrientName': 'Selenium, Se', 'nutrientNumber': '317', 'unitName': 'UG', 'value': 68.1}, {'nutrientId': 1105, 'nutrientName': 'Retinol', 'nutrientNumber': '319', 'unitName': 'UG', 'value': 12.0}, {'nutrientId': 1106, 'nutrientName': 'Vitamin A, RAE', 'nutrientNumber': '320', 'unitName': 'UG', 'value': 12.0}, {'nutrientId': 1107, 'nutrientName': 'Carotene, beta', 'nutrientNumber': '321', 'unitName': 'UG', 'value': 0.0}, {'nutrientId': 1108, 'nutrientName': 'Carotene, alpha', 'nutrientNumber': '322', 'unitName': 'UG', 'value': 0.0}, {'nutrientId': 1109, 'nutrientName': 'Vitamin E (alpha-tocopherol)', 'nutrientNumber': '323', 'unitName': 'MG', 'value': 3.33}, {'nutrientId': 1114, 'nutrientName': 'Vitamin D (D2 + D3)', 'nutrientNumber': '328', 'unitName': 'UG', 'value': 1.7}, {'nutrientId': 1120, 'nutrientName': 'Cryptoxanthin, beta', 'nutrientNumber': '334', 'unitName': 'UG', 'value': 0.0}, {'nutrientId': 1122, 'nutrientName': 'Lycopene', 'nutrientNumber': '337', 'unitName': 'UG', 'value': 0.0}, {'nutrientId': 1123, 'nutrientName': 'Lutein + zeaxanthin', 'nutrientNumber': '338', 'unitName': 'UG', 'value': 0.0}, {'nutrientId': 1162, 'nutrientName': 'Vitamin C, total ascorbic acid', 'nutrientNumber': '401', 'unitName': 'MG', 'value': 0.0}, {'nutrientId': 1165, 'nutrientName': 'Thiamin', 'nutrientNumber': '404', 'unitName': 'MG', 'value': 0.078}, {'nutrientId': 1166, 'nutrientName': 'Riboflavin', 'nutrientNumber': '405', 'unitName': 'MG', 'value': 0.363}, {'nutrientId': 1167, 'nutrientName': 'Niacin', 'nutrientNumber': '406', 'unitName': 'MG', 'value': 19.903}, {'nutrientId': 1175, 'nutrientName': 'Vitamin B-6', 'nutrientNumber': '415', 'unitName': 'MG', 'value': 0.203}, {'nutrientId': 1177, 'nutrientName': 'Folate, total', 'nutrientNumber': '417', 'unitName': 'UG', 'value': 13.0}, {'nutrientId': 1178, 'nutrientName': 'Vitamin B-12', 'nutrientNumber': '418', 'unitName': 'UG', 'value': 0.88}, {'nutrientId': 1180, 'nutrientName': 'Choline, total', 'nutrientNumber': '421', 'unitName': 'MG', 'value': 85.0}, {'nutrientId': 1185, 'nutrientName': 'Vitamin K (phylloquinone)', 'nutrientNumber': '430', 'unitName': 'UG', 'value': 12.1}, {'nutrientId': 1186, 'nutrientName': 'Folic acid', 'nutrientNumber': '431', 'unitName': 'UG', 'value': 0.0}, {'nutrientId': 1187, 'nutrientName': 'Folate, food', 'nutrientNumber': '432', 'unitName': 'UG', 'value': 13.0}, {'nutrientId': 1190, 'nutrientName': 'Folate, DFE', 'nutrientNumber': '435', 'unitName': 'UG', 'value': 13.0}, {'nutrientId': 1242, 'nutrientName': 'Vitamin E, added', 'nutrientNumber': '573', 'unitName': 'MG', 'value': 0.0}, {'nutrientId': 1246, 'nutrientName': 'Vitamin B-12, added', 'nutrientNumber': '578', 'unitName': 'UG', 'value': 0.0}, {'nutrientId': 1253, 'nutrientName': 'Cholesterol', 'nutrientNumber': '601', 'unitName': 'MG', 'value': 85.0}, {'nutrientId': 1258, 'nutrientName': 'Fatty acids, total saturated', 'nutrientNumber': '606', 'unitName': 'G', 'value': 2.203}, {'nutrientId': 1259, 'nutrientName': '4:0', 'nutrientNumber': '607', 'unitName': 'G', 'value': 0.0}, {'nutrientId': 1260, 'nutrientName': '6:0', 'nutrientNumber': '608', 'unitName': 'G', 'value': 0.0}, {'nutrientId': 1261, 'nutrientName': '8:0', 'nutrientNumber': '609', 'unitName': 'G', 'value': 0.0}, {'nutrientId': 1262, 'nutrientName': '10:0', 'nutrientNumber': '610', 'unitName': 'G', 'value': 0.0}, {'nutrientId': 1263, 'nutrientName': '12:0', 'nutrientNumber': '611', 'unitName': 'G', 'value': 0.02}, {'nutrientId': 1264, 'nutrientName': '14:0', 'nutrientNumber': '612', 'unitName': 'G', 'value': 0.428}, {'nutrientId': 1265, 'nutrientName': '16:0', 'nutrientNumber': '613', 'unitName': 'G', 'value': 1.326}, {'nutrientId': 1266, 'nutrientName': '18:0', 'nutrientNumber': '614', 'unitName': 'G', 'value': 0.42}, {'nutrientId': 1268, 'nutrientName': '18:1', 'nutrientNumber': '617', 'unitName': 'G', 'value': 2.942}, {'nutrientId': 1269, 'nutrientName': '18:2', 'nutrientNumber': '618', 'unitName': 'G', 'value': 0.362}, {'nutrientId': 1270, 'nutrientName': '18:3', 'nutrientNumber': '619', 'unitName': 'G', 'value': 0.017}, {'nutrientId': 1271, 'nutrientName': '20:4', 'nutrientNumber': '620', 'unitName': 'G', 'value': 0.01}, {'nutrientId': 1272, 'nutrientName': '22:6 n-3 (DHA)', 'nutrientNumber': '621', 'unitName': 'G', 'value': 1.292}, {'nutrientId': 1275, 'nutrientName': '16:1', 'nutrientNumber': '626', 'unitName': 'G', 'value': 0.59}, {'nutrientId': 1276, 'nutrientName': '18:4', 'nutrientNumber': '627', 'unitName': 'G', 'value': 0.078}, {'nutrientId': 1277, 'nutrientName': '20:1', 'nutrientNumber': '628', 'unitName': 'G', 'value': 0.009}, {'nutrientId': 1278, 'nutrientName': '20:5 n-3 (EPA)', 'nutrientNumber': '629', 'unitName': 'G', 'value': 0.763}, {'nutrientId': 1279, 'nutrientName': '22:1', 'nutrientNumber': '630', 'unitName': 'G', 'value': 0.163}, {'nutrientId': 1280, 'nutrientName': '22:5 n-3 (DPA)', 'nutrientNumber': '631', 'unitName': 'G', 'value': 0.041}, {'nutrientId': 1292, 'nutrientName': 'Fatty acids, total monounsaturated', 'nutrientNumber': '645', 'unitName': 'G', 'value': 3.77}, {'nutrientId': 1293, 'nutrientName': 'Fatty acids, total polyunsaturated', 'nutrientNumber': '646', 'unitName': 'G', 'value': 2.562}], 'allHighlightFields': '', 'score': 588.8659}\n"
          ],
          "name": "stdout"
        },
        {
          "output_type": "stream",
          "text": [
            "100%|██████████| 2/2 [00:10<00:00,  5.45s/it]\n"
          ],
          "name": "stderr"
        }
      ]
    },
    {
      "cell_type": "code",
      "metadata": {
        "id": "LKpeJubpXYpV",
        "colab_type": "code",
        "colab": {}
      },
      "source": [
        "nutrients = pd.DataFrame(data, index=df.columns[1:], columns=columns,\n",
        "                         dtype=float).fillna(0.0)"
      ],
      "execution_count": null,
      "outputs": []
    },
    {
      "cell_type": "code",
      "metadata": {
        "id": "JqkHXo4oe8FI",
        "colab_type": "code",
        "colab": {
          "base_uri": "https://localhost:8080/",
          "height": 292
        },
        "outputId": "b776a443-e8dd-4f06-def8-e1d07d4bf336"
      },
      "source": [
        "nutrients.head()"
      ],
      "execution_count": null,
      "outputs": [
        {
          "output_type": "execute_result",
          "data": {
            "text/html": [
              "<div>\n",
              "<style scoped>\n",
              "    .dataframe tbody tr th:only-of-type {\n",
              "        vertical-align: middle;\n",
              "    }\n",
              "\n",
              "    .dataframe tbody tr th {\n",
              "        vertical-align: top;\n",
              "    }\n",
              "\n",
              "    .dataframe thead th {\n",
              "        text-align: right;\n",
              "    }\n",
              "</style>\n",
              "<table border=\"1\" class=\"dataframe\">\n",
              "  <thead>\n",
              "    <tr style=\"text-align: right;\">\n",
              "      <th></th>\n",
              "      <th>Protein</th>\n",
              "      <th>Carbohydrate, by difference</th>\n",
              "      <th>Fiber, total dietary</th>\n",
              "      <th>Total lipid (fat)</th>\n",
              "      <th>Fatty acids, total saturated</th>\n",
              "      <th>Cholesterol</th>\n",
              "      <th>Vitamin A, RAE</th>\n",
              "      <th>Thiamin</th>\n",
              "      <th>Riboflavin</th>\n",
              "      <th>Niacin</th>\n",
              "      <th>Vitamin B-6</th>\n",
              "      <th>Folate, DFE</th>\n",
              "      <th>Choline, total</th>\n",
              "      <th>Vitamin B-12</th>\n",
              "      <th>Vitamin C, total ascorbic acid</th>\n",
              "      <th>Vitamin D (D2 + D3)</th>\n",
              "      <th>Vitamin E (alpha-tocopherol)</th>\n",
              "      <th>Vitamin K (phylloquinone)</th>\n",
              "      <th>Calcium, Ca</th>\n",
              "      <th>Phosphorus, P</th>\n",
              "      <th>Magnesium, Mg</th>\n",
              "      <th>Iron, Fe</th>\n",
              "      <th>Zinc, Zn</th>\n",
              "      <th>Copper, Cu</th>\n",
              "      <th>Selenium, Se</th>\n",
              "      <th>Potassium, K</th>\n",
              "      <th>Sodium, Na</th>\n",
              "    </tr>\n",
              "  </thead>\n",
              "  <tbody>\n",
              "    <tr>\n",
              "      <th>amaretto</th>\n",
              "      <td>203.0</td>\n",
              "      <td>205.0</td>\n",
              "      <td>291.0</td>\n",
              "      <td>204.0</td>\n",
              "      <td>606.0</td>\n",
              "      <td>601.0</td>\n",
              "      <td>320.0</td>\n",
              "      <td>404.0</td>\n",
              "      <td>405.0</td>\n",
              "      <td>406.0</td>\n",
              "      <td>415.0</td>\n",
              "      <td>435.0</td>\n",
              "      <td>421.0</td>\n",
              "      <td>418.0</td>\n",
              "      <td>401.0</td>\n",
              "      <td>328.0</td>\n",
              "      <td>323.0</td>\n",
              "      <td>430.0</td>\n",
              "      <td>301.0</td>\n",
              "      <td>305.0</td>\n",
              "      <td>304.0</td>\n",
              "      <td>303.0</td>\n",
              "      <td>309.0</td>\n",
              "      <td>312.0</td>\n",
              "      <td>317.0</td>\n",
              "      <td>306.0</td>\n",
              "      <td>307.0</td>\n",
              "    </tr>\n",
              "    <tr>\n",
              "      <th>anchovy</th>\n",
              "      <td>203.0</td>\n",
              "      <td>205.0</td>\n",
              "      <td>291.0</td>\n",
              "      <td>204.0</td>\n",
              "      <td>606.0</td>\n",
              "      <td>601.0</td>\n",
              "      <td>320.0</td>\n",
              "      <td>404.0</td>\n",
              "      <td>405.0</td>\n",
              "      <td>406.0</td>\n",
              "      <td>415.0</td>\n",
              "      <td>435.0</td>\n",
              "      <td>421.0</td>\n",
              "      <td>418.0</td>\n",
              "      <td>401.0</td>\n",
              "      <td>328.0</td>\n",
              "      <td>323.0</td>\n",
              "      <td>430.0</td>\n",
              "      <td>301.0</td>\n",
              "      <td>305.0</td>\n",
              "      <td>304.0</td>\n",
              "      <td>303.0</td>\n",
              "      <td>309.0</td>\n",
              "      <td>312.0</td>\n",
              "      <td>317.0</td>\n",
              "      <td>306.0</td>\n",
              "      <td>307.0</td>\n",
              "    </tr>\n",
              "    <tr>\n",
              "      <th>apple</th>\n",
              "      <td>203.0</td>\n",
              "      <td>205.0</td>\n",
              "      <td>291.0</td>\n",
              "      <td>204.0</td>\n",
              "      <td>606.0</td>\n",
              "      <td>601.0</td>\n",
              "      <td>320.0</td>\n",
              "      <td>404.0</td>\n",
              "      <td>405.0</td>\n",
              "      <td>406.0</td>\n",
              "      <td>415.0</td>\n",
              "      <td>435.0</td>\n",
              "      <td>421.0</td>\n",
              "      <td>418.0</td>\n",
              "      <td>401.0</td>\n",
              "      <td>328.0</td>\n",
              "      <td>323.0</td>\n",
              "      <td>430.0</td>\n",
              "      <td>301.0</td>\n",
              "      <td>305.0</td>\n",
              "      <td>304.0</td>\n",
              "      <td>303.0</td>\n",
              "      <td>309.0</td>\n",
              "      <td>312.0</td>\n",
              "      <td>317.0</td>\n",
              "      <td>306.0</td>\n",
              "      <td>307.0</td>\n",
              "    </tr>\n",
              "    <tr>\n",
              "      <th>apple juice</th>\n",
              "      <td>203.0</td>\n",
              "      <td>205.0</td>\n",
              "      <td>291.0</td>\n",
              "      <td>204.0</td>\n",
              "      <td>606.0</td>\n",
              "      <td>601.0</td>\n",
              "      <td>320.0</td>\n",
              "      <td>404.0</td>\n",
              "      <td>405.0</td>\n",
              "      <td>406.0</td>\n",
              "      <td>415.0</td>\n",
              "      <td>435.0</td>\n",
              "      <td>421.0</td>\n",
              "      <td>418.0</td>\n",
              "      <td>401.0</td>\n",
              "      <td>328.0</td>\n",
              "      <td>323.0</td>\n",
              "      <td>430.0</td>\n",
              "      <td>301.0</td>\n",
              "      <td>305.0</td>\n",
              "      <td>304.0</td>\n",
              "      <td>303.0</td>\n",
              "      <td>309.0</td>\n",
              "      <td>312.0</td>\n",
              "      <td>317.0</td>\n",
              "      <td>306.0</td>\n",
              "      <td>307.0</td>\n",
              "    </tr>\n",
              "    <tr>\n",
              "      <th>asparagus</th>\n",
              "      <td>203.0</td>\n",
              "      <td>205.0</td>\n",
              "      <td>291.0</td>\n",
              "      <td>204.0</td>\n",
              "      <td>606.0</td>\n",
              "      <td>601.0</td>\n",
              "      <td>320.0</td>\n",
              "      <td>404.0</td>\n",
              "      <td>405.0</td>\n",
              "      <td>406.0</td>\n",
              "      <td>415.0</td>\n",
              "      <td>435.0</td>\n",
              "      <td>421.0</td>\n",
              "      <td>418.0</td>\n",
              "      <td>401.0</td>\n",
              "      <td>328.0</td>\n",
              "      <td>323.0</td>\n",
              "      <td>430.0</td>\n",
              "      <td>301.0</td>\n",
              "      <td>305.0</td>\n",
              "      <td>304.0</td>\n",
              "      <td>303.0</td>\n",
              "      <td>309.0</td>\n",
              "      <td>312.0</td>\n",
              "      <td>317.0</td>\n",
              "      <td>306.0</td>\n",
              "      <td>307.0</td>\n",
              "    </tr>\n",
              "  </tbody>\n",
              "</table>\n",
              "</div>"
            ],
            "text/plain": [
              "             Protein  Carbohydrate, by difference  ...  Potassium, K  Sodium, Na\n",
              "amaretto       203.0                        205.0  ...         306.0       307.0\n",
              "anchovy        203.0                        205.0  ...         306.0       307.0\n",
              "apple          203.0                        205.0  ...         306.0       307.0\n",
              "apple juice    203.0                        205.0  ...         306.0       307.0\n",
              "asparagus      203.0                        205.0  ...         306.0       307.0\n",
              "\n",
              "[5 rows x 27 columns]"
            ]
          },
          "metadata": {
            "tags": []
          },
          "execution_count": 60
        }
      ]
    },
    {
      "cell_type": "code",
      "metadata": {
        "id": "Iw9F1ta_fE2n",
        "colab_type": "code",
        "colab": {}
      },
      "source": [
        "nutrients = nutrients.divide(daily_values)"
      ],
      "execution_count": null,
      "outputs": []
    },
    {
      "cell_type": "code",
      "metadata": {
        "id": "Y-4_S_zUgTzy",
        "colab_type": "code",
        "colab": {
          "base_uri": "https://localhost:8080/",
          "height": 292
        },
        "outputId": "1a376d9f-05b3-4bda-81b2-64e82f12b538"
      },
      "source": [
        "nutrients.head()"
      ],
      "execution_count": null,
      "outputs": [
        {
          "output_type": "execute_result",
          "data": {
            "text/html": [
              "<div>\n",
              "<style scoped>\n",
              "    .dataframe tbody tr th:only-of-type {\n",
              "        vertical-align: middle;\n",
              "    }\n",
              "\n",
              "    .dataframe tbody tr th {\n",
              "        vertical-align: top;\n",
              "    }\n",
              "\n",
              "    .dataframe thead th {\n",
              "        text-align: right;\n",
              "    }\n",
              "</style>\n",
              "<table border=\"1\" class=\"dataframe\">\n",
              "  <thead>\n",
              "    <tr style=\"text-align: right;\">\n",
              "      <th></th>\n",
              "      <th>Protein</th>\n",
              "      <th>Carbohydrate, by difference</th>\n",
              "      <th>Fiber, total dietary</th>\n",
              "      <th>Total lipid (fat)</th>\n",
              "      <th>Fatty acids, total saturated</th>\n",
              "      <th>Cholesterol</th>\n",
              "      <th>Vitamin A, RAE</th>\n",
              "      <th>Thiamin</th>\n",
              "      <th>Riboflavin</th>\n",
              "      <th>Niacin</th>\n",
              "      <th>Vitamin B-6</th>\n",
              "      <th>Folate, DFE</th>\n",
              "      <th>Choline, total</th>\n",
              "      <th>Vitamin B-12</th>\n",
              "      <th>Vitamin C, total ascorbic acid</th>\n",
              "      <th>Vitamin D (D2 + D3)</th>\n",
              "      <th>Vitamin E (alpha-tocopherol)</th>\n",
              "      <th>Vitamin K (phylloquinone)</th>\n",
              "      <th>Calcium, Ca</th>\n",
              "      <th>Phosphorus, P</th>\n",
              "      <th>Magnesium, Mg</th>\n",
              "      <th>Iron, Fe</th>\n",
              "      <th>Zinc, Zn</th>\n",
              "      <th>Copper, Cu</th>\n",
              "      <th>Selenium, Se</th>\n",
              "      <th>Potassium, K</th>\n",
              "      <th>Sodium, Na</th>\n",
              "    </tr>\n",
              "  </thead>\n",
              "  <tbody>\n",
              "    <tr>\n",
              "      <th>amaretto</th>\n",
              "      <td>4.06</td>\n",
              "      <td>0.745455</td>\n",
              "      <td>10.392857</td>\n",
              "      <td>2.615385</td>\n",
              "      <td>30.3</td>\n",
              "      <td>2.003333</td>\n",
              "      <td>0.355556</td>\n",
              "      <td>336.666667</td>\n",
              "      <td>311.538462</td>\n",
              "      <td>25.375</td>\n",
              "      <td>244.117647</td>\n",
              "      <td>1.0875</td>\n",
              "      <td>0.765455</td>\n",
              "      <td>174.166667</td>\n",
              "      <td>4.455556</td>\n",
              "      <td>16.4</td>\n",
              "      <td>21.533333</td>\n",
              "      <td>3.583333</td>\n",
              "      <td>0.231538</td>\n",
              "      <td>0.244</td>\n",
              "      <td>0.72381</td>\n",
              "      <td>16.833333</td>\n",
              "      <td>28.090909</td>\n",
              "      <td>346.666667</td>\n",
              "      <td>5.763636</td>\n",
              "      <td>0.065106</td>\n",
              "      <td>0.133478</td>\n",
              "    </tr>\n",
              "    <tr>\n",
              "      <th>anchovy</th>\n",
              "      <td>4.06</td>\n",
              "      <td>0.745455</td>\n",
              "      <td>10.392857</td>\n",
              "      <td>2.615385</td>\n",
              "      <td>30.3</td>\n",
              "      <td>2.003333</td>\n",
              "      <td>0.355556</td>\n",
              "      <td>336.666667</td>\n",
              "      <td>311.538462</td>\n",
              "      <td>25.375</td>\n",
              "      <td>244.117647</td>\n",
              "      <td>1.0875</td>\n",
              "      <td>0.765455</td>\n",
              "      <td>174.166667</td>\n",
              "      <td>4.455556</td>\n",
              "      <td>16.4</td>\n",
              "      <td>21.533333</td>\n",
              "      <td>3.583333</td>\n",
              "      <td>0.231538</td>\n",
              "      <td>0.244</td>\n",
              "      <td>0.72381</td>\n",
              "      <td>16.833333</td>\n",
              "      <td>28.090909</td>\n",
              "      <td>346.666667</td>\n",
              "      <td>5.763636</td>\n",
              "      <td>0.065106</td>\n",
              "      <td>0.133478</td>\n",
              "    </tr>\n",
              "    <tr>\n",
              "      <th>apple</th>\n",
              "      <td>4.06</td>\n",
              "      <td>0.745455</td>\n",
              "      <td>10.392857</td>\n",
              "      <td>2.615385</td>\n",
              "      <td>30.3</td>\n",
              "      <td>2.003333</td>\n",
              "      <td>0.355556</td>\n",
              "      <td>336.666667</td>\n",
              "      <td>311.538462</td>\n",
              "      <td>25.375</td>\n",
              "      <td>244.117647</td>\n",
              "      <td>1.0875</td>\n",
              "      <td>0.765455</td>\n",
              "      <td>174.166667</td>\n",
              "      <td>4.455556</td>\n",
              "      <td>16.4</td>\n",
              "      <td>21.533333</td>\n",
              "      <td>3.583333</td>\n",
              "      <td>0.231538</td>\n",
              "      <td>0.244</td>\n",
              "      <td>0.72381</td>\n",
              "      <td>16.833333</td>\n",
              "      <td>28.090909</td>\n",
              "      <td>346.666667</td>\n",
              "      <td>5.763636</td>\n",
              "      <td>0.065106</td>\n",
              "      <td>0.133478</td>\n",
              "    </tr>\n",
              "    <tr>\n",
              "      <th>apple juice</th>\n",
              "      <td>4.06</td>\n",
              "      <td>0.745455</td>\n",
              "      <td>10.392857</td>\n",
              "      <td>2.615385</td>\n",
              "      <td>30.3</td>\n",
              "      <td>2.003333</td>\n",
              "      <td>0.355556</td>\n",
              "      <td>336.666667</td>\n",
              "      <td>311.538462</td>\n",
              "      <td>25.375</td>\n",
              "      <td>244.117647</td>\n",
              "      <td>1.0875</td>\n",
              "      <td>0.765455</td>\n",
              "      <td>174.166667</td>\n",
              "      <td>4.455556</td>\n",
              "      <td>16.4</td>\n",
              "      <td>21.533333</td>\n",
              "      <td>3.583333</td>\n",
              "      <td>0.231538</td>\n",
              "      <td>0.244</td>\n",
              "      <td>0.72381</td>\n",
              "      <td>16.833333</td>\n",
              "      <td>28.090909</td>\n",
              "      <td>346.666667</td>\n",
              "      <td>5.763636</td>\n",
              "      <td>0.065106</td>\n",
              "      <td>0.133478</td>\n",
              "    </tr>\n",
              "    <tr>\n",
              "      <th>asparagus</th>\n",
              "      <td>4.06</td>\n",
              "      <td>0.745455</td>\n",
              "      <td>10.392857</td>\n",
              "      <td>2.615385</td>\n",
              "      <td>30.3</td>\n",
              "      <td>2.003333</td>\n",
              "      <td>0.355556</td>\n",
              "      <td>336.666667</td>\n",
              "      <td>311.538462</td>\n",
              "      <td>25.375</td>\n",
              "      <td>244.117647</td>\n",
              "      <td>1.0875</td>\n",
              "      <td>0.765455</td>\n",
              "      <td>174.166667</td>\n",
              "      <td>4.455556</td>\n",
              "      <td>16.4</td>\n",
              "      <td>21.533333</td>\n",
              "      <td>3.583333</td>\n",
              "      <td>0.231538</td>\n",
              "      <td>0.244</td>\n",
              "      <td>0.72381</td>\n",
              "      <td>16.833333</td>\n",
              "      <td>28.090909</td>\n",
              "      <td>346.666667</td>\n",
              "      <td>5.763636</td>\n",
              "      <td>0.065106</td>\n",
              "      <td>0.133478</td>\n",
              "    </tr>\n",
              "  </tbody>\n",
              "</table>\n",
              "</div>"
            ],
            "text/plain": [
              "             Protein  Carbohydrate, by difference  ...  Potassium, K  Sodium, Na\n",
              "amaretto        4.06                     0.745455  ...      0.065106    0.133478\n",
              "anchovy         4.06                     0.745455  ...      0.065106    0.133478\n",
              "apple           4.06                     0.745455  ...      0.065106    0.133478\n",
              "apple juice     4.06                     0.745455  ...      0.065106    0.133478\n",
              "asparagus       4.06                     0.745455  ...      0.065106    0.133478\n",
              "\n",
              "[5 rows x 27 columns]"
            ]
          },
          "metadata": {
            "tags": []
          },
          "execution_count": 62
        }
      ]
    },
    {
      "cell_type": "markdown",
      "metadata": {
        "id": "ttrTdLdmlAHe",
        "colab_type": "text"
      },
      "source": [
        "##recipes.csv"
      ]
    },
    {
      "cell_type": "markdown",
      "metadata": {
        "id": "9aiTDXbxskC5",
        "colab_type": "text"
      },
      "source": [
        ""
      ]
    },
    {
      "cell_type": "code",
      "metadata": {
        "id": "wOagmWmplCk3",
        "colab_type": "code",
        "colab": {}
      },
      "source": [
        ""
      ],
      "execution_count": null,
      "outputs": []
    }
  ]
}