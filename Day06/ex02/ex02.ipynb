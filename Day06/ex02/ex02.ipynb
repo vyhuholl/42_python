{
  "nbformat": 4,
  "nbformat_minor": 0,
  "metadata": {
    "colab": {
      "name": "ex02.ipynb",
      "provenance": [],
      "collapsed_sections": []
    },
    "kernelspec": {
      "name": "python3",
      "display_name": "Python 3"
    },
    "accelerator": "GPU"
  },
  "cells": [
    {
      "cell_type": "code",
      "metadata": {
        "id": "SyiR5V_q00Nh",
        "colab_type": "code",
        "colab": {}
      },
      "source": [
        "!pip install -U -q PyDrive"
      ],
      "execution_count": 1,
      "outputs": []
    },
    {
      "cell_type": "code",
      "metadata": {
        "id": "8lgOC5a_1BAq",
        "colab_type": "code",
        "colab": {}
      },
      "source": [
        "import sqlite3\n",
        "import pandas as pd\n",
        "from pydrive.auth import GoogleAuth\n",
        "from pydrive.drive import GoogleDrive\n",
        "from google.colab import auth\n",
        "from oauth2client.client import GoogleCredentials"
      ],
      "execution_count": 2,
      "outputs": []
    },
    {
      "cell_type": "code",
      "metadata": {
        "id": "QzGjnGlJwDKk",
        "colab_type": "code",
        "colab": {}
      },
      "source": [
        "auth.authenticate_user()\n",
        "gauth = GoogleAuth()\n",
        "gauth.credentials = GoogleCredentials.get_application_default()\n",
        "drive = GoogleDrive(gauth)"
      ],
      "execution_count": 4,
      "outputs": []
    },
    {
      "cell_type": "code",
      "metadata": {
        "id": "544XsOfi1K9I",
        "colab_type": "code",
        "colab": {}
      },
      "source": [
        "!mkdir data"
      ],
      "execution_count": 5,
      "outputs": []
    },
    {
      "cell_type": "code",
      "metadata": {
        "id": "UGvXNXS51Mdm",
        "colab_type": "code",
        "colab": {}
      },
      "source": [
        "file_id = '1zQ8AR2Ry3ajzB3UZO1Sfk3xtDJlzQF2M'\n",
        "downloaded = drive.CreateFile({'id': file_id})\n",
        "downloaded.GetContentFile('data/checking-logs.sqlite')"
      ],
      "execution_count": 6,
      "outputs": []
    },
    {
      "cell_type": "code",
      "metadata": {
        "id": "iPKqaUsq61SL",
        "colab_type": "code",
        "colab": {}
      },
      "source": [
        "conn = sqlite3.connect('data/checking-logs.sqlite')"
      ],
      "execution_count": 7,
      "outputs": []
    },
    {
      "cell_type": "code",
      "metadata": {
        "id": "jNlEZYFaE-vF",
        "colab_type": "code",
        "colab": {}
      },
      "source": [
        "datamart = pd.io.sql.read_sql(\n",
        "    \"\"\"\n",
        "    select checker.uid, checker.labname, checker.timestamp as checker_ts, pageviews.datetime as first_view_ts\n",
        "    from checker left join pageviews on checker.uid = pageviews.uid\n",
        "    where checker.status='ready' and checker.numTrials=1 and checker.labname in ('laba04', 'laba04s', 'laba05', 'laba06', 'laba06s', 'project1') and checker.uid like 'user_%' and\n",
        "        (\n",
        "            pageviews.datetime is null or pageviews.datetime =\n",
        "                (\n",
        "                    select min(pageviews.datetime)\n",
        "                    from pageviews\n",
        "                    where uid = checker.uid\n",
        "                )\n",
        "        )\n",
        "    \"\"\",\n",
        "    conn, parse_dates=['checker_ts', 'first_view_ts']\n",
        "    )"
      ],
      "execution_count": 8,
      "outputs": []
    },
    {
      "cell_type": "code",
      "metadata": {
        "id": "TTc7Q1ElJ-XF",
        "colab_type": "code",
        "colab": {
          "base_uri": "https://localhost:8080/",
          "height": 359
        },
        "outputId": "82f12bdc-a80e-43c8-a5ba-34118ed5165c"
      },
      "source": [
        "datamart.head(10)"
      ],
      "execution_count": 9,
      "outputs": [
        {
          "output_type": "execute_result",
          "data": {
            "text/html": [
              "<div>\n",
              "<style scoped>\n",
              "    .dataframe tbody tr th:only-of-type {\n",
              "        vertical-align: middle;\n",
              "    }\n",
              "\n",
              "    .dataframe tbody tr th {\n",
              "        vertical-align: top;\n",
              "    }\n",
              "\n",
              "    .dataframe thead th {\n",
              "        text-align: right;\n",
              "    }\n",
              "</style>\n",
              "<table border=\"1\" class=\"dataframe\">\n",
              "  <thead>\n",
              "    <tr style=\"text-align: right;\">\n",
              "      <th></th>\n",
              "      <th>uid</th>\n",
              "      <th>labname</th>\n",
              "      <th>checker_ts</th>\n",
              "      <th>first_view_ts</th>\n",
              "    </tr>\n",
              "  </thead>\n",
              "  <tbody>\n",
              "    <tr>\n",
              "      <th>0</th>\n",
              "      <td>user_4</td>\n",
              "      <td>project1</td>\n",
              "      <td>2020-04-17 05:19:02.744528</td>\n",
              "      <td>NaT</td>\n",
              "    </tr>\n",
              "    <tr>\n",
              "      <th>1</th>\n",
              "      <td>user_4</td>\n",
              "      <td>laba04</td>\n",
              "      <td>2020-04-17 11:33:17.366400</td>\n",
              "      <td>NaT</td>\n",
              "    </tr>\n",
              "    <tr>\n",
              "      <th>2</th>\n",
              "      <td>user_4</td>\n",
              "      <td>laba04s</td>\n",
              "      <td>2020-04-17 11:48:41.992466</td>\n",
              "      <td>NaT</td>\n",
              "    </tr>\n",
              "    <tr>\n",
              "      <th>3</th>\n",
              "      <td>user_17</td>\n",
              "      <td>project1</td>\n",
              "      <td>2020-04-18 07:56:45.408648</td>\n",
              "      <td>2020-04-18 10:56:55.833899</td>\n",
              "    </tr>\n",
              "    <tr>\n",
              "      <th>4</th>\n",
              "      <td>user_30</td>\n",
              "      <td>laba04</td>\n",
              "      <td>2020-04-18 13:36:53.971502</td>\n",
              "      <td>2020-04-17 22:46:26.785035</td>\n",
              "    </tr>\n",
              "    <tr>\n",
              "      <th>5</th>\n",
              "      <td>user_2</td>\n",
              "      <td>laba04</td>\n",
              "      <td>2020-04-18 13:42:35.482008</td>\n",
              "      <td>NaT</td>\n",
              "    </tr>\n",
              "    <tr>\n",
              "      <th>6</th>\n",
              "      <td>user_2</td>\n",
              "      <td>laba04s</td>\n",
              "      <td>2020-04-18 13:51:22.291271</td>\n",
              "      <td>NaT</td>\n",
              "    </tr>\n",
              "    <tr>\n",
              "      <th>7</th>\n",
              "      <td>user_30</td>\n",
              "      <td>laba04s</td>\n",
              "      <td>2020-04-18 14:51:37.498399</td>\n",
              "      <td>2020-04-17 22:46:26.785035</td>\n",
              "    </tr>\n",
              "    <tr>\n",
              "      <th>8</th>\n",
              "      <td>user_14</td>\n",
              "      <td>laba04</td>\n",
              "      <td>2020-04-18 15:14:00.312338</td>\n",
              "      <td>2020-04-18 10:53:52.623447</td>\n",
              "    </tr>\n",
              "    <tr>\n",
              "      <th>9</th>\n",
              "      <td>user_12</td>\n",
              "      <td>laba04</td>\n",
              "      <td>2020-04-18 17:07:51.767358</td>\n",
              "      <td>NaT</td>\n",
              "    </tr>\n",
              "  </tbody>\n",
              "</table>\n",
              "</div>"
            ],
            "text/plain": [
              "       uid   labname                 checker_ts              first_view_ts\n",
              "0   user_4  project1 2020-04-17 05:19:02.744528                        NaT\n",
              "1   user_4    laba04 2020-04-17 11:33:17.366400                        NaT\n",
              "2   user_4   laba04s 2020-04-17 11:48:41.992466                        NaT\n",
              "3  user_17  project1 2020-04-18 07:56:45.408648 2020-04-18 10:56:55.833899\n",
              "4  user_30    laba04 2020-04-18 13:36:53.971502 2020-04-17 22:46:26.785035\n",
              "5   user_2    laba04 2020-04-18 13:42:35.482008                        NaT\n",
              "6   user_2   laba04s 2020-04-18 13:51:22.291271                        NaT\n",
              "7  user_30   laba04s 2020-04-18 14:51:37.498399 2020-04-17 22:46:26.785035\n",
              "8  user_14    laba04 2020-04-18 15:14:00.312338 2020-04-18 10:53:52.623447\n",
              "9  user_12    laba04 2020-04-18 17:07:51.767358                        NaT"
            ]
          },
          "metadata": {
            "tags": []
          },
          "execution_count": 9
        }
      ]
    },
    {
      "cell_type": "code",
      "metadata": {
        "id": "7RPRjeunKZhm",
        "colab_type": "code",
        "colab": {
          "base_uri": "https://localhost:8080/",
          "height": 204
        },
        "outputId": "c9f18d41-6764-4706-f733-7190e2a5f950"
      },
      "source": [
        "datamart.info()"
      ],
      "execution_count": 10,
      "outputs": [
        {
          "output_type": "stream",
          "text": [
            "<class 'pandas.core.frame.DataFrame'>\n",
            "RangeIndex: 140 entries, 0 to 139\n",
            "Data columns (total 4 columns):\n",
            " #   Column         Non-Null Count  Dtype         \n",
            "---  ------         --------------  -----         \n",
            " 0   uid            140 non-null    object        \n",
            " 1   labname        140 non-null    object        \n",
            " 2   checker_ts     140 non-null    datetime64[ns]\n",
            " 3   first_view_ts  59 non-null     datetime64[ns]\n",
            "dtypes: datetime64[ns](2), object(2)\n",
            "memory usage: 4.5+ KB\n"
          ],
          "name": "stdout"
        }
      ]
    },
    {
      "cell_type": "code",
      "metadata": {
        "id": "zK2JphZ2Rm7j",
        "colab_type": "code",
        "colab": {}
      },
      "source": [
        "test = datamart.loc[datamart['first_view_ts'].notnull()]\n",
        "test = test.reset_index(drop=True)"
      ],
      "execution_count": 11,
      "outputs": []
    },
    {
      "cell_type": "code",
      "metadata": {
        "id": "LZzXBQGyvAsM",
        "colab_type": "code",
        "colab": {
          "base_uri": "https://localhost:8080/",
          "height": 204
        },
        "outputId": "f7d52a6c-6eff-47db-89d0-7788193837c4"
      },
      "source": [
        "test.head()"
      ],
      "execution_count": 12,
      "outputs": [
        {
          "output_type": "execute_result",
          "data": {
            "text/html": [
              "<div>\n",
              "<style scoped>\n",
              "    .dataframe tbody tr th:only-of-type {\n",
              "        vertical-align: middle;\n",
              "    }\n",
              "\n",
              "    .dataframe tbody tr th {\n",
              "        vertical-align: top;\n",
              "    }\n",
              "\n",
              "    .dataframe thead th {\n",
              "        text-align: right;\n",
              "    }\n",
              "</style>\n",
              "<table border=\"1\" class=\"dataframe\">\n",
              "  <thead>\n",
              "    <tr style=\"text-align: right;\">\n",
              "      <th></th>\n",
              "      <th>uid</th>\n",
              "      <th>labname</th>\n",
              "      <th>checker_ts</th>\n",
              "      <th>first_view_ts</th>\n",
              "    </tr>\n",
              "  </thead>\n",
              "  <tbody>\n",
              "    <tr>\n",
              "      <th>0</th>\n",
              "      <td>user_17</td>\n",
              "      <td>project1</td>\n",
              "      <td>2020-04-18 07:56:45.408648</td>\n",
              "      <td>2020-04-18 10:56:55.833899</td>\n",
              "    </tr>\n",
              "    <tr>\n",
              "      <th>1</th>\n",
              "      <td>user_30</td>\n",
              "      <td>laba04</td>\n",
              "      <td>2020-04-18 13:36:53.971502</td>\n",
              "      <td>2020-04-17 22:46:26.785035</td>\n",
              "    </tr>\n",
              "    <tr>\n",
              "      <th>2</th>\n",
              "      <td>user_30</td>\n",
              "      <td>laba04s</td>\n",
              "      <td>2020-04-18 14:51:37.498399</td>\n",
              "      <td>2020-04-17 22:46:26.785035</td>\n",
              "    </tr>\n",
              "    <tr>\n",
              "      <th>3</th>\n",
              "      <td>user_14</td>\n",
              "      <td>laba04</td>\n",
              "      <td>2020-04-18 15:14:00.312338</td>\n",
              "      <td>2020-04-18 10:53:52.623447</td>\n",
              "    </tr>\n",
              "    <tr>\n",
              "      <th>4</th>\n",
              "      <td>user_14</td>\n",
              "      <td>laba04s</td>\n",
              "      <td>2020-04-18 22:30:30.247628</td>\n",
              "      <td>2020-04-18 10:53:52.623447</td>\n",
              "    </tr>\n",
              "  </tbody>\n",
              "</table>\n",
              "</div>"
            ],
            "text/plain": [
              "       uid   labname                 checker_ts              first_view_ts\n",
              "0  user_17  project1 2020-04-18 07:56:45.408648 2020-04-18 10:56:55.833899\n",
              "1  user_30    laba04 2020-04-18 13:36:53.971502 2020-04-17 22:46:26.785035\n",
              "2  user_30   laba04s 2020-04-18 14:51:37.498399 2020-04-17 22:46:26.785035\n",
              "3  user_14    laba04 2020-04-18 15:14:00.312338 2020-04-18 10:53:52.623447\n",
              "4  user_14   laba04s 2020-04-18 22:30:30.247628 2020-04-18 10:53:52.623447"
            ]
          },
          "metadata": {
            "tags": []
          },
          "execution_count": 12
        }
      ]
    },
    {
      "cell_type": "code",
      "metadata": {
        "id": "NjO1pfsJwP7g",
        "colab_type": "code",
        "colab": {
          "base_uri": "https://localhost:8080/",
          "height": 204
        },
        "outputId": "a8387933-0cf9-445d-eee2-23bc96c1460c"
      },
      "source": [
        "test.info()"
      ],
      "execution_count": 14,
      "outputs": [
        {
          "output_type": "stream",
          "text": [
            "<class 'pandas.core.frame.DataFrame'>\n",
            "RangeIndex: 59 entries, 0 to 58\n",
            "Data columns (total 4 columns):\n",
            " #   Column         Non-Null Count  Dtype         \n",
            "---  ------         --------------  -----         \n",
            " 0   uid            59 non-null     object        \n",
            " 1   labname        59 non-null     object        \n",
            " 2   checker_ts     59 non-null     datetime64[ns]\n",
            " 3   first_view_ts  59 non-null     datetime64[ns]\n",
            "dtypes: datetime64[ns](2), object(2)\n",
            "memory usage: 2.0+ KB\n"
          ],
          "name": "stdout"
        }
      ]
    },
    {
      "cell_type": "code",
      "metadata": {
        "id": "FymVaQQEScX0",
        "colab_type": "code",
        "colab": {}
      },
      "source": [
        "control = datamart.loc[datamart['first_view_ts'].isnull()]\n",
        "control = control.reset_index(drop=True)"
      ],
      "execution_count": 15,
      "outputs": []
    },
    {
      "cell_type": "code",
      "metadata": {
        "id": "xH-OiKcKwVcZ",
        "colab_type": "code",
        "colab": {}
      },
      "source": [
        "control = control.fillna(test['first_view_ts'].mean())"
      ],
      "execution_count": 17,
      "outputs": []
    },
    {
      "cell_type": "code",
      "metadata": {
        "id": "6JSag3wsvuNP",
        "colab_type": "code",
        "colab": {
          "base_uri": "https://localhost:8080/",
          "height": 204
        },
        "outputId": "06b46f3a-32a6-4660-9242-4b512a605fbf"
      },
      "source": [
        "control.head()"
      ],
      "execution_count": 18,
      "outputs": [
        {
          "output_type": "execute_result",
          "data": {
            "text/html": [
              "<div>\n",
              "<style scoped>\n",
              "    .dataframe tbody tr th:only-of-type {\n",
              "        vertical-align: middle;\n",
              "    }\n",
              "\n",
              "    .dataframe tbody tr th {\n",
              "        vertical-align: top;\n",
              "    }\n",
              "\n",
              "    .dataframe thead th {\n",
              "        text-align: right;\n",
              "    }\n",
              "</style>\n",
              "<table border=\"1\" class=\"dataframe\">\n",
              "  <thead>\n",
              "    <tr style=\"text-align: right;\">\n",
              "      <th></th>\n",
              "      <th>uid</th>\n",
              "      <th>labname</th>\n",
              "      <th>checker_ts</th>\n",
              "      <th>first_view_ts</th>\n",
              "    </tr>\n",
              "  </thead>\n",
              "  <tbody>\n",
              "    <tr>\n",
              "      <th>0</th>\n",
              "      <td>user_4</td>\n",
              "      <td>project1</td>\n",
              "      <td>2020-04-17 05:19:02.744528</td>\n",
              "      <td>2020-04-27 00:40:05.761783808</td>\n",
              "    </tr>\n",
              "    <tr>\n",
              "      <th>1</th>\n",
              "      <td>user_4</td>\n",
              "      <td>laba04</td>\n",
              "      <td>2020-04-17 11:33:17.366400</td>\n",
              "      <td>2020-04-27 00:40:05.761783808</td>\n",
              "    </tr>\n",
              "    <tr>\n",
              "      <th>2</th>\n",
              "      <td>user_4</td>\n",
              "      <td>laba04s</td>\n",
              "      <td>2020-04-17 11:48:41.992466</td>\n",
              "      <td>2020-04-27 00:40:05.761783808</td>\n",
              "    </tr>\n",
              "    <tr>\n",
              "      <th>3</th>\n",
              "      <td>user_2</td>\n",
              "      <td>laba04</td>\n",
              "      <td>2020-04-18 13:42:35.482008</td>\n",
              "      <td>2020-04-27 00:40:05.761783808</td>\n",
              "    </tr>\n",
              "    <tr>\n",
              "      <th>4</th>\n",
              "      <td>user_2</td>\n",
              "      <td>laba04s</td>\n",
              "      <td>2020-04-18 13:51:22.291271</td>\n",
              "      <td>2020-04-27 00:40:05.761783808</td>\n",
              "    </tr>\n",
              "  </tbody>\n",
              "</table>\n",
              "</div>"
            ],
            "text/plain": [
              "      uid   labname                 checker_ts                 first_view_ts\n",
              "0  user_4  project1 2020-04-17 05:19:02.744528 2020-04-27 00:40:05.761783808\n",
              "1  user_4    laba04 2020-04-17 11:33:17.366400 2020-04-27 00:40:05.761783808\n",
              "2  user_4   laba04s 2020-04-17 11:48:41.992466 2020-04-27 00:40:05.761783808\n",
              "3  user_2    laba04 2020-04-18 13:42:35.482008 2020-04-27 00:40:05.761783808\n",
              "4  user_2   laba04s 2020-04-18 13:51:22.291271 2020-04-27 00:40:05.761783808"
            ]
          },
          "metadata": {
            "tags": []
          },
          "execution_count": 18
        }
      ]
    },
    {
      "cell_type": "code",
      "metadata": {
        "id": "bayR_-aLwbc3",
        "colab_type": "code",
        "colab": {
          "base_uri": "https://localhost:8080/",
          "height": 204
        },
        "outputId": "eb56007e-e996-43bc-bc06-6cd00af331bc"
      },
      "source": [
        "control.info()"
      ],
      "execution_count": 20,
      "outputs": [
        {
          "output_type": "stream",
          "text": [
            "<class 'pandas.core.frame.DataFrame'>\n",
            "RangeIndex: 81 entries, 0 to 80\n",
            "Data columns (total 4 columns):\n",
            " #   Column         Non-Null Count  Dtype         \n",
            "---  ------         --------------  -----         \n",
            " 0   uid            81 non-null     object        \n",
            " 1   labname        81 non-null     object        \n",
            " 2   checker_ts     81 non-null     datetime64[ns]\n",
            " 3   first_view_ts  81 non-null     datetime64[ns]\n",
            "dtypes: datetime64[ns](2), object(2)\n",
            "memory usage: 2.7+ KB\n"
          ],
          "name": "stdout"
        }
      ]
    },
    {
      "cell_type": "code",
      "metadata": {
        "id": "-e6enPCxT4dH",
        "colab_type": "code",
        "colab": {}
      },
      "source": [
        "test.to_sql('test', conn)"
      ],
      "execution_count": 21,
      "outputs": []
    },
    {
      "cell_type": "code",
      "metadata": {
        "id": "FT_QA1e6T_yg",
        "colab_type": "code",
        "colab": {}
      },
      "source": [
        "control.to_sql('control', conn)"
      ],
      "execution_count": 22,
      "outputs": []
    },
    {
      "cell_type": "code",
      "metadata": {
        "id": "N3-toAWZGxLP",
        "colab_type": "code",
        "colab": {}
      },
      "source": [
        "conn.close()"
      ],
      "execution_count": 23,
      "outputs": []
    },
    {
      "cell_type": "code",
      "metadata": {
        "id": "M5zGYZo4UCba",
        "colab_type": "code",
        "colab": {}
      },
      "source": [
        "uploaded = drive.CreateFile({'title': 'checking-logs.sqlite'})\n",
        "uploaded.SetContentFile('data/checking-logs.sqlite')\n",
        "uploaded.Upload()"
      ],
      "execution_count": 24,
      "outputs": []
    },
    {
      "cell_type": "code",
      "metadata": {
        "id": "MvpSbDWzUhfU",
        "colab_type": "code",
        "colab": {}
      },
      "source": [
        ""
      ],
      "execution_count": null,
      "outputs": []
    }
  ]
}