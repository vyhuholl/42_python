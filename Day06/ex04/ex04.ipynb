{
  "nbformat": 4,
  "nbformat_minor": 0,
  "metadata": {
    "colab": {
      "name": "ex04.ipynb",
      "provenance": [],
      "collapsed_sections": []
    },
    "kernelspec": {
      "name": "python3",
      "display_name": "Python 3"
    },
    "accelerator": "GPU"
  },
  "cells": [
    {
      "cell_type": "code",
      "metadata": {
        "id": "SyiR5V_q00Nh",
        "colab_type": "code",
        "colab": {}
      },
      "source": [
        "!pip install -U -q PyDrive"
      ],
      "execution_count": 1,
      "outputs": []
    },
    {
      "cell_type": "code",
      "metadata": {
        "id": "8lgOC5a_1BAq",
        "colab_type": "code",
        "colab": {}
      },
      "source": [
        "import sqlite3\n",
        "import pandas as pd\n",
        "from pydrive.auth import GoogleAuth\n",
        "from pydrive.drive import GoogleDrive\n",
        "from google.colab import auth\n",
        "from oauth2client.client import GoogleCredentials"
      ],
      "execution_count": 2,
      "outputs": []
    },
    {
      "cell_type": "code",
      "metadata": {
        "id": "sNQ8sRm5xk4S",
        "colab_type": "code",
        "colab": {}
      },
      "source": [
        "auth.authenticate_user()\n",
        "gauth = GoogleAuth()\n",
        "gauth.credentials = GoogleCredentials.get_application_default()\n",
        "drive = GoogleDrive(gauth)"
      ],
      "execution_count": 4,
      "outputs": []
    },
    {
      "cell_type": "code",
      "metadata": {
        "id": "544XsOfi1K9I",
        "colab_type": "code",
        "colab": {}
      },
      "source": [
        "!mkdir data"
      ],
      "execution_count": 5,
      "outputs": []
    },
    {
      "cell_type": "code",
      "metadata": {
        "id": "UGvXNXS51Mdm",
        "colab_type": "code",
        "colab": {}
      },
      "source": [
        "file_id = '1KiOvhsdjJqaUCLJa5adZXEtQ_72s8Eb6'\n",
        "downloaded = drive.CreateFile({'id': file_id})\n",
        "downloaded.GetContentFile('data/checking-logs.sqlite')"
      ],
      "execution_count": 6,
      "outputs": []
    },
    {
      "cell_type": "code",
      "metadata": {
        "id": "Q6JZnyrPx5Od",
        "colab_type": "code",
        "colab": {}
      },
      "source": [
        "conn = sqlite3.connect('data/checking-logs.sqlite')"
      ],
      "execution_count": 8,
      "outputs": []
    },
    {
      "cell_type": "code",
      "metadata": {
        "id": "l2zuVxExmjda",
        "colab_type": "code",
        "colab": {}
      },
      "source": [
        "test_results = pd.io.sql.read_sql(\n",
        "    \"\"\"\n",
        "    select time, avg(diff) as avg_diff\n",
        "    from\n",
        "        (\n",
        "            select\n",
        "                uid,\n",
        "                cast((julianday(test.checker_ts) - julianday(datetime(deadlines.deadlines, 'unixepoch'))) * 24 as integer) as diff,\n",
        "                case\n",
        "                    when test.checker_ts < test.first_view_ts then 'before'\n",
        "                    else 'after'\n",
        "                end as time\n",
        "            from test left join deadlines on test.labname = deadlines.labs\n",
        "            where not test.labname = 'project1'\n",
        "        )\n",
        "    where uid in\n",
        "        (\n",
        "            select uid\n",
        "            from\n",
        "                (\n",
        "                    select\n",
        "                        uid,\n",
        "                        case\n",
        "                            when test.checker_ts < test.first_view_ts then 'before'\n",
        "                            else 'after'\n",
        "                        end as time\n",
        "                    from test left join deadlines on test.labname = deadlines.labs\n",
        "                    where not test.labname = 'project1'\n",
        "                )\n",
        "            group by uid\n",
        "            having count(distinct time) = 2\n",
        "        )\n",
        "    group by time\n",
        "    \"\"\",\n",
        "    conn\n",
        ")"
      ],
      "execution_count": 9,
      "outputs": []
    },
    {
      "cell_type": "code",
      "metadata": {
        "id": "VWgD4Crux_Xt",
        "colab_type": "code",
        "colab": {
          "base_uri": "https://localhost:8080/",
          "height": 111
        },
        "outputId": "c228c8f1-ade3-41ff-b42c-999ee40d4d61"
      },
      "source": [
        "test_results"
      ],
      "execution_count": 11,
      "outputs": [
        {
          "output_type": "execute_result",
          "data": {
            "text/html": [
              "<div>\n",
              "<style scoped>\n",
              "    .dataframe tbody tr th:only-of-type {\n",
              "        vertical-align: middle;\n",
              "    }\n",
              "\n",
              "    .dataframe tbody tr th {\n",
              "        vertical-align: top;\n",
              "    }\n",
              "\n",
              "    .dataframe thead th {\n",
              "        text-align: right;\n",
              "    }\n",
              "</style>\n",
              "<table border=\"1\" class=\"dataframe\">\n",
              "  <thead>\n",
              "    <tr style=\"text-align: right;\">\n",
              "      <th></th>\n",
              "      <th>time</th>\n",
              "      <th>avg_diff</th>\n",
              "    </tr>\n",
              "  </thead>\n",
              "  <tbody>\n",
              "    <tr>\n",
              "      <th>0</th>\n",
              "      <td>after</td>\n",
              "      <td>-104.6000</td>\n",
              "    </tr>\n",
              "    <tr>\n",
              "      <th>1</th>\n",
              "      <td>before</td>\n",
              "      <td>-60.5625</td>\n",
              "    </tr>\n",
              "  </tbody>\n",
              "</table>\n",
              "</div>"
            ],
            "text/plain": [
              "     time  avg_diff\n",
              "0   after -104.6000\n",
              "1  before  -60.5625"
            ]
          },
          "metadata": {
            "tags": []
          },
          "execution_count": 11
        }
      ]
    },
    {
      "cell_type": "code",
      "metadata": {
        "id": "GrY-O-cyyb0t",
        "colab_type": "code",
        "colab": {}
      },
      "source": [
        "control_results = pd.io.sql.read_sql(\n",
        "    \"\"\"\n",
        "    select time, avg(diff) as avg_diff\n",
        "    from\n",
        "        (\n",
        "            select\n",
        "                uid,\n",
        "                cast((julianday(control.checker_ts) - julianday(datetime(deadlines.deadlines, 'unixepoch'))) * 24 as integer) as diff,\n",
        "                case\n",
        "                    when control.checker_ts < control.first_view_ts then 'before'\n",
        "                    else 'after'\n",
        "                end as time\n",
        "            from control left join deadlines on control.labname = deadlines.labs\n",
        "            where not control.labname = 'project1'\n",
        "        )\n",
        "    where uid in\n",
        "        (\n",
        "            select uid\n",
        "            from\n",
        "                (\n",
        "                    select\n",
        "                        uid,\n",
        "                        case\n",
        "                            when control.checker_ts < control.first_view_ts then 'before'\n",
        "                            else 'after'\n",
        "                        end as time\n",
        "                    from control left join deadlines on control.labname = deadlines.labs\n",
        "                    where not control.labname = 'project1'\n",
        "                )\n",
        "            group by uid\n",
        "            having count(distinct time) = 2\n",
        "        )\n",
        "    group by time\n",
        "    \"\"\",\n",
        "    conn\n",
        ")"
      ],
      "execution_count": 14,
      "outputs": []
    },
    {
      "cell_type": "code",
      "metadata": {
        "id": "ksJrem7gylpm",
        "colab_type": "code",
        "colab": {
          "base_uri": "https://localhost:8080/",
          "height": 111
        },
        "outputId": "3fe6ef46-856e-421c-abfe-dfb673851e3f"
      },
      "source": [
        "control_results"
      ],
      "execution_count": 15,
      "outputs": [
        {
          "output_type": "execute_result",
          "data": {
            "text/html": [
              "<div>\n",
              "<style scoped>\n",
              "    .dataframe tbody tr th:only-of-type {\n",
              "        vertical-align: middle;\n",
              "    }\n",
              "\n",
              "    .dataframe tbody tr th {\n",
              "        vertical-align: top;\n",
              "    }\n",
              "\n",
              "    .dataframe thead th {\n",
              "        text-align: right;\n",
              "    }\n",
              "</style>\n",
              "<table border=\"1\" class=\"dataframe\">\n",
              "  <thead>\n",
              "    <tr style=\"text-align: right;\">\n",
              "      <th></th>\n",
              "      <th>time</th>\n",
              "      <th>avg_diff</th>\n",
              "    </tr>\n",
              "  </thead>\n",
              "  <tbody>\n",
              "    <tr>\n",
              "      <th>0</th>\n",
              "      <td>after</td>\n",
              "      <td>-117.636364</td>\n",
              "    </tr>\n",
              "    <tr>\n",
              "      <th>1</th>\n",
              "      <td>before</td>\n",
              "      <td>-99.464286</td>\n",
              "    </tr>\n",
              "  </tbody>\n",
              "</table>\n",
              "</div>"
            ],
            "text/plain": [
              "     time    avg_diff\n",
              "0   after -117.636364\n",
              "1  before  -99.464286"
            ]
          },
          "metadata": {
            "tags": []
          },
          "execution_count": 15
        }
      ]
    },
    {
      "cell_type": "code",
      "metadata": {
        "id": "8jexLmQ_ynIP",
        "colab_type": "code",
        "colab": {}
      },
      "source": [
        "conn.close()"
      ],
      "execution_count": 17,
      "outputs": []
    }
  ]
}